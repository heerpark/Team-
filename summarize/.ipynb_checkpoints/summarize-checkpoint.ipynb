{
 "cells": [
  {
   "cell_type": "code",
   "execution_count": 1,
   "id": "8e70b811",
   "metadata": {},
   "outputs": [
    {
     "name": "stderr",
     "output_type": "stream",
     "text": [
      "/Users/phr/opt/anaconda3/envs/topic/lib/python3.9/site-packages/huggingface_hub/file_download.py:1132: FutureWarning: `resume_download` is deprecated and will be removed in version 1.0.0. Downloads always resume when possible. If you want to force a new download, use `force_download=True`.\n",
      "  warnings.warn(\n",
      "You passed along `num_labels=3` with an incompatible id to label map: {'0': 'NEGATIVE', '1': 'POSITIVE'}. The number of labels wil be overwritten to 2.\n",
      "The tokenizer class you load from this checkpoint is not the same type as the class this function is called from. It may result in unexpected tokenization. \n",
      "The tokenizer class you load from this checkpoint is 'BartTokenizer'. \n",
      "The class this function is called from is 'PreTrainedTokenizerFast'.\n",
      "You passed along `num_labels=3` with an incompatible id to label map: {'0': 'NEGATIVE', '1': 'POSITIVE'}. The number of labels wil be overwritten to 2.\n"
     ]
    }
   ],
   "source": [
    "# 모델과 문장 분리를 위한 토크나이저를 불러온다.\n",
    "from transformers import PreTrainedTokenizerFast, BartForConditionalGeneration\n",
    "import torch\n",
    "tokenizer = PreTrainedTokenizerFast.from_pretrained('gogamza/kobart-summarization')\n",
    "model = BartForConditionalGeneration.from_pretrained('gogamza/kobart-summarization')"
   ]
  },
  {
   "cell_type": "code",
   "execution_count": 2,
   "id": "cf1f325d",
   "metadata": {},
   "outputs": [],
   "source": [
    "text = \"\"\"\n",
    "카카오브레인이 이미지 생성 모델 ‘RQ-트랜스포머’를 최대 오픈소스 커뮤니티 깃허브(GitHub)1에 공개했다. 이는 카카오브레인이 지난해 12월 공개한 초거대 멀티모달(Multimodal) AI ‘minDALL-E(민달리)’의 업그레이드 버전이다.\n",
    "\n",
    "39억개의 매개변수(파라미터)로 구성된 RQ-트랜스포머는 3000만쌍의 텍스트-이미지를 학습한 텍스트-투-이미지(text-to-image) AI 모델이다. 계산 비용을 줄이고 이미지 생성 속도를 높인 동시에 이미지의 품질을 크게 끌어올린 모델이다.\n",
    "\n",
    "카카오브레인이 공개한 RQ-트랜스포머는 공개된 이미지 생성 모델 중 국내 최대 크기의 이미지 생성 모델이며, 이를 공공 목적을 위해 공개했다는 점에서 AI 커뮤니티에 기여가 클 것으로 기대된다.\n",
    "\n",
    "RQ-트랜스포머는 카카오브레인의 초거대 멀티모달 AI 민달리의 업그레이드 버전이다. 민달리 대비 모델 크기는 3배, 이미지 생성 속도와 학습 데이터셋 크기는 2배 늘렸다. 특히 민달리는 미국의 인공지능 개발 기업 ‘오픈AI(OpenAI)’가 공개한 ‘DALL-E’를 재현하는 것에 가까웠던 것에 반해, RQ-트랜스포머의 경우, 카카오브레인 만의 독자적인 기술로 개발됐다.\n",
    "\n",
    "RQ-트랜스포머는 3차원의 코드맵으로 표현된 이미지를 순차적으로 예측하여 생성하도록 학습된 이미지 생성 모델이다. 고해상도의 이미지를 2차원의 코드맵으로 표현하는 기존 기술과는 다르다. 기존 기술과 비교했을 때 이미지 압축으로 인한 손실이 적어, 높은 품질의 이미지를 저해상도의 코드맵으로 표현하는 게 특징이다. 이를 통해 기존 이미지 생성 모델보다 적은 계산 비용과 높은 이미지 생성 속도를 달성할 수 있다.\n",
    "\n",
    "처음 보는 텍스트의 조합을 이해하고, 이에 대응하는 이미지를 생성할 수도 있다. 가령 ‘사막에 있는 에펠탑(the Eiffel Tower in the desert)’이란 텍스트 조건을 입력하면 그에 알맞은 이미지를 생성한다.\n",
    "\n",
    "김일두 카카오브레인 대표는 “인간의 명령에 따라 이미지를 만들어내는 컴퓨터는 그 명령 뒤에 내재된 의도를 파악하고 이해하는 기술을 보여준다”며 “이번에 우리가 공개한 획기적인 AI 모델이 인간과 컴퓨터가 자유롭게 대화하는 미래를 향한 여정의 첫 시작이 될 것“이라고 말했다.\n",
    "\"\"\""
   ]
  },
  {
   "cell_type": "code",
   "execution_count": 3,
   "id": "4e7b162e",
   "metadata": {},
   "outputs": [],
   "source": [
    "taste_text = \"\"\"\n",
    "치킨의 바삭한 식감과 짭조름한 맛이 일품이에요. 입안 가득 퍼지는 치킨의 고소한 풍미가 정말 좋아요. 치킨은 매콤한 양념과 잘 어우러져 더욱 맛있어요. 촉촉한 치킨 속살이 입에서 살살 녹아요. 바삭한 튀김옷과 부드러운 속살의 조화가 훌륭해요. 치킨의 매콤달콤한 소스가 정말 중독적이에요. 짭짤한 치킨이 맥주와 환상적인 궁합을 이뤄요. 치킨의 풍부한 맛이 입맛을 돋워줘요. 바삭바삭한 치킨 껍질이 최고예요. 치킨의 매운 맛이 스트레스를 확 날려줘요. 달콤한 치킨 소스가 입맛을 자극해요. 치킨의 풍미가 정말 다채롭고 깊어요. 치킨의 바삭한 식감이 일품이에요. 촉촉한 치킨 속살이 정말 부드러워요. 치킨의 짭짤한 맛이 계속 먹게 만들어요. 치킨의 매콤한 양념이 매력적이에요. 달콤한 치킨 소스가 입맛을 사로잡아요. 치킨의 풍미가 입안 가득 퍼져요. 바삭한 치킨 껍질이 맛있어요. 치킨의 매운 맛이 정말 강렬해요. 달콤한 치킨 소스가 입맛을 돋워줘요. 치킨의 짭짤한 맛이 일품이에요. 치킨의 매콤한 양념이 중독적이에요. 바삭한 치킨 껍질과 촉촉한 속살의 조화가 훌륭해요. 치킨의 짭짤한 맛이 입맛을 돋워줘요. 치킨의 매운 맛이 정말 자극적이에요. 달콤한 치킨 소스가 정말 매력적이에요. 치킨의 풍미가 입안 가득 퍼져요. 바삭한 치킨 껍질이 정말 맛있어요. 치킨의 매콤한 양념이 입맛을 사로잡아요.\n",
    "\"\"\""
   ]
  },
  {
   "cell_type": "code",
   "execution_count": 4,
   "id": "a9d5908a",
   "metadata": {},
   "outputs": [],
   "source": [
    "# 토크나이저를 사용하여 뉴스기사 원문을 모델이 인식할 수 있는 토큰 형태로 바꿔주기\n",
    "input_ids = tokenizer.encode(text)"
   ]
  },
  {
   "cell_type": "code",
   "execution_count": 5,
   "id": "d6a1810c",
   "metadata": {},
   "outputs": [],
   "source": [
    "# 모델에 넣기 전 문장의 시작과 끝을 나타내는 토큰을 추가하기\n",
    "import torch\n",
    "input_ids = [tokenizer.bos_token_id] + input_ids + [tokenizer.eos_token_id]\n",
    "input_ids = torch.tensor([input_ids])"
   ]
  },
  {
   "cell_type": "code",
   "execution_count": 12,
   "id": "f7fdacac",
   "metadata": {},
   "outputs": [],
   "source": [
    "summary_text_ids = model.generate(\n",
    "    input_ids = input_ids,\n",
    "    bos_token_id = model.config.bos_token_id,\n",
    "    eos_token_id = model.config.eos_token_id,\n",
    "    length_penalty= 1, # 길이에 대한 penalty 값. 1보다 작은 경우 더 짧은 문장을 생성하도록 유도하며, 1보다 클 경우 길이가 더 긴 문장을 유도\n",
    "    max_length = 200, # 요약문의 최대 길이 설정\n",
    "    min_length = 20, # 요약문의 최소 길이 설정\n",
    "    num_beams = 8) # 문장 생성 시 다음 단어를 탐색하는 영역의 개수"
   ]
  },
  {
   "cell_type": "code",
   "execution_count": 13,
   "id": "ab0d4221",
   "metadata": {},
   "outputs": [],
   "source": [
    "# 요약문 출력 : 왜 긴 공백이 생기는지는 모르겠음\n",
    "summary = tokenizer.decode(summary_text_ids[0], skip_special_tokens=True)"
   ]
  },
  {
   "cell_type": "code",
   "execution_count": 14,
   "id": "4df3c701",
   "metadata": {},
   "outputs": [
    {
     "name": "stdout",
     "output_type": "stream",
     "text": [
      "카카오브레인이 3000만쌍의 텍스트-이미지를 학습한 텍스트-투-이미지 AI 모델인 ‘RQ-트랜스포머’를 최대 오픈소스 커뮤니티 깃허브(GitHub)1에 공개했는데, 이는 카카오브레인이 지난해 12월 공개한 초거대 멀티모달 AI ‘minDALL-E(민달리)’의 업그레이드 버전이다.\n"
     ]
    }
   ],
   "source": [
    "cleaned_text = \"\\n\".join([line for line in summary.splitlines() if line.strip()])\n",
    "\n",
    "print(cleaned_text)"
   ]
  },
  {
   "cell_type": "markdown",
   "id": "9de3788f-6063-4621-8c2f-47edac327252",
   "metadata": {},
   "source": [
    "# 각 카테고리의 문장들을 요약할 때 주의할 점\n",
    "위의 taste_text문장처럼 끊어진 문장들을 개행없이 한줄로 이어줘야함."
   ]
  },
  {
   "cell_type": "code",
   "execution_count": null,
   "id": "8ce5530f-7c3a-4fb3-8261-22f17be113c0",
   "metadata": {},
   "outputs": [],
   "source": []
  }
 ],
 "metadata": {
  "kernelspec": {
   "display_name": "Python 3 (ipykernel)",
   "language": "python",
   "name": "python3"
  },
  "language_info": {
   "codemirror_mode": {
    "name": "ipython",
    "version": 3
   },
   "file_extension": ".py",
   "mimetype": "text/x-python",
   "name": "python",
   "nbconvert_exporter": "python",
   "pygments_lexer": "ipython3",
   "version": "3.9.19"
  }
 },
 "nbformat": 4,
 "nbformat_minor": 5
}
