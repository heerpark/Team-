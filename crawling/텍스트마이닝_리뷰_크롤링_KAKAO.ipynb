{
 "cells": [
  {
   "cell_type": "code",
   "execution_count": 3,
   "id": "938354b6",
   "metadata": {
    "id": "938354b6",
    "ExecuteTime": {
     "end_time": "2024-06-07T12:34:33.444700Z",
     "start_time": "2024-06-07T12:34:33.362702Z"
    }
   },
   "outputs": [],
   "source": [
    "import pandas as pd\n",
    "import requests\n",
    "from bs4 import BeautifulSoup\n",
    "import selenium\n",
    "from selenium import webdriver\n",
    "from selenium.webdriver.common.by import By\n",
    "from selenium.webdriver.chrome.service import Service\n",
    "\n",
    "from selenium.webdriver.chrome.options import Options\n",
    "import time"
   ]
  },
  {
   "cell_type": "code",
   "outputs": [
    {
     "data": {
      "text/plain": "             음식점                                            링크\n0            하이레  m.place.naver.com/restaurant/1083519696/home\n1            윤스쿡   m.place.naver.com/restaurant/166240712/home\n2     화로상회 광운대본점    m.place.naver.com/restaurant/37611559/home\n3           진미통닭  m.place.naver.com/restaurant/1401137405/home\n4     푸른스시 광운대본점  m.place.naver.com/restaurant/1769424895/home\n..           ...                                           ...\n70            온량  m.place.naver.com/restaurant/1796729449/home\n71            짜카  m.place.naver.com/restaurant/1044069286/home\n72    서민스시 장위 본점  m.place.naver.com/restaurant/1820940739/home\n73            더원  m.place.naver.com/restaurant/1092067499/home\n74  인생꼬치479 석계역점  m.place.naver.com/restaurant/1285917492/home\n\n[75 rows x 2 columns]",
      "text/html": "<div>\n<style scoped>\n    .dataframe tbody tr th:only-of-type {\n        vertical-align: middle;\n    }\n\n    .dataframe tbody tr th {\n        vertical-align: top;\n    }\n\n    .dataframe thead th {\n        text-align: right;\n    }\n</style>\n<table border=\"1\" class=\"dataframe\">\n  <thead>\n    <tr style=\"text-align: right;\">\n      <th></th>\n      <th>음식점</th>\n      <th>링크</th>\n    </tr>\n  </thead>\n  <tbody>\n    <tr>\n      <th>0</th>\n      <td>하이레</td>\n      <td>m.place.naver.com/restaurant/1083519696/home</td>\n    </tr>\n    <tr>\n      <th>1</th>\n      <td>윤스쿡</td>\n      <td>m.place.naver.com/restaurant/166240712/home</td>\n    </tr>\n    <tr>\n      <th>2</th>\n      <td>화로상회 광운대본점</td>\n      <td>m.place.naver.com/restaurant/37611559/home</td>\n    </tr>\n    <tr>\n      <th>3</th>\n      <td>진미통닭</td>\n      <td>m.place.naver.com/restaurant/1401137405/home</td>\n    </tr>\n    <tr>\n      <th>4</th>\n      <td>푸른스시 광운대본점</td>\n      <td>m.place.naver.com/restaurant/1769424895/home</td>\n    </tr>\n    <tr>\n      <th>...</th>\n      <td>...</td>\n      <td>...</td>\n    </tr>\n    <tr>\n      <th>70</th>\n      <td>온량</td>\n      <td>m.place.naver.com/restaurant/1796729449/home</td>\n    </tr>\n    <tr>\n      <th>71</th>\n      <td>짜카</td>\n      <td>m.place.naver.com/restaurant/1044069286/home</td>\n    </tr>\n    <tr>\n      <th>72</th>\n      <td>서민스시 장위 본점</td>\n      <td>m.place.naver.com/restaurant/1820940739/home</td>\n    </tr>\n    <tr>\n      <th>73</th>\n      <td>더원</td>\n      <td>m.place.naver.com/restaurant/1092067499/home</td>\n    </tr>\n    <tr>\n      <th>74</th>\n      <td>인생꼬치479 석계역점</td>\n      <td>m.place.naver.com/restaurant/1285917492/home</td>\n    </tr>\n  </tbody>\n</table>\n<p>75 rows × 2 columns</p>\n</div>"
     },
     "execution_count": 2,
     "metadata": {},
     "output_type": "execute_result"
    }
   ],
   "source": [
    "k=pd.read_csv(\"가게_이름_링크.csv\")\n",
    "k"
   ],
   "metadata": {
    "collapsed": false,
    "ExecuteTime": {
     "end_time": "2024-05-14T09:23:56.641694Z",
     "start_time": "2024-05-14T09:23:56.598693Z"
    }
   },
   "id": "f9c3f8db99e4164",
   "execution_count": 2
  },
  {
   "cell_type": "code",
   "execution_count": 2,
   "id": "0d5e4441",
   "metadata": {
    "id": "0d5e4441",
    "ExecuteTime": {
     "end_time": "2024-05-30T14:52:23.706406Z",
     "start_time": "2024-05-30T14:52:23.698406Z"
    }
   },
   "outputs": [],
   "source": [
    "kakao=\"https://map.kakao.com/\"\n",
    "naver=\"map.naver.com\""
   ]
  },
  {
   "cell_type": "code",
   "outputs": [],
   "source": [
    "all_df=pd.DataFrame()"
   ],
   "metadata": {
    "collapsed": false
   },
   "id": "a9f3dd6423eb13be"
  },
  {
   "cell_type": "code",
   "outputs": [
    {
     "data": {
      "text/plain": "<selenium.webdriver.chrome.webdriver.WebDriver (session=\"37f26a101294f1fe271bc8dd1516bd5a\")>"
     },
     "execution_count": 194,
     "metadata": {},
     "output_type": "execute_result"
    }
   ],
   "source": [
    "options = Options()\n",
    "\n",
    "\n",
    "\n",
    "#options.add_argument(\"--headless\")\n",
    "options.add_argument('--no-sandbox')\n",
    "driver = webdriver.Chrome(options=options)\n",
    "driver.get(kakao)\n",
    "\n",
    "driver"
   ],
   "metadata": {
    "id": "5e317531",
    "outputId": "0a769d4b-f6a8-43e1-dbb1-a37d0e17906e",
    "ExecuteTime": {
     "end_time": "2024-06-07T15:08:33.117825Z",
     "start_time": "2024-06-07T15:08:30.727851Z"
    }
   },
   "id": "5e317531",
   "execution_count": 194
  },
  {
   "cell_type": "code",
   "outputs": [],
   "source": [
    "num=1\n",
    "#후기더보기 누르기 버튼\n",
    "while(num<100):\n",
    "    \n",
    "    try:\n",
    "        num+=1\n",
    "        driver.find_element(By.CLASS_NAME,\"txt_more\").click()\n",
    "\n",
    "\n",
    "    #오류가 뜨거나 후기접기가 나타날 때까지 후기 더보기 누르기\n",
    "    #더이상 txt_more이라는 element없으면 break\n",
    "    except:\n",
    "        break\n",
    "time.sleep(2)\n",
    "\n",
    "evaluation_review=driver.find_element(By.CLASS_NAME,\"evaluation_review\")\n",
    "\n",
    "\n",
    "unit_info_list=evaluation_review.find_elements(By.CLASS_NAME,\"unit_info\")\n",
    "star_info_list=evaluation_review.find_elements(By.CLASS_NAME,\"star_info\")\n",
    "#wrap_likepoint_list=evaluation_review.find_elements(By.CLASS_NAME,\"wrap_likepoint\")\n",
    "comment_info_list=evaluation_review.find_elements(By.CLASS_NAME,\"comment_info\")\n",
    "\n",
    "#리뷰 전체 리스트로 가져오기\n",
    "cuisine_evaluation=driver.find_element(By.CLASS_NAME,\"list_evaluation\")\n",
    "\n",
    "time.sleep(2)\n",
    "#리뷰 리스트화\n",
    "cuisine_evaluation_list=cuisine_evaluation.find_elements(By.TAG_NAME,\"li\")\n",
    "\n",
    "id_list=[]\n",
    "\n",
    "for i in range(len(cuisine_evaluation_list)):\n",
    "    id_list.append(cuisine_evaluation_list[i].get_attribute(\"data-userid\"))\n",
    "    \n",
    "id_list=list(filter(None, id_list))\n",
    "\n",
    "\n",
    "all_review=[]\n",
    "#빈 리스트 생성\n",
    "for i in range(len(id_list)):\n",
    "    user=[]\n",
    "    title=driver.find_element(By.CLASS_NAME,\"inner_place\").find_element(By.CLASS_NAME,\"tit_location\").text\n",
    "    user.append(title)\n",
    "    time.sleep(1)\n",
    "    \n",
    "    user.append(id_list[i])\n",
    "    \n",
    "    \n",
    "    #해당 리뷰 작성자의 개인정보\n",
    "    nickname=unit_info_list[i].find_element(By.CLASS_NAME,\"txt_username\").text\n",
    "    user.append(nickname)\n",
    "    badge=unit_info_list[i].find_element(By.CLASS_NAME,\"badge_info\").text[:5]\n",
    "    user.append(badge)\n",
    "    user_review_count=unit_info_list[i].find_elements(By.CLASS_NAME,\"txt_desc\")[0].text\n",
    "    user.append(user_review_count)\n",
    "    user_rating_average=unit_info_list[i].find_elements(By.CLASS_NAME,\"txt_desc\")[1].text\n",
    "    user.append(user_rating_average)\n",
    "\n",
    "    #평점\n",
    "    rating=int(star_info_list[i].find_element(By.CLASS_NAME,\"inner_star\").get_attribute(\"style\")[7:9])/20\n",
    "    user.append(rating)\n",
    "\n",
    "    # try:\n",
    "    #     #사용자가 남긴 태그를 리스트로 저장\n",
    "    #     recommend_point=wrap_likepoint_list[i].find_element(By.CLASS_NAME,\"group_likepoint\").text.split(\"\\n\")\n",
    "    #     user.append(recommend_point)\n",
    "    # except:\n",
    "    #     print()\n",
    "\n",
    "    #사용자가 남긴 리뷰를 리스트로 저장.\n",
    "    review_comment=comment_info_list[i].find_element(By.TAG_NAME,\"span\").text.split(\"\\n\")\n",
    "    user.append(review_comment)\n",
    "    \n",
    "    all_review.append(user)"
   ],
   "metadata": {
    "collapsed": false,
    "ExecuteTime": {
     "end_time": "2024-06-07T15:16:25.295543Z",
     "start_time": "2024-06-07T15:08:45.055257Z"
    }
   },
   "id": "bee1d91836ef1cc9",
   "execution_count": 195
  },
  {
   "cell_type": "code",
   "outputs": [
    {
     "data": {
      "text/plain": "403"
     },
     "execution_count": 196,
     "metadata": {},
     "output_type": "execute_result"
    }
   ],
   "source": [
    "len(all_review)"
   ],
   "metadata": {
    "collapsed": false,
    "ExecuteTime": {
     "end_time": "2024-06-07T15:16:25.310543Z",
     "start_time": "2024-06-07T15:16:25.297544Z"
    }
   },
   "id": "748f1f4dd95934d7",
   "execution_count": 196
  },
  {
   "cell_type": "code",
   "outputs": [],
   "source": [
    "tmp_df=pd.DataFrame(data=all_review)\n",
    "tmp_df=tmp_df.drop_duplicates([0,1])\n",
    "all_df=pd.concat([all_df,tmp_df])"
   ],
   "metadata": {
    "collapsed": false,
    "ExecuteTime": {
     "end_time": "2024-06-07T15:16:25.325544Z",
     "start_time": "2024-06-07T15:16:25.312546Z"
    }
   },
   "id": "a3aee84c61d8d13a",
   "execution_count": 197
  },
  {
   "cell_type": "code",
   "outputs": [],
   "source": [
    "all_df.replace(0.5, 5.0, inplace=True)"
   ],
   "metadata": {
    "collapsed": false,
    "ExecuteTime": {
     "end_time": "2024-06-07T15:16:25.340547Z",
     "start_time": "2024-06-07T15:16:25.327544Z"
    }
   },
   "id": "15ca65210fc5514d",
   "execution_count": 198
  },
  {
   "cell_type": "code",
   "outputs": [],
   "source": [
    "all_df=all_df.drop_duplicates([0,1])"
   ],
   "metadata": {
    "collapsed": false,
    "ExecuteTime": {
     "end_time": "2024-06-07T15:16:25.355546Z",
     "start_time": "2024-06-07T15:16:25.342547Z"
    }
   },
   "id": "e8991073e0d84513",
   "execution_count": 199
  },
  {
   "cell_type": "code",
   "outputs": [
    {
     "data": {
      "text/plain": "                 0           1          2      3    4    5    6  \\\n0    홍대조폭떡볶이 홍대2호점   481524804        박지범  브론즈 배    5  3.6  3.0   \n1    홍대조폭떡볶이 홍대2호점  1254054279        상상용  실버 배지  167  3.4  2.0   \n2    홍대조폭떡볶이 홍대2호점   764377187       가시멸치  골드 배지  220  3.3  4.0   \n3    홍대조폭떡볶이 홍대2호점   556600675          🕓  실버 배지   34  3.8  5.0   \n4    홍대조폭떡볶이 홍대2호점   484323118        sky  브론즈 배   11  2.8  5.0   \n..             ...         ...        ...    ...  ...  ...  ...   \n278      산수갑산 을지로점   770338845          둥  골드 배지  214  3.4  1.0   \n279      산수갑산 을지로점   779388676  IIIllIllI  골드 배지  351  3.6  2.0   \n280      산수갑산 을지로점  1359458728        이종민  브론즈 배    6  4.7  4.0   \n281      산수갑산 을지로점   445500302          한  실버 배지   41  1.6  1.0   \n282      산수갑산 을지로점  1149906440         사람  실버 배지   17  4.3  4.0   \n\n                                                     7  \n0         [전에 비하면 가격이 오르긴 했어도 다르곳에 비하면 저렴한 가격에 먹을수있음.]  \n1                        [다른분식집에 비해 맛이 너무없어서 실망스러웠습니다]  \n2    [조폭떡볶이와 순대(내장x). 김밥이 먹고싶었는데 항상 저녁에 제일 먼저 떨어진다고...  \n3                                                   []  \n4    [여기 직원분들 바뀌고나서 친절하셔서 너무 좋아요~떡볶이는 말할것도 없고 특히 순대...  \n..                                                 ...  \n278                                                 []  \n279                                [굳에 말하자면 맛없음에 가깝다.]  \n280         [누린 내 없는 구수하고 진한 국물, 순대도 푸짐, 술을 술술 부르는 술국]  \n281  [순대는 식어서 나오는데 돼지비린내는 엄청나고;; 따뜻한 국 용기는 플라스틱이고 국...  \n282                                 [시끄러운게 단점~ , 맛있어요]  \n\n[2362 rows x 8 columns]",
      "text/html": "<div>\n<style scoped>\n    .dataframe tbody tr th:only-of-type {\n        vertical-align: middle;\n    }\n\n    .dataframe tbody tr th {\n        vertical-align: top;\n    }\n\n    .dataframe thead th {\n        text-align: right;\n    }\n</style>\n<table border=\"1\" class=\"dataframe\">\n  <thead>\n    <tr style=\"text-align: right;\">\n      <th></th>\n      <th>0</th>\n      <th>1</th>\n      <th>2</th>\n      <th>3</th>\n      <th>4</th>\n      <th>5</th>\n      <th>6</th>\n      <th>7</th>\n    </tr>\n  </thead>\n  <tbody>\n    <tr>\n      <th>0</th>\n      <td>홍대조폭떡볶이 홍대2호점</td>\n      <td>481524804</td>\n      <td>박지범</td>\n      <td>브론즈 배</td>\n      <td>5</td>\n      <td>3.6</td>\n      <td>3.0</td>\n      <td>[전에 비하면 가격이 오르긴 했어도 다르곳에 비하면 저렴한 가격에 먹을수있음.]</td>\n    </tr>\n    <tr>\n      <th>1</th>\n      <td>홍대조폭떡볶이 홍대2호점</td>\n      <td>1254054279</td>\n      <td>상상용</td>\n      <td>실버 배지</td>\n      <td>167</td>\n      <td>3.4</td>\n      <td>2.0</td>\n      <td>[다른분식집에 비해 맛이 너무없어서 실망스러웠습니다]</td>\n    </tr>\n    <tr>\n      <th>2</th>\n      <td>홍대조폭떡볶이 홍대2호점</td>\n      <td>764377187</td>\n      <td>가시멸치</td>\n      <td>골드 배지</td>\n      <td>220</td>\n      <td>3.3</td>\n      <td>4.0</td>\n      <td>[조폭떡볶이와 순대(내장x). 김밥이 먹고싶었는데 항상 저녁에 제일 먼저 떨어진다고...</td>\n    </tr>\n    <tr>\n      <th>3</th>\n      <td>홍대조폭떡볶이 홍대2호점</td>\n      <td>556600675</td>\n      <td>🕓</td>\n      <td>실버 배지</td>\n      <td>34</td>\n      <td>3.8</td>\n      <td>5.0</td>\n      <td>[]</td>\n    </tr>\n    <tr>\n      <th>4</th>\n      <td>홍대조폭떡볶이 홍대2호점</td>\n      <td>484323118</td>\n      <td>sky</td>\n      <td>브론즈 배</td>\n      <td>11</td>\n      <td>2.8</td>\n      <td>5.0</td>\n      <td>[여기 직원분들 바뀌고나서 친절하셔서 너무 좋아요~떡볶이는 말할것도 없고 특히 순대...</td>\n    </tr>\n    <tr>\n      <th>...</th>\n      <td>...</td>\n      <td>...</td>\n      <td>...</td>\n      <td>...</td>\n      <td>...</td>\n      <td>...</td>\n      <td>...</td>\n      <td>...</td>\n    </tr>\n    <tr>\n      <th>278</th>\n      <td>산수갑산 을지로점</td>\n      <td>770338845</td>\n      <td>둥</td>\n      <td>골드 배지</td>\n      <td>214</td>\n      <td>3.4</td>\n      <td>1.0</td>\n      <td>[]</td>\n    </tr>\n    <tr>\n      <th>279</th>\n      <td>산수갑산 을지로점</td>\n      <td>779388676</td>\n      <td>IIIllIllI</td>\n      <td>골드 배지</td>\n      <td>351</td>\n      <td>3.6</td>\n      <td>2.0</td>\n      <td>[굳에 말하자면 맛없음에 가깝다.]</td>\n    </tr>\n    <tr>\n      <th>280</th>\n      <td>산수갑산 을지로점</td>\n      <td>1359458728</td>\n      <td>이종민</td>\n      <td>브론즈 배</td>\n      <td>6</td>\n      <td>4.7</td>\n      <td>4.0</td>\n      <td>[누린 내 없는 구수하고 진한 국물, 순대도 푸짐, 술을 술술 부르는 술국]</td>\n    </tr>\n    <tr>\n      <th>281</th>\n      <td>산수갑산 을지로점</td>\n      <td>445500302</td>\n      <td>한</td>\n      <td>실버 배지</td>\n      <td>41</td>\n      <td>1.6</td>\n      <td>1.0</td>\n      <td>[순대는 식어서 나오는데 돼지비린내는 엄청나고;; 따뜻한 국 용기는 플라스틱이고 국...</td>\n    </tr>\n    <tr>\n      <th>282</th>\n      <td>산수갑산 을지로점</td>\n      <td>1149906440</td>\n      <td>사람</td>\n      <td>실버 배지</td>\n      <td>17</td>\n      <td>4.3</td>\n      <td>4.0</td>\n      <td>[시끄러운게 단점~ , 맛있어요]</td>\n    </tr>\n  </tbody>\n</table>\n<p>2362 rows × 8 columns</p>\n</div>"
     },
     "execution_count": 201,
     "metadata": {},
     "output_type": "execute_result"
    }
   ],
   "source": [
    "all_df"
   ],
   "metadata": {
    "collapsed": false,
    "ExecuteTime": {
     "end_time": "2024-06-07T15:17:09.794569Z",
     "start_time": "2024-06-07T15:17:09.768570Z"
    }
   },
   "id": "20e33f765b5d07cb",
   "execution_count": 201
  },
  {
   "cell_type": "code",
   "outputs": [],
   "source": [
    "all_df.to_csv('tmp_data.csv',index=False)"
   ],
   "metadata": {
    "collapsed": false,
    "ExecuteTime": {
     "end_time": "2024-06-07T15:17:18.500336Z",
     "start_time": "2024-06-07T15:17:18.473334Z"
    }
   },
   "id": "6d84e480775ab17a",
   "execution_count": 203
  },
  {
   "cell_type": "code",
   "outputs": [],
   "source": [
    "def crawlcrawl(e):\n",
    "\n",
    "    #상세정보 창 열기\n",
    "    cuisine_1_detail=e.find_element(By.CLASS_NAME,\"moreview\")\n",
    "    cuisine_1_detail.click()\n",
    "    time.sleep(2)\n",
    "\n",
    "    #작동되는 페이지 옮기기\n",
    "    driver.switch_to.window(driver.window_handles[-1])\n",
    "    time.sleep(2)\n",
    "        \n",
    "    num=1\n",
    "    #후기더보기 누르기 버튼\n",
    "    while(num<100):\n",
    "        \n",
    "        try:\n",
    "            num+=1\n",
    "            driver.find_element(By.CLASS_NAME,\"txt_more\").click()\n",
    "\n",
    "\n",
    "        #오류가 뜨거나 후기접기가 나타날 때까지 후기 더보기 누르기\n",
    "        #더이상 txt_more이라는 element없으면 break\n",
    "        except:\n",
    "            break\n",
    "    time.sleep(2)\n",
    "    \n",
    "    evaluation_review=driver.find_element(By.CLASS_NAME,\"evaluation_review\")\n",
    "    \n",
    "\n",
    "    unit_info_list=evaluation_review.find_elements(By.CLASS_NAME,\"unit_info\")\n",
    "    star_info_list=evaluation_review.find_elements(By.CLASS_NAME,\"star_info\")\n",
    "    #wrap_likepoint_list=evaluation_review.find_elements(By.CLASS_NAME,\"wrap_likepoint\")\n",
    "    comment_info_list=evaluation_review.find_elements(By.CLASS_NAME,\"comment_info\")\n",
    "    \n",
    "    #리뷰 전체 리스트로 가져오기\n",
    "    cuisine_evaluation=driver.find_element(By.CLASS_NAME,\"list_evaluation\")\n",
    "\n",
    "    time.sleep(2)\n",
    "    #리뷰 리스트화\n",
    "    cuisine_evaluation_list=cuisine_evaluation.find_elements(By.TAG_NAME,\"li\")\n",
    "    \n",
    "    id_list=[]\n",
    "    \n",
    "    for i in range(len(cuisine_evaluation_list)):\n",
    "        id_list.append(cuisine_evaluation_list[i].get_attribute(\"data-userid\"))\n",
    "        \n",
    "    id_list=list(filter(None, id_list))\n",
    "    \n",
    "    \n",
    "    all_review=[]\n",
    "    #빈 리스트 생성\n",
    "    for i in range(len(id_list)):\n",
    "        user=[]\n",
    "        title=driver.find_element(By.CLASS_NAME,\"inner_place\").find_element(By.CLASS_NAME,\"tit_location\").text\n",
    "        user.append(title)\n",
    "        time.sleep(1)\n",
    "        \n",
    "        user.append(id_list[i])\n",
    "        \n",
    "        \n",
    "        #해당 리뷰 작성자의 개인정보\n",
    "        nickname=unit_info_list[i].find_element(By.CLASS_NAME,\"txt_username\").text\n",
    "        user.append(nickname)\n",
    "        badge=unit_info_list[i].find_element(By.CLASS_NAME,\"badge_info\").text[:5]\n",
    "        user.append(badge)\n",
    "        user_review_count=unit_info_list[i].find_elements(By.CLASS_NAME,\"txt_desc\")[0].text\n",
    "        user.append(user_review_count)\n",
    "        user_rating_average=unit_info_list[i].find_elements(By.CLASS_NAME,\"txt_desc\")[1].text\n",
    "        user.append(user_rating_average)\n",
    "    \n",
    "        #평점\n",
    "        rating=int(star_info_list[i].find_element(By.CLASS_NAME,\"inner_star\").get_attribute(\"style\")[7:9])/20\n",
    "        user.append(rating)\n",
    "    \n",
    "        # try:\n",
    "        #     #사용자가 남긴 태그를 리스트로 저장\n",
    "        #     recommend_point=wrap_likepoint_list[i].find_element(By.CLASS_NAME,\"group_likepoint\").text.split(\"\\n\")\n",
    "        #     user.append(recommend_point)\n",
    "        # except:\n",
    "        #     print()\n",
    "    \n",
    "        #사용자가 남긴 리뷰를 리스트로 저장.\n",
    "        review_comment=comment_info_list[i].find_element(By.TAG_NAME,\"span\").text.split(\"\\n\")\n",
    "        user.append(review_comment)\n",
    "        \n",
    "        all_review.append(user)\n",
    "    \n",
    "    \n",
    "    tmp_df=pd.DataFrame(data=all_review)\n",
    "    #새로 연창 종료하고 원래 창으로 드라이버 주체 바꾸기\n",
    "    driver.close()\n",
    "    driver.switch_to.window(driver.window_handles[0])\n",
    "    \n",
    "    \n",
    "    \n",
    "    return tmp_df\n"
   ],
   "metadata": {
    "collapsed": false,
    "ExecuteTime": {
     "end_time": "2024-06-07T14:33:36.070212Z",
     "start_time": "2024-06-07T14:33:36.045140Z"
    }
   },
   "id": "e46c6048",
   "execution_count": 151
  },
  {
   "cell_type": "code",
   "outputs": [],
   "source": [
    "all_df=pd.DataFrame()"
   ],
   "metadata": {
    "collapsed": false,
    "ExecuteTime": {
     "end_time": "2024-05-30T14:53:00.079060Z",
     "start_time": "2024-05-30T14:53:00.067060Z"
    }
   },
   "id": "ed37e9674ac67352",
   "execution_count": 8
  },
  {
   "cell_type": "code",
   "outputs": [],
   "source": [
    "for i in kakao_cuisine_1:\n",
    "    blind=i.find_element(By.CLASS_NAME,\"txt_blind\")\n",
    "    if blind.text:\n",
    "        continue\n",
    "    tmp=crawlcrawl(i)\n",
    "    all_df=pd.concat([all_df,tmp])"
   ],
   "metadata": {
    "collapsed": false,
    "ExecuteTime": {
     "end_time": "2024-05-30T15:15:37.705876Z",
     "start_time": "2024-05-30T14:53:12.399214Z"
    }
   },
   "id": "1291d0bf70061604",
   "execution_count": 9
  },
  {
   "cell_type": "code",
   "outputs": [
    {
     "data": {
      "text/plain": "         0           1       2      3   4    5    6  \\\n0   엄마마늘보쌈  1366643171  다이어트포기  실버 배지  50  3.9  4.0   \n1   엄마마늘보쌈  2290116892     미식견  실버 배지  34  4.2  4.0   \n2   엄마마늘보쌈   312224650     서재형  실버 배지  13  5.0  0.5   \n3   엄마마늘보쌈   809029638    서아아빠  실버 배지  22  4.9  0.5   \n4   엄마마늘보쌈  1639004379   흐리거나비  실버 배지  24  4.1  3.0   \n..     ...         ...     ...    ...  ..  ...  ...   \n24    서민초밥   566797733     이영우  브론즈 배   5  3.8  0.5   \n0     1일1잔   379177948    흐어어엉  실버 배지  57  4.2  0.5   \n1     1일1잔   512472443     삐롱이  실버 배지  47  4.1  0.5   \n2     1일1잔  1073182616     *_*  실버 배지  33  3.8  0.5   \n3     1일1잔  1099672422  huhuhu  실버 배지  48  3.1  0.5   \n\n                                                    7  \n0                [보쌈은 너무맛있어서 공간 협소한건 생각도 안남, 김치맛 복불복]  \n1        [보쌈정식 먹었는데 돼지잡내없이 맛있고 밑반찬도 먹을만해요 마늘보쌈도 맛있어요]  \n2                        [엄마마늘보쌈은 석계역 보쌈집 터줏대감, 입니다.]  \n3   [맛나여...., 맛이란게..., 서로 약간씩 차이가 있으니까..., 노포분위기 좋...  \n4         [기본으로 주는 전은 맛있었다. 보쌈도 나쁘지 않았다. 근데 굳이 갈까...]  \n..                                                ...  \n24                                                 []  \n0   [마카롱 하나에 이천원밖에 안하는데 엄청 맛있어요 달지 않은 마카롱이라 부담없이 먹...  \n1   [사장님이 친절하시고 가격도 저렴해요 , 마카롱 꼬끄는 쫀득쫀득이아니라 쫜득쫜득해요...  \n2                                      [달지않은 마카롱 최고⚘]  \n3   [마카롱 맛있음, 다른 곳 마카롱 가격 창렬일 때 여긴 좀 저렴했음. 맛과 실력으로...  \n\n[1074 rows x 8 columns]",
      "text/html": "<div>\n<style scoped>\n    .dataframe tbody tr th:only-of-type {\n        vertical-align: middle;\n    }\n\n    .dataframe tbody tr th {\n        vertical-align: top;\n    }\n\n    .dataframe thead th {\n        text-align: right;\n    }\n</style>\n<table border=\"1\" class=\"dataframe\">\n  <thead>\n    <tr style=\"text-align: right;\">\n      <th></th>\n      <th>0</th>\n      <th>1</th>\n      <th>2</th>\n      <th>3</th>\n      <th>4</th>\n      <th>5</th>\n      <th>6</th>\n      <th>7</th>\n    </tr>\n  </thead>\n  <tbody>\n    <tr>\n      <th>0</th>\n      <td>엄마마늘보쌈</td>\n      <td>1366643171</td>\n      <td>다이어트포기</td>\n      <td>실버 배지</td>\n      <td>50</td>\n      <td>3.9</td>\n      <td>4.0</td>\n      <td>[보쌈은 너무맛있어서 공간 협소한건 생각도 안남, 김치맛 복불복]</td>\n    </tr>\n    <tr>\n      <th>1</th>\n      <td>엄마마늘보쌈</td>\n      <td>2290116892</td>\n      <td>미식견</td>\n      <td>실버 배지</td>\n      <td>34</td>\n      <td>4.2</td>\n      <td>4.0</td>\n      <td>[보쌈정식 먹었는데 돼지잡내없이 맛있고 밑반찬도 먹을만해요 마늘보쌈도 맛있어요]</td>\n    </tr>\n    <tr>\n      <th>2</th>\n      <td>엄마마늘보쌈</td>\n      <td>312224650</td>\n      <td>서재형</td>\n      <td>실버 배지</td>\n      <td>13</td>\n      <td>5.0</td>\n      <td>0.5</td>\n      <td>[엄마마늘보쌈은 석계역 보쌈집 터줏대감, 입니다.]</td>\n    </tr>\n    <tr>\n      <th>3</th>\n      <td>엄마마늘보쌈</td>\n      <td>809029638</td>\n      <td>서아아빠</td>\n      <td>실버 배지</td>\n      <td>22</td>\n      <td>4.9</td>\n      <td>0.5</td>\n      <td>[맛나여...., 맛이란게..., 서로 약간씩 차이가 있으니까..., 노포분위기 좋...</td>\n    </tr>\n    <tr>\n      <th>4</th>\n      <td>엄마마늘보쌈</td>\n      <td>1639004379</td>\n      <td>흐리거나비</td>\n      <td>실버 배지</td>\n      <td>24</td>\n      <td>4.1</td>\n      <td>3.0</td>\n      <td>[기본으로 주는 전은 맛있었다. 보쌈도 나쁘지 않았다. 근데 굳이 갈까...]</td>\n    </tr>\n    <tr>\n      <th>...</th>\n      <td>...</td>\n      <td>...</td>\n      <td>...</td>\n      <td>...</td>\n      <td>...</td>\n      <td>...</td>\n      <td>...</td>\n      <td>...</td>\n    </tr>\n    <tr>\n      <th>24</th>\n      <td>서민초밥</td>\n      <td>566797733</td>\n      <td>이영우</td>\n      <td>브론즈 배</td>\n      <td>5</td>\n      <td>3.8</td>\n      <td>0.5</td>\n      <td>[]</td>\n    </tr>\n    <tr>\n      <th>0</th>\n      <td>1일1잔</td>\n      <td>379177948</td>\n      <td>흐어어엉</td>\n      <td>실버 배지</td>\n      <td>57</td>\n      <td>4.2</td>\n      <td>0.5</td>\n      <td>[마카롱 하나에 이천원밖에 안하는데 엄청 맛있어요 달지 않은 마카롱이라 부담없이 먹...</td>\n    </tr>\n    <tr>\n      <th>1</th>\n      <td>1일1잔</td>\n      <td>512472443</td>\n      <td>삐롱이</td>\n      <td>실버 배지</td>\n      <td>47</td>\n      <td>4.1</td>\n      <td>0.5</td>\n      <td>[사장님이 친절하시고 가격도 저렴해요 , 마카롱 꼬끄는 쫀득쫀득이아니라 쫜득쫜득해요...</td>\n    </tr>\n    <tr>\n      <th>2</th>\n      <td>1일1잔</td>\n      <td>1073182616</td>\n      <td>*_*</td>\n      <td>실버 배지</td>\n      <td>33</td>\n      <td>3.8</td>\n      <td>0.5</td>\n      <td>[달지않은 마카롱 최고⚘]</td>\n    </tr>\n    <tr>\n      <th>3</th>\n      <td>1일1잔</td>\n      <td>1099672422</td>\n      <td>huhuhu</td>\n      <td>실버 배지</td>\n      <td>48</td>\n      <td>3.1</td>\n      <td>0.5</td>\n      <td>[마카롱 맛있음, 다른 곳 마카롱 가격 창렬일 때 여긴 좀 저렴했음. 맛과 실력으로...</td>\n    </tr>\n  </tbody>\n</table>\n<p>1074 rows × 8 columns</p>\n</div>"
     },
     "execution_count": 11,
     "metadata": {},
     "output_type": "execute_result"
    }
   ],
   "source": [
    "all_df"
   ],
   "metadata": {
    "collapsed": false,
    "ExecuteTime": {
     "end_time": "2024-05-30T15:15:47.545324Z",
     "start_time": "2024-05-30T15:15:47.522325Z"
    }
   },
   "id": "3c64fff9031bb1a9",
   "execution_count": 11
  },
  {
   "cell_type": "code",
   "outputs": [],
   "source": [
    "data=all_df.drop_duplicates([0,1])"
   ],
   "metadata": {
    "collapsed": false,
    "ExecuteTime": {
     "end_time": "2024-05-30T15:17:12.165590Z",
     "start_time": "2024-05-30T15:17:12.148590Z"
    }
   },
   "id": "5d06534c4bd19f6e",
   "execution_count": 17
  },
  {
   "cell_type": "code",
   "outputs": [
    {
     "data": {
      "text/plain": "         0           1       2      3   4    5    6  \\\n0   엄마마늘보쌈  1366643171  다이어트포기  실버 배지  50  3.9  4.0   \n1   엄마마늘보쌈  2290116892     미식견  실버 배지  34  4.2  4.0   \n2   엄마마늘보쌈   312224650     서재형  실버 배지  13  5.0  0.5   \n3   엄마마늘보쌈   809029638    서아아빠  실버 배지  22  4.9  0.5   \n4   엄마마늘보쌈  1639004379   흐리거나비  실버 배지  24  4.1  3.0   \n..     ...         ...     ...    ...  ..  ...  ...   \n24    서민초밥   566797733     이영우  브론즈 배   5  3.8  0.5   \n0     1일1잔   379177948    흐어어엉  실버 배지  57  4.2  0.5   \n1     1일1잔   512472443     삐롱이  실버 배지  47  4.1  0.5   \n2     1일1잔  1073182616     *_*  실버 배지  33  3.8  0.5   \n3     1일1잔  1099672422  huhuhu  실버 배지  48  3.1  0.5   \n\n                                                    7  \n0                [보쌈은 너무맛있어서 공간 협소한건 생각도 안남, 김치맛 복불복]  \n1        [보쌈정식 먹었는데 돼지잡내없이 맛있고 밑반찬도 먹을만해요 마늘보쌈도 맛있어요]  \n2                        [엄마마늘보쌈은 석계역 보쌈집 터줏대감, 입니다.]  \n3   [맛나여...., 맛이란게..., 서로 약간씩 차이가 있으니까..., 노포분위기 좋...  \n4         [기본으로 주는 전은 맛있었다. 보쌈도 나쁘지 않았다. 근데 굳이 갈까...]  \n..                                                ...  \n24                                                 []  \n0   [마카롱 하나에 이천원밖에 안하는데 엄청 맛있어요 달지 않은 마카롱이라 부담없이 먹...  \n1   [사장님이 친절하시고 가격도 저렴해요 , 마카롱 꼬끄는 쫀득쫀득이아니라 쫜득쫜득해요...  \n2                                      [달지않은 마카롱 최고⚘]  \n3   [마카롱 맛있음, 다른 곳 마카롱 가격 창렬일 때 여긴 좀 저렴했음. 맛과 실력으로...  \n\n[595 rows x 8 columns]",
      "text/html": "<div>\n<style scoped>\n    .dataframe tbody tr th:only-of-type {\n        vertical-align: middle;\n    }\n\n    .dataframe tbody tr th {\n        vertical-align: top;\n    }\n\n    .dataframe thead th {\n        text-align: right;\n    }\n</style>\n<table border=\"1\" class=\"dataframe\">\n  <thead>\n    <tr style=\"text-align: right;\">\n      <th></th>\n      <th>0</th>\n      <th>1</th>\n      <th>2</th>\n      <th>3</th>\n      <th>4</th>\n      <th>5</th>\n      <th>6</th>\n      <th>7</th>\n    </tr>\n  </thead>\n  <tbody>\n    <tr>\n      <th>0</th>\n      <td>엄마마늘보쌈</td>\n      <td>1366643171</td>\n      <td>다이어트포기</td>\n      <td>실버 배지</td>\n      <td>50</td>\n      <td>3.9</td>\n      <td>4.0</td>\n      <td>[보쌈은 너무맛있어서 공간 협소한건 생각도 안남, 김치맛 복불복]</td>\n    </tr>\n    <tr>\n      <th>1</th>\n      <td>엄마마늘보쌈</td>\n      <td>2290116892</td>\n      <td>미식견</td>\n      <td>실버 배지</td>\n      <td>34</td>\n      <td>4.2</td>\n      <td>4.0</td>\n      <td>[보쌈정식 먹었는데 돼지잡내없이 맛있고 밑반찬도 먹을만해요 마늘보쌈도 맛있어요]</td>\n    </tr>\n    <tr>\n      <th>2</th>\n      <td>엄마마늘보쌈</td>\n      <td>312224650</td>\n      <td>서재형</td>\n      <td>실버 배지</td>\n      <td>13</td>\n      <td>5.0</td>\n      <td>0.5</td>\n      <td>[엄마마늘보쌈은 석계역 보쌈집 터줏대감, 입니다.]</td>\n    </tr>\n    <tr>\n      <th>3</th>\n      <td>엄마마늘보쌈</td>\n      <td>809029638</td>\n      <td>서아아빠</td>\n      <td>실버 배지</td>\n      <td>22</td>\n      <td>4.9</td>\n      <td>0.5</td>\n      <td>[맛나여...., 맛이란게..., 서로 약간씩 차이가 있으니까..., 노포분위기 좋...</td>\n    </tr>\n    <tr>\n      <th>4</th>\n      <td>엄마마늘보쌈</td>\n      <td>1639004379</td>\n      <td>흐리거나비</td>\n      <td>실버 배지</td>\n      <td>24</td>\n      <td>4.1</td>\n      <td>3.0</td>\n      <td>[기본으로 주는 전은 맛있었다. 보쌈도 나쁘지 않았다. 근데 굳이 갈까...]</td>\n    </tr>\n    <tr>\n      <th>...</th>\n      <td>...</td>\n      <td>...</td>\n      <td>...</td>\n      <td>...</td>\n      <td>...</td>\n      <td>...</td>\n      <td>...</td>\n      <td>...</td>\n    </tr>\n    <tr>\n      <th>24</th>\n      <td>서민초밥</td>\n      <td>566797733</td>\n      <td>이영우</td>\n      <td>브론즈 배</td>\n      <td>5</td>\n      <td>3.8</td>\n      <td>0.5</td>\n      <td>[]</td>\n    </tr>\n    <tr>\n      <th>0</th>\n      <td>1일1잔</td>\n      <td>379177948</td>\n      <td>흐어어엉</td>\n      <td>실버 배지</td>\n      <td>57</td>\n      <td>4.2</td>\n      <td>0.5</td>\n      <td>[마카롱 하나에 이천원밖에 안하는데 엄청 맛있어요 달지 않은 마카롱이라 부담없이 먹...</td>\n    </tr>\n    <tr>\n      <th>1</th>\n      <td>1일1잔</td>\n      <td>512472443</td>\n      <td>삐롱이</td>\n      <td>실버 배지</td>\n      <td>47</td>\n      <td>4.1</td>\n      <td>0.5</td>\n      <td>[사장님이 친절하시고 가격도 저렴해요 , 마카롱 꼬끄는 쫀득쫀득이아니라 쫜득쫜득해요...</td>\n    </tr>\n    <tr>\n      <th>2</th>\n      <td>1일1잔</td>\n      <td>1073182616</td>\n      <td>*_*</td>\n      <td>실버 배지</td>\n      <td>33</td>\n      <td>3.8</td>\n      <td>0.5</td>\n      <td>[달지않은 마카롱 최고⚘]</td>\n    </tr>\n    <tr>\n      <th>3</th>\n      <td>1일1잔</td>\n      <td>1099672422</td>\n      <td>huhuhu</td>\n      <td>실버 배지</td>\n      <td>48</td>\n      <td>3.1</td>\n      <td>0.5</td>\n      <td>[마카롱 맛있음, 다른 곳 마카롱 가격 창렬일 때 여긴 좀 저렴했음. 맛과 실력으로...</td>\n    </tr>\n  </tbody>\n</table>\n<p>595 rows × 8 columns</p>\n</div>"
     },
     "execution_count": 18,
     "metadata": {},
     "output_type": "execute_result"
    }
   ],
   "source": [
    "data"
   ],
   "metadata": {
    "collapsed": false,
    "ExecuteTime": {
     "end_time": "2024-05-30T15:17:14.031590Z",
     "start_time": "2024-05-30T15:17:14.004589Z"
    }
   },
   "id": "e666e5b119e1ad16",
   "execution_count": 18
  },
  {
   "cell_type": "code",
   "outputs": [],
   "source": [
    "data=data[[0,6]]\n",
    "data.columns=['가게','평점']\n",
    "tmp=data.groupby('가게')['평점'].mean().to_frame()"
   ],
   "metadata": {
    "collapsed": false,
    "ExecuteTime": {
     "end_time": "2024-05-30T15:17:14.876592Z",
     "start_time": "2024-05-30T15:17:14.863589Z"
    }
   },
   "id": "e11e8e0e35f43d20",
   "execution_count": 19
  },
  {
   "cell_type": "code",
   "outputs": [
    {
     "data": {
      "text/plain": "                     평점\n가게                     \n1일1잔           0.500000\n그레도제빵사         1.632576\n남송통닭           1.250000\n남해바다마차         1.830000\n무명칼국수          1.764706\n서민초밥           1.100000\n엄마마늘보쌈         1.666667\n엉터리양평해장국 석계역점  2.333333\n연어시장 석계본점      1.200000\n일번지정육식당 돌곶이점   1.647059\n일심해장국 월계점      2.281250\n정지춘설렁탕         1.937500\n창신동매운족발 본점1호점  1.476744\n한상             1.327586\n화로상회 광운대점      2.052632",
      "text/html": "<div>\n<style scoped>\n    .dataframe tbody tr th:only-of-type {\n        vertical-align: middle;\n    }\n\n    .dataframe tbody tr th {\n        vertical-align: top;\n    }\n\n    .dataframe thead th {\n        text-align: right;\n    }\n</style>\n<table border=\"1\" class=\"dataframe\">\n  <thead>\n    <tr style=\"text-align: right;\">\n      <th></th>\n      <th>평점</th>\n    </tr>\n    <tr>\n      <th>가게</th>\n      <th></th>\n    </tr>\n  </thead>\n  <tbody>\n    <tr>\n      <th>1일1잔</th>\n      <td>0.500000</td>\n    </tr>\n    <tr>\n      <th>그레도제빵사</th>\n      <td>1.632576</td>\n    </tr>\n    <tr>\n      <th>남송통닭</th>\n      <td>1.250000</td>\n    </tr>\n    <tr>\n      <th>남해바다마차</th>\n      <td>1.830000</td>\n    </tr>\n    <tr>\n      <th>무명칼국수</th>\n      <td>1.764706</td>\n    </tr>\n    <tr>\n      <th>서민초밥</th>\n      <td>1.100000</td>\n    </tr>\n    <tr>\n      <th>엄마마늘보쌈</th>\n      <td>1.666667</td>\n    </tr>\n    <tr>\n      <th>엉터리양평해장국 석계역점</th>\n      <td>2.333333</td>\n    </tr>\n    <tr>\n      <th>연어시장 석계본점</th>\n      <td>1.200000</td>\n    </tr>\n    <tr>\n      <th>일번지정육식당 돌곶이점</th>\n      <td>1.647059</td>\n    </tr>\n    <tr>\n      <th>일심해장국 월계점</th>\n      <td>2.281250</td>\n    </tr>\n    <tr>\n      <th>정지춘설렁탕</th>\n      <td>1.937500</td>\n    </tr>\n    <tr>\n      <th>창신동매운족발 본점1호점</th>\n      <td>1.476744</td>\n    </tr>\n    <tr>\n      <th>한상</th>\n      <td>1.327586</td>\n    </tr>\n    <tr>\n      <th>화로상회 광운대점</th>\n      <td>2.052632</td>\n    </tr>\n  </tbody>\n</table>\n</div>"
     },
     "execution_count": 20,
     "metadata": {},
     "output_type": "execute_result"
    }
   ],
   "source": [
    "tmp"
   ],
   "metadata": {
    "collapsed": false,
    "ExecuteTime": {
     "end_time": "2024-05-30T15:17:16.110591Z",
     "start_time": "2024-05-30T15:17:16.092589Z"
    }
   },
   "id": "9044c7f09e62541a",
   "execution_count": 20
  },
  {
   "cell_type": "code",
   "outputs": [],
   "source": [],
   "metadata": {
    "collapsed": false
   },
   "id": "e11f1dc4e0eed9ce"
  },
  {
   "cell_type": "code",
   "outputs": [],
   "source": [
    "all_df.to_csv(\"textmining_review_kakao_page1.csv\")"
   ],
   "metadata": {
    "collapsed": false,
    "ExecuteTime": {
     "end_time": "2024-05-09T16:50:51.860576Z",
     "start_time": "2024-05-09T16:50:51.833577Z"
    }
   },
   "id": "76b83466eeee8842",
   "execution_count": 207
  },
  {
   "cell_type": "code",
   "outputs": [],
   "source": [],
   "metadata": {
    "collapsed": false
   },
   "id": "21b93e8b0e294580"
  },
  {
   "cell_type": "code",
   "outputs": [],
   "source": [],
   "metadata": {
    "collapsed": false
   },
   "id": "206c48f94d00eb52"
  },
  {
   "cell_type": "code",
   "outputs": [],
   "source": [
    "tmp=crawlcrawl(kakao_cuisine_1[0])"
   ],
   "metadata": {
    "id": "244b1a6d",
    "outputId": "c8594bbb-8006-40b7-c667-815412a093fa",
    "ExecuteTime": {
     "end_time": "2024-05-09T16:25:10.784078Z",
     "start_time": "2024-05-09T16:24:29.530858Z"
    }
   },
   "id": "244b1a6d",
   "execution_count": 195
  },
  {
   "cell_type": "code",
   "outputs": [
    {
     "data": {
      "text/plain": "            0           1             2      3    4    5    6  \\\n0   화로상회 광운대점  1825213275  냠냠쩝쩝박사의 맛집탐방  실버 배지   92  3.5  4.0   \n1   화로상회 광운대점  1071880997            히히  브론즈 배    9  4.0  0.5   \n2   화로상회 광운대점  1034272868    진실만을말하는 개굴  실버 배지   34  4.0  0.5   \n3   화로상회 광운대점  1363274427           이재원  실버 배지   53  3.5  3.0   \n4   화로상회 광운대점  1289095506         고양이좋아  실버 배지   94  4.2  0.5   \n..        ...         ...           ...    ...  ...  ...  ...   \n1        남송통닭   316219944      (알 수 없음)  실버 배지   67  1.1  1.0   \n2        남송통닭   510031137     Gerald B.  골드 배지  188  3.8  4.0   \n3        남송통닭  1249726533            아람  브론즈 배    4  1.0  1.0   \n4        남송통닭   256259466         히츠 앰버  실버 배지   22  4.5  0.5   \n5        남송통닭   257140821           Ben  골드 배지  387  4.0  0.5   \n\n                                                    7  \n0   [맛5 가격5 매장크기3 친절함3 분위기4 위생3, 내 기준 고기 무한리필 원탑, ...  \n1                  [너무 저렴해서 걱정했는데, 너무 맛있게 먹고 나왔습니다:)]  \n2   [역시 본점클라스... 존맛. 다만 맛있고 가성비 좋은만큼 웨이팅 각오하셔야됨. 다...  \n3                                     [불 약한 자리에 앉으면…]  \n4                              [광운대 아이스링크 갔다가 먹으면 완벽]  \n..                                                ...  \n1   [픽업하여 먹어본 사람 으로 솔직히 평가함., 가격이 사진 상 가격보다 3천원이 더...  \n2                                        [생활의달인 909회]  \n3   [석계역 거주 30년 넘었는데, 생활의 달인에 나와서 반가운 나머지 다음날 바로 갔...  \n4     [월계동 이사온지 몇 년 됐는데 여기 통닭집이 가장 맛있습니다. 저렴하기도 하구요.]  \n5   [30년째 고객으로 만족. 아들에 손자까지 잘먹음. 치킨에 유행이 있을지언정 코리안...  \n\n[834 rows x 8 columns]",
      "text/html": "<div>\n<style scoped>\n    .dataframe tbody tr th:only-of-type {\n        vertical-align: middle;\n    }\n\n    .dataframe tbody tr th {\n        vertical-align: top;\n    }\n\n    .dataframe thead th {\n        text-align: right;\n    }\n</style>\n<table border=\"1\" class=\"dataframe\">\n  <thead>\n    <tr style=\"text-align: right;\">\n      <th></th>\n      <th>0</th>\n      <th>1</th>\n      <th>2</th>\n      <th>3</th>\n      <th>4</th>\n      <th>5</th>\n      <th>6</th>\n      <th>7</th>\n    </tr>\n  </thead>\n  <tbody>\n    <tr>\n      <th>0</th>\n      <td>화로상회 광운대점</td>\n      <td>1825213275</td>\n      <td>냠냠쩝쩝박사의 맛집탐방</td>\n      <td>실버 배지</td>\n      <td>92</td>\n      <td>3.5</td>\n      <td>4.0</td>\n      <td>[맛5 가격5 매장크기3 친절함3 분위기4 위생3, 내 기준 고기 무한리필 원탑, ...</td>\n    </tr>\n    <tr>\n      <th>1</th>\n      <td>화로상회 광운대점</td>\n      <td>1071880997</td>\n      <td>히히</td>\n      <td>브론즈 배</td>\n      <td>9</td>\n      <td>4.0</td>\n      <td>0.5</td>\n      <td>[너무 저렴해서 걱정했는데, 너무 맛있게 먹고 나왔습니다:)]</td>\n    </tr>\n    <tr>\n      <th>2</th>\n      <td>화로상회 광운대점</td>\n      <td>1034272868</td>\n      <td>진실만을말하는 개굴</td>\n      <td>실버 배지</td>\n      <td>34</td>\n      <td>4.0</td>\n      <td>0.5</td>\n      <td>[역시 본점클라스... 존맛. 다만 맛있고 가성비 좋은만큼 웨이팅 각오하셔야됨. 다...</td>\n    </tr>\n    <tr>\n      <th>3</th>\n      <td>화로상회 광운대점</td>\n      <td>1363274427</td>\n      <td>이재원</td>\n      <td>실버 배지</td>\n      <td>53</td>\n      <td>3.5</td>\n      <td>3.0</td>\n      <td>[불 약한 자리에 앉으면…]</td>\n    </tr>\n    <tr>\n      <th>4</th>\n      <td>화로상회 광운대점</td>\n      <td>1289095506</td>\n      <td>고양이좋아</td>\n      <td>실버 배지</td>\n      <td>94</td>\n      <td>4.2</td>\n      <td>0.5</td>\n      <td>[광운대 아이스링크 갔다가 먹으면 완벽]</td>\n    </tr>\n    <tr>\n      <th>...</th>\n      <td>...</td>\n      <td>...</td>\n      <td>...</td>\n      <td>...</td>\n      <td>...</td>\n      <td>...</td>\n      <td>...</td>\n      <td>...</td>\n    </tr>\n    <tr>\n      <th>1</th>\n      <td>남송통닭</td>\n      <td>316219944</td>\n      <td>(알 수 없음)</td>\n      <td>실버 배지</td>\n      <td>67</td>\n      <td>1.1</td>\n      <td>1.0</td>\n      <td>[픽업하여 먹어본 사람 으로 솔직히 평가함., 가격이 사진 상 가격보다 3천원이 더...</td>\n    </tr>\n    <tr>\n      <th>2</th>\n      <td>남송통닭</td>\n      <td>510031137</td>\n      <td>Gerald B.</td>\n      <td>골드 배지</td>\n      <td>188</td>\n      <td>3.8</td>\n      <td>4.0</td>\n      <td>[생활의달인 909회]</td>\n    </tr>\n    <tr>\n      <th>3</th>\n      <td>남송통닭</td>\n      <td>1249726533</td>\n      <td>아람</td>\n      <td>브론즈 배</td>\n      <td>4</td>\n      <td>1.0</td>\n      <td>1.0</td>\n      <td>[석계역 거주 30년 넘었는데, 생활의 달인에 나와서 반가운 나머지 다음날 바로 갔...</td>\n    </tr>\n    <tr>\n      <th>4</th>\n      <td>남송통닭</td>\n      <td>256259466</td>\n      <td>히츠 앰버</td>\n      <td>실버 배지</td>\n      <td>22</td>\n      <td>4.5</td>\n      <td>0.5</td>\n      <td>[월계동 이사온지 몇 년 됐는데 여기 통닭집이 가장 맛있습니다. 저렴하기도 하구요.]</td>\n    </tr>\n    <tr>\n      <th>5</th>\n      <td>남송통닭</td>\n      <td>257140821</td>\n      <td>Ben</td>\n      <td>골드 배지</td>\n      <td>387</td>\n      <td>4.0</td>\n      <td>0.5</td>\n      <td>[30년째 고객으로 만족. 아들에 손자까지 잘먹음. 치킨에 유행이 있을지언정 코리안...</td>\n    </tr>\n  </tbody>\n</table>\n<p>834 rows × 8 columns</p>\n</div>"
     },
     "execution_count": 65,
     "metadata": {},
     "output_type": "execute_result"
    }
   ],
   "source": [
    "all_df"
   ],
   "metadata": {
    "collapsed": false,
    "ExecuteTime": {
     "end_time": "2024-05-12T17:43:23.638593Z",
     "start_time": "2024-05-12T17:43:23.612592Z"
    }
   },
   "id": "a1110b84f51d78ed",
   "execution_count": 65
  },
  {
   "cell_type": "code",
   "outputs": [],
   "source": [
    "driver.find_element(By.ID,\"info.search.page.no2\").click()\n",
    "time.sleep(2)\n",
    "kakao_cuisine_2=driver.find_elements(By.CLASS_NAME,\"PlaceItem\")\n",
    "for i in kakao_cuisine_2:\n",
    "    blind=i.find_element(By.CLASS_NAME,\"txt_blind\")\n",
    "    if blind.text:\n",
    "        continue\n",
    "    tmp=crawlcrawl(i)\n",
    "    all_df=pd.concat([all_df,tmp])\n",
    "time.sleep(2)"
   ],
   "metadata": {
    "collapsed": false,
    "ExecuteTime": {
     "end_time": "2024-05-14T11:03:49.104891Z",
     "start_time": "2024-05-14T10:53:44.734655Z"
    }
   },
   "id": "d8a9b4a392d2bcef",
   "execution_count": 58
  },
  {
   "cell_type": "code",
   "outputs": [],
   "source": [
    "driver.find_element(By.ID,\"info.search.page.no3\").click()\n",
    "time.sleep(2)\n",
    "kakao_cuisine_3=driver.find_elements(By.CLASS_NAME,\"PlaceItem\")\n",
    "for i in kakao_cuisine_3:\n",
    "    blind=i.find_element(By.CLASS_NAME,\"txt_blind\")\n",
    "    if blind.text:\n",
    "        continue\n",
    "    tmp=crawlcrawl(i)\n",
    "    all_df=pd.concat([all_df,tmp])\n",
    "time.sleep(2)"
   ],
   "metadata": {
    "collapsed": false,
    "ExecuteTime": {
     "end_time": "2024-05-14T11:43:02.561204Z",
     "start_time": "2024-05-14T11:32:02.157222Z"
    }
   },
   "id": "295521cbacc50588",
   "execution_count": 59
  },
  {
   "cell_type": "code",
   "outputs": [],
   "source": [
    "driver.find_element(By.ID,\"info.search.page.no4\").click()\n",
    "time.sleep(2)\n",
    "kakao_cuisine_4=driver.find_elements(By.CLASS_NAME,\"PlaceItem\")\n",
    "for i in kakao_cuisine_4:\n",
    "    blind=i.find_element(By.CLASS_NAME,\"txt_blind\")\n",
    "    if blind.text:\n",
    "        continue\n",
    "    tmp=crawlcrawl(i)\n",
    "    all_df=pd.concat([all_df,tmp])\n",
    "time.sleep(2)"
   ],
   "metadata": {
    "collapsed": false
   },
   "id": "da23ecb9067301af"
  },
  {
   "cell_type": "code",
   "outputs": [],
   "source": [
    "driver.find_element(By.ID,\"info.search.page.no5\").click()\n",
    "time.sleep(2)\n",
    "kakao_cuisine_5=driver.find_elements(By.CLASS_NAME,\"PlaceItem\")\n",
    "for i in kakao_cuisine_5:\n",
    "    blind=i.find_element(By.CLASS_NAME,\"txt_blind\")\n",
    "    if blind.text:\n",
    "        continue\n",
    "    tmp=crawlcrawl(i)\n",
    "    all_df=pd.concat([all_df,tmp])\n",
    "time.sleep(2)"
   ],
   "metadata": {
    "collapsed": false,
    "ExecuteTime": {
     "end_time": "2024-05-14T12:26:41.008758Z",
     "start_time": "2024-05-14T12:17:09.279280Z"
    }
   },
   "id": "bf07ebd0d564019d",
   "execution_count": 61
  },
  {
   "cell_type": "code",
   "outputs": [],
   "source": [
    "driver.find_element(By.ID,\"info.search.page.next\").click()\n",
    "time.sleep(2)\n",
    "\n",
    "driver.find_element(By.ID, \"info.search.page.no1\").click()\n",
    "time.sleep(2)\n",
    "\n",
    "kakao_cuisine_6 = driver.find_elements(By.CLASS_NAME, \"PlaceItem\")\n",
    "for i in kakao_cuisine_6:\n",
    "    blind=i.find_element(By.CLASS_NAME,\"txt_blind\")\n",
    "    if blind.text:\n",
    "        continue\n",
    "    tmp=crawlcrawl(i)\n",
    "    all_df=pd.concat([all_df,tmp])\n",
    "time.sleep(2)"
   ],
   "metadata": {
    "collapsed": false,
    "ExecuteTime": {
     "end_time": "2024-05-14T12:47:35.366082Z",
     "start_time": "2024-05-14T12:38:55.363136Z"
    }
   },
   "id": "f1f80c4820297b43",
   "execution_count": 62
  },
  {
   "cell_type": "code",
   "outputs": [
    {
     "data": {
      "text/plain": "<selenium.webdriver.remote.webelement.WebElement (session=\"961f82f4d25bc7f7b6b482f27c2628f9\", element=\"f.7947FF88CF08BC772977B046A9A309E5.d.1B8C9DE51B714A0549F9BC9018FA670E.e.26705\")>"
     },
     "execution_count": 70,
     "metadata": {},
     "output_type": "execute_result"
    }
   ],
   "source": [],
   "metadata": {
    "collapsed": false,
    "ExecuteTime": {
     "end_time": "2024-05-14T12:52:44.100029Z",
     "start_time": "2024-05-14T12:52:44.082031Z"
    }
   },
   "id": "98785b9b235362c7",
   "execution_count": 70
  },
  {
   "cell_type": "code",
   "outputs": [],
   "source": [
    "all_df_1_6=all_df"
   ],
   "metadata": {
    "collapsed": false,
    "ExecuteTime": {
     "end_time": "2024-05-14T12:56:38.319698Z",
     "start_time": "2024-05-14T12:56:38.312699Z"
    }
   },
   "id": "5ea1a01f60fae336",
   "execution_count": 77
  },
  {
   "cell_type": "code",
   "outputs": [],
   "source": [
    "all_df_1_6.to_csv(\"df_1_6.csv\")"
   ],
   "metadata": {
    "collapsed": false,
    "ExecuteTime": {
     "end_time": "2024-05-14T12:56:51.736736Z",
     "start_time": "2024-05-14T12:56:51.692738Z"
    }
   },
   "id": "a24735c366df83a0",
   "execution_count": 78
  },
  {
   "cell_type": "markdown",
   "source": [
    "카페피버 중복 값 제거하기\n",
    "user-id랑 가게이름으로 중복값 제거하면 될듯."
   ],
   "metadata": {
    "collapsed": false
   },
   "id": "3967a4deabb67117"
  },
  {
   "cell_type": "code",
   "outputs": [],
   "source": [
    "kakao_cuisine_7 = driver.find_elements(By.CLASS_NAME, \"PlaceItem\")\n"
   ],
   "metadata": {
    "collapsed": false,
    "ExecuteTime": {
     "end_time": "2024-05-14T12:59:56.530404Z",
     "start_time": "2024-05-14T12:59:56.501406Z"
    }
   },
   "id": "4ecc51a7e266eb72",
   "execution_count": 82
  },
  {
   "cell_type": "code",
   "outputs": [
    {
     "data": {
      "text/plain": "'0건'"
     },
     "execution_count": 85,
     "metadata": {},
     "output_type": "execute_result"
    }
   ],
   "source": [
    "kakao_cuisine_7[1].find_element(By.CLASS_NAME,\"numberofscore\").text"
   ],
   "metadata": {
    "collapsed": false,
    "ExecuteTime": {
     "end_time": "2024-05-14T13:00:34.583572Z",
     "start_time": "2024-05-14T13:00:34.554574Z"
    }
   },
   "id": "de6b2a44a191f4bf",
   "execution_count": 85
  },
  {
   "cell_type": "code",
   "outputs": [],
   "source": [
    "driver.find_element(By.ID, \"info.search.page.no2\").click()\n",
    "time.sleep(2)\n",
    "\n",
    "kakao_cuisine_7 = driver.find_elements(By.CLASS_NAME, \"PlaceItem\")\n",
    "for i in kakao_cuisine_7:\n",
    "    blind=i.find_element(By.CLASS_NAME,\"txt_blind\")\n",
    "    if blind.text:\n",
    "        continue\n",
    "    if i.find_element(By.CLASS_NAME,\"numberofscore\").text==\"0건\":\n",
    "        continue\n",
    "    tmp=crawlcrawl(i)\n",
    "    all_df=pd.concat([all_df,tmp])\n",
    "time.sleep(2)\n"
   ],
   "metadata": {
    "collapsed": false,
    "ExecuteTime": {
     "end_time": "2024-05-14T13:16:53.736158Z",
     "start_time": "2024-05-14T13:01:53.137711Z"
    }
   },
   "id": "d2fa21a258c8dfab",
   "execution_count": 87
  },
  {
   "cell_type": "code",
   "outputs": [],
   "source": [
    "kakao_cuisine_8 = driver.find_elements(By.CLASS_NAME, \"PlaceItem\")\n"
   ],
   "metadata": {
    "collapsed": false,
    "ExecuteTime": {
     "end_time": "2024-05-14T13:21:42.915658Z",
     "start_time": "2024-05-14T13:21:42.889661Z"
    }
   },
   "id": "8d9d0cb4503fa31b",
   "execution_count": 93
  },
  {
   "cell_type": "code",
   "outputs": [
    {
     "data": {
      "text/plain": "'즐겨찾기\\n로드뷰\\nA 사계절김밥 분식\\n4.8\\n4건\\n리뷰 5\\n서울 노원구 광운로 72\\n(지번) 월계동 379-40\\n휴무일\\n화요일\\n02-941-7789\\n상세보기'"
     },
     "execution_count": 96,
     "metadata": {},
     "output_type": "execute_result"
    }
   ],
   "source": [
    "kakao_cuisine_8[0].text"
   ],
   "metadata": {
    "collapsed": false,
    "ExecuteTime": {
     "end_time": "2024-05-14T13:21:57.089405Z",
     "start_time": "2024-05-14T13:21:57.052409Z"
    }
   },
   "id": "89deaefa45dbf653",
   "execution_count": 96
  },
  {
   "cell_type": "code",
   "outputs": [],
   "source": [
    "driver.find_element(By.ID, \"info.search.page.no3\").click()\n",
    "time.sleep(2)\n",
    "\n",
    "kakao_cuisine_8 = driver.find_elements(By.CLASS_NAME, \"PlaceItem\")\n",
    "for i in kakao_cuisine_8:\n",
    "    blind=i.find_element(By.CLASS_NAME,\"txt_blind\")\n",
    "    if blind.text:\n",
    "        continue\n",
    "    if i.find_element(By.CLASS_NAME,\"numberofscore\").text==\"0건\":\n",
    "        continue\n",
    "    tmp=crawlcrawl(i)\n",
    "    all_df=pd.concat([all_df,tmp])\n",
    "time.sleep(2)\n",
    "\n",
    "driver.find_element(By.ID, \"info.search.page.no4\").click()\n",
    "time.sleep(2)\n",
    "\n"
   ],
   "metadata": {
    "collapsed": false,
    "ExecuteTime": {
     "end_time": "2024-05-14T13:32:00.428616Z",
     "start_time": "2024-05-14T13:24:02.837451Z"
    }
   },
   "id": "203570633fa668e3",
   "execution_count": 97
  },
  {
   "cell_type": "code",
   "outputs": [],
   "source": [
    "kakao_cuisine_9 = driver.find_elements(By.CLASS_NAME, \"PlaceItem\")\n",
    "for i in kakao_cuisine_9:\n",
    "    blind=i.find_element(By.CLASS_NAME,\"txt_blind\")\n",
    "    if blind.text:\n",
    "        continue\n",
    "    if i.find_element(By.CLASS_NAME,\"numberofscore\").text==\"0건\":\n",
    "        continue\n",
    "    tmp=crawlcrawl(i)\n",
    "    all_df=pd.concat([all_df,tmp])\n",
    "time.sleep(2)\n",
    "\n",
    "driver.find_element(By.ID, \"info.search.page.no5\").click()\n",
    "time.sleep(2)\n"
   ],
   "metadata": {
    "collapsed": false,
    "ExecuteTime": {
     "end_time": "2024-05-14T13:47:59.647551Z",
     "start_time": "2024-05-14T13:43:07.692561Z"
    }
   },
   "id": "f119c0c009998f13",
   "execution_count": 98
  },
  {
   "cell_type": "code",
   "outputs": [],
   "source": [
    "\n",
    "kakao_cuisine_10 = driver.find_elements(By.CLASS_NAME, \"PlaceItem\")\n",
    "for i in kakao_cuisine_10:\n",
    "    blind=i.find_element(By.CLASS_NAME,\"txt_blind\")\n",
    "    if blind.text:\n",
    "        continue\n",
    "    if i.find_element(By.CLASS_NAME,\"numberofscore\").text==\"0건\":\n",
    "        continue\n",
    "    tmp=crawlcrawl(i)\n",
    "    all_df=pd.concat([all_df,tmp])\n",
    "time.sleep(2)\n",
    "\n"
   ],
   "metadata": {
    "collapsed": false,
    "ExecuteTime": {
     "end_time": "2024-05-14T13:53:18.963010Z",
     "start_time": "2024-05-14T13:47:59.649550Z"
    }
   },
   "id": "211fc1affaacb9c4",
   "execution_count": 99
  },
  {
   "cell_type": "code",
   "outputs": [
    {
     "data": {
      "text/plain": "            0           1             2      3   4    5    6  \\\n0   화로상회 광운대점  1825213275  냠냠쩝쩝박사의 맛집탐방  실버 배지  92  3.5  4.0   \n1   화로상회 광운대점  1071880997            히히  브론즈 배   9  4.0  0.5   \n2   화로상회 광운대점  1034272868    진실만을말하는 개굴  실버 배지  34  4.0  0.5   \n3   화로상회 광운대점  1363274427           이재원  실버 배지  53  3.5  3.0   \n4   화로상회 광운대점  1289095506         고양이좋아  실버 배지  94  4.2  0.5   \n..        ...         ...           ...    ...  ..  ...  ...   \n0   하남돼지집 석계점  2791529822           박서희  브론즈 배   1  5.0  0.5   \n1   하남돼지집 석계점  3350576225         월계동먹보  브론즈 배   1  1.0  1.0   \n2   하남돼지집 석계점  2290116892           미식견  실버 배지  21  4.3  1.0   \n3   하남돼지집 석계점   699581225          흠흠신서  브론즈 배   2  1.0  1.0   \n4   하남돼지집 석계점   699581225          흠흠신서  브론즈 배   2  1.0  1.0   \n\n                                                    7  \n0   [맛5 가격5 매장크기3 친절함3 분위기4 위생3, 내 기준 고기 무한리필 원탑, ...  \n1                  [너무 저렴해서 걱정했는데, 너무 맛있게 먹고 나왔습니다:)]  \n2   [역시 본점클라스... 존맛. 다만 맛있고 가성비 좋은만큼 웨이팅 각오하셔야됨. 다...  \n3                                     [불 약한 자리에 앉으면…]  \n4                              [광운대 아이스링크 갔다가 먹으면 완벽]  \n..                                                ...  \n0   [으휴..여기 별1개 주고 리뷰다신분들 뭐 어디 고기전문가들만 모이셨나 , 그냥 맘...  \n1   [돈값을 못함. 프랜차이즈라 기대 했는데 비싸기만 하고 평범은 커녕 오히려 별로. ...  \n2                         [고기 너무 못굽고 질기고 맛없음 직원교육 필요]  \n3   [기름 겁나 튀고, 고기에서 냄새남. 어떤건 덜 익혀서 질기고, 어떤건 태워서 딱딱...  \n4   [기름 겁나 튀고, 고기에서 냄새남. 어떤건 덜 익혀서 질기고, 어떤건 태워서 딱딱...  \n\n[4185 rows x 8 columns]",
      "text/html": "<div>\n<style scoped>\n    .dataframe tbody tr th:only-of-type {\n        vertical-align: middle;\n    }\n\n    .dataframe tbody tr th {\n        vertical-align: top;\n    }\n\n    .dataframe thead th {\n        text-align: right;\n    }\n</style>\n<table border=\"1\" class=\"dataframe\">\n  <thead>\n    <tr style=\"text-align: right;\">\n      <th></th>\n      <th>0</th>\n      <th>1</th>\n      <th>2</th>\n      <th>3</th>\n      <th>4</th>\n      <th>5</th>\n      <th>6</th>\n      <th>7</th>\n    </tr>\n  </thead>\n  <tbody>\n    <tr>\n      <th>0</th>\n      <td>화로상회 광운대점</td>\n      <td>1825213275</td>\n      <td>냠냠쩝쩝박사의 맛집탐방</td>\n      <td>실버 배지</td>\n      <td>92</td>\n      <td>3.5</td>\n      <td>4.0</td>\n      <td>[맛5 가격5 매장크기3 친절함3 분위기4 위생3, 내 기준 고기 무한리필 원탑, ...</td>\n    </tr>\n    <tr>\n      <th>1</th>\n      <td>화로상회 광운대점</td>\n      <td>1071880997</td>\n      <td>히히</td>\n      <td>브론즈 배</td>\n      <td>9</td>\n      <td>4.0</td>\n      <td>0.5</td>\n      <td>[너무 저렴해서 걱정했는데, 너무 맛있게 먹고 나왔습니다:)]</td>\n    </tr>\n    <tr>\n      <th>2</th>\n      <td>화로상회 광운대점</td>\n      <td>1034272868</td>\n      <td>진실만을말하는 개굴</td>\n      <td>실버 배지</td>\n      <td>34</td>\n      <td>4.0</td>\n      <td>0.5</td>\n      <td>[역시 본점클라스... 존맛. 다만 맛있고 가성비 좋은만큼 웨이팅 각오하셔야됨. 다...</td>\n    </tr>\n    <tr>\n      <th>3</th>\n      <td>화로상회 광운대점</td>\n      <td>1363274427</td>\n      <td>이재원</td>\n      <td>실버 배지</td>\n      <td>53</td>\n      <td>3.5</td>\n      <td>3.0</td>\n      <td>[불 약한 자리에 앉으면…]</td>\n    </tr>\n    <tr>\n      <th>4</th>\n      <td>화로상회 광운대점</td>\n      <td>1289095506</td>\n      <td>고양이좋아</td>\n      <td>실버 배지</td>\n      <td>94</td>\n      <td>4.2</td>\n      <td>0.5</td>\n      <td>[광운대 아이스링크 갔다가 먹으면 완벽]</td>\n    </tr>\n    <tr>\n      <th>...</th>\n      <td>...</td>\n      <td>...</td>\n      <td>...</td>\n      <td>...</td>\n      <td>...</td>\n      <td>...</td>\n      <td>...</td>\n      <td>...</td>\n    </tr>\n    <tr>\n      <th>0</th>\n      <td>하남돼지집 석계점</td>\n      <td>2791529822</td>\n      <td>박서희</td>\n      <td>브론즈 배</td>\n      <td>1</td>\n      <td>5.0</td>\n      <td>0.5</td>\n      <td>[으휴..여기 별1개 주고 리뷰다신분들 뭐 어디 고기전문가들만 모이셨나 , 그냥 맘...</td>\n    </tr>\n    <tr>\n      <th>1</th>\n      <td>하남돼지집 석계점</td>\n      <td>3350576225</td>\n      <td>월계동먹보</td>\n      <td>브론즈 배</td>\n      <td>1</td>\n      <td>1.0</td>\n      <td>1.0</td>\n      <td>[돈값을 못함. 프랜차이즈라 기대 했는데 비싸기만 하고 평범은 커녕 오히려 별로. ...</td>\n    </tr>\n    <tr>\n      <th>2</th>\n      <td>하남돼지집 석계점</td>\n      <td>2290116892</td>\n      <td>미식견</td>\n      <td>실버 배지</td>\n      <td>21</td>\n      <td>4.3</td>\n      <td>1.0</td>\n      <td>[고기 너무 못굽고 질기고 맛없음 직원교육 필요]</td>\n    </tr>\n    <tr>\n      <th>3</th>\n      <td>하남돼지집 석계점</td>\n      <td>699581225</td>\n      <td>흠흠신서</td>\n      <td>브론즈 배</td>\n      <td>2</td>\n      <td>1.0</td>\n      <td>1.0</td>\n      <td>[기름 겁나 튀고, 고기에서 냄새남. 어떤건 덜 익혀서 질기고, 어떤건 태워서 딱딱...</td>\n    </tr>\n    <tr>\n      <th>4</th>\n      <td>하남돼지집 석계점</td>\n      <td>699581225</td>\n      <td>흠흠신서</td>\n      <td>브론즈 배</td>\n      <td>2</td>\n      <td>1.0</td>\n      <td>1.0</td>\n      <td>[기름 겁나 튀고, 고기에서 냄새남. 어떤건 덜 익혀서 질기고, 어떤건 태워서 딱딱...</td>\n    </tr>\n  </tbody>\n</table>\n<p>4185 rows × 8 columns</p>\n</div>"
     },
     "execution_count": 100,
     "metadata": {},
     "output_type": "execute_result"
    }
   ],
   "source": [
    "all_df"
   ],
   "metadata": {
    "collapsed": false,
    "ExecuteTime": {
     "end_time": "2024-05-14T13:56:02.535740Z",
     "start_time": "2024-05-14T13:56:02.520744Z"
    }
   },
   "id": "8d7ef88f6a3d9ba4",
   "execution_count": 100
  },
  {
   "cell_type": "code",
   "outputs": [],
   "source": [
    "driver.find_element(By.ID, \"info.search.page.next\").click()\n",
    "time.sleep(2)\n",
    "\n",
    "\n",
    "driver.find_element(By.ID, \"info.search.page.no1\").click()\n",
    "time.sleep(2)\n",
    "\n",
    "kakao_cuisine_11 = driver.find_elements(By.CLASS_NAME, \"PlaceItem\")\n",
    "for i in kakao_cuisine_11:\n",
    "    blind=i.find_element(By.CLASS_NAME,\"txt_blind\")\n",
    "    if blind.text:\n",
    "        continue\n",
    "    if i.find_element(By.CLASS_NAME,\"numberofscore\").text==\"0건\":\n",
    "        continue\n",
    "    tmp=crawlcrawl(i)\n",
    "    all_df=pd.concat([all_df,tmp])\n",
    "time.sleep(2)\n"
   ],
   "metadata": {
    "collapsed": false,
    "ExecuteTime": {
     "end_time": "2024-05-14T14:04:12.683229Z",
     "start_time": "2024-05-14T13:56:08.360934Z"
    }
   },
   "id": "fafc69a545d399bb",
   "execution_count": 101
  },
  {
   "cell_type": "code",
   "outputs": [],
   "source": [
    "\n",
    "driver.find_element(By.ID, \"info.search.page.no2\").click()\n",
    "time.sleep(2)\n",
    "\n",
    "kakao_cuisine_12 = driver.find_elements(By.CLASS_NAME, \"PlaceItem\")\n",
    "for i in kakao_cuisine_12:\n",
    "    blind=i.find_element(By.CLASS_NAME,\"txt_blind\")\n",
    "    if blind.text:\n",
    "        continue\n",
    "    if i.find_element(By.CLASS_NAME,\"numberofscore\").text==\"0건\":\n",
    "        continue\n",
    "    tmp=crawlcrawl(i)\n",
    "    all_df=pd.concat([all_df,tmp])\n",
    "time.sleep(2)\n",
    "\n",
    "driver.find_element(By.ID, \"info.search.page.no3\").click()\n",
    "time.sleep(2)\n"
   ],
   "metadata": {
    "collapsed": false,
    "ExecuteTime": {
     "end_time": "2024-05-14T14:10:25.551699Z",
     "start_time": "2024-05-14T14:04:12.685232Z"
    }
   },
   "id": "e3f627d22c4b9d68",
   "execution_count": 102
  },
  {
   "cell_type": "code",
   "outputs": [],
   "source": [
    "\n",
    "kakao_cuisine_13 = driver.find_elements(By.CLASS_NAME, \"PlaceItem\")\n",
    "for i in kakao_cuisine_13:\n",
    "    blind=i.find_element(By.CLASS_NAME,\"txt_blind\")\n",
    "    if blind.text:\n",
    "        continue\n",
    "    if i.find_element(By.CLASS_NAME,\"numberofscore\").text==\"0건\":\n",
    "        continue\n",
    "    tmp=crawlcrawl(i)\n",
    "    all_df=pd.concat([all_df,tmp])\n",
    "time.sleep(2)\n",
    "\n",
    "driver.find_element(By.ID, \"info.search.page.no4\").click()\n",
    "time.sleep(2)\n"
   ],
   "metadata": {
    "collapsed": false,
    "ExecuteTime": {
     "end_time": "2024-05-14T14:17:05.311374Z",
     "start_time": "2024-05-14T14:10:25.552701Z"
    }
   },
   "id": "71d6ca05923d3bea",
   "execution_count": 103
  },
  {
   "cell_type": "code",
   "outputs": [],
   "source": [
    "\n",
    "kakao_cuisine_14 = driver.find_elements(By.CLASS_NAME, \"PlaceItem\")\n",
    "for i in kakao_cuisine_14:\n",
    "    blind=i.find_element(By.CLASS_NAME,\"txt_blind\")\n",
    "    if blind.text:\n",
    "        continue\n",
    "    if i.find_element(By.CLASS_NAME,\"numberofscore\").text==\"0건\":\n",
    "        continue\n",
    "    tmp=crawlcrawl(i)\n",
    "    all_df=pd.concat([all_df,tmp])\n",
    "time.sleep(2)\n",
    "\n",
    "driver.find_element(By.ID, \"info.search.page.no5\").click()\n",
    "time.sleep(2)\n"
   ],
   "metadata": {
    "collapsed": false,
    "ExecuteTime": {
     "end_time": "2024-05-14T14:22:50.339626Z",
     "start_time": "2024-05-14T14:17:05.313375Z"
    }
   },
   "id": "a16d23fdbd2783f7",
   "execution_count": 104
  },
  {
   "cell_type": "code",
   "outputs": [],
   "source": [
    "\n",
    "kakao_cuisine_15 = driver.find_elements(By.CLASS_NAME, \"PlaceItem\")\n",
    "for i in kakao_cuisine_15:\n",
    "    blind=i.find_element(By.CLASS_NAME,\"txt_blind\")\n",
    "    if blind.text:\n",
    "        continue\n",
    "    if i.find_element(By.CLASS_NAME,\"numberofscore\").text==\"0건\":\n",
    "        continue\n",
    "    tmp=crawlcrawl(i)\n",
    "    all_df=pd.concat([all_df,tmp])\n",
    "time.sleep(2)\n",
    "\n",
    "driver.find_element(By.ID, \"info.search.page.next\").click()\n",
    "time.sleep(2)"
   ],
   "metadata": {
    "collapsed": false,
    "ExecuteTime": {
     "end_time": "2024-05-14T14:28:20.063791Z",
     "start_time": "2024-05-14T14:22:50.340627Z"
    }
   },
   "id": "588cb6e5896645f7",
   "execution_count": 105
  },
  {
   "cell_type": "code",
   "outputs": [],
   "source": [
    "\n",
    "kakao_cuisine_16 = driver.find_elements(By.CLASS_NAME, \"PlaceItem\")\n",
    "for i in kakao_cuisine_16:\n",
    "    blind=i.find_element(By.CLASS_NAME,\"txt_blind\")\n",
    "    if blind.text:\n",
    "        continue\n",
    "    if i.find_element(By.CLASS_NAME,\"numberofscore\").text==\"0건\":\n",
    "        continue\n",
    "    tmp=crawlcrawl(i)\n",
    "    all_df=pd.concat([all_df,tmp])\n",
    "time.sleep(2)\n",
    "\n",
    "driver.find_element(By.ID, \"info.search.page.no2\").click()\n",
    "time.sleep(2)"
   ],
   "metadata": {
    "collapsed": false,
    "ExecuteTime": {
     "end_time": "2024-05-14T14:35:39.997469Z",
     "start_time": "2024-05-14T14:31:09.779119Z"
    }
   },
   "id": "cabdaa59c033ddf7",
   "execution_count": 107
  },
  {
   "cell_type": "code",
   "outputs": [],
   "source": [
    "\n",
    "kakao_cuisine_17 = driver.find_elements(By.CLASS_NAME, \"PlaceItem\")\n",
    "for i in kakao_cuisine_17:\n",
    "    blind=i.find_element(By.CLASS_NAME,\"txt_blind\")\n",
    "    if blind.text:\n",
    "        continue\n",
    "    if i.find_element(By.CLASS_NAME,\"numberofscore\").text==\"0건\":\n",
    "        continue\n",
    "    tmp=crawlcrawl(i)\n",
    "    all_df=pd.concat([all_df,tmp])\n",
    "time.sleep(2)\n",
    "\n",
    "driver.find_element(By.ID, \"info.search.page.no3\").click()\n",
    "time.sleep(2)"
   ],
   "metadata": {
    "collapsed": false,
    "ExecuteTime": {
     "end_time": "2024-05-14T14:41:40.213597Z",
     "start_time": "2024-05-14T14:35:39.999470Z"
    }
   },
   "id": "123c8b7289684310",
   "execution_count": 108
  },
  {
   "cell_type": "code",
   "outputs": [],
   "source": [
    "\n",
    "kakao_cuisine_18 = driver.find_elements(By.CLASS_NAME, \"PlaceItem\")\n",
    "for i in kakao_cuisine_18:\n",
    "    blind=i.find_element(By.CLASS_NAME,\"txt_blind\")\n",
    "    if blind.text:\n",
    "        continue\n",
    "    if i.find_element(By.CLASS_NAME,\"numberofscore\").text==\"0건\":\n",
    "        continue\n",
    "    tmp=crawlcrawl(i)\n",
    "    all_df=pd.concat([all_df,tmp])\n",
    "time.sleep(2)\n",
    "\n",
    "driver.find_element(By.ID, \"info.search.page.no4\").click()\n",
    "time.sleep(2)"
   ],
   "metadata": {
    "collapsed": false,
    "ExecuteTime": {
     "end_time": "2024-05-14T14:46:08.552594Z",
     "start_time": "2024-05-14T14:41:40.214597Z"
    }
   },
   "id": "6ba2941e6ea536f0",
   "execution_count": 109
  },
  {
   "cell_type": "code",
   "outputs": [],
   "source": [
    "\n",
    "kakao_cuisine_19 = driver.find_elements(By.CLASS_NAME, \"PlaceItem\")\n",
    "for i in kakao_cuisine_19:\n",
    "    blind=i.find_element(By.CLASS_NAME,\"txt_blind\")\n",
    "    if blind.text:\n",
    "        continue\n",
    "    if i.find_element(By.CLASS_NAME,\"numberofscore\").text==\"0건\":\n",
    "        continue\n",
    "    tmp=crawlcrawl(i)\n",
    "    all_df=pd.concat([all_df,tmp])\n",
    "time.sleep(2)\n",
    "\n",
    "driver.find_element(By.ID, \"info.search.page.no5\").click()\n",
    "time.sleep(2)"
   ],
   "metadata": {
    "collapsed": false,
    "ExecuteTime": {
     "end_time": "2024-05-14T14:50:55.139487Z",
     "start_time": "2024-05-14T14:46:08.554594Z"
    }
   },
   "id": "ba0836107986770e",
   "execution_count": 110
  },
  {
   "cell_type": "code",
   "outputs": [],
   "source": [
    "\n",
    "kakao_cuisine_20 = driver.find_elements(By.CLASS_NAME, \"PlaceItem\")\n",
    "for i in kakao_cuisine_20:\n",
    "    blind=i.find_element(By.CLASS_NAME,\"txt_blind\")\n",
    "    if blind.text:\n",
    "        continue\n",
    "    if i.find_element(By.CLASS_NAME,\"numberofscore\").text==\"0건\":\n",
    "        continue\n",
    "    tmp=crawlcrawl(i)\n",
    "    all_df=pd.concat([all_df,tmp])\n",
    "time.sleep(2)\n",
    "\n",
    "driver.find_element(By.ID, \"info.search.page.next\").click()\n",
    "time.sleep(2)"
   ],
   "metadata": {
    "collapsed": false,
    "ExecuteTime": {
     "end_time": "2024-05-14T14:56:30.091178Z",
     "start_time": "2024-05-14T14:50:55.140489Z"
    }
   },
   "id": "e1447b62584b1937",
   "execution_count": 111
  },
  {
   "cell_type": "code",
   "outputs": [
    {
     "data": {
      "text/plain": "              0           1             2      3    4    5    6  \\\n0     화로상회 광운대점  1825213275  냠냠쩝쩝박사의 맛집탐방  실버 배지   92  3.5  4.0   \n1     화로상회 광운대점  1071880997            히히  브론즈 배    9  4.0  0.5   \n2     화로상회 광운대점  1034272868    진실만을말하는 개굴  실버 배지   34  4.0  0.5   \n3     화로상회 광운대점  1363274427           이재원  실버 배지   53  3.5  3.0   \n4     화로상회 광운대점  1289095506         고양이좋아  실버 배지   94  4.2  0.5   \n..          ...         ...           ...    ...  ...  ...  ...   \n12     봉추찜닭 석계점   302424845           이정하  브론즈 배   14  3.9  3.0   \n13     봉추찜닭 석계점  1301853532        주관적댓글러  브론즈 배    5  4.0  0.5   \n14     봉추찜닭 석계점   760983481            소원  실버 배지   87  4.0  4.0   \n15     봉추찜닭 석계점  1116073766          wjap  실버 배지  535  2.5  3.0   \n0   미치게 먹고 싶은 날   261270361         낭만여행가  실버 배지   42  4.2  4.0   \n\n                                                    7  \n0   [맛5 가격5 매장크기3 친절함3 분위기4 위생3, 내 기준 고기 무한리필 원탑, ...  \n1                  [너무 저렴해서 걱정했는데, 너무 맛있게 먹고 나왔습니다:)]  \n2   [역시 본점클라스... 존맛. 다만 맛있고 가성비 좋은만큼 웨이팅 각오하셔야됨. 다...  \n3                                     [불 약한 자리에 앉으면…]  \n4                              [광운대 아이스링크 갔다가 먹으면 완벽]  \n..                                                ...  \n12                                                 []  \n13  [배달 빠름 7분거리에 35분걸림(조리시간까지), 배달료 없음!!! 사장님이 직접 ...  \n14         [맛은 있는데 장사안하는집같은 어두컴컴 분위기 그래도 찜닭좋아해서 가끔가요]  \n15                                             [been]  \n0                      [대형티비가 있어서 스포츠 보면서 술한잔 하기 좋아요]  \n\n[6134 rows x 8 columns]",
      "text/html": "<div>\n<style scoped>\n    .dataframe tbody tr th:only-of-type {\n        vertical-align: middle;\n    }\n\n    .dataframe tbody tr th {\n        vertical-align: top;\n    }\n\n    .dataframe thead th {\n        text-align: right;\n    }\n</style>\n<table border=\"1\" class=\"dataframe\">\n  <thead>\n    <tr style=\"text-align: right;\">\n      <th></th>\n      <th>0</th>\n      <th>1</th>\n      <th>2</th>\n      <th>3</th>\n      <th>4</th>\n      <th>5</th>\n      <th>6</th>\n      <th>7</th>\n    </tr>\n  </thead>\n  <tbody>\n    <tr>\n      <th>0</th>\n      <td>화로상회 광운대점</td>\n      <td>1825213275</td>\n      <td>냠냠쩝쩝박사의 맛집탐방</td>\n      <td>실버 배지</td>\n      <td>92</td>\n      <td>3.5</td>\n      <td>4.0</td>\n      <td>[맛5 가격5 매장크기3 친절함3 분위기4 위생3, 내 기준 고기 무한리필 원탑, ...</td>\n    </tr>\n    <tr>\n      <th>1</th>\n      <td>화로상회 광운대점</td>\n      <td>1071880997</td>\n      <td>히히</td>\n      <td>브론즈 배</td>\n      <td>9</td>\n      <td>4.0</td>\n      <td>0.5</td>\n      <td>[너무 저렴해서 걱정했는데, 너무 맛있게 먹고 나왔습니다:)]</td>\n    </tr>\n    <tr>\n      <th>2</th>\n      <td>화로상회 광운대점</td>\n      <td>1034272868</td>\n      <td>진실만을말하는 개굴</td>\n      <td>실버 배지</td>\n      <td>34</td>\n      <td>4.0</td>\n      <td>0.5</td>\n      <td>[역시 본점클라스... 존맛. 다만 맛있고 가성비 좋은만큼 웨이팅 각오하셔야됨. 다...</td>\n    </tr>\n    <tr>\n      <th>3</th>\n      <td>화로상회 광운대점</td>\n      <td>1363274427</td>\n      <td>이재원</td>\n      <td>실버 배지</td>\n      <td>53</td>\n      <td>3.5</td>\n      <td>3.0</td>\n      <td>[불 약한 자리에 앉으면…]</td>\n    </tr>\n    <tr>\n      <th>4</th>\n      <td>화로상회 광운대점</td>\n      <td>1289095506</td>\n      <td>고양이좋아</td>\n      <td>실버 배지</td>\n      <td>94</td>\n      <td>4.2</td>\n      <td>0.5</td>\n      <td>[광운대 아이스링크 갔다가 먹으면 완벽]</td>\n    </tr>\n    <tr>\n      <th>...</th>\n      <td>...</td>\n      <td>...</td>\n      <td>...</td>\n      <td>...</td>\n      <td>...</td>\n      <td>...</td>\n      <td>...</td>\n      <td>...</td>\n    </tr>\n    <tr>\n      <th>12</th>\n      <td>봉추찜닭 석계점</td>\n      <td>302424845</td>\n      <td>이정하</td>\n      <td>브론즈 배</td>\n      <td>14</td>\n      <td>3.9</td>\n      <td>3.0</td>\n      <td>[]</td>\n    </tr>\n    <tr>\n      <th>13</th>\n      <td>봉추찜닭 석계점</td>\n      <td>1301853532</td>\n      <td>주관적댓글러</td>\n      <td>브론즈 배</td>\n      <td>5</td>\n      <td>4.0</td>\n      <td>0.5</td>\n      <td>[배달 빠름 7분거리에 35분걸림(조리시간까지), 배달료 없음!!! 사장님이 직접 ...</td>\n    </tr>\n    <tr>\n      <th>14</th>\n      <td>봉추찜닭 석계점</td>\n      <td>760983481</td>\n      <td>소원</td>\n      <td>실버 배지</td>\n      <td>87</td>\n      <td>4.0</td>\n      <td>4.0</td>\n      <td>[맛은 있는데 장사안하는집같은 어두컴컴 분위기 그래도 찜닭좋아해서 가끔가요]</td>\n    </tr>\n    <tr>\n      <th>15</th>\n      <td>봉추찜닭 석계점</td>\n      <td>1116073766</td>\n      <td>wjap</td>\n      <td>실버 배지</td>\n      <td>535</td>\n      <td>2.5</td>\n      <td>3.0</td>\n      <td>[been]</td>\n    </tr>\n    <tr>\n      <th>0</th>\n      <td>미치게 먹고 싶은 날</td>\n      <td>261270361</td>\n      <td>낭만여행가</td>\n      <td>실버 배지</td>\n      <td>42</td>\n      <td>4.2</td>\n      <td>4.0</td>\n      <td>[대형티비가 있어서 스포츠 보면서 술한잔 하기 좋아요]</td>\n    </tr>\n  </tbody>\n</table>\n<p>6134 rows × 8 columns</p>\n</div>"
     },
     "execution_count": 112,
     "metadata": {},
     "output_type": "execute_result"
    }
   ],
   "source": [
    "all_df"
   ],
   "metadata": {
    "collapsed": false,
    "ExecuteTime": {
     "end_time": "2024-05-14T15:00:53.671619Z",
     "start_time": "2024-05-14T15:00:53.651622Z"
    }
   },
   "id": "c8b53f4f8d17cd9a",
   "execution_count": 112
  },
  {
   "cell_type": "code",
   "outputs": [],
   "source": [
    "all_df.to_csv(\"all_df.csv\")"
   ],
   "metadata": {
    "collapsed": false,
    "ExecuteTime": {
     "end_time": "2024-05-14T15:01:13.786821Z",
     "start_time": "2024-05-14T15:01:13.740822Z"
    }
   },
   "id": "cc49b25ffc0ea223",
   "execution_count": 113
  },
  {
   "cell_type": "code",
   "outputs": [],
   "source": [
    "driver.find_element(By.ID, \"info.search.page.no1\").click()\n",
    "kakao_cuisine_16 = driver.find_elements(By.CLASS_NAME, \"PlaceItem\")\n",
    "for i in kakao_cuisine_16:\n",
    "    blind=i.find_element(By.CLASS_NAME,\"txt_blind\")\n",
    "    if blind.text:\n",
    "        continue\n",
    "    tmp=crawlcrawl(i)\n",
    "    all_df=pd.concat([all_df,tmp])\n",
    "time.sleep(2)\n",
    "\n",
    "driver.find_element(By.ID, \"info.search.page.no2\").click()\n",
    "kakao_cuisine_17 = driver.find_elements(By.CLASS_NAME, \"PlaceItem\")\n",
    "for i in kakao_cuisine_17:\n",
    "    blind=i.find_element(By.CLASS_NAME,\"txt_blind\")\n",
    "    if blind.text:\n",
    "        continue\n",
    "    tmp=crawlcrawl(i)\n",
    "    all_df=pd.concat([all_df,tmp])\n",
    "time.sleep(2)\n",
    "\n",
    "driver.find_element(By.ID, \"info.search.page.no3\").click()\n",
    "kakao_cuisine_18 = driver.find_elements(By.CLASS_NAME, \"PlaceItem\")\n",
    "for i in kakao_cuisine_18:\n",
    "    blind=i.find_element(By.CLASS_NAME,\"txt_blind\")\n",
    "    if blind.text:\n",
    "        continue\n",
    "    tmp=crawlcrawl(i)\n",
    "    all_df=pd.concat([all_df,tmp])\n",
    "time.sleep(2)\n",
    "\n",
    "driver.find_element(By.ID, \"info.search.page.no4\").click()\n",
    "kakao_cuisine_19 = driver.find_elements(By.CLASS_NAME, \"PlaceItem\")\n",
    "for i in kakao_cuisine_19:\n",
    "    blind=i.find_element(By.CLASS_NAME,\"txt_blind\")\n",
    "    if blind.text:\n",
    "        continue\n",
    "    tmp=crawlcrawl(i)\n",
    "    all_df=pd.concat([all_df,tmp])\n",
    "time.sleep(2)\n",
    "\n",
    "driver.find_element(By.ID, \"info.search.page.no5\").click()\n",
    "kakao_cuisine_20 = driver.find_elements(By.CLASS_NAME, \"PlaceItem\")\n",
    "for i in kakao_cuisine_20:\n",
    "    blind=i.find_element(By.CLASS_NAME,\"txt_blind\")\n",
    "    if blind.text:\n",
    "        continue\n",
    "    tmp=crawlcrawl(i)\n",
    "    all_df=pd.concat([all_df,tmp])\n",
    "time.sleep(2)\n",
    "\n",
    "driver.find_element(By.ID, \"info.search.page.next\").click()\n",
    "time.sleep(2)"
   ],
   "metadata": {
    "collapsed": false,
    "ExecuteTime": {
     "end_time": "2024-05-12T17:40:22.811516Z",
     "start_time": "2024-05-12T17:40:10.497248Z"
    }
   },
   "id": "a917819fbd27e7e1",
   "execution_count": 55
  },
  {
   "cell_type": "code",
   "outputs": [],
   "source": [
    "all_df.to_csv(\"all_df1-2.csv\")"
   ],
   "metadata": {
    "collapsed": false,
    "ExecuteTime": {
     "end_time": "2024-05-12T18:22:09.637654Z",
     "start_time": "2024-05-12T18:22:09.616654Z"
    }
   },
   "id": "69e47eaae7a94bcc",
   "execution_count": 79
  },
  {
   "cell_type": "code",
   "outputs": [],
   "source": [],
   "metadata": {
    "collapsed": false
   },
   "id": "5768b2d885e0cbea"
  },
  {
   "cell_type": "code",
   "outputs": [
    {
     "ename": "StaleElementReferenceException",
     "evalue": "Message: stale element reference: stale element not found in the current frame\n  (Session info: chrome=124.0.6367.201); For documentation on this error, please visit: https://www.selenium.dev/documentation/webdriver/troubleshooting/errors#stale-element-reference-exception\nStacktrace:\n\tGetHandleVerifier [0x00007FF6BA761562+60802]\n\t(No symbol) [0x00007FF6BA6DAC62]\n\t(No symbol) [0x00007FF6BA597CE4]\n\t(No symbol) [0x00007FF6BA59DE26]\n\t(No symbol) [0x00007FF6BA5A01DB]\n\t(No symbol) [0x00007FF6BA5A0280]\n\t(No symbol) [0x00007FF6BA5E6A11]\n\t(No symbol) [0x00007FF6BA5E6E1C]\n\t(No symbol) [0x00007FF6BA5DA8FC]\n\t(No symbol) [0x00007FF6BA60ABBF]\n\t(No symbol) [0x00007FF6BA5DA7C6]\n\t(No symbol) [0x00007FF6BA60AD90]\n\t(No symbol) [0x00007FF6BA62A224]\n\t(No symbol) [0x00007FF6BA60A923]\n\t(No symbol) [0x00007FF6BA5D8FEC]\n\t(No symbol) [0x00007FF6BA5D9C21]\n\tGetHandleVerifier [0x00007FF6BAA641FD+3217949]\n\tGetHandleVerifier [0x00007FF6BAAA6197+3488183]\n\tGetHandleVerifier [0x00007FF6BAA9F11F+3459391]\n\tGetHandleVerifier [0x00007FF6BA81B926+823622]\n\t(No symbol) [0x00007FF6BA6E5FFF]\n\t(No symbol) [0x00007FF6BA6E0F24]\n\t(No symbol) [0x00007FF6BA6E10B2]\n\t(No symbol) [0x00007FF6BA6D1904]\n\tBaseThreadInitThunk [0x00007FFDC6C47344+20]\n\tRtlUserThreadStart [0x00007FFDC7A626B1+33]\n",
     "output_type": "error",
     "traceback": [
      "\u001B[1;31m---------------------------------------------------------------------------\u001B[0m",
      "\u001B[1;31mStaleElementReferenceException\u001B[0m            Traceback (most recent call last)",
      "Cell \u001B[1;32mIn[59], line 3\u001B[0m\n\u001B[0;32m      1\u001B[0m driver\u001B[38;5;241m.\u001B[39mfind_element(By\u001B[38;5;241m.\u001B[39mID,\u001B[38;5;124m\"\u001B[39m\u001B[38;5;124minfo.search.page.no2\u001B[39m\u001B[38;5;124m\"\u001B[39m)\u001B[38;5;241m.\u001B[39mclick()\n\u001B[0;32m      2\u001B[0m \u001B[38;5;28;01mfor\u001B[39;00m i \u001B[38;5;129;01min\u001B[39;00m kakao_cuisine_2:\n\u001B[1;32m----> 3\u001B[0m     blind\u001B[38;5;241m=\u001B[39m\u001B[43mi\u001B[49m\u001B[38;5;241;43m.\u001B[39;49m\u001B[43mfind_element\u001B[49m\u001B[43m(\u001B[49m\u001B[43mBy\u001B[49m\u001B[38;5;241;43m.\u001B[39;49m\u001B[43mCLASS_NAME\u001B[49m\u001B[43m,\u001B[49m\u001B[38;5;124;43m\"\u001B[39;49m\u001B[38;5;124;43mtxt_blind\u001B[39;49m\u001B[38;5;124;43m\"\u001B[39;49m\u001B[43m)\u001B[49m\n\u001B[0;32m      4\u001B[0m     \u001B[38;5;28;01mif\u001B[39;00m blind\u001B[38;5;241m.\u001B[39mtext:\n\u001B[0;32m      5\u001B[0m         \u001B[38;5;28;01mcontinue\u001B[39;00m\n",
      "File \u001B[1;32m~\\anaconda3\\envs\\repo\\lib\\site-packages\\selenium\\webdriver\\remote\\webelement.py:416\u001B[0m, in \u001B[0;36mWebElement.find_element\u001B[1;34m(self, by, value)\u001B[0m\n\u001B[0;32m    413\u001B[0m     by \u001B[38;5;241m=\u001B[39m By\u001B[38;5;241m.\u001B[39mCSS_SELECTOR\n\u001B[0;32m    414\u001B[0m     value \u001B[38;5;241m=\u001B[39m \u001B[38;5;124mf\u001B[39m\u001B[38;5;124m'\u001B[39m\u001B[38;5;124m[name=\u001B[39m\u001B[38;5;124m\"\u001B[39m\u001B[38;5;132;01m{\u001B[39;00mvalue\u001B[38;5;132;01m}\u001B[39;00m\u001B[38;5;124m\"\u001B[39m\u001B[38;5;124m]\u001B[39m\u001B[38;5;124m'\u001B[39m\n\u001B[1;32m--> 416\u001B[0m \u001B[38;5;28;01mreturn\u001B[39;00m \u001B[38;5;28;43mself\u001B[39;49m\u001B[38;5;241;43m.\u001B[39;49m\u001B[43m_execute\u001B[49m\u001B[43m(\u001B[49m\u001B[43mCommand\u001B[49m\u001B[38;5;241;43m.\u001B[39;49m\u001B[43mFIND_CHILD_ELEMENT\u001B[49m\u001B[43m,\u001B[49m\u001B[43m \u001B[49m\u001B[43m{\u001B[49m\u001B[38;5;124;43m\"\u001B[39;49m\u001B[38;5;124;43musing\u001B[39;49m\u001B[38;5;124;43m\"\u001B[39;49m\u001B[43m:\u001B[49m\u001B[43m \u001B[49m\u001B[43mby\u001B[49m\u001B[43m,\u001B[49m\u001B[43m \u001B[49m\u001B[38;5;124;43m\"\u001B[39;49m\u001B[38;5;124;43mvalue\u001B[39;49m\u001B[38;5;124;43m\"\u001B[39;49m\u001B[43m:\u001B[49m\u001B[43m \u001B[49m\u001B[43mvalue\u001B[49m\u001B[43m}\u001B[49m\u001B[43m)\u001B[49m[\u001B[38;5;124m\"\u001B[39m\u001B[38;5;124mvalue\u001B[39m\u001B[38;5;124m\"\u001B[39m]\n",
      "File \u001B[1;32m~\\anaconda3\\envs\\repo\\lib\\site-packages\\selenium\\webdriver\\remote\\webelement.py:394\u001B[0m, in \u001B[0;36mWebElement._execute\u001B[1;34m(self, command, params)\u001B[0m\n\u001B[0;32m    392\u001B[0m     params \u001B[38;5;241m=\u001B[39m {}\n\u001B[0;32m    393\u001B[0m params[\u001B[38;5;124m\"\u001B[39m\u001B[38;5;124mid\u001B[39m\u001B[38;5;124m\"\u001B[39m] \u001B[38;5;241m=\u001B[39m \u001B[38;5;28mself\u001B[39m\u001B[38;5;241m.\u001B[39m_id\n\u001B[1;32m--> 394\u001B[0m \u001B[38;5;28;01mreturn\u001B[39;00m \u001B[38;5;28;43mself\u001B[39;49m\u001B[38;5;241;43m.\u001B[39;49m\u001B[43m_parent\u001B[49m\u001B[38;5;241;43m.\u001B[39;49m\u001B[43mexecute\u001B[49m\u001B[43m(\u001B[49m\u001B[43mcommand\u001B[49m\u001B[43m,\u001B[49m\u001B[43m \u001B[49m\u001B[43mparams\u001B[49m\u001B[43m)\u001B[49m\n",
      "File \u001B[1;32m~\\anaconda3\\envs\\repo\\lib\\site-packages\\selenium\\webdriver\\remote\\webdriver.py:344\u001B[0m, in \u001B[0;36mWebDriver.execute\u001B[1;34m(self, driver_command, params)\u001B[0m\n\u001B[0;32m    342\u001B[0m response \u001B[38;5;241m=\u001B[39m \u001B[38;5;28mself\u001B[39m\u001B[38;5;241m.\u001B[39mcommand_executor\u001B[38;5;241m.\u001B[39mexecute(driver_command, params)\n\u001B[0;32m    343\u001B[0m \u001B[38;5;28;01mif\u001B[39;00m response:\n\u001B[1;32m--> 344\u001B[0m     \u001B[38;5;28;43mself\u001B[39;49m\u001B[38;5;241;43m.\u001B[39;49m\u001B[43merror_handler\u001B[49m\u001B[38;5;241;43m.\u001B[39;49m\u001B[43mcheck_response\u001B[49m\u001B[43m(\u001B[49m\u001B[43mresponse\u001B[49m\u001B[43m)\u001B[49m\n\u001B[0;32m    345\u001B[0m     response[\u001B[38;5;124m\"\u001B[39m\u001B[38;5;124mvalue\u001B[39m\u001B[38;5;124m\"\u001B[39m] \u001B[38;5;241m=\u001B[39m \u001B[38;5;28mself\u001B[39m\u001B[38;5;241m.\u001B[39m_unwrap_value(response\u001B[38;5;241m.\u001B[39mget(\u001B[38;5;124m\"\u001B[39m\u001B[38;5;124mvalue\u001B[39m\u001B[38;5;124m\"\u001B[39m, \u001B[38;5;28;01mNone\u001B[39;00m))\n\u001B[0;32m    346\u001B[0m     \u001B[38;5;28;01mreturn\u001B[39;00m response\n",
      "File \u001B[1;32m~\\anaconda3\\envs\\repo\\lib\\site-packages\\selenium\\webdriver\\remote\\errorhandler.py:229\u001B[0m, in \u001B[0;36mErrorHandler.check_response\u001B[1;34m(self, response)\u001B[0m\n\u001B[0;32m    227\u001B[0m         alert_text \u001B[38;5;241m=\u001B[39m value[\u001B[38;5;124m\"\u001B[39m\u001B[38;5;124malert\u001B[39m\u001B[38;5;124m\"\u001B[39m]\u001B[38;5;241m.\u001B[39mget(\u001B[38;5;124m\"\u001B[39m\u001B[38;5;124mtext\u001B[39m\u001B[38;5;124m\"\u001B[39m)\n\u001B[0;32m    228\u001B[0m     \u001B[38;5;28;01mraise\u001B[39;00m exception_class(message, screen, stacktrace, alert_text)  \u001B[38;5;66;03m# type: ignore[call-arg]  # mypy is not smart enough here\u001B[39;00m\n\u001B[1;32m--> 229\u001B[0m \u001B[38;5;28;01mraise\u001B[39;00m exception_class(message, screen, stacktrace)\n",
      "\u001B[1;31mStaleElementReferenceException\u001B[0m: Message: stale element reference: stale element not found in the current frame\n  (Session info: chrome=124.0.6367.201); For documentation on this error, please visit: https://www.selenium.dev/documentation/webdriver/troubleshooting/errors#stale-element-reference-exception\nStacktrace:\n\tGetHandleVerifier [0x00007FF6BA761562+60802]\n\t(No symbol) [0x00007FF6BA6DAC62]\n\t(No symbol) [0x00007FF6BA597CE4]\n\t(No symbol) [0x00007FF6BA59DE26]\n\t(No symbol) [0x00007FF6BA5A01DB]\n\t(No symbol) [0x00007FF6BA5A0280]\n\t(No symbol) [0x00007FF6BA5E6A11]\n\t(No symbol) [0x00007FF6BA5E6E1C]\n\t(No symbol) [0x00007FF6BA5DA8FC]\n\t(No symbol) [0x00007FF6BA60ABBF]\n\t(No symbol) [0x00007FF6BA5DA7C6]\n\t(No symbol) [0x00007FF6BA60AD90]\n\t(No symbol) [0x00007FF6BA62A224]\n\t(No symbol) [0x00007FF6BA60A923]\n\t(No symbol) [0x00007FF6BA5D8FEC]\n\t(No symbol) [0x00007FF6BA5D9C21]\n\tGetHandleVerifier [0x00007FF6BAA641FD+3217949]\n\tGetHandleVerifier [0x00007FF6BAAA6197+3488183]\n\tGetHandleVerifier [0x00007FF6BAA9F11F+3459391]\n\tGetHandleVerifier [0x00007FF6BA81B926+823622]\n\t(No symbol) [0x00007FF6BA6E5FFF]\n\t(No symbol) [0x00007FF6BA6E0F24]\n\t(No symbol) [0x00007FF6BA6E10B2]\n\t(No symbol) [0x00007FF6BA6D1904]\n\tBaseThreadInitThunk [0x00007FFDC6C47344+20]\n\tRtlUserThreadStart [0x00007FFDC7A626B1+33]\n"
     ]
    }
   ],
   "source": [
    "driver.find_element(By.ID,\"info.search.page.no2\").click()\n",
    "for i in kakao_cuisine_2:\n",
    "    blind=i.find_element(By.CLASS_NAME,\"txt_blind\")\n",
    "    if blind.text:\n",
    "        continue\n",
    "    tmp=crawlcrawl(i)\n",
    "    all_df_no_1=pd.concat([all_df,tmp])\n"
   ],
   "metadata": {
    "collapsed": false,
    "ExecuteTime": {
     "end_time": "2024-05-12T17:40:59.106922Z",
     "start_time": "2024-05-12T17:40:58.997925Z"
    }
   },
   "id": "c218f3dfd27c92d6",
   "execution_count": 59
  },
  {
   "cell_type": "code",
   "outputs": [
    {
     "data": {
      "text/plain": "            0           1             2      3    4    5    6  \\\n0   화로상회 광운대점  1825213275  냠냠쩝쩝박사의 맛집탐방  실버 배지   92  3.5  4.0   \n1   화로상회 광운대점  1071880997            히히  브론즈 배    9  4.0  0.5   \n2   화로상회 광운대점  1034272868    진실만을말하는 개굴  실버 배지   34  4.0  0.5   \n3   화로상회 광운대점  1363274427           이재원  실버 배지   53  3.5  3.0   \n4   화로상회 광운대점  1289095506         고양이좋아  실버 배지   94  4.2  0.5   \n..        ...         ...           ...    ...  ...  ...  ...   \n6     설빙 광운대점  1580063626           최나은  골드 배지  201  4.1  0.5   \n7     설빙 광운대점  1226027760            연이  브론즈 배    2  1.0  1.0   \n8     설빙 광운대점   767918895           성민제  브론즈 배    8  3.3  2.0   \n9     설빙 광운대점   767918895           성민제  브론즈 배    8  3.3  2.0   \n10    설빙 광운대점   767918895           성민제  브론즈 배    8  3.3  2.0   \n\n                                                    7  \n0   [맛5 가격5 매장크기3 친절함3 분위기4 위생3, 내 기준 고기 무한리필 원탑, ...  \n1                  [너무 저렴해서 걱정했는데, 너무 맛있게 먹고 나왔습니다:)]  \n2   [역시 본점클라스... 존맛. 다만 맛있고 가성비 좋은만큼 웨이팅 각오하셔야됨. 다...  \n3                                     [불 약한 자리에 앉으면…]  \n4                              [광운대 아이스링크 갔다가 먹으면 완벽]  \n..                                                ...  \n6   [잉 요기 좋은뎅... 다른 지점보다 양이 적은 것도 아니고 뭐 누락된 적도 없고 ...  \n7                       [오래걸려서 아이스팩 넣어준다고했는데 아무것도없네요]  \n8                             [떡볶이 포장했는데 심하게 터져잇네요 ㅜ]  \n9                             [떡볶이 포장했는데 심하게 터져잇네요 ㅜ]  \n10                            [떡볶이 포장했는데 심하게 터져잇네요 ㅜ]  \n\n[1629 rows x 8 columns]",
      "text/html": "<div>\n<style scoped>\n    .dataframe tbody tr th:only-of-type {\n        vertical-align: middle;\n    }\n\n    .dataframe tbody tr th {\n        vertical-align: top;\n    }\n\n    .dataframe thead th {\n        text-align: right;\n    }\n</style>\n<table border=\"1\" class=\"dataframe\">\n  <thead>\n    <tr style=\"text-align: right;\">\n      <th></th>\n      <th>0</th>\n      <th>1</th>\n      <th>2</th>\n      <th>3</th>\n      <th>4</th>\n      <th>5</th>\n      <th>6</th>\n      <th>7</th>\n    </tr>\n  </thead>\n  <tbody>\n    <tr>\n      <th>0</th>\n      <td>화로상회 광운대점</td>\n      <td>1825213275</td>\n      <td>냠냠쩝쩝박사의 맛집탐방</td>\n      <td>실버 배지</td>\n      <td>92</td>\n      <td>3.5</td>\n      <td>4.0</td>\n      <td>[맛5 가격5 매장크기3 친절함3 분위기4 위생3, 내 기준 고기 무한리필 원탑, ...</td>\n    </tr>\n    <tr>\n      <th>1</th>\n      <td>화로상회 광운대점</td>\n      <td>1071880997</td>\n      <td>히히</td>\n      <td>브론즈 배</td>\n      <td>9</td>\n      <td>4.0</td>\n      <td>0.5</td>\n      <td>[너무 저렴해서 걱정했는데, 너무 맛있게 먹고 나왔습니다:)]</td>\n    </tr>\n    <tr>\n      <th>2</th>\n      <td>화로상회 광운대점</td>\n      <td>1034272868</td>\n      <td>진실만을말하는 개굴</td>\n      <td>실버 배지</td>\n      <td>34</td>\n      <td>4.0</td>\n      <td>0.5</td>\n      <td>[역시 본점클라스... 존맛. 다만 맛있고 가성비 좋은만큼 웨이팅 각오하셔야됨. 다...</td>\n    </tr>\n    <tr>\n      <th>3</th>\n      <td>화로상회 광운대점</td>\n      <td>1363274427</td>\n      <td>이재원</td>\n      <td>실버 배지</td>\n      <td>53</td>\n      <td>3.5</td>\n      <td>3.0</td>\n      <td>[불 약한 자리에 앉으면…]</td>\n    </tr>\n    <tr>\n      <th>4</th>\n      <td>화로상회 광운대점</td>\n      <td>1289095506</td>\n      <td>고양이좋아</td>\n      <td>실버 배지</td>\n      <td>94</td>\n      <td>4.2</td>\n      <td>0.5</td>\n      <td>[광운대 아이스링크 갔다가 먹으면 완벽]</td>\n    </tr>\n    <tr>\n      <th>...</th>\n      <td>...</td>\n      <td>...</td>\n      <td>...</td>\n      <td>...</td>\n      <td>...</td>\n      <td>...</td>\n      <td>...</td>\n      <td>...</td>\n    </tr>\n    <tr>\n      <th>6</th>\n      <td>설빙 광운대점</td>\n      <td>1580063626</td>\n      <td>최나은</td>\n      <td>골드 배지</td>\n      <td>201</td>\n      <td>4.1</td>\n      <td>0.5</td>\n      <td>[잉 요기 좋은뎅... 다른 지점보다 양이 적은 것도 아니고 뭐 누락된 적도 없고 ...</td>\n    </tr>\n    <tr>\n      <th>7</th>\n      <td>설빙 광운대점</td>\n      <td>1226027760</td>\n      <td>연이</td>\n      <td>브론즈 배</td>\n      <td>2</td>\n      <td>1.0</td>\n      <td>1.0</td>\n      <td>[오래걸려서 아이스팩 넣어준다고했는데 아무것도없네요]</td>\n    </tr>\n    <tr>\n      <th>8</th>\n      <td>설빙 광운대점</td>\n      <td>767918895</td>\n      <td>성민제</td>\n      <td>브론즈 배</td>\n      <td>8</td>\n      <td>3.3</td>\n      <td>2.0</td>\n      <td>[떡볶이 포장했는데 심하게 터져잇네요 ㅜ]</td>\n    </tr>\n    <tr>\n      <th>9</th>\n      <td>설빙 광운대점</td>\n      <td>767918895</td>\n      <td>성민제</td>\n      <td>브론즈 배</td>\n      <td>8</td>\n      <td>3.3</td>\n      <td>2.0</td>\n      <td>[떡볶이 포장했는데 심하게 터져잇네요 ㅜ]</td>\n    </tr>\n    <tr>\n      <th>10</th>\n      <td>설빙 광운대점</td>\n      <td>767918895</td>\n      <td>성민제</td>\n      <td>브론즈 배</td>\n      <td>8</td>\n      <td>3.3</td>\n      <td>2.0</td>\n      <td>[떡볶이 포장했는데 심하게 터져잇네요 ㅜ]</td>\n    </tr>\n  </tbody>\n</table>\n<p>1629 rows × 8 columns</p>\n</div>"
     },
     "execution_count": 78,
     "metadata": {},
     "output_type": "execute_result"
    }
   ],
   "source": [
    "all_df"
   ],
   "metadata": {
    "collapsed": false,
    "ExecuteTime": {
     "end_time": "2024-05-12T18:21:03.948093Z",
     "start_time": "2024-05-12T18:21:03.931089Z"
    }
   },
   "id": "969e44657e1832eb",
   "execution_count": 78
  },
  {
   "cell_type": "code",
   "outputs": [
    {
     "ename": "StaleElementReferenceException",
     "evalue": "Message: stale element reference: stale element not found in the current frame\n  (Session info: chrome=124.0.6367.201); For documentation on this error, please visit: https://www.selenium.dev/documentation/webdriver/troubleshooting/errors#stale-element-reference-exception\nStacktrace:\n\tGetHandleVerifier [0x00007FF6BA761562+60802]\n\t(No symbol) [0x00007FF6BA6DAC62]\n\t(No symbol) [0x00007FF6BA597CE4]\n\t(No symbol) [0x00007FF6BA59DE26]\n\t(No symbol) [0x00007FF6BA5A01DB]\n\t(No symbol) [0x00007FF6BA5A0280]\n\t(No symbol) [0x00007FF6BA5E6A11]\n\t(No symbol) [0x00007FF6BA5E6E1C]\n\t(No symbol) [0x00007FF6BA5DA8FC]\n\t(No symbol) [0x00007FF6BA60ABBF]\n\t(No symbol) [0x00007FF6BA5DA7C6]\n\t(No symbol) [0x00007FF6BA60AD90]\n\t(No symbol) [0x00007FF6BA62A224]\n\t(No symbol) [0x00007FF6BA60A923]\n\t(No symbol) [0x00007FF6BA5D8FEC]\n\t(No symbol) [0x00007FF6BA5D9C21]\n\tGetHandleVerifier [0x00007FF6BAA641FD+3217949]\n\tGetHandleVerifier [0x00007FF6BAAA6197+3488183]\n\tGetHandleVerifier [0x00007FF6BAA9F11F+3459391]\n\tGetHandleVerifier [0x00007FF6BA81B926+823622]\n\t(No symbol) [0x00007FF6BA6E5FFF]\n\t(No symbol) [0x00007FF6BA6E0F24]\n\t(No symbol) [0x00007FF6BA6E10B2]\n\t(No symbol) [0x00007FF6BA6D1904]\n\tBaseThreadInitThunk [0x00007FFDC6C47344+20]\n\tRtlUserThreadStart [0x00007FFDC7A626B1+33]\n",
     "output_type": "error",
     "traceback": [
      "\u001B[1;31m---------------------------------------------------------------------------\u001B[0m",
      "\u001B[1;31mStaleElementReferenceException\u001B[0m            Traceback (most recent call last)",
      "Cell \u001B[1;32mIn[58], line 4\u001B[0m\n\u001B[0;32m      2\u001B[0m driver\u001B[38;5;241m.\u001B[39mfind_element(By\u001B[38;5;241m.\u001B[39mID,\u001B[38;5;124m\"\u001B[39m\u001B[38;5;124minfo.search.page.no2\u001B[39m\u001B[38;5;124m\"\u001B[39m)\u001B[38;5;241m.\u001B[39mclick()\n\u001B[0;32m      3\u001B[0m \u001B[38;5;28;01mfor\u001B[39;00m i \u001B[38;5;129;01min\u001B[39;00m kakao_cuisine_2:\n\u001B[1;32m----> 4\u001B[0m     blind\u001B[38;5;241m=\u001B[39m\u001B[43mi\u001B[49m\u001B[38;5;241;43m.\u001B[39;49m\u001B[43mfind_element\u001B[49m\u001B[43m(\u001B[49m\u001B[43mBy\u001B[49m\u001B[38;5;241;43m.\u001B[39;49m\u001B[43mCLASS_NAME\u001B[49m\u001B[43m,\u001B[49m\u001B[38;5;124;43m\"\u001B[39;49m\u001B[38;5;124;43mtxt_blind\u001B[39;49m\u001B[38;5;124;43m\"\u001B[39;49m\u001B[43m)\u001B[49m\n\u001B[0;32m      5\u001B[0m     \u001B[38;5;28;01mif\u001B[39;00m blind\u001B[38;5;241m.\u001B[39mtext:\n\u001B[0;32m      6\u001B[0m         \u001B[38;5;28;01mcontinue\u001B[39;00m\n",
      "File \u001B[1;32m~\\anaconda3\\envs\\repo\\lib\\site-packages\\selenium\\webdriver\\remote\\webelement.py:416\u001B[0m, in \u001B[0;36mWebElement.find_element\u001B[1;34m(self, by, value)\u001B[0m\n\u001B[0;32m    413\u001B[0m     by \u001B[38;5;241m=\u001B[39m By\u001B[38;5;241m.\u001B[39mCSS_SELECTOR\n\u001B[0;32m    414\u001B[0m     value \u001B[38;5;241m=\u001B[39m \u001B[38;5;124mf\u001B[39m\u001B[38;5;124m'\u001B[39m\u001B[38;5;124m[name=\u001B[39m\u001B[38;5;124m\"\u001B[39m\u001B[38;5;132;01m{\u001B[39;00mvalue\u001B[38;5;132;01m}\u001B[39;00m\u001B[38;5;124m\"\u001B[39m\u001B[38;5;124m]\u001B[39m\u001B[38;5;124m'\u001B[39m\n\u001B[1;32m--> 416\u001B[0m \u001B[38;5;28;01mreturn\u001B[39;00m \u001B[38;5;28;43mself\u001B[39;49m\u001B[38;5;241;43m.\u001B[39;49m\u001B[43m_execute\u001B[49m\u001B[43m(\u001B[49m\u001B[43mCommand\u001B[49m\u001B[38;5;241;43m.\u001B[39;49m\u001B[43mFIND_CHILD_ELEMENT\u001B[49m\u001B[43m,\u001B[49m\u001B[43m \u001B[49m\u001B[43m{\u001B[49m\u001B[38;5;124;43m\"\u001B[39;49m\u001B[38;5;124;43musing\u001B[39;49m\u001B[38;5;124;43m\"\u001B[39;49m\u001B[43m:\u001B[49m\u001B[43m \u001B[49m\u001B[43mby\u001B[49m\u001B[43m,\u001B[49m\u001B[43m \u001B[49m\u001B[38;5;124;43m\"\u001B[39;49m\u001B[38;5;124;43mvalue\u001B[39;49m\u001B[38;5;124;43m\"\u001B[39;49m\u001B[43m:\u001B[49m\u001B[43m \u001B[49m\u001B[43mvalue\u001B[49m\u001B[43m}\u001B[49m\u001B[43m)\u001B[49m[\u001B[38;5;124m\"\u001B[39m\u001B[38;5;124mvalue\u001B[39m\u001B[38;5;124m\"\u001B[39m]\n",
      "File \u001B[1;32m~\\anaconda3\\envs\\repo\\lib\\site-packages\\selenium\\webdriver\\remote\\webelement.py:394\u001B[0m, in \u001B[0;36mWebElement._execute\u001B[1;34m(self, command, params)\u001B[0m\n\u001B[0;32m    392\u001B[0m     params \u001B[38;5;241m=\u001B[39m {}\n\u001B[0;32m    393\u001B[0m params[\u001B[38;5;124m\"\u001B[39m\u001B[38;5;124mid\u001B[39m\u001B[38;5;124m\"\u001B[39m] \u001B[38;5;241m=\u001B[39m \u001B[38;5;28mself\u001B[39m\u001B[38;5;241m.\u001B[39m_id\n\u001B[1;32m--> 394\u001B[0m \u001B[38;5;28;01mreturn\u001B[39;00m \u001B[38;5;28;43mself\u001B[39;49m\u001B[38;5;241;43m.\u001B[39;49m\u001B[43m_parent\u001B[49m\u001B[38;5;241;43m.\u001B[39;49m\u001B[43mexecute\u001B[49m\u001B[43m(\u001B[49m\u001B[43mcommand\u001B[49m\u001B[43m,\u001B[49m\u001B[43m \u001B[49m\u001B[43mparams\u001B[49m\u001B[43m)\u001B[49m\n",
      "File \u001B[1;32m~\\anaconda3\\envs\\repo\\lib\\site-packages\\selenium\\webdriver\\remote\\webdriver.py:344\u001B[0m, in \u001B[0;36mWebDriver.execute\u001B[1;34m(self, driver_command, params)\u001B[0m\n\u001B[0;32m    342\u001B[0m response \u001B[38;5;241m=\u001B[39m \u001B[38;5;28mself\u001B[39m\u001B[38;5;241m.\u001B[39mcommand_executor\u001B[38;5;241m.\u001B[39mexecute(driver_command, params)\n\u001B[0;32m    343\u001B[0m \u001B[38;5;28;01mif\u001B[39;00m response:\n\u001B[1;32m--> 344\u001B[0m     \u001B[38;5;28;43mself\u001B[39;49m\u001B[38;5;241;43m.\u001B[39;49m\u001B[43merror_handler\u001B[49m\u001B[38;5;241;43m.\u001B[39;49m\u001B[43mcheck_response\u001B[49m\u001B[43m(\u001B[49m\u001B[43mresponse\u001B[49m\u001B[43m)\u001B[49m\n\u001B[0;32m    345\u001B[0m     response[\u001B[38;5;124m\"\u001B[39m\u001B[38;5;124mvalue\u001B[39m\u001B[38;5;124m\"\u001B[39m] \u001B[38;5;241m=\u001B[39m \u001B[38;5;28mself\u001B[39m\u001B[38;5;241m.\u001B[39m_unwrap_value(response\u001B[38;5;241m.\u001B[39mget(\u001B[38;5;124m\"\u001B[39m\u001B[38;5;124mvalue\u001B[39m\u001B[38;5;124m\"\u001B[39m, \u001B[38;5;28;01mNone\u001B[39;00m))\n\u001B[0;32m    346\u001B[0m     \u001B[38;5;28;01mreturn\u001B[39;00m response\n",
      "File \u001B[1;32m~\\anaconda3\\envs\\repo\\lib\\site-packages\\selenium\\webdriver\\remote\\errorhandler.py:229\u001B[0m, in \u001B[0;36mErrorHandler.check_response\u001B[1;34m(self, response)\u001B[0m\n\u001B[0;32m    227\u001B[0m         alert_text \u001B[38;5;241m=\u001B[39m value[\u001B[38;5;124m\"\u001B[39m\u001B[38;5;124malert\u001B[39m\u001B[38;5;124m\"\u001B[39m]\u001B[38;5;241m.\u001B[39mget(\u001B[38;5;124m\"\u001B[39m\u001B[38;5;124mtext\u001B[39m\u001B[38;5;124m\"\u001B[39m)\n\u001B[0;32m    228\u001B[0m     \u001B[38;5;28;01mraise\u001B[39;00m exception_class(message, screen, stacktrace, alert_text)  \u001B[38;5;66;03m# type: ignore[call-arg]  # mypy is not smart enough here\u001B[39;00m\n\u001B[1;32m--> 229\u001B[0m \u001B[38;5;28;01mraise\u001B[39;00m exception_class(message, screen, stacktrace)\n",
      "\u001B[1;31mStaleElementReferenceException\u001B[0m: Message: stale element reference: stale element not found in the current frame\n  (Session info: chrome=124.0.6367.201); For documentation on this error, please visit: https://www.selenium.dev/documentation/webdriver/troubleshooting/errors#stale-element-reference-exception\nStacktrace:\n\tGetHandleVerifier [0x00007FF6BA761562+60802]\n\t(No symbol) [0x00007FF6BA6DAC62]\n\t(No symbol) [0x00007FF6BA597CE4]\n\t(No symbol) [0x00007FF6BA59DE26]\n\t(No symbol) [0x00007FF6BA5A01DB]\n\t(No symbol) [0x00007FF6BA5A0280]\n\t(No symbol) [0x00007FF6BA5E6A11]\n\t(No symbol) [0x00007FF6BA5E6E1C]\n\t(No symbol) [0x00007FF6BA5DA8FC]\n\t(No symbol) [0x00007FF6BA60ABBF]\n\t(No symbol) [0x00007FF6BA5DA7C6]\n\t(No symbol) [0x00007FF6BA60AD90]\n\t(No symbol) [0x00007FF6BA62A224]\n\t(No symbol) [0x00007FF6BA60A923]\n\t(No symbol) [0x00007FF6BA5D8FEC]\n\t(No symbol) [0x00007FF6BA5D9C21]\n\tGetHandleVerifier [0x00007FF6BAA641FD+3217949]\n\tGetHandleVerifier [0x00007FF6BAAA6197+3488183]\n\tGetHandleVerifier [0x00007FF6BAA9F11F+3459391]\n\tGetHandleVerifier [0x00007FF6BA81B926+823622]\n\t(No symbol) [0x00007FF6BA6E5FFF]\n\t(No symbol) [0x00007FF6BA6E0F24]\n\t(No symbol) [0x00007FF6BA6E10B2]\n\t(No symbol) [0x00007FF6BA6D1904]\n\tBaseThreadInitThunk [0x00007FFDC6C47344+20]\n\tRtlUserThreadStart [0x00007FFDC7A626B1+33]\n"
     ]
    }
   ],
   "source": [
    "\n",
    "\n",
    "time.sleep(2)\n",
    "driver.find_element(By.ID,\"info.search.page.no2\").click()\n",
    "for i in kakao_cuisine_2:\n",
    "    blind=i.find_element(By.CLASS_NAME,\"txt_blind\")\n",
    "    if blind.text:\n",
    "        continue\n",
    "    tmp=crawlcrawl(i)\n",
    "    all_df_no_1=pd.concat([all_df,tmp])\n",
    "\n",
    "time.sleep(2)  \n",
    "driver.find_element(By.ID,\"info.search.page.no3\").click()\n",
    "for i in kakao_cuisine_3:\n",
    "    blind=i.find_element(By.CLASS_NAME,\"txt_blind\")\n",
    "    if blind.text:\n",
    "        continue\n",
    "    tmp=crawlcrawl(i)\n",
    "    all_df_no_1=pd.concat([all_df,tmp])\n",
    "\n",
    "time.sleep(2)\n",
    "driver.find_element(By.ID,\"info.search.page.no4\").click()\n",
    "for i in kakao_cuisine_4:\n",
    "    blind=i.find_element(By.CLASS_NAME,\"txt_blind\")\n",
    "    if blind.text:\n",
    "        continue\n",
    "    tmp=crawlcrawl(i)\n",
    "    all_df_no_1=pd.concat([all_df,tmp])\n",
    "\n",
    "\n",
    "time.sleep(2)\n",
    "driver.find_element(By.ID,\"info.search.page.no5\").click()\n",
    "for i in kakao_cuisine_5:\n",
    "    blind=i.find_element(By.CLASS_NAME,\"txt_blind\")\n",
    "    if blind.text:\n",
    "        continue\n",
    "    tmp=crawlcrawl(i)\n",
    "    all_df_no_1=pd.concat([all_df,tmp])\n",
    "\n",
    "driver.find_element(By.ID,\"info.search.page.next\").click()\n",
    "time.sleep(2)\n",
    "driver.find_element(By.ID,\"info.search.page.no1\").click()\n",
    "for i in kakao_cuisine_6:\n",
    "    blind=i.find_element(By.CLASS_NAME,\"txt_blind\")\n",
    "    if blind.text:\n",
    "        continue\n",
    "    tmp=crawlcrawl(i)\n",
    "    all_df_no_1=pd.concat([all_df,tmp])\n",
    "\n",
    "driver.find_element(By.ID,\"info.search.page.no2\").click()\n",
    "for i in kakao_cuisine_7:\n",
    "    blind=i.find_element(By.CLASS_NAME,\"txt_blind\")\n",
    "    if blind.text:\n",
    "        continue\n",
    "    tmp=crawlcrawl(i)\n",
    "    all_df_no_1=pd.concat([all_df,tmp])\n",
    "    \n",
    "driver.find_element(By.ID,\"info.search.page.no3\").click()\n",
    "for i in kakao_cuisine_8:\n",
    "    blind=i.find_element(By.CLASS_NAME,\"txt_blind\")\n",
    "    if blind.text:\n",
    "        continue\n",
    "    tmp=crawlcrawl(i)\n",
    "    all_df_no_1=pd.concat([all_df,tmp])\n",
    "\n",
    "driver.find_element(By.ID,\"info.search.page.no4\").click()\n",
    "for i in kakao_cuisine_9:\n",
    "    blind=i.find_element(By.CLASS_NAME,\"txt_blind\")\n",
    "    if blind.text:\n",
    "        continue\n",
    "    tmp=crawlcrawl(i)\n",
    "    all_df_no_1=pd.concat([all_df,tmp])\n",
    "    \n",
    "driver.find_element(By.ID,\"info.search.page.no5\").click()\n",
    "for i in kakao_cuisine_10:\n",
    "    blind=i.find_element(By.CLASS_NAME,\"txt_blind\")\n",
    "    if blind.text:\n",
    "        continue\n",
    "    tmp=crawlcrawl(i)\n",
    "    all_df_no_1=pd.concat([all_df,tmp])\n",
    "\n",
    "driver.find_element(By.ID,\"info.search.page.next\").click()\n",
    "time.sleep(2)\n",
    "driver.find_element(By.ID,\"info.search.page.no1\").click()\n",
    "\n",
    "for i in kakao_cuisine_11:\n",
    "    blind=i.find_element(By.CLASS_NAME,\"txt_blind\")\n",
    "    if blind.text:\n",
    "        continue\n",
    "    tmp=crawlcrawl(i)\n",
    "    all_df_no_1=pd.concat([all_df,tmp])\n",
    "\n",
    "\n",
    "driver.find_element(By.ID,\"info.search.page.no2\").click()\n",
    "for i in kakao_cuisine_12:\n",
    "    blind=i.find_element(By.CLASS_NAME,\"txt_blind\")\n",
    "    if blind.text:\n",
    "        continue\n",
    "    tmp=crawlcrawl(i)\n",
    "    all_df_no_1=pd.concat([all_df,tmp])\n",
    "\n",
    "driver.find_element(By.ID,\"info.search.page.no3\").click()\n",
    "for i in kakao_cuisine_13:\n",
    "    blind=i.find_element(By.CLASS_NAME,\"txt_blind\")\n",
    "    if blind.text:\n",
    "        continue\n",
    "    tmp=crawlcrawl(i)\n",
    "    all_df_no_1=pd.concat([all_df,tmp])\n",
    "\n",
    "driver.find_element(By.ID,\"info.search.page.no4\").click()\n",
    "for i in kakao_cuisine_14:\n",
    "    blind=i.find_element(By.CLASS_NAME,\"txt_blind\")\n",
    "    if blind.text:\n",
    "        continue\n",
    "    tmp=crawlcrawl(i)\n",
    "    all_df_no_1=pd.concat([all_df,tmp])\n",
    "    \n",
    "driver.find_element(By.ID,\"info.search.page.no5\").click()\n",
    "for i in kakao_cuisine_15:\n",
    "    blind=i.find_element(By.CLASS_NAME,\"txt_blind\")\n",
    "    if blind.text:\n",
    "        continue\n",
    "    tmp=crawlcrawl(i)\n",
    "    all_df_no_1=pd.concat([all_df,tmp])\n",
    "    \n",
    "driver.find_element(By.ID,\"info.search.page.next\").click()\n",
    "time.sleep(2)\n",
    "driver.find_element(By.ID,\"info.search.page.no1\").click()\n",
    "for i in kakao_cuisine_16:\n",
    "    blind=i.find_element(By.CLASS_NAME,\"txt_blind\")\n",
    "    if blind.text:\n",
    "        continue\n",
    "    tmp=crawlcrawl(i)\n",
    "    all_df_no_1=pd.concat([all_df,tmp])\n",
    "\n",
    "driver.find_element(By.ID,\"info.search.page.no2\").click()\n",
    "for i in kakao_cuisine_17:\n",
    "    blind=i.find_element(By.CLASS_NAME,\"txt_blind\")\n",
    "    if blind.text:\n",
    "        continue\n",
    "    tmp=crawlcrawl(i)\n",
    "    all_df_no_1=pd.concat([all_df,tmp])\n",
    "\n",
    "driver.find_element(By.ID,\"info.search.page.no3\").click()\n",
    "for i in kakao_cuisine_18:\n",
    "    blind=i.find_element(By.CLASS_NAME,\"txt_blind\")\n",
    "    if blind.text:\n",
    "        continue\n",
    "    tmp=crawlcrawl(i)\n",
    "    all_df_no_1=pd.concat([all_df,tmp])\n",
    "\n",
    "driver.find_element(By.ID,\"info.search.page.no4\").click()\n",
    "for i in kakao_cuisine_19:\n",
    "    blind=i.find_element(By.CLASS_NAME,\"txt_blind\")\n",
    "    if blind.text:\n",
    "        continue\n",
    "    tmp=crawlcrawl(i)\n",
    "    all_df_no_1=pd.concat([all_df,tmp])\n",
    "\n",
    "driver.find_element(By.ID,\"info.search.page.no5\").click()\n",
    "for i in kakao_cuisine_20:\n",
    "    blind=i.find_element(By.CLASS_NAME,\"txt_blind\")\n",
    "    if blind.text:\n",
    "        continue\n",
    "    tmp=crawlcrawl(i)\n",
    "    all_df_no_1=pd.concat([all_df,tmp])\n"
   ],
   "metadata": {
    "collapsed": false,
    "ExecuteTime": {
     "end_time": "2024-05-12T17:40:50.793747Z",
     "start_time": "2024-05-12T17:40:48.543749Z"
    }
   },
   "id": "2c7df703685687b4",
   "execution_count": 58
  },
  {
   "cell_type": "code",
   "outputs": [],
   "source": [
    "df=pd.read_csv('all_df.csv')"
   ],
   "metadata": {
    "collapsed": false,
    "ExecuteTime": {
     "end_time": "2024-05-26T02:41:20.829456Z",
     "start_time": "2024-05-26T02:41:20.776457Z"
    }
   },
   "id": "52bf0d2d9317ab1",
   "execution_count": 2
  },
  {
   "cell_type": "code",
   "outputs": [
    {
     "data": {
      "text/plain": "      Unnamed: 0            0           1             2      3    4    5    6  \\\n0              0    화로상회 광운대점  1825213275  냠냠쩝쩝박사의 맛집탐방  실버 배지   92  3.5  4.0   \n1              1    화로상회 광운대점  1071880997            히히  브론즈 배    9  4.0  0.5   \n2              2    화로상회 광운대점  1034272868    진실만을말하는 개굴  실버 배지   34  4.0  0.5   \n3              3    화로상회 광운대점  1363274427           이재원  실버 배지   53  3.5  3.0   \n4              4    화로상회 광운대점  1289095506         고양이좋아  실버 배지   94  4.2  0.5   \n...          ...          ...         ...           ...    ...  ...  ...  ...   \n6129          12     봉추찜닭 석계점   302424845           이정하  브론즈 배   14  3.9  3.0   \n6130          13     봉추찜닭 석계점  1301853532        주관적댓글러  브론즈 배    5  4.0  0.5   \n6131          14     봉추찜닭 석계점   760983481            소원  실버 배지   87  4.0  4.0   \n6132          15     봉추찜닭 석계점  1116073766          wjap  실버 배지  535  2.5  3.0   \n6133           0  미치게 먹고 싶은 날   261270361         낭만여행가  실버 배지   42  4.2  4.0   \n\n                                                      7  \n0     ['맛5 가격5 매장크기3 친절함3 분위기4 위생3', '내 기준 고기 무한리필 원...  \n1                  ['너무 저렴해서 걱정했는데, 너무 맛있게 먹고 나왔습니다:)']  \n2     ['역시 본점클라스... 존맛. 다만 맛있고 가성비 좋은만큼 웨이팅 각오하셔야됨. ...  \n3                                     ['불 약한 자리에 앉으면…']  \n4                              ['광운대 아이스링크 갔다가 먹으면 완벽']  \n...                                                 ...  \n6129                                               ['']  \n6130  ['배달 빠름 7분거리에 35분걸림(조리시간까지)', '배달료 없음!!! 사장님이 ...  \n6131       ['맛은 있는데 장사안하는집같은 어두컴컴 분위기 그래도 찜닭좋아해서 가끔가요']  \n6132                                           ['been']  \n6133                   ['대형티비가 있어서 스포츠 보면서 술한잔 하기 좋아요']  \n\n[6134 rows x 9 columns]",
      "text/html": "<div>\n<style scoped>\n    .dataframe tbody tr th:only-of-type {\n        vertical-align: middle;\n    }\n\n    .dataframe tbody tr th {\n        vertical-align: top;\n    }\n\n    .dataframe thead th {\n        text-align: right;\n    }\n</style>\n<table border=\"1\" class=\"dataframe\">\n  <thead>\n    <tr style=\"text-align: right;\">\n      <th></th>\n      <th>Unnamed: 0</th>\n      <th>0</th>\n      <th>1</th>\n      <th>2</th>\n      <th>3</th>\n      <th>4</th>\n      <th>5</th>\n      <th>6</th>\n      <th>7</th>\n    </tr>\n  </thead>\n  <tbody>\n    <tr>\n      <th>0</th>\n      <td>0</td>\n      <td>화로상회 광운대점</td>\n      <td>1825213275</td>\n      <td>냠냠쩝쩝박사의 맛집탐방</td>\n      <td>실버 배지</td>\n      <td>92</td>\n      <td>3.5</td>\n      <td>4.0</td>\n      <td>['맛5 가격5 매장크기3 친절함3 분위기4 위생3', '내 기준 고기 무한리필 원...</td>\n    </tr>\n    <tr>\n      <th>1</th>\n      <td>1</td>\n      <td>화로상회 광운대점</td>\n      <td>1071880997</td>\n      <td>히히</td>\n      <td>브론즈 배</td>\n      <td>9</td>\n      <td>4.0</td>\n      <td>0.5</td>\n      <td>['너무 저렴해서 걱정했는데, 너무 맛있게 먹고 나왔습니다:)']</td>\n    </tr>\n    <tr>\n      <th>2</th>\n      <td>2</td>\n      <td>화로상회 광운대점</td>\n      <td>1034272868</td>\n      <td>진실만을말하는 개굴</td>\n      <td>실버 배지</td>\n      <td>34</td>\n      <td>4.0</td>\n      <td>0.5</td>\n      <td>['역시 본점클라스... 존맛. 다만 맛있고 가성비 좋은만큼 웨이팅 각오하셔야됨. ...</td>\n    </tr>\n    <tr>\n      <th>3</th>\n      <td>3</td>\n      <td>화로상회 광운대점</td>\n      <td>1363274427</td>\n      <td>이재원</td>\n      <td>실버 배지</td>\n      <td>53</td>\n      <td>3.5</td>\n      <td>3.0</td>\n      <td>['불 약한 자리에 앉으면…']</td>\n    </tr>\n    <tr>\n      <th>4</th>\n      <td>4</td>\n      <td>화로상회 광운대점</td>\n      <td>1289095506</td>\n      <td>고양이좋아</td>\n      <td>실버 배지</td>\n      <td>94</td>\n      <td>4.2</td>\n      <td>0.5</td>\n      <td>['광운대 아이스링크 갔다가 먹으면 완벽']</td>\n    </tr>\n    <tr>\n      <th>...</th>\n      <td>...</td>\n      <td>...</td>\n      <td>...</td>\n      <td>...</td>\n      <td>...</td>\n      <td>...</td>\n      <td>...</td>\n      <td>...</td>\n      <td>...</td>\n    </tr>\n    <tr>\n      <th>6129</th>\n      <td>12</td>\n      <td>봉추찜닭 석계점</td>\n      <td>302424845</td>\n      <td>이정하</td>\n      <td>브론즈 배</td>\n      <td>14</td>\n      <td>3.9</td>\n      <td>3.0</td>\n      <td>['']</td>\n    </tr>\n    <tr>\n      <th>6130</th>\n      <td>13</td>\n      <td>봉추찜닭 석계점</td>\n      <td>1301853532</td>\n      <td>주관적댓글러</td>\n      <td>브론즈 배</td>\n      <td>5</td>\n      <td>4.0</td>\n      <td>0.5</td>\n      <td>['배달 빠름 7분거리에 35분걸림(조리시간까지)', '배달료 없음!!! 사장님이 ...</td>\n    </tr>\n    <tr>\n      <th>6131</th>\n      <td>14</td>\n      <td>봉추찜닭 석계점</td>\n      <td>760983481</td>\n      <td>소원</td>\n      <td>실버 배지</td>\n      <td>87</td>\n      <td>4.0</td>\n      <td>4.0</td>\n      <td>['맛은 있는데 장사안하는집같은 어두컴컴 분위기 그래도 찜닭좋아해서 가끔가요']</td>\n    </tr>\n    <tr>\n      <th>6132</th>\n      <td>15</td>\n      <td>봉추찜닭 석계점</td>\n      <td>1116073766</td>\n      <td>wjap</td>\n      <td>실버 배지</td>\n      <td>535</td>\n      <td>2.5</td>\n      <td>3.0</td>\n      <td>['been']</td>\n    </tr>\n    <tr>\n      <th>6133</th>\n      <td>0</td>\n      <td>미치게 먹고 싶은 날</td>\n      <td>261270361</td>\n      <td>낭만여행가</td>\n      <td>실버 배지</td>\n      <td>42</td>\n      <td>4.2</td>\n      <td>4.0</td>\n      <td>['대형티비가 있어서 스포츠 보면서 술한잔 하기 좋아요']</td>\n    </tr>\n  </tbody>\n</table>\n<p>6134 rows × 9 columns</p>\n</div>"
     },
     "execution_count": 3,
     "metadata": {},
     "output_type": "execute_result"
    }
   ],
   "source": [
    "df"
   ],
   "metadata": {
    "collapsed": false,
    "ExecuteTime": {
     "end_time": "2024-05-26T02:41:21.792457Z",
     "start_time": "2024-05-26T02:41:21.769457Z"
    }
   },
   "id": "724b5bb46dfc904d",
   "execution_count": 3
  },
  {
   "cell_type": "code",
   "outputs": [],
   "source": [],
   "metadata": {
    "collapsed": false
   },
   "id": "9840b4dd3c8738c3"
  },
  {
   "cell_type": "code",
   "outputs": [],
   "source": [],
   "metadata": {
    "collapsed": false
   },
   "id": "8f1e635e97e8c10b"
  }
 ],
 "metadata": {
  "kernelspec": {
   "display_name": "Python 3 (ipykernel)",
   "language": "python",
   "name": "python3"
  },
  "language_info": {
   "codemirror_mode": {
    "name": "ipython",
    "version": 3
   },
   "file_extension": ".py",
   "mimetype": "text/x-python",
   "name": "python",
   "nbconvert_exporter": "python",
   "pygments_lexer": "ipython3",
   "version": "3.9.7"
  },
  "colab": {
   "provenance": []
  }
 },
 "nbformat": 4,
 "nbformat_minor": 5
}
