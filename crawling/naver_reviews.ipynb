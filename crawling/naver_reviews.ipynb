{
 "cells": [
  {
   "cell_type": "code",
   "execution_count": 1,
   "id": "d244ac11",
   "metadata": {},
   "outputs": [],
   "source": [
    "# 라이브러리 불러오기\n",
    "from selenium import webdriver\n",
    "from bs4 import BeautifulSoup\n",
    "import time\n",
    "\n",
    "from tqdm.notebook import tqdm # 상태진행바\n",
    "import pandas as pd\n",
    "\n",
    "from selenium.webdriver.common.keys import Keys\n",
    "\n",
    "from selenium.webdriver.common.by import By\n",
    "\n",
    "import json\n",
    "\n",
    "from selenium.webdriver.support import expected_conditions as EC\n",
    "from selenium.webdriver.support.ui import WebDriverWait\n",
    "\n",
    "import warnings\n",
    "warnings.filterwarnings('ignore')"
   ]
  },
  {
   "cell_type": "code",
   "execution_count": 30,
   "id": "722b5e7f",
   "metadata": {},
   "outputs": [
    {
     "name": "stdout",
     "output_type": "stream",
     "text": [
      "74번째 가게에 대한 리뷰를 가지고 오는 중입니다.\n",
      "73번째 가게에 대한 리뷰를 가지고 오는 중입니다.\n",
      "72번째 가게에 대한 리뷰를 가지고 오는 중입니다.\n",
      "71번째 가게에 대한 리뷰를 가지고 오는 중입니다.\n",
      "70번째 가게에 대한 리뷰를 가지고 오는 중입니다.\n",
      "69번째 가게에 대한 리뷰를 가지고 오는 중입니다.\n",
      "68번째 가게에 대한 리뷰를 가지고 오는 중입니다.\n",
      "67번째 가게에 대한 리뷰를 가지고 오는 중입니다.\n",
      "66번째 가게에 대한 리뷰를 가지고 오는 중입니다.\n",
      "65번째 가게에 대한 리뷰를 가지고 오는 중입니다.\n",
      "64번째 가게에 대한 리뷰를 가지고 오는 중입니다.\n",
      "63번째 가게에 대한 리뷰를 가지고 오는 중입니다.\n",
      "62번째 가게에 대한 리뷰를 가지고 오는 중입니다.\n",
      "61번째 가게에 대한 리뷰를 가지고 오는 중입니다.\n",
      "60번째 가게에 대한 리뷰를 가지고 오는 중입니다.\n",
      "59번째 가게에 대한 리뷰를 가지고 오는 중입니다.\n",
      "58번째 가게에 대한 리뷰를 가지고 오는 중입니다.\n",
      "57번째 가게에 대한 리뷰를 가지고 오는 중입니다.\n",
      "56번째 가게에 대한 리뷰를 가지고 오는 중입니다.\n",
      "55번째 가게에 대한 리뷰를 가지고 오는 중입니다.\n",
      "54번째 가게에 대한 리뷰를 가지고 오는 중입니다.\n",
      "53번째 가게에 대한 리뷰를 가지고 오는 중입니다.\n",
      "52번째 가게에 대한 리뷰를 가지고 오는 중입니다.\n",
      "51번째 가게에 대한 리뷰를 가지고 오는 중입니다.\n",
      "50번째 가게에 대한 리뷰를 가지고 오는 중입니다.\n",
      "49번째 가게에 대한 리뷰를 가지고 오는 중입니다.\n",
      "48번째 가게에 대한 리뷰를 가지고 오는 중입니다.\n",
      "47번째 가게에 대한 리뷰를 가지고 오는 중입니다.\n",
      "46번째 가게에 대한 리뷰를 가지고 오는 중입니다.\n",
      "45번째 가게에 대한 리뷰를 가지고 오는 중입니다.\n",
      "44번째 가게에 대한 리뷰를 가지고 오는 중입니다.\n",
      "43번째 가게에 대한 리뷰를 가지고 오는 중입니다.\n",
      "42번째 가게에 대한 리뷰를 가지고 오는 중입니다.\n",
      "41번째 가게에 대한 리뷰를 가지고 오는 중입니다.\n",
      "40번째 가게에 대한 리뷰를 가지고 오는 중입니다.\n",
      "39번째 가게에 대한 리뷰를 가지고 오는 중입니다.\n",
      "38번째 가게에 대한 리뷰를 가지고 오는 중입니다.\n",
      "37번째 가게에 대한 리뷰를 가지고 오는 중입니다.\n",
      "36번째 가게에 대한 리뷰를 가지고 오는 중입니다.\n",
      "35번째 가게에 대한 리뷰를 가지고 오는 중입니다.\n",
      "34번째 가게에 대한 리뷰를 가지고 오는 중입니다.\n",
      "33번째 가게에 대한 리뷰를 가지고 오는 중입니다.\n",
      "32번째 가게에 대한 리뷰를 가지고 오는 중입니다.\n",
      "31번째 가게에 대한 리뷰를 가지고 오는 중입니다.\n",
      "30번째 가게에 대한 리뷰를 가지고 오는 중입니다.\n",
      "29번째 가게에 대한 리뷰를 가지고 오는 중입니다.\n",
      "28번째 가게에 대한 리뷰를 가지고 오는 중입니다.\n",
      "27번째 가게에 대한 리뷰를 가지고 오는 중입니다.\n",
      "26번째 가게에 대한 리뷰를 가지고 오는 중입니다.\n",
      "25번째 가게에 대한 리뷰를 가지고 오는 중입니다.\n",
      "24번째 가게에 대한 리뷰를 가지고 오는 중입니다.\n",
      "23번째 가게에 대한 리뷰를 가지고 오는 중입니다.\n",
      "22번째 가게에 대한 리뷰를 가지고 오는 중입니다.\n",
      "21번째 가게에 대한 리뷰를 가지고 오는 중입니다.\n",
      "20번째 가게에 대한 리뷰를 가지고 오는 중입니다.\n",
      "19번째 가게에 대한 리뷰를 가지고 오는 중입니다.\n",
      "18번째 가게에 대한 리뷰를 가지고 오는 중입니다.\n",
      "17번째 가게에 대한 리뷰를 가지고 오는 중입니다.\n",
      "16번째 가게에 대한 리뷰를 가지고 오는 중입니다.\n",
      "15번째 가게에 대한 리뷰를 가지고 오는 중입니다.\n",
      "14번째 가게에 대한 리뷰를 가지고 오는 중입니다.\n",
      "13번째 가게에 대한 리뷰를 가지고 오는 중입니다.\n",
      "12번째 가게에 대한 리뷰를 가지고 오는 중입니다.\n",
      "11번째 가게에 대한 리뷰를 가지고 오는 중입니다.\n",
      "10번째 가게에 대한 리뷰를 가지고 오는 중입니다.\n",
      "9번째 가게에 대한 리뷰를 가지고 오는 중입니다.\n",
      "8번째 가게에 대한 리뷰를 가지고 오는 중입니다.\n",
      "7번째 가게에 대한 리뷰를 가지고 오는 중입니다.\n",
      "6번째 가게에 대한 리뷰를 가지고 오는 중입니다.\n",
      "5번째 가게에 대한 리뷰를 가지고 오는 중입니다.\n",
      "4번째 가게에 대한 리뷰를 가지고 오는 중입니다.\n",
      "3번째 가게에 대한 리뷰를 가지고 오는 중입니다.\n",
      "2번째 가게에 대한 리뷰를 가지고 오는 중입니다.\n",
      "1번째 가게에 대한 리뷰를 가지고 오는 중입니다.\n"
     ]
    }
   ],
   "source": [
    "for idx in range(len(df_link)-1, -1, -1):\n",
    "    print(f'{idx+1}번째 가게에 대한 리뷰를 가지고 오는 중입니다.')"
   ]
  },
  {
   "cell_type": "code",
   "execution_count": 10,
   "id": "3c6ee274",
   "metadata": {},
   "outputs": [
    {
     "data": {
      "text/html": [
       "<div>\n",
       "<style scoped>\n",
       "    .dataframe tbody tr th:only-of-type {\n",
       "        vertical-align: middle;\n",
       "    }\n",
       "\n",
       "    .dataframe tbody tr th {\n",
       "        vertical-align: top;\n",
       "    }\n",
       "\n",
       "    .dataframe thead th {\n",
       "        text-align: right;\n",
       "    }\n",
       "</style>\n",
       "<table border=\"1\" class=\"dataframe\">\n",
       "  <thead>\n",
       "    <tr style=\"text-align: right;\">\n",
       "      <th></th>\n",
       "      <th>음식점</th>\n",
       "      <th>사용자명</th>\n",
       "      <th>리뷰</th>\n",
       "    </tr>\n",
       "  </thead>\n",
       "  <tbody>\n",
       "  </tbody>\n",
       "</table>\n",
       "</div>"
      ],
      "text/plain": [
       "Empty DataFrame\n",
       "Columns: [음식점, 사용자명, 리뷰]\n",
       "Index: []"
      ]
     },
     "execution_count": 10,
     "metadata": {},
     "output_type": "execute_result"
    }
   ],
   "source": [
    "df = pd.DataFrame(columns = [\"음식점\", \"사용자명\", \"리뷰\"])\n",
    "df"
   ]
  },
  {
   "cell_type": "code",
   "execution_count": 11,
   "id": "88b4ec34",
   "metadata": {},
   "outputs": [
    {
     "data": {
      "text/plain": [
       "0     https://m.place.naver.com/restaurant/108351969...\n",
       "1     https://m.place.naver.com/restaurant/166240712...\n",
       "2     https://m.place.naver.com/restaurant/37611559/...\n",
       "3     https://m.place.naver.com/restaurant/140113740...\n",
       "4     https://m.place.naver.com/restaurant/176942489...\n",
       "                            ...                        \n",
       "70    https://m.place.naver.com/restaurant/179672944...\n",
       "71    https://m.place.naver.com/restaurant/104406928...\n",
       "72    https://m.place.naver.com/restaurant/182094073...\n",
       "73    https://m.place.naver.com/restaurant/109206749...\n",
       "74    https://m.place.naver.com/restaurant/128591749...\n",
       "Name: 링크, Length: 74, dtype: object"
      ]
     },
     "execution_count": 11,
     "metadata": {},
     "output_type": "execute_result"
    }
   ],
   "source": [
    "df_read = pd.read_csv('./가게_이름_링크.csv')\n",
    "df_read = df_read[df_read['음식점'] != '더재미']\n",
    "\n",
    "df_link = 'https://' + df_read['링크'].str.replace('/home', '/review/visitor')\n",
    "df_link"
   ]
  },
  {
   "cell_type": "markdown",
   "id": "23230c0e",
   "metadata": {},
   "source": [
    "# 1. 브라우저 열고 접속"
   ]
  },
  {
   "cell_type": "code",
   "execution_count": 20,
   "id": "f71e4c06",
   "metadata": {},
   "outputs": [],
   "source": [
    "# 브라우저 열기\n",
    "browser = webdriver.Chrome()"
   ]
  },
  {
   "cell_type": "code",
   "execution_count": 31,
   "id": "63415310",
   "metadata": {
    "scrolled": true
   },
   "outputs": [
    {
     "name": "stdout",
     "output_type": "stream",
     "text": [
      "74번째 가게에 대한 리뷰를 가지고 오는 중입니다.\n",
      "인생꼬치479 석계역점\n"
     ]
    },
    {
     "data": {
      "application/vnd.jupyter.widget-view+json": {
       "model_id": "a21dd257e1eb4747894d9f5ff6388fa8",
       "version_major": 2,
       "version_minor": 0
      },
      "text/plain": [
       "  0%|          | 0/50 [00:00<?, ?it/s]"
      ]
     },
     "metadata": {},
     "output_type": "display_data"
    },
    {
     "name": "stdout",
     "output_type": "stream",
     "text": [
      "finish\n",
      "총 리뷰 수: 357, 가지고온 리뷰 수: 357\n",
      "리뷰 개수 동일\n",
      "리뷰를 적지 않은 사람은 총 14명 입니다.\n",
      "리뷰를 적은 사람은 총 343명 입니다.\n",
      "73번째 가게에 대한 리뷰를 가지고 오는 중입니다.\n",
      "더원\n"
     ]
    },
    {
     "data": {
      "application/vnd.jupyter.widget-view+json": {
       "model_id": "8e357d4bd0dc485d85e59e2b2d0329c6",
       "version_major": 2,
       "version_minor": 0
      },
      "text/plain": [
       "  0%|          | 0/50 [00:00<?, ?it/s]"
      ]
     },
     "metadata": {},
     "output_type": "display_data"
    },
    {
     "name": "stdout",
     "output_type": "stream",
     "text": [
      "finish\n",
      "총 리뷰 수: 152, 가지고온 리뷰 수: 152\n",
      "리뷰 개수 동일\n",
      "리뷰를 적지 않은 사람은 총 5명 입니다.\n",
      "리뷰를 적은 사람은 총 147명 입니다.\n",
      "72번째 가게에 대한 리뷰를 가지고 오는 중입니다.\n",
      "서민스시 장위 본점\n"
     ]
    },
    {
     "data": {
      "application/vnd.jupyter.widget-view+json": {
       "model_id": "417eec6784fe4808b28fcfa72a86453f",
       "version_major": 2,
       "version_minor": 0
      },
      "text/plain": [
       "  0%|          | 0/50 [00:00<?, ?it/s]"
      ]
     },
     "metadata": {},
     "output_type": "display_data"
    },
    {
     "name": "stdout",
     "output_type": "stream",
     "text": [
      "총 리뷰 수: 5635, 가지고온 리뷰 수: 350\n",
      "리뷰 개수 다름 - 양이 많아서 일부만 추출\n",
      "리뷰를 적지 않은 사람은 총 0명 입니다.\n",
      "리뷰를 적은 사람은 총 350명 입니다.\n",
      "71번째 가게에 대한 리뷰를 가지고 오는 중입니다.\n",
      "짜카\n"
     ]
    },
    {
     "data": {
      "application/vnd.jupyter.widget-view+json": {
       "model_id": "6dca9cb904a942609eb8d6e4f05e0453",
       "version_major": 2,
       "version_minor": 0
      },
      "text/plain": [
       "  0%|          | 0/50 [00:00<?, ?it/s]"
      ]
     },
     "metadata": {},
     "output_type": "display_data"
    },
    {
     "name": "stdout",
     "output_type": "stream",
     "text": [
      "finish\n",
      "총 리뷰 수: 13, 가지고온 리뷰 수: 13\n",
      "리뷰 개수 동일\n",
      "리뷰를 적지 않은 사람은 총 0명 입니다.\n",
      "리뷰를 적은 사람은 총 13명 입니다.\n",
      "70번째 가게에 대한 리뷰를 가지고 오는 중입니다.\n",
      "온량\n"
     ]
    },
    {
     "data": {
      "application/vnd.jupyter.widget-view+json": {
       "model_id": "187f127e39d54cd182046ec79e0b519a",
       "version_major": 2,
       "version_minor": 0
      },
      "text/plain": [
       "  0%|          | 0/50 [00:00<?, ?it/s]"
      ]
     },
     "metadata": {},
     "output_type": "display_data"
    },
    {
     "name": "stdout",
     "output_type": "stream",
     "text": [
      "총 리뷰 수: 387, 가지고온 리뷰 수: 350\n",
      "리뷰 개수 다름 - 양이 많아서 일부만 추출\n",
      "리뷰를 적지 않은 사람은 총 17명 입니다.\n",
      "리뷰를 적은 사람은 총 333명 입니다.\n",
      "69번째 가게에 대한 리뷰를 가지고 오는 중입니다.\n",
      "명가\n"
     ]
    },
    {
     "data": {
      "application/vnd.jupyter.widget-view+json": {
       "model_id": "277714da75f94019ae0e6b79f39e8f39",
       "version_major": 2,
       "version_minor": 0
      },
      "text/plain": [
       "  0%|          | 0/50 [00:00<?, ?it/s]"
      ]
     },
     "metadata": {},
     "output_type": "display_data"
    },
    {
     "name": "stdout",
     "output_type": "stream",
     "text": [
      "finish\n",
      "총 리뷰 수: 18, 가지고온 리뷰 수: 18\n",
      "리뷰 개수 동일\n",
      "리뷰를 적지 않은 사람은 총 0명 입니다.\n",
      "리뷰를 적은 사람은 총 18명 입니다.\n",
      "68번째 가게에 대한 리뷰를 가지고 오는 중입니다.\n",
      "짚신매운갈비찜 석계점\n"
     ]
    },
    {
     "data": {
      "application/vnd.jupyter.widget-view+json": {
       "model_id": "7cc8c4b6f0bd4fa4bc3fbf896bb17059",
       "version_major": 2,
       "version_minor": 0
      },
      "text/plain": [
       "  0%|          | 0/50 [00:00<?, ?it/s]"
      ]
     },
     "metadata": {},
     "output_type": "display_data"
    },
    {
     "name": "stdout",
     "output_type": "stream",
     "text": [
      "finish\n",
      "총 리뷰 수: 253, 가지고온 리뷰 수: 253\n",
      "리뷰 개수 동일\n",
      "리뷰를 적지 않은 사람은 총 1명 입니다.\n",
      "리뷰를 적은 사람은 총 252명 입니다.\n",
      "67번째 가게에 대한 리뷰를 가지고 오는 중입니다.\n",
      "엄마마늘보쌈\n"
     ]
    },
    {
     "data": {
      "application/vnd.jupyter.widget-view+json": {
       "model_id": "1255325b1fcc4b158f8c12f2a452f575",
       "version_major": 2,
       "version_minor": 0
      },
      "text/plain": [
       "  0%|          | 0/50 [00:00<?, ?it/s]"
      ]
     },
     "metadata": {},
     "output_type": "display_data"
    },
    {
     "name": "stdout",
     "output_type": "stream",
     "text": [
      "총 리뷰 수: 624, 가지고온 리뷰 수: 370\n",
      "리뷰 개수 다름 - 양이 많아서 일부만 추출\n",
      "리뷰를 적지 않은 사람은 총 12명 입니다.\n",
      "리뷰를 적은 사람은 총 358명 입니다.\n",
      "66번째 가게에 대한 리뷰를 가지고 오는 중입니다.\n",
      "파스타세끼\n"
     ]
    },
    {
     "data": {
      "application/vnd.jupyter.widget-view+json": {
       "model_id": "a8001f6f00ef415581d0d6013ab7e500",
       "version_major": 2,
       "version_minor": 0
      },
      "text/plain": [
       "  0%|          | 0/50 [00:00<?, ?it/s]"
      ]
     },
     "metadata": {},
     "output_type": "display_data"
    },
    {
     "name": "stdout",
     "output_type": "stream",
     "text": [
      "finish\n",
      "총 리뷰 수: 2, 가지고온 리뷰 수: 2\n",
      "리뷰 개수 동일\n",
      "리뷰를 적지 않은 사람은 총 0명 입니다.\n",
      "리뷰를 적은 사람은 총 2명 입니다.\n",
      "65번째 가게에 대한 리뷰를 가지고 오는 중입니다.\n",
      "퀸 스테이크\n"
     ]
    },
    {
     "data": {
      "application/vnd.jupyter.widget-view+json": {
       "model_id": "e9b77c4bf25f4dd8a1b59537de4768f4",
       "version_major": 2,
       "version_minor": 0
      },
      "text/plain": [
       "  0%|          | 0/50 [00:00<?, ?it/s]"
      ]
     },
     "metadata": {},
     "output_type": "display_data"
    },
    {
     "name": "stdout",
     "output_type": "stream",
     "text": [
      "finish\n",
      "총 리뷰 수: 148, 가지고온 리뷰 수: 148\n",
      "리뷰 개수 동일\n",
      "리뷰를 적지 않은 사람은 총 12명 입니다.\n",
      "리뷰를 적은 사람은 총 136명 입니다.\n",
      "64번째 가게에 대한 리뷰를 가지고 오는 중입니다.\n",
      "연어시장 석계본점\n"
     ]
    },
    {
     "data": {
      "application/vnd.jupyter.widget-view+json": {
       "model_id": "91deda7c34284fb1b5bb67832b6f6904",
       "version_major": 2,
       "version_minor": 0
      },
      "text/plain": [
       "  0%|          | 0/50 [00:00<?, ?it/s]"
      ]
     },
     "metadata": {},
     "output_type": "display_data"
    },
    {
     "name": "stdout",
     "output_type": "stream",
     "text": [
      "finish\n",
      "총 리뷰 수: 245, 가지고온 리뷰 수: 245\n",
      "리뷰 개수 동일\n",
      "리뷰를 적지 않은 사람은 총 14명 입니다.\n",
      "리뷰를 적은 사람은 총 231명 입니다.\n",
      "63번째 가게에 대한 리뷰를 가지고 오는 중입니다.\n",
      "하남돼지집 돌곶이역점\n"
     ]
    },
    {
     "data": {
      "application/vnd.jupyter.widget-view+json": {
       "model_id": "47c6029896e947c795d4ba1e020bd2c4",
       "version_major": 2,
       "version_minor": 0
      },
      "text/plain": [
       "  0%|          | 0/50 [00:00<?, ?it/s]"
      ]
     },
     "metadata": {},
     "output_type": "display_data"
    },
    {
     "name": "stdout",
     "output_type": "stream",
     "text": [
      "finish\n",
      "총 리뷰 수: 246, 가지고온 리뷰 수: 246\n",
      "리뷰 개수 동일\n",
      "리뷰를 적지 않은 사람은 총 2명 입니다.\n",
      "리뷰를 적은 사람은 총 244명 입니다.\n",
      "62번째 가게에 대한 리뷰를 가지고 오는 중입니다.\n",
      "쭈삼이\n"
     ]
    },
    {
     "data": {
      "application/vnd.jupyter.widget-view+json": {
       "model_id": "aae46b58ee5b4577b991cb786ebcae7a",
       "version_major": 2,
       "version_minor": 0
      },
      "text/plain": [
       "  0%|          | 0/50 [00:00<?, ?it/s]"
      ]
     },
     "metadata": {},
     "output_type": "display_data"
    },
    {
     "name": "stdout",
     "output_type": "stream",
     "text": [
      "finish\n",
      "총 리뷰 수: 81, 가지고온 리뷰 수: 81\n",
      "리뷰 개수 동일\n",
      "리뷰를 적지 않은 사람은 총 2명 입니다.\n",
      "리뷰를 적은 사람은 총 79명 입니다.\n",
      "61번째 가게에 대한 리뷰를 가지고 오는 중입니다.\n",
      "라체나1907\n"
     ]
    },
    {
     "data": {
      "application/vnd.jupyter.widget-view+json": {
       "model_id": "780cedc268ff46eb96d10dc975846121",
       "version_major": 2,
       "version_minor": 0
      },
      "text/plain": [
       "  0%|          | 0/50 [00:00<?, ?it/s]"
      ]
     },
     "metadata": {},
     "output_type": "display_data"
    },
    {
     "name": "stdout",
     "output_type": "stream",
     "text": [
      "총 리뷰 수: 862, 가지고온 리뷰 수: 350\n",
      "리뷰 개수 다름 - 양이 많아서 일부만 추출\n",
      "리뷰를 적지 않은 사람은 총 9명 입니다.\n",
      "리뷰를 적은 사람은 총 341명 입니다.\n",
      "60번째 가게에 대한 리뷰를 가지고 오는 중입니다.\n",
      "김과장고깃집 석계점\n"
     ]
    },
    {
     "data": {
      "application/vnd.jupyter.widget-view+json": {
       "model_id": "dab40184bc2243178dd057a88d2611e8",
       "version_major": 2,
       "version_minor": 0
      },
      "text/plain": [
       "  0%|          | 0/50 [00:00<?, ?it/s]"
      ]
     },
     "metadata": {},
     "output_type": "display_data"
    },
    {
     "name": "stdout",
     "output_type": "stream",
     "text": [
      "총 리뷰 수: 1942, 가지고온 리뷰 수: 330\n",
      "리뷰 개수 다름 - 양이 많아서 일부만 추출\n",
      "리뷰를 적지 않은 사람은 총 2명 입니다.\n",
      "리뷰를 적은 사람은 총 328명 입니다.\n",
      "59번째 가게에 대한 리뷰를 가지고 오는 중입니다.\n",
      "진바배달삼겹\n"
     ]
    },
    {
     "data": {
      "application/vnd.jupyter.widget-view+json": {
       "model_id": "ca69619033f343a78e61d2bd68bbae97",
       "version_major": 2,
       "version_minor": 0
      },
      "text/plain": [
       "  0%|          | 0/50 [00:00<?, ?it/s]"
      ]
     },
     "metadata": {},
     "output_type": "display_data"
    },
    {
     "name": "stdout",
     "output_type": "stream",
     "text": [
      "finish\n",
      "총 리뷰 수: 12, 가지고온 리뷰 수: 12\n",
      "리뷰 개수 동일\n",
      "리뷰를 적지 않은 사람은 총 0명 입니다.\n",
      "리뷰를 적은 사람은 총 12명 입니다.\n",
      "58번째 가게에 대한 리뷰를 가지고 오는 중입니다.\n",
      "소문난멸치국수\n"
     ]
    },
    {
     "data": {
      "application/vnd.jupyter.widget-view+json": {
       "model_id": "bd939297fd4c4749901e9ca774b6807a",
       "version_major": 2,
       "version_minor": 0
      },
      "text/plain": [
       "  0%|          | 0/50 [00:00<?, ?it/s]"
      ]
     },
     "metadata": {},
     "output_type": "display_data"
    },
    {
     "name": "stdout",
     "output_type": "stream",
     "text": [
      "총 리뷰 수: 846, 가지고온 리뷰 수: 400\n",
      "리뷰 개수 다름 - 양이 많아서 일부만 추출\n",
      "리뷰를 적지 않은 사람은 총 20명 입니다.\n",
      "리뷰를 적은 사람은 총 380명 입니다.\n",
      "57번째 가게에 대한 리뷰를 가지고 오는 중입니다.\n",
      "배불뚜기\n"
     ]
    },
    {
     "data": {
      "application/vnd.jupyter.widget-view+json": {
       "model_id": "6a2ea2e66dcb45bf9f4e8e6eca5c386b",
       "version_major": 2,
       "version_minor": 0
      },
      "text/plain": [
       "  0%|          | 0/50 [00:00<?, ?it/s]"
      ]
     },
     "metadata": {},
     "output_type": "display_data"
    },
    {
     "name": "stdout",
     "output_type": "stream",
     "text": [
      "finish\n",
      "총 리뷰 수: 2, 가지고온 리뷰 수: 2\n",
      "리뷰 개수 동일\n",
      "리뷰를 적지 않은 사람은 총 0명 입니다.\n",
      "리뷰를 적은 사람은 총 2명 입니다.\n",
      "56번째 가게에 대한 리뷰를 가지고 오는 중입니다.\n",
      "무명칼국수\n"
     ]
    },
    {
     "data": {
      "application/vnd.jupyter.widget-view+json": {
       "model_id": "aa59984644b94842a7f5ebc7322a204c",
       "version_major": 2,
       "version_minor": 0
      },
      "text/plain": [
       "  0%|          | 0/50 [00:00<?, ?it/s]"
      ]
     },
     "metadata": {},
     "output_type": "display_data"
    },
    {
     "name": "stdout",
     "output_type": "stream",
     "text": [
      "총 리뷰 수: 498, 가지고온 리뷰 수: 350\n",
      "리뷰 개수 다름 - 양이 많아서 일부만 추출\n",
      "리뷰를 적지 않은 사람은 총 7명 입니다.\n",
      "리뷰를 적은 사람은 총 343명 입니다.\n",
      "55번째 가게에 대한 리뷰를 가지고 오는 중입니다.\n",
      "중국촬방양꼬치구이\n"
     ]
    },
    {
     "data": {
      "application/vnd.jupyter.widget-view+json": {
       "model_id": "2745ca6e0f0b4b149edffc304bb9108d",
       "version_major": 2,
       "version_minor": 0
      },
      "text/plain": [
       "  0%|          | 0/50 [00:00<?, ?it/s]"
      ]
     },
     "metadata": {},
     "output_type": "display_data"
    },
    {
     "name": "stdout",
     "output_type": "stream",
     "text": [
      "finish\n",
      "총 리뷰 수: 2, 가지고온 리뷰 수: 2\n",
      "리뷰 개수 동일\n",
      "리뷰를 적지 않은 사람은 총 0명 입니다.\n",
      "리뷰를 적은 사람은 총 2명 입니다.\n",
      "54번째 가게에 대한 리뷰를 가지고 오는 중입니다.\n",
      "일번지정육식당 돌곶이점\n"
     ]
    },
    {
     "data": {
      "application/vnd.jupyter.widget-view+json": {
       "model_id": "f950e7ffb9b94f2b8f244022dcacd552",
       "version_major": 2,
       "version_minor": 0
      },
      "text/plain": [
       "  0%|          | 0/50 [00:00<?, ?it/s]"
      ]
     },
     "metadata": {},
     "output_type": "display_data"
    },
    {
     "name": "stdout",
     "output_type": "stream",
     "text": [
      "총 리뷰 수: 935, 가지고온 리뷰 수: 400\n",
      "리뷰 개수 다름 - 양이 많아서 일부만 추출\n",
      "리뷰를 적지 않은 사람은 총 10명 입니다.\n",
      "리뷰를 적은 사람은 총 390명 입니다.\n",
      "53번째 가게에 대한 리뷰를 가지고 오는 중입니다.\n",
      "석계창신동매운족발 1호점\n"
     ]
    },
    {
     "data": {
      "application/vnd.jupyter.widget-view+json": {
       "model_id": "187c3655077b45028b0b1565ca9c6750",
       "version_major": 2,
       "version_minor": 0
      },
      "text/plain": [
       "  0%|          | 0/50 [00:00<?, ?it/s]"
      ]
     },
     "metadata": {},
     "output_type": "display_data"
    },
    {
     "name": "stdout",
     "output_type": "stream",
     "text": [
      "총 리뷰 수: 528, 가지고온 리뷰 수: 390\n",
      "리뷰 개수 다름 - 양이 많아서 일부만 추출\n",
      "리뷰를 적지 않은 사람은 총 10명 입니다.\n",
      "리뷰를 적은 사람은 총 380명 입니다.\n",
      "52번째 가게에 대한 리뷰를 가지고 오는 중입니다.\n",
      "정오아카데미 광운대점\n"
     ]
    },
    {
     "data": {
      "application/vnd.jupyter.widget-view+json": {
       "model_id": "441e30bab41b4171aa404e9311f84d87",
       "version_major": 2,
       "version_minor": 0
      },
      "text/plain": [
       "  0%|          | 0/50 [00:00<?, ?it/s]"
      ]
     },
     "metadata": {},
     "output_type": "display_data"
    },
    {
     "name": "stdout",
     "output_type": "stream",
     "text": [
      "finish\n",
      "총 리뷰 수: 76, 가지고온 리뷰 수: 76\n",
      "리뷰 개수 동일\n",
      "리뷰를 적지 않은 사람은 총 2명 입니다.\n",
      "리뷰를 적은 사람은 총 74명 입니다.\n",
      "51번째 가게에 대한 리뷰를 가지고 오는 중입니다.\n",
      "한상\n"
     ]
    },
    {
     "data": {
      "application/vnd.jupyter.widget-view+json": {
       "model_id": "8ad00276fd494be2ba46170eaea41040",
       "version_major": 2,
       "version_minor": 0
      },
      "text/plain": [
       "  0%|          | 0/50 [00:00<?, ?it/s]"
      ]
     },
     "metadata": {},
     "output_type": "display_data"
    },
    {
     "name": "stdout",
     "output_type": "stream",
     "text": [
      "finish\n",
      "총 리뷰 수: 266, 가지고온 리뷰 수: 266\n",
      "리뷰 개수 동일\n",
      "리뷰를 적지 않은 사람은 총 8명 입니다.\n",
      "리뷰를 적은 사람은 총 258명 입니다.\n",
      "50번째 가게에 대한 리뷰를 가지고 오는 중입니다.\n",
      "스시다온\n"
     ]
    },
    {
     "data": {
      "application/vnd.jupyter.widget-view+json": {
       "model_id": "3849c257bf9743168bd245a5f00b4eef",
       "version_major": 2,
       "version_minor": 0
      },
      "text/plain": [
       "  0%|          | 0/50 [00:00<?, ?it/s]"
      ]
     },
     "metadata": {},
     "output_type": "display_data"
    },
    {
     "name": "stdout",
     "output_type": "stream",
     "text": [
      "총 리뷰 수: 451, 가지고온 리뷰 수: 370\n",
      "리뷰 개수 다름 - 양이 많아서 일부만 추출\n",
      "리뷰를 적지 않은 사람은 총 16명 입니다.\n",
      "리뷰를 적은 사람은 총 354명 입니다.\n",
      "49번째 가게에 대한 리뷰를 가지고 오는 중입니다.\n",
      "남해바다마차\n"
     ]
    },
    {
     "data": {
      "application/vnd.jupyter.widget-view+json": {
       "model_id": "91d6ea3d4bb845b19345203e716601d4",
       "version_major": 2,
       "version_minor": 0
      },
      "text/plain": [
       "  0%|          | 0/50 [00:00<?, ?it/s]"
      ]
     },
     "metadata": {},
     "output_type": "display_data"
    },
    {
     "name": "stdout",
     "output_type": "stream",
     "text": [
      "총 리뷰 수: 649, 가지고온 리뷰 수: 380\n",
      "리뷰 개수 다름 - 양이 많아서 일부만 추출\n",
      "리뷰를 적지 않은 사람은 총 13명 입니다.\n",
      "리뷰를 적은 사람은 총 367명 입니다.\n",
      "48번째 가게에 대한 리뷰를 가지고 오는 중입니다.\n",
      "집으로 간장게장 광운대점\n"
     ]
    },
    {
     "data": {
      "application/vnd.jupyter.widget-view+json": {
       "model_id": "b320a333b0b34d4e94afca68a1db5a8d",
       "version_major": 2,
       "version_minor": 0
      },
      "text/plain": [
       "  0%|          | 0/50 [00:00<?, ?it/s]"
      ]
     },
     "metadata": {},
     "output_type": "display_data"
    },
    {
     "name": "stdout",
     "output_type": "stream",
     "text": [
      "finish\n",
      "총 리뷰 수: 1, 가지고온 리뷰 수: 1\n",
      "리뷰 개수 동일\n",
      "리뷰를 적지 않은 사람은 총 0명 입니다.\n",
      "리뷰를 적은 사람은 총 1명 입니다.\n",
      "47번째 가게에 대한 리뷰를 가지고 오는 중입니다.\n",
      "김바삭군의볼카츠마켙 광운대점\n"
     ]
    },
    {
     "data": {
      "application/vnd.jupyter.widget-view+json": {
       "model_id": "069027c498144ac7b2e1d9e1b0369bfb",
       "version_major": 2,
       "version_minor": 0
      },
      "text/plain": [
       "  0%|          | 0/50 [00:00<?, ?it/s]"
      ]
     },
     "metadata": {},
     "output_type": "display_data"
    },
    {
     "name": "stdout",
     "output_type": "stream",
     "text": [
      "finish\n",
      "총 리뷰 수: 18, 가지고온 리뷰 수: 18\n",
      "리뷰 개수 동일\n",
      "리뷰를 적지 않은 사람은 총 0명 입니다.\n",
      "리뷰를 적은 사람은 총 18명 입니다.\n",
      "46번째 가게에 대한 리뷰를 가지고 오는 중입니다.\n",
      "만남곱창\n"
     ]
    },
    {
     "data": {
      "application/vnd.jupyter.widget-view+json": {
       "model_id": "156d8b92acfa48a883eb0eaad41ab273",
       "version_major": 2,
       "version_minor": 0
      },
      "text/plain": [
       "  0%|          | 0/50 [00:00<?, ?it/s]"
      ]
     },
     "metadata": {},
     "output_type": "display_data"
    },
    {
     "name": "stdout",
     "output_type": "stream",
     "text": [
      "finish\n",
      "총 리뷰 수: 63, 가지고온 리뷰 수: 63\n",
      "리뷰 개수 동일\n",
      "리뷰를 적지 않은 사람은 총 1명 입니다.\n",
      "리뷰를 적은 사람은 총 62명 입니다.\n",
      "45번째 가게에 대한 리뷰를 가지고 오는 중입니다.\n",
      "종로전집 광운대역\n"
     ]
    },
    {
     "data": {
      "application/vnd.jupyter.widget-view+json": {
       "model_id": "30cac3fed84c40058d8597bbded61b07",
       "version_major": 2,
       "version_minor": 0
      },
      "text/plain": [
       "  0%|          | 0/50 [00:00<?, ?it/s]"
      ]
     },
     "metadata": {},
     "output_type": "display_data"
    },
    {
     "name": "stdout",
     "output_type": "stream",
     "text": [
      "finish\n",
      "총 리뷰 수: 15, 가지고온 리뷰 수: 15\n",
      "리뷰 개수 동일\n",
      "리뷰를 적지 않은 사람은 총 1명 입니다.\n",
      "리뷰를 적은 사람은 총 14명 입니다.\n",
      "44번째 가게에 대한 리뷰를 가지고 오는 중입니다.\n",
      "주공 장위직영\n"
     ]
    },
    {
     "data": {
      "application/vnd.jupyter.widget-view+json": {
       "model_id": "e828037735464fed9ffd5c7c198871d2",
       "version_major": 2,
       "version_minor": 0
      },
      "text/plain": [
       "  0%|          | 0/50 [00:00<?, ?it/s]"
      ]
     },
     "metadata": {},
     "output_type": "display_data"
    },
    {
     "name": "stdout",
     "output_type": "stream",
     "text": [
      "finish\n",
      "총 리뷰 수: 312, 가지고온 리뷰 수: 312\n",
      "리뷰 개수 동일\n",
      "리뷰를 적지 않은 사람은 총 8명 입니다.\n",
      "리뷰를 적은 사람은 총 304명 입니다.\n",
      "43번째 가게에 대한 리뷰를 가지고 오는 중입니다.\n",
      "레드컵스 닭강정 광운대점\n"
     ]
    },
    {
     "data": {
      "application/vnd.jupyter.widget-view+json": {
       "model_id": "3f1da92eb9124331824f9804c33a53a6",
       "version_major": 2,
       "version_minor": 0
      },
      "text/plain": [
       "  0%|          | 0/50 [00:00<?, ?it/s]"
      ]
     },
     "metadata": {},
     "output_type": "display_data"
    },
    {
     "name": "stdout",
     "output_type": "stream",
     "text": [
      "finish\n",
      "총 리뷰 수: 7, 가지고온 리뷰 수: 7\n",
      "리뷰 개수 동일\n",
      "리뷰를 적지 않은 사람은 총 0명 입니다.\n",
      "리뷰를 적은 사람은 총 7명 입니다.\n",
      "42번째 가게에 대한 리뷰를 가지고 오는 중입니다.\n",
      "고센 기와집갈비\n"
     ]
    },
    {
     "data": {
      "application/vnd.jupyter.widget-view+json": {
       "model_id": "7e1ccdfb10e84043bfacb606eff855ef",
       "version_major": 2,
       "version_minor": 0
      },
      "text/plain": [
       "  0%|          | 0/50 [00:00<?, ?it/s]"
      ]
     },
     "metadata": {},
     "output_type": "display_data"
    },
    {
     "name": "stdout",
     "output_type": "stream",
     "text": [
      "총 리뷰 수: 1040, 가지고온 리뷰 수: 390\n",
      "리뷰 개수 다름 - 양이 많아서 일부만 추출\n",
      "리뷰를 적지 않은 사람은 총 17명 입니다.\n",
      "리뷰를 적은 사람은 총 373명 입니다.\n",
      "41번째 가게에 대한 리뷰를 가지고 오는 중입니다.\n",
      "마루\n"
     ]
    },
    {
     "data": {
      "application/vnd.jupyter.widget-view+json": {
       "model_id": "ebd0178906ca4880ae160a9f9c422c6f",
       "version_major": 2,
       "version_minor": 0
      },
      "text/plain": [
       "  0%|          | 0/50 [00:00<?, ?it/s]"
      ]
     },
     "metadata": {},
     "output_type": "display_data"
    },
    {
     "name": "stdout",
     "output_type": "stream",
     "text": [
      "finish\n",
      "총 리뷰 수: 45, 가지고온 리뷰 수: 45\n",
      "리뷰 개수 동일\n",
      "리뷰를 적지 않은 사람은 총 1명 입니다.\n",
      "리뷰를 적은 사람은 총 44명 입니다.\n",
      "40번째 가게에 대한 리뷰를 가지고 오는 중입니다.\n",
      "뚝배기\n"
     ]
    },
    {
     "data": {
      "application/vnd.jupyter.widget-view+json": {
       "model_id": "11fa8269944141c4833fcb1e9e95cfd6",
       "version_major": 2,
       "version_minor": 0
      },
      "text/plain": [
       "  0%|          | 0/50 [00:00<?, ?it/s]"
      ]
     },
     "metadata": {},
     "output_type": "display_data"
    },
    {
     "name": "stdout",
     "output_type": "stream",
     "text": [
      "finish\n",
      "총 리뷰 수: 34, 가지고온 리뷰 수: 34\n",
      "리뷰 개수 동일\n",
      "리뷰를 적지 않은 사람은 총 0명 입니다.\n",
      "리뷰를 적은 사람은 총 34명 입니다.\n",
      "39번째 가게에 대한 리뷰를 가지고 오는 중입니다.\n",
      "한끼\n"
     ]
    },
    {
     "data": {
      "application/vnd.jupyter.widget-view+json": {
       "model_id": "5d87745de3844f2099e3be0f213e2ec3",
       "version_major": 2,
       "version_minor": 0
      },
      "text/plain": [
       "  0%|          | 0/50 [00:00<?, ?it/s]"
      ]
     },
     "metadata": {},
     "output_type": "display_data"
    },
    {
     "name": "stdout",
     "output_type": "stream",
     "text": [
      "finish\n",
      "총 리뷰 수: 33, 가지고온 리뷰 수: 33\n",
      "리뷰 개수 동일\n",
      "리뷰를 적지 않은 사람은 총 1명 입니다.\n",
      "리뷰를 적은 사람은 총 32명 입니다.\n",
      "38번째 가게에 대한 리뷰를 가지고 오는 중입니다.\n",
      "로스2000\n"
     ]
    },
    {
     "data": {
      "application/vnd.jupyter.widget-view+json": {
       "model_id": "89902f12d0fe4dcb9c1947041faea850",
       "version_major": 2,
       "version_minor": 0
      },
      "text/plain": [
       "  0%|          | 0/50 [00:00<?, ?it/s]"
      ]
     },
     "metadata": {},
     "output_type": "display_data"
    },
    {
     "name": "stdout",
     "output_type": "stream",
     "text": [
      "finish\n",
      "총 리뷰 수: 26, 가지고온 리뷰 수: 26\n",
      "리뷰 개수 동일\n",
      "리뷰를 적지 않은 사람은 총 0명 입니다.\n",
      "리뷰를 적은 사람은 총 26명 입니다.\n",
      "37번째 가게에 대한 리뷰를 가지고 오는 중입니다.\n",
      "애슐리퀸즈 이마트 월계점\n"
     ]
    },
    {
     "data": {
      "application/vnd.jupyter.widget-view+json": {
       "model_id": "c9efef0645d94073aba3a502f949d1c6",
       "version_major": 2,
       "version_minor": 0
      },
      "text/plain": [
       "  0%|          | 0/50 [00:00<?, ?it/s]"
      ]
     },
     "metadata": {},
     "output_type": "display_data"
    },
    {
     "name": "stdout",
     "output_type": "stream",
     "text": [
      "총 리뷰 수: 3776, 가지고온 리뷰 수: 380\n",
      "리뷰 개수 다름 - 양이 많아서 일부만 추출\n",
      "리뷰를 적지 않은 사람은 총 15명 입니다.\n",
      "리뷰를 적은 사람은 총 365명 입니다.\n",
      "36번째 가게에 대한 리뷰를 가지고 오는 중입니다.\n",
      "광운양꼬치\n"
     ]
    },
    {
     "data": {
      "application/vnd.jupyter.widget-view+json": {
       "model_id": "0fb96c1deb6c4f6493ea7b9e5e65c16d",
       "version_major": 2,
       "version_minor": 0
      },
      "text/plain": [
       "  0%|          | 0/50 [00:00<?, ?it/s]"
      ]
     },
     "metadata": {},
     "output_type": "display_data"
    },
    {
     "name": "stdout",
     "output_type": "stream",
     "text": [
      "finish\n",
      "총 리뷰 수: 42, 가지고온 리뷰 수: 42\n",
      "리뷰 개수 동일\n",
      "리뷰를 적지 않은 사람은 총 1명 입니다.\n",
      "리뷰를 적은 사람은 총 41명 입니다.\n",
      "35번째 가게에 대한 리뷰를 가지고 오는 중입니다.\n",
      "팔팔전어횟집\n"
     ]
    },
    {
     "data": {
      "application/vnd.jupyter.widget-view+json": {
       "model_id": "1d4c0f3074224ae6b1640987d4ade41e",
       "version_major": 2,
       "version_minor": 0
      },
      "text/plain": [
       "  0%|          | 0/50 [00:00<?, ?it/s]"
      ]
     },
     "metadata": {},
     "output_type": "display_data"
    },
    {
     "name": "stdout",
     "output_type": "stream",
     "text": [
      "finish\n",
      "총 리뷰 수: 8, 가지고온 리뷰 수: 8\n",
      "리뷰 개수 동일\n",
      "리뷰를 적지 않은 사람은 총 0명 입니다.\n",
      "리뷰를 적은 사람은 총 8명 입니다.\n",
      "34번째 가게에 대한 리뷰를 가지고 오는 중입니다.\n",
      "진짜루\n"
     ]
    },
    {
     "data": {
      "application/vnd.jupyter.widget-view+json": {
       "model_id": "a40c30029e6a48768570cf211ab0ecb6",
       "version_major": 2,
       "version_minor": 0
      },
      "text/plain": [
       "  0%|          | 0/50 [00:00<?, ?it/s]"
      ]
     },
     "metadata": {},
     "output_type": "display_data"
    },
    {
     "name": "stdout",
     "output_type": "stream",
     "text": [
      "finish\n",
      "총 리뷰 수: 56, 가지고온 리뷰 수: 56\n",
      "리뷰 개수 동일\n",
      "리뷰를 적지 않은 사람은 총 1명 입니다.\n",
      "리뷰를 적은 사람은 총 55명 입니다.\n",
      "33번째 가게에 대한 리뷰를 가지고 오는 중입니다.\n",
      "부리또잇\n"
     ]
    },
    {
     "data": {
      "application/vnd.jupyter.widget-view+json": {
       "model_id": "d9e7f3a426944292bee42b7732073d31",
       "version_major": 2,
       "version_minor": 0
      },
      "text/plain": [
       "  0%|          | 0/50 [00:00<?, ?it/s]"
      ]
     },
     "metadata": {},
     "output_type": "display_data"
    },
    {
     "name": "stdout",
     "output_type": "stream",
     "text": [
      "finish\n",
      "총 리뷰 수: 14, 가지고온 리뷰 수: 14\n",
      "리뷰 개수 동일\n",
      "리뷰를 적지 않은 사람은 총 0명 입니다.\n",
      "리뷰를 적은 사람은 총 14명 입니다.\n",
      "32번째 가게에 대한 리뷰를 가지고 오는 중입니다.\n",
      "민들레국시\n"
     ]
    },
    {
     "data": {
      "application/vnd.jupyter.widget-view+json": {
       "model_id": "e14ac04e28b547adbe654347f466b76c",
       "version_major": 2,
       "version_minor": 0
      },
      "text/plain": [
       "  0%|          | 0/50 [00:00<?, ?it/s]"
      ]
     },
     "metadata": {},
     "output_type": "display_data"
    },
    {
     "name": "stdout",
     "output_type": "stream",
     "text": [
      "finish\n",
      "총 리뷰 수: 19, 가지고온 리뷰 수: 19\n",
      "리뷰 개수 동일\n",
      "리뷰를 적지 않은 사람은 총 0명 입니다.\n",
      "리뷰를 적은 사람은 총 19명 입니다.\n",
      "31번째 가게에 대한 리뷰를 가지고 오는 중입니다.\n",
      "ssam\n"
     ]
    },
    {
     "data": {
      "application/vnd.jupyter.widget-view+json": {
       "model_id": "2ec65e10c17a4f9584a9b98c4db14793",
       "version_major": 2,
       "version_minor": 0
      },
      "text/plain": [
       "  0%|          | 0/50 [00:00<?, ?it/s]"
      ]
     },
     "metadata": {},
     "output_type": "display_data"
    },
    {
     "name": "stdout",
     "output_type": "stream",
     "text": [
      "finish\n",
      "총 리뷰 수: 17, 가지고온 리뷰 수: 17\n",
      "리뷰 개수 동일\n",
      "리뷰를 적지 않은 사람은 총 0명 입니다.\n",
      "리뷰를 적은 사람은 총 17명 입니다.\n",
      "30번째 가게에 대한 리뷰를 가지고 오는 중입니다.\n",
      "학교종이땡땡땡 광운대점\n"
     ]
    },
    {
     "data": {
      "application/vnd.jupyter.widget-view+json": {
       "model_id": "96a3eee5ed05455390e1c0da402dcd6d",
       "version_major": 2,
       "version_minor": 0
      },
      "text/plain": [
       "  0%|          | 0/50 [00:00<?, ?it/s]"
      ]
     },
     "metadata": {},
     "output_type": "display_data"
    },
    {
     "name": "stdout",
     "output_type": "stream",
     "text": [
      "finish\n",
      "총 리뷰 수: 13, 가지고온 리뷰 수: 13\n",
      "리뷰 개수 동일\n",
      "리뷰를 적지 않은 사람은 총 0명 입니다.\n",
      "리뷰를 적은 사람은 총 13명 입니다.\n",
      "29번째 가게에 대한 리뷰를 가지고 오는 중입니다.\n",
      "꽃제비칼국수\n"
     ]
    },
    {
     "data": {
      "application/vnd.jupyter.widget-view+json": {
       "model_id": "052dc493c6624c45bcb29e33bd26790a",
       "version_major": 2,
       "version_minor": 0
      },
      "text/plain": [
       "  0%|          | 0/50 [00:00<?, ?it/s]"
      ]
     },
     "metadata": {},
     "output_type": "display_data"
    },
    {
     "name": "stdout",
     "output_type": "stream",
     "text": [
      "finish\n",
      "총 리뷰 수: 70, 가지고온 리뷰 수: 70\n",
      "리뷰 개수 동일\n",
      "리뷰를 적지 않은 사람은 총 1명 입니다.\n",
      "리뷰를 적은 사람은 총 69명 입니다.\n",
      "28번째 가게에 대한 리뷰를 가지고 오는 중입니다.\n",
      "썬더치킨 광운대점\n"
     ]
    },
    {
     "data": {
      "application/vnd.jupyter.widget-view+json": {
       "model_id": "fa471b8f5f5a4292b325d19ab9a8d06e",
       "version_major": 2,
       "version_minor": 0
      },
      "text/plain": [
       "  0%|          | 0/50 [00:00<?, ?it/s]"
      ]
     },
     "metadata": {},
     "output_type": "display_data"
    },
    {
     "name": "stdout",
     "output_type": "stream",
     "text": [
      "finish\n",
      "총 리뷰 수: 64, 가지고온 리뷰 수: 64\n",
      "리뷰 개수 동일\n",
      "리뷰를 적지 않은 사람은 총 0명 입니다.\n",
      "리뷰를 적은 사람은 총 64명 입니다.\n",
      "27번째 가게에 대한 리뷰를 가지고 오는 중입니다.\n",
      "진심카츠 광운대점\n"
     ]
    },
    {
     "data": {
      "application/vnd.jupyter.widget-view+json": {
       "model_id": "f8ad88ebde334323842b6ca1aa48c060",
       "version_major": 2,
       "version_minor": 0
      },
      "text/plain": [
       "  0%|          | 0/50 [00:00<?, ?it/s]"
      ]
     },
     "metadata": {},
     "output_type": "display_data"
    },
    {
     "name": "stdout",
     "output_type": "stream",
     "text": [
      "finish\n",
      "총 리뷰 수: 92, 가지고온 리뷰 수: 92\n",
      "리뷰 개수 동일\n",
      "리뷰를 적지 않은 사람은 총 4명 입니다.\n",
      "리뷰를 적은 사람은 총 88명 입니다.\n",
      "26번째 가게에 대한 리뷰를 가지고 오는 중입니다.\n",
      "쉐프밥버거 광운대점\n"
     ]
    },
    {
     "data": {
      "application/vnd.jupyter.widget-view+json": {
       "model_id": "9927d6e601be4c75b49ec8ba7a0f1a3b",
       "version_major": 2,
       "version_minor": 0
      },
      "text/plain": [
       "  0%|          | 0/50 [00:00<?, ?it/s]"
      ]
     },
     "metadata": {},
     "output_type": "display_data"
    },
    {
     "name": "stdout",
     "output_type": "stream",
     "text": [
      "finish\n",
      "총 리뷰 수: 19, 가지고온 리뷰 수: 19\n",
      "리뷰 개수 동일\n",
      "리뷰를 적지 않은 사람은 총 0명 입니다.\n",
      "리뷰를 적은 사람은 총 19명 입니다.\n",
      "25번째 가게에 대한 리뷰를 가지고 오는 중입니다.\n",
      "고씨네 광운대점\n"
     ]
    },
    {
     "data": {
      "application/vnd.jupyter.widget-view+json": {
       "model_id": "e3cfa28fe24b463eacba2aeb3653ca28",
       "version_major": 2,
       "version_minor": 0
      },
      "text/plain": [
       "  0%|          | 0/50 [00:00<?, ?it/s]"
      ]
     },
     "metadata": {},
     "output_type": "display_data"
    },
    {
     "name": "stdout",
     "output_type": "stream",
     "text": [
      "finish\n",
      "총 리뷰 수: 58, 가지고온 리뷰 수: 58\n",
      "리뷰 개수 동일\n",
      "리뷰를 적지 않은 사람은 총 3명 입니다.\n",
      "리뷰를 적은 사람은 총 55명 입니다.\n",
      "24번째 가게에 대한 리뷰를 가지고 오는 중입니다.\n",
      "맘스터치 피자앤치킨 광운대점\n"
     ]
    },
    {
     "data": {
      "application/vnd.jupyter.widget-view+json": {
       "model_id": "79e35735580642439e66282bfdd4eb06",
       "version_major": 2,
       "version_minor": 0
      },
      "text/plain": [
       "  0%|          | 0/50 [00:00<?, ?it/s]"
      ]
     },
     "metadata": {},
     "output_type": "display_data"
    },
    {
     "name": "stdout",
     "output_type": "stream",
     "text": [
      "finish\n",
      "총 리뷰 수: 63, 가지고온 리뷰 수: 63\n",
      "리뷰 개수 동일\n",
      "리뷰를 적지 않은 사람은 총 1명 입니다.\n",
      "리뷰를 적은 사람은 총 62명 입니다.\n",
      "23번째 가게에 대한 리뷰를 가지고 오는 중입니다.\n",
      "김가네 광운대점\n"
     ]
    },
    {
     "data": {
      "application/vnd.jupyter.widget-view+json": {
       "model_id": "87b0d49536c24013abe9208e75fe5fa6",
       "version_major": 2,
       "version_minor": 0
      },
      "text/plain": [
       "  0%|          | 0/50 [00:00<?, ?it/s]"
      ]
     },
     "metadata": {},
     "output_type": "display_data"
    },
    {
     "name": "stdout",
     "output_type": "stream",
     "text": [
      "finish\n",
      "총 리뷰 수: 120, 가지고온 리뷰 수: 120\n",
      "리뷰 개수 동일\n",
      "리뷰를 적지 않은 사람은 총 2명 입니다.\n",
      "리뷰를 적은 사람은 총 118명 입니다.\n",
      "22번째 가게에 대한 리뷰를 가지고 오는 중입니다.\n",
      "경대컵밥\n"
     ]
    },
    {
     "data": {
      "application/vnd.jupyter.widget-view+json": {
       "model_id": "a565b71a180f4b9fa27e57bfb556b743",
       "version_major": 2,
       "version_minor": 0
      },
      "text/plain": [
       "  0%|          | 0/50 [00:00<?, ?it/s]"
      ]
     },
     "metadata": {},
     "output_type": "display_data"
    },
    {
     "name": "stdout",
     "output_type": "stream",
     "text": [
      "finish\n",
      "총 리뷰 수: 69, 가지고온 리뷰 수: 69\n",
      "리뷰 개수 동일\n",
      "리뷰를 적지 않은 사람은 총 0명 입니다.\n",
      "리뷰를 적은 사람은 총 69명 입니다.\n",
      "21번째 가게에 대한 리뷰를 가지고 오는 중입니다.\n",
      "BBQ치킨 월계광운대점\n"
     ]
    },
    {
     "data": {
      "application/vnd.jupyter.widget-view+json": {
       "model_id": "ebcdae3d24064ec8aa74296f3047d972",
       "version_major": 2,
       "version_minor": 0
      },
      "text/plain": [
       "  0%|          | 0/50 [00:00<?, ?it/s]"
      ]
     },
     "metadata": {},
     "output_type": "display_data"
    },
    {
     "name": "stdout",
     "output_type": "stream",
     "text": [
      "finish\n",
      "총 리뷰 수: 33, 가지고온 리뷰 수: 33\n",
      "리뷰 개수 동일\n",
      "리뷰를 적지 않은 사람은 총 0명 입니다.\n",
      "리뷰를 적은 사람은 총 33명 입니다.\n",
      "20번째 가게에 대한 리뷰를 가지고 오는 중입니다.\n",
      "맛불\n"
     ]
    },
    {
     "data": {
      "application/vnd.jupyter.widget-view+json": {
       "model_id": "aadcf365ee454c8b9604246d4aea8d24",
       "version_major": 2,
       "version_minor": 0
      },
      "text/plain": [
       "  0%|          | 0/50 [00:00<?, ?it/s]"
      ]
     },
     "metadata": {},
     "output_type": "display_data"
    },
    {
     "name": "stdout",
     "output_type": "stream",
     "text": [
      "finish\n",
      "총 리뷰 수: 47, 가지고온 리뷰 수: 47\n",
      "리뷰 개수 동일\n",
      "리뷰를 적지 않은 사람은 총 2명 입니다.\n",
      "리뷰를 적은 사람은 총 45명 입니다.\n",
      "19번째 가게에 대한 리뷰를 가지고 오는 중입니다.\n",
      "더진국 수육국밥 광운대점\n"
     ]
    },
    {
     "data": {
      "application/vnd.jupyter.widget-view+json": {
       "model_id": "f0a1e490017740cd907bb0eda0c94b7d",
       "version_major": 2,
       "version_minor": 0
      },
      "text/plain": [
       "  0%|          | 0/50 [00:00<?, ?it/s]"
      ]
     },
     "metadata": {},
     "output_type": "display_data"
    },
    {
     "name": "stdout",
     "output_type": "stream",
     "text": [
      "finish\n",
      "총 리뷰 수: 1, 가지고온 리뷰 수: 1\n",
      "리뷰 개수 동일\n",
      "리뷰를 적지 않은 사람은 총 0명 입니다.\n",
      "리뷰를 적은 사람은 총 1명 입니다.\n",
      "18번째 가게에 대한 리뷰를 가지고 오는 중입니다.\n",
      "땡초불닭발동대문엽기떡볶이 월계점\n"
     ]
    },
    {
     "data": {
      "application/vnd.jupyter.widget-view+json": {
       "model_id": "4a1471a99b8d4dfc8d12511498e66c12",
       "version_major": 2,
       "version_minor": 0
      },
      "text/plain": [
       "  0%|          | 0/50 [00:00<?, ?it/s]"
      ]
     },
     "metadata": {},
     "output_type": "display_data"
    },
    {
     "name": "stdout",
     "output_type": "stream",
     "text": [
      "finish\n",
      "총 리뷰 수: 318, 가지고온 리뷰 수: 318\n",
      "리뷰 개수 동일\n",
      "리뷰를 적지 않은 사람은 총 5명 입니다.\n",
      "리뷰를 적은 사람은 총 313명 입니다.\n",
      "17번째 가게에 대한 리뷰를 가지고 오는 중입니다.\n",
      "청년다방 광운대점\n"
     ]
    },
    {
     "data": {
      "application/vnd.jupyter.widget-view+json": {
       "model_id": "41f329ea8fef4409b197e98cbe1d61e5",
       "version_major": 2,
       "version_minor": 0
      },
      "text/plain": [
       "  0%|          | 0/50 [00:00<?, ?it/s]"
      ]
     },
     "metadata": {},
     "output_type": "display_data"
    },
    {
     "name": "stdout",
     "output_type": "stream",
     "text": [
      "finish\n",
      "총 리뷰 수: 73, 가지고온 리뷰 수: 73\n",
      "리뷰 개수 동일\n",
      "리뷰를 적지 않은 사람은 총 3명 입니다.\n",
      "리뷰를 적은 사람은 총 70명 입니다.\n",
      "16번째 가게에 대한 리뷰를 가지고 오는 중입니다.\n",
      "파파존스 광운대점\n"
     ]
    },
    {
     "data": {
      "application/vnd.jupyter.widget-view+json": {
       "model_id": "ee3ec25ab4c8455b87266a08c1f6d778",
       "version_major": 2,
       "version_minor": 0
      },
      "text/plain": [
       "  0%|          | 0/50 [00:00<?, ?it/s]"
      ]
     },
     "metadata": {},
     "output_type": "display_data"
    },
    {
     "name": "stdout",
     "output_type": "stream",
     "text": [
      "finish\n",
      "총 리뷰 수: 89, 가지고온 리뷰 수: 89\n",
      "리뷰 개수 동일\n",
      "리뷰를 적지 않은 사람은 총 3명 입니다.\n",
      "리뷰를 적은 사람은 총 86명 입니다.\n",
      "15번째 가게에 대한 리뷰를 가지고 오는 중입니다.\n",
      "장수국수\n"
     ]
    },
    {
     "data": {
      "application/vnd.jupyter.widget-view+json": {
       "model_id": "a809b45859374fea90709da93a5ccd46",
       "version_major": 2,
       "version_minor": 0
      },
      "text/plain": [
       "  0%|          | 0/50 [00:00<?, ?it/s]"
      ]
     },
     "metadata": {},
     "output_type": "display_data"
    },
    {
     "name": "stdout",
     "output_type": "stream",
     "text": [
      "finish\n",
      "총 리뷰 수: 96, 가지고온 리뷰 수: 96\n",
      "리뷰 개수 동일\n",
      "리뷰를 적지 않은 사람은 총 1명 입니다.\n",
      "리뷰를 적은 사람은 총 95명 입니다.\n",
      "14번째 가게에 대한 리뷰를 가지고 오는 중입니다.\n",
      "디델리 서울 광운대점\n"
     ]
    },
    {
     "data": {
      "application/vnd.jupyter.widget-view+json": {
       "model_id": "c965d92a9e5c47819879fed5a9c53896",
       "version_major": 2,
       "version_minor": 0
      },
      "text/plain": [
       "  0%|          | 0/50 [00:00<?, ?it/s]"
      ]
     },
     "metadata": {},
     "output_type": "display_data"
    },
    {
     "name": "stdout",
     "output_type": "stream",
     "text": [
      "finish\n",
      "총 리뷰 수: 77, 가지고온 리뷰 수: 77\n",
      "리뷰 개수 동일\n",
      "리뷰를 적지 않은 사람은 총 5명 입니다.\n",
      "리뷰를 적은 사람은 총 72명 입니다.\n",
      "13번째 가게에 대한 리뷰를 가지고 오는 중입니다.\n",
      "수해복마라탕 광운대점\n"
     ]
    },
    {
     "data": {
      "application/vnd.jupyter.widget-view+json": {
       "model_id": "b0a128dc88414d7d9bbebb9cd23a5ba5",
       "version_major": 2,
       "version_minor": 0
      },
      "text/plain": [
       "  0%|          | 0/50 [00:00<?, ?it/s]"
      ]
     },
     "metadata": {},
     "output_type": "display_data"
    },
    {
     "name": "stdout",
     "output_type": "stream",
     "text": [
      "finish\n",
      "총 리뷰 수: 164, 가지고온 리뷰 수: 164\n",
      "리뷰 개수 동일\n",
      "리뷰를 적지 않은 사람은 총 3명 입니다.\n",
      "리뷰를 적은 사람은 총 161명 입니다.\n",
      "12번째 가게에 대한 리뷰를 가지고 오는 중입니다.\n",
      "이층집\n"
     ]
    },
    {
     "data": {
      "application/vnd.jupyter.widget-view+json": {
       "model_id": "cf90af340ae548c5ab28b19b6147ad91",
       "version_major": 2,
       "version_minor": 0
      },
      "text/plain": [
       "  0%|          | 0/50 [00:00<?, ?it/s]"
      ]
     },
     "metadata": {},
     "output_type": "display_data"
    },
    {
     "name": "stdout",
     "output_type": "stream",
     "text": [
      "finish\n",
      "총 리뷰 수: 84, 가지고온 리뷰 수: 84\n",
      "리뷰 개수 동일\n",
      "리뷰를 적지 않은 사람은 총 1명 입니다.\n",
      "리뷰를 적은 사람은 총 83명 입니다.\n",
      "11번째 가게에 대한 리뷰를 가지고 오는 중입니다.\n",
      "밥은화 광운대점\n"
     ]
    },
    {
     "data": {
      "application/vnd.jupyter.widget-view+json": {
       "model_id": "03387d7ef0b34a0f9f56a8fc78fb1cbb",
       "version_major": 2,
       "version_minor": 0
      },
      "text/plain": [
       "  0%|          | 0/50 [00:00<?, ?it/s]"
      ]
     },
     "metadata": {},
     "output_type": "display_data"
    },
    {
     "name": "stdout",
     "output_type": "stream",
     "text": [
      "finish\n",
      "총 리뷰 수: 134, 가지고온 리뷰 수: 134\n",
      "리뷰 개수 동일\n",
      "리뷰를 적지 않은 사람은 총 4명 입니다.\n",
      "리뷰를 적은 사람은 총 130명 입니다.\n",
      "10번째 가게에 대한 리뷰를 가지고 오는 중입니다.\n",
      "카츠백 월계점\n"
     ]
    },
    {
     "data": {
      "application/vnd.jupyter.widget-view+json": {
       "model_id": "3e59f24cf7594577b7a3afabb19e7c51",
       "version_major": 2,
       "version_minor": 0
      },
      "text/plain": [
       "  0%|          | 0/50 [00:00<?, ?it/s]"
      ]
     },
     "metadata": {},
     "output_type": "display_data"
    },
    {
     "name": "stdout",
     "output_type": "stream",
     "text": [
      "finish\n",
      "총 리뷰 수: 53, 가지고온 리뷰 수: 53\n",
      "리뷰 개수 동일\n",
      "리뷰를 적지 않은 사람은 총 6명 입니다.\n",
      "리뷰를 적은 사람은 총 47명 입니다.\n",
      "9번째 가게에 대한 리뷰를 가지고 오는 중입니다.\n",
      "프랭크버거 광운대점\n"
     ]
    },
    {
     "data": {
      "application/vnd.jupyter.widget-view+json": {
       "model_id": "ceacafe1188444d1b0af09084de8f262",
       "version_major": 2,
       "version_minor": 0
      },
      "text/plain": [
       "  0%|          | 0/50 [00:00<?, ?it/s]"
      ]
     },
     "metadata": {},
     "output_type": "display_data"
    },
    {
     "name": "stdout",
     "output_type": "stream",
     "text": [
      "finish\n",
      "총 리뷰 수: 96, 가지고온 리뷰 수: 96\n",
      "리뷰 개수 동일\n",
      "리뷰를 적지 않은 사람은 총 4명 입니다.\n",
      "리뷰를 적은 사람은 총 92명 입니다.\n",
      "8번째 가게에 대한 리뷰를 가지고 오는 중입니다.\n",
      "지지고 광운대점\n"
     ]
    },
    {
     "data": {
      "application/vnd.jupyter.widget-view+json": {
       "model_id": "11e4946985914605a35a57232d53a1a5",
       "version_major": 2,
       "version_minor": 0
      },
      "text/plain": [
       "  0%|          | 0/50 [00:00<?, ?it/s]"
      ]
     },
     "metadata": {},
     "output_type": "display_data"
    },
    {
     "name": "stdout",
     "output_type": "stream",
     "text": [
      "finish\n",
      "총 리뷰 수: 111, 가지고온 리뷰 수: 111\n",
      "리뷰 개수 동일\n",
      "리뷰를 적지 않은 사람은 총 2명 입니다.\n",
      "리뷰를 적은 사람은 총 109명 입니다.\n",
      "7번째 가게에 대한 리뷰를 가지고 오는 중입니다.\n",
      "신연마라탕\n"
     ]
    },
    {
     "data": {
      "application/vnd.jupyter.widget-view+json": {
       "model_id": "7df3d0cd64394ac99330dc09c2243708",
       "version_major": 2,
       "version_minor": 0
      },
      "text/plain": [
       "  0%|          | 0/50 [00:00<?, ?it/s]"
      ]
     },
     "metadata": {},
     "output_type": "display_data"
    },
    {
     "name": "stdout",
     "output_type": "stream",
     "text": [
      "finish\n",
      "총 리뷰 수: 63, 가지고온 리뷰 수: 63\n",
      "리뷰 개수 동일\n",
      "리뷰를 적지 않은 사람은 총 1명 입니다.\n",
      "리뷰를 적은 사람은 총 62명 입니다.\n",
      "6번째 가게에 대한 리뷰를 가지고 오는 중입니다.\n",
      "김밥천국 광운대점\n"
     ]
    },
    {
     "data": {
      "application/vnd.jupyter.widget-view+json": {
       "model_id": "dfe16ba61b66459da344864f1417a908",
       "version_major": 2,
       "version_minor": 0
      },
      "text/plain": [
       "  0%|          | 0/50 [00:00<?, ?it/s]"
      ]
     },
     "metadata": {},
     "output_type": "display_data"
    },
    {
     "name": "stdout",
     "output_type": "stream",
     "text": [
      "총 리뷰 수: 463, 가지고온 리뷰 수: 50\n",
      "리뷰 개수 다름 - 양이 많아서 일부만 추출\n",
      "리뷰를 적지 않은 사람은 총 1명 입니다.\n",
      "리뷰를 적은 사람은 총 49명 입니다.\n",
      "5번째 가게에 대한 리뷰를 가지고 오는 중입니다.\n",
      "푸른스시 광운대본점\n"
     ]
    },
    {
     "data": {
      "application/vnd.jupyter.widget-view+json": {
       "model_id": "ef1c45786429456485df0d220481aa0f",
       "version_major": 2,
       "version_minor": 0
      },
      "text/plain": [
       "  0%|          | 0/50 [00:00<?, ?it/s]"
      ]
     },
     "metadata": {},
     "output_type": "display_data"
    },
    {
     "name": "stdout",
     "output_type": "stream",
     "text": [
      "총 리뷰 수: 114, 가지고온 리뷰 수: 90\n",
      "리뷰 개수 다름 - 양이 많아서 일부만 추출\n",
      "리뷰를 적지 않은 사람은 총 0명 입니다.\n",
      "리뷰를 적은 사람은 총 90명 입니다.\n",
      "4번째 가게에 대한 리뷰를 가지고 오는 중입니다.\n",
      "진미통닭\n"
     ]
    },
    {
     "data": {
      "application/vnd.jupyter.widget-view+json": {
       "model_id": "b242d767a78447c4a33744a05c4839b2",
       "version_major": 2,
       "version_minor": 0
      },
      "text/plain": [
       "  0%|          | 0/50 [00:00<?, ?it/s]"
      ]
     },
     "metadata": {},
     "output_type": "display_data"
    },
    {
     "name": "stdout",
     "output_type": "stream",
     "text": [
      "finish\n",
      "총 리뷰 수: 52, 가지고온 리뷰 수: 52\n",
      "리뷰 개수 동일\n",
      "리뷰를 적지 않은 사람은 총 0명 입니다.\n",
      "리뷰를 적은 사람은 총 52명 입니다.\n",
      "3번째 가게에 대한 리뷰를 가지고 오는 중입니다.\n",
      "화로상회 광운대본점\n"
     ]
    },
    {
     "data": {
      "application/vnd.jupyter.widget-view+json": {
       "model_id": "eff3d4b80da5458a87ea4aee90940a12",
       "version_major": 2,
       "version_minor": 0
      },
      "text/plain": [
       "  0%|          | 0/50 [00:00<?, ?it/s]"
      ]
     },
     "metadata": {},
     "output_type": "display_data"
    },
    {
     "name": "stdout",
     "output_type": "stream",
     "text": [
      "총 리뷰 수: 140, 가지고온 리뷰 수: 110\n",
      "리뷰 개수 다름 - 양이 많아서 일부만 추출\n",
      "리뷰를 적지 않은 사람은 총 5명 입니다.\n",
      "리뷰를 적은 사람은 총 105명 입니다.\n",
      "2번째 가게에 대한 리뷰를 가지고 오는 중입니다.\n",
      "윤스쿡\n"
     ]
    },
    {
     "data": {
      "application/vnd.jupyter.widget-view+json": {
       "model_id": "67253855a6e04f969c6c79d8083e2d0e",
       "version_major": 2,
       "version_minor": 0
      },
      "text/plain": [
       "  0%|          | 0/50 [00:00<?, ?it/s]"
      ]
     },
     "metadata": {},
     "output_type": "display_data"
    },
    {
     "name": "stdout",
     "output_type": "stream",
     "text": [
      "총 리뷰 수: 172, 가지고온 리뷰 수: 60\n",
      "리뷰 개수 다름 - 양이 많아서 일부만 추출\n",
      "리뷰를 적지 않은 사람은 총 10명 입니다.\n",
      "리뷰를 적은 사람은 총 50명 입니다.\n",
      "1번째 가게에 대한 리뷰를 가지고 오는 중입니다.\n",
      "하이레\n"
     ]
    },
    {
     "data": {
      "application/vnd.jupyter.widget-view+json": {
       "model_id": "d6e12234fd6b48f2b1df57557aefd96e",
       "version_major": 2,
       "version_minor": 0
      },
      "text/plain": [
       "  0%|          | 0/50 [00:00<?, ?it/s]"
      ]
     },
     "metadata": {},
     "output_type": "display_data"
    },
    {
     "name": "stdout",
     "output_type": "stream",
     "text": [
      "finish\n",
      "총 리뷰 수: 46, 가지고온 리뷰 수: 46\n",
      "리뷰 개수 동일\n",
      "리뷰를 적지 않은 사람은 총 2명 입니다.\n",
      "리뷰를 적은 사람은 총 44명 입니다.\n"
     ]
    }
   ],
   "source": [
    "for idx in range(len(df_link)-1, -1, -1):\n",
    "    print(f'{idx+1}번째 가게에 대한 리뷰를 가지고 오는 중입니다.')\n",
    "    browser.get(df_link.iloc[idx])\n",
    "    \n",
    "    time.sleep(1)\n",
    "    \n",
    "    first_soup = BeautifulSoup(browser.page_source, 'html.parser')\n",
    "\n",
    "    time.sleep(1)\n",
    "    \n",
    "    # 가게이름\n",
    "    restaurant_name = first_soup.select('.GHAhO')[0].text\n",
    "    print(restaurant_name)\n",
    "    \n",
    "    # ---------------------------------------------------------------\n",
    "    \n",
    "    time.sleep(1)\n",
    "    \n",
    "    # 리뷰 전체 보기 - 더보기 버튼 누르는 과정!!!\n",
    "    # 다 눌리면 finish 출력됨\n",
    "    try:\n",
    "        for _ in tqdm(range(50)):\n",
    "            browser.find_element(By.CSS_SELECTOR, 'a.fvwqf').click()\n",
    "            time.sleep(0.4)\n",
    "    except:\n",
    "        print('finish')\n",
    "    \n",
    "    time.sleep(1)\n",
    "    # --------------------------------------------------------------\n",
    "    \n",
    "    # 리뷰 리스트 저장\n",
    "    soup = BeautifulSoup(browser.page_source, 'html.parser')\n",
    "    \n",
    "    time.sleep(1)\n",
    "    \n",
    "    review_list = soup.select('.place_section.k1QQ5 > .place_section_content > ul > li.owAeM')\n",
    "    review_cnt = int(soup.select('h2 > em.place_section_count')[0].text.replace(\",\",\"\"))\n",
    "\n",
    "    print(f'총 리뷰 수: {review_cnt}, 가지고온 리뷰 수: {len(review_list)}')\n",
    "    \n",
    "    if review_cnt == len(review_list):\n",
    "        print('리뷰 개수 동일')\n",
    "    else:\n",
    "        print('리뷰 개수 다름 - 양이 많아서 일부만 추출')\n",
    "        \n",
    "    # -------------------------------------------------\n",
    "    \n",
    "    # 더보기를 미리 클릭해둠!!!!\n",
    "    button_list = browser.find_elements(By.CSS_SELECTOR, '.rvCSr')\n",
    "    for button in button_list:\n",
    "        browser.execute_script(\"arguments[0].click();\", button)\n",
    "\n",
    "    time.sleep(1)\n",
    "    \n",
    "    # ---------------------------------------------------------------------\n",
    "    \n",
    "    # 리스트 다시 가지고옴\n",
    "    soup = BeautifulSoup(browser.page_source, 'html.parser')\n",
    "    \n",
    "    time.sleep(1)\n",
    "    \n",
    "    review_list = soup.select('.place_section.k1QQ5 > .place_section_content > ul > li.owAeM')\n",
    "\n",
    "    result = []\n",
    "    no_reviewer = 0\n",
    "\n",
    "    for review in review_list:\n",
    "\n",
    "        # 텍스트 리뷰를 적은 사람만 추출\n",
    "        if review.select('.zPfVt')[0].text:\n",
    "            user_review = review.select('.zPfVt')[0].text\n",
    "            user_nickname = review.select('.P9EZi')[0].text\n",
    "\n",
    "            data = [restaurant_name, user_nickname, user_review]\n",
    "            result.append(data)\n",
    "        else:\n",
    "            no_reviewer += 1\n",
    "    print(f'리뷰를 적지 않은 사람은 총 {no_reviewer}명 입니다.')\n",
    "    print(f'리뷰를 적은 사람은 총 {len(result)}명 입니다.')\n",
    "\n",
    "#     browser.back()\n",
    "#     browser.back()\n",
    "    \n",
    "    restaurant_review = pd.DataFrame(result)\n",
    "    restaurant_review.columns = [\"음식점\", \"사용자명\", \"리뷰\"] # 컬럼명 지정\n",
    "    \n",
    "    df = df.append(restaurant_review)"
   ]
  },
  {
   "cell_type": "code",
   "execution_count": null,
   "id": "73a70d2b",
   "metadata": {},
   "outputs": [],
   "source": []
  },
  {
   "cell_type": "code",
   "execution_count": 32,
   "id": "45823650",
   "metadata": {},
   "outputs": [
    {
     "data": {
      "text/html": [
       "<div>\n",
       "<style scoped>\n",
       "    .dataframe tbody tr th:only-of-type {\n",
       "        vertical-align: middle;\n",
       "    }\n",
       "\n",
       "    .dataframe tbody tr th {\n",
       "        vertical-align: top;\n",
       "    }\n",
       "\n",
       "    .dataframe thead th {\n",
       "        text-align: right;\n",
       "    }\n",
       "</style>\n",
       "<table border=\"1\" class=\"dataframe\">\n",
       "  <thead>\n",
       "    <tr style=\"text-align: right;\">\n",
       "      <th></th>\n",
       "      <th>음식점</th>\n",
       "      <th>사용자명</th>\n",
       "      <th>리뷰</th>\n",
       "    </tr>\n",
       "  </thead>\n",
       "  <tbody>\n",
       "    <tr>\n",
       "      <th>0</th>\n",
       "      <td>인생꼬치479 석계역점</td>\n",
       "      <td>림베</td>\n",
       "      <td>매장도 넘 깔끔하고 자리마다 키오스크도 있어서\\n시키기도 편리했어요! 메뉴 구성도 ...</td>\n",
       "    </tr>\n",
       "    <tr>\n",
       "      <th>1</th>\n",
       "      <td>인생꼬치479 석계역점</td>\n",
       "      <td>채영2410</td>\n",
       "      <td>어묵 단품 선택이 가능한 오뎅탕과 다양한 꼬치 메뉴들로 고르는 재미도 있고 가격이 ...</td>\n",
       "    </tr>\n",
       "    <tr>\n",
       "      <th>2</th>\n",
       "      <td>인생꼬치479 석계역점</td>\n",
       "      <td>iamiamiam</td>\n",
       "      <td>여기가 ㄹㅇ 석계역 술 맛집이네요..❤️\\n인테리어도 멋있고 얼그레이 하이볼이 정말...</td>\n",
       "    </tr>\n",
       "    <tr>\n",
       "      <th>3</th>\n",
       "      <td>인생꼬치479 석계역점</td>\n",
       "      <td>구너민</td>\n",
       "      <td>하이볼 저렴하고 넘 맛있어요!! 꼬치,오뎅,튀김도 낱개로 주문가능해서 2차로 와서 ...</td>\n",
       "    </tr>\n",
       "    <tr>\n",
       "      <th>4</th>\n",
       "      <td>인생꼬치479 석계역점</td>\n",
       "      <td>Diyou</td>\n",
       "      <td>엄마랑 석계에서 오랜만에 데이트 하러 이자카야 왔는데 잘 찾아온듯! 배 안고파서 이...</td>\n",
       "    </tr>\n",
       "    <tr>\n",
       "      <th>...</th>\n",
       "      <td>...</td>\n",
       "      <td>...</td>\n",
       "      <td>...</td>\n",
       "    </tr>\n",
       "    <tr>\n",
       "      <th>39</th>\n",
       "      <td>하이레</td>\n",
       "      <td>jbg1925</td>\n",
       "      <td>합정 신당 유명한 돈까스집 스타일이에요. 가격대비 훌륭하고 한상 구성은 더 훌륭합니...</td>\n",
       "    </tr>\n",
       "    <tr>\n",
       "      <th>40</th>\n",
       "      <td>하이레</td>\n",
       "      <td>happyhappy56</td>\n",
       "      <td>맛있어요~ 히레카츠 먹었는데 다음에 다른 메뉴도 먹어보고 싶어요^^</td>\n",
       "    </tr>\n",
       "    <tr>\n",
       "      <th>41</th>\n",
       "      <td>하이레</td>\n",
       "      <td>d3****</td>\n",
       "      <td>하이볼 맛집👍</td>\n",
       "    </tr>\n",
       "    <tr>\n",
       "      <th>42</th>\n",
       "      <td>하이레</td>\n",
       "      <td>하얀사과78</td>\n",
       "      <td>맛있어요</td>\n",
       "    </tr>\n",
       "    <tr>\n",
       "      <th>43</th>\n",
       "      <td>하이레</td>\n",
       "      <td>카푸치노가득</td>\n",
       "      <td>맛있어요</td>\n",
       "    </tr>\n",
       "  </tbody>\n",
       "</table>\n",
       "<p>9517 rows × 3 columns</p>\n",
       "</div>"
      ],
      "text/plain": [
       "             음식점          사용자명  \\\n",
       "0   인생꼬치479 석계역점            림베   \n",
       "1   인생꼬치479 석계역점        채영2410   \n",
       "2   인생꼬치479 석계역점     iamiamiam   \n",
       "3   인생꼬치479 석계역점           구너민   \n",
       "4   인생꼬치479 석계역점         Diyou   \n",
       "..           ...           ...   \n",
       "39           하이레       jbg1925   \n",
       "40           하이레  happyhappy56   \n",
       "41           하이레        d3****   \n",
       "42           하이레        하얀사과78   \n",
       "43           하이레        카푸치노가득   \n",
       "\n",
       "                                                   리뷰  \n",
       "0   매장도 넘 깔끔하고 자리마다 키오스크도 있어서\\n시키기도 편리했어요! 메뉴 구성도 ...  \n",
       "1   어묵 단품 선택이 가능한 오뎅탕과 다양한 꼬치 메뉴들로 고르는 재미도 있고 가격이 ...  \n",
       "2   여기가 ㄹㅇ 석계역 술 맛집이네요..❤️\\n인테리어도 멋있고 얼그레이 하이볼이 정말...  \n",
       "3   하이볼 저렴하고 넘 맛있어요!! 꼬치,오뎅,튀김도 낱개로 주문가능해서 2차로 와서 ...  \n",
       "4   엄마랑 석계에서 오랜만에 데이트 하러 이자카야 왔는데 잘 찾아온듯! 배 안고파서 이...  \n",
       "..                                                ...  \n",
       "39  합정 신당 유명한 돈까스집 스타일이에요. 가격대비 훌륭하고 한상 구성은 더 훌륭합니...  \n",
       "40              맛있어요~ 히레카츠 먹었는데 다음에 다른 메뉴도 먹어보고 싶어요^^  \n",
       "41                                            하이볼 맛집👍  \n",
       "42                                               맛있어요  \n",
       "43                                               맛있어요  \n",
       "\n",
       "[9517 rows x 3 columns]"
      ]
     },
     "execution_count": 32,
     "metadata": {},
     "output_type": "execute_result"
    }
   ],
   "source": [
    "df"
   ]
  },
  {
   "cell_type": "code",
   "execution_count": 33,
   "id": "d2f94359",
   "metadata": {},
   "outputs": [],
   "source": [
    "df.to_csv('/data/naver_reviews.csv', index = False)"
   ]
  }
 ],
 "metadata": {
  "kernelspec": {
   "display_name": "Python 3 (ipykernel)",
   "language": "python",
   "name": "python3"
  },
  "language_info": {
   "codemirror_mode": {
    "name": "ipython",
    "version": 3
   },
   "file_extension": ".py",
   "mimetype": "text/x-python",
   "name": "python",
   "nbconvert_exporter": "python",
   "pygments_lexer": "ipython3",
   "version": "3.9.12"
  }
 },
 "nbformat": 4,
 "nbformat_minor": 5
}
