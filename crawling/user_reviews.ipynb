{
 "cells": [
  {
   "cell_type": "code",
   "execution_count": 1,
   "id": "d244ac11",
   "metadata": {},
   "outputs": [],
   "source": [
    "# 라이브러리 불러오기\n",
    "from selenium import webdriver\n",
    "from bs4 import BeautifulSoup\n",
    "import time\n",
    "\n",
    "from tqdm.notebook import tqdm # 상태진행바\n",
    "import pandas as pd\n",
    "\n",
    "from selenium.webdriver.common.keys import Keys\n",
    "\n",
    "from selenium.webdriver.common.by import By\n",
    "\n",
    "import json\n",
    "\n",
    "from selenium.webdriver.support import expected_conditions as EC\n",
    "from selenium.webdriver.support.ui import WebDriverWait\n",
    "\n",
    "import warnings\n",
    "warnings.filterwarnings('ignore')"
   ]
  },
  {
   "cell_type": "code",
   "execution_count": 11,
   "id": "3c6ee274",
   "metadata": {},
   "outputs": [
    {
     "data": {
      "text/html": [
       "<div>\n",
       "<style scoped>\n",
       "    .dataframe tbody tr th:only-of-type {\n",
       "        vertical-align: middle;\n",
       "    }\n",
       "\n",
       "    .dataframe tbody tr th {\n",
       "        vertical-align: top;\n",
       "    }\n",
       "\n",
       "    .dataframe thead th {\n",
       "        text-align: right;\n",
       "    }\n",
       "</style>\n",
       "<table border=\"1\" class=\"dataframe\">\n",
       "  <thead>\n",
       "    <tr style=\"text-align: right;\">\n",
       "      <th></th>\n",
       "      <th>사용자</th>\n",
       "      <th>가게명</th>\n",
       "      <th>리뷰</th>\n",
       "    </tr>\n",
       "  </thead>\n",
       "  <tbody>\n",
       "  </tbody>\n",
       "</table>\n",
       "</div>"
      ],
      "text/plain": [
       "Empty DataFrame\n",
       "Columns: [사용자, 가게명, 리뷰]\n",
       "Index: []"
      ]
     },
     "execution_count": 11,
     "metadata": {},
     "output_type": "execute_result"
    }
   ],
   "source": [
    "df = pd.DataFrame(columns = [\"사용자\", \"가게명\", \"리뷰\"])\n",
    "df"
   ]
  },
  {
   "cell_type": "code",
   "execution_count": 3,
   "id": "88b4ec34",
   "metadata": {},
   "outputs": [
    {
     "data": {
      "text/html": [
       "<div>\n",
       "<style scoped>\n",
       "    .dataframe tbody tr th:only-of-type {\n",
       "        vertical-align: middle;\n",
       "    }\n",
       "\n",
       "    .dataframe tbody tr th {\n",
       "        vertical-align: top;\n",
       "    }\n",
       "\n",
       "    .dataframe thead th {\n",
       "        text-align: right;\n",
       "    }\n",
       "</style>\n",
       "<table border=\"1\" class=\"dataframe\">\n",
       "  <thead>\n",
       "    <tr style=\"text-align: right;\">\n",
       "      <th></th>\n",
       "      <th>닉네임</th>\n",
       "      <th>링크</th>\n",
       "      <th>가게명</th>\n",
       "      <th>_merge</th>\n",
       "    </tr>\n",
       "  </thead>\n",
       "  <tbody>\n",
       "    <tr>\n",
       "      <th>0</th>\n",
       "      <td>first Katz</td>\n",
       "      <td>https://m.place.naver.com/my/5d7218388f87a842b...</td>\n",
       "      <td>하이레</td>\n",
       "      <td>both</td>\n",
       "    </tr>\n",
       "    <tr>\n",
       "      <th>1</th>\n",
       "      <td>kan****</td>\n",
       "      <td>https://m.place.naver.com/my/5e2985118f87a842b...</td>\n",
       "      <td>하이레</td>\n",
       "      <td>both</td>\n",
       "    </tr>\n",
       "    <tr>\n",
       "      <th>2</th>\n",
       "      <td>희희맛</td>\n",
       "      <td>https://m.place.naver.com/my/5bbb69b75473a64c6...</td>\n",
       "      <td>하이레</td>\n",
       "      <td>both</td>\n",
       "    </tr>\n",
       "    <tr>\n",
       "      <th>3</th>\n",
       "      <td>부천후후</td>\n",
       "      <td>https://m.place.naver.com/my/5d08b4bcaeba04d9e...</td>\n",
       "      <td>하이레</td>\n",
       "      <td>both</td>\n",
       "    </tr>\n",
       "    <tr>\n",
       "      <th>4</th>\n",
       "      <td>이동네먹짱</td>\n",
       "      <td>https://m.place.naver.com/my/5f061920de46936b6...</td>\n",
       "      <td>하이레</td>\n",
       "      <td>both</td>\n",
       "    </tr>\n",
       "    <tr>\n",
       "      <th>...</th>\n",
       "      <td>...</td>\n",
       "      <td>...</td>\n",
       "      <td>...</td>\n",
       "      <td>...</td>\n",
       "    </tr>\n",
       "    <tr>\n",
       "      <th>7254</th>\n",
       "      <td>초오로오오오옹</td>\n",
       "      <td>https://m.place.naver.com/my/5bbcd2645f0e649c0...</td>\n",
       "      <td>주공 장위직영</td>\n",
       "      <td>right_only</td>\n",
       "    </tr>\n",
       "    <tr>\n",
       "      <th>7255</th>\n",
       "      <td>아홉 9</td>\n",
       "      <td>https://m.place.naver.com/my/5ce0bcfb440a9218c...</td>\n",
       "      <td>주공 장위직영</td>\n",
       "      <td>right_only</td>\n",
       "    </tr>\n",
       "    <tr>\n",
       "      <th>7256</th>\n",
       "      <td>민지3156</td>\n",
       "      <td>https://m.place.naver.com/my/5f3dbffc7ecfbfb7b...</td>\n",
       "      <td>주공 장위직영</td>\n",
       "      <td>right_only</td>\n",
       "    </tr>\n",
       "    <tr>\n",
       "      <th>7257</th>\n",
       "      <td>BunnY</td>\n",
       "      <td>https://m.place.naver.com/my/6054a418bd4ce1d8f...</td>\n",
       "      <td>디델리 서울 광운대점</td>\n",
       "      <td>right_only</td>\n",
       "    </tr>\n",
       "    <tr>\n",
       "      <th>7258</th>\n",
       "      <td>victorrrrr</td>\n",
       "      <td>https://m.place.naver.com/my/5c0b8157aecfd7a67...</td>\n",
       "      <td>수해복마라탕 광운대점</td>\n",
       "      <td>right_only</td>\n",
       "    </tr>\n",
       "  </tbody>\n",
       "</table>\n",
       "<p>7259 rows × 4 columns</p>\n",
       "</div>"
      ],
      "text/plain": [
       "             닉네임                                                 링크  \\\n",
       "0     first Katz  https://m.place.naver.com/my/5d7218388f87a842b...   \n",
       "1        kan****  https://m.place.naver.com/my/5e2985118f87a842b...   \n",
       "2            희희맛  https://m.place.naver.com/my/5bbb69b75473a64c6...   \n",
       "3           부천후후  https://m.place.naver.com/my/5d08b4bcaeba04d9e...   \n",
       "4          이동네먹짱  https://m.place.naver.com/my/5f061920de46936b6...   \n",
       "...          ...                                                ...   \n",
       "7254     초오로오오오옹  https://m.place.naver.com/my/5bbcd2645f0e649c0...   \n",
       "7255        아홉 9  https://m.place.naver.com/my/5ce0bcfb440a9218c...   \n",
       "7256      민지3156  https://m.place.naver.com/my/5f3dbffc7ecfbfb7b...   \n",
       "7257       BunnY  https://m.place.naver.com/my/6054a418bd4ce1d8f...   \n",
       "7258  victorrrrr  https://m.place.naver.com/my/5c0b8157aecfd7a67...   \n",
       "\n",
       "              가게명      _merge  \n",
       "0             하이레        both  \n",
       "1             하이레        both  \n",
       "2             하이레        both  \n",
       "3             하이레        both  \n",
       "4             하이레        both  \n",
       "...           ...         ...  \n",
       "7254      주공 장위직영  right_only  \n",
       "7255      주공 장위직영  right_only  \n",
       "7256      주공 장위직영  right_only  \n",
       "7257  디델리 서울 광운대점  right_only  \n",
       "7258  수해복마라탕 광운대점  right_only  \n",
       "\n",
       "[7259 rows x 4 columns]"
      ]
     },
     "execution_count": 3,
     "metadata": {},
     "output_type": "execute_result"
    }
   ],
   "source": [
    "df_read = pd.read_csv('/data/사용자의 리뷰페이지 데이터 합치기 완료 최종 - 중복제거 완료.csv')\n",
    "df_read"
   ]
  },
  {
   "cell_type": "markdown",
   "id": "39ae3a9e",
   "metadata": {},
   "source": [
    "# 1. 브라우저 열고 접속"
   ]
  },
  {
   "cell_type": "code",
   "execution_count": 4,
   "id": "f71e4c06",
   "metadata": {},
   "outputs": [],
   "source": [
    "# 브라우저 열기\n",
    "browser = webdriver.Chrome()"
   ]
  },
  {
   "cell_type": "code",
   "execution_count": 12,
   "id": "784a55a2",
   "metadata": {
    "scrolled": true
   },
   "outputs": [
    {
     "name": "stdout",
     "output_type": "stream",
     "text": [
      "맛있구마27가 적은 리뷰의 총 개수는 1054\n",
      "첫번째 높이는 8545\n"
     ]
    },
    {
     "data": {
      "application/vnd.jupyter.widget-view+json": {
       "model_id": "031c2e2949e94031804d6c35305bc349",
       "version_major": 2,
       "version_minor": 0
      },
      "text/plain": [
       "  0%|          | 0/50 [00:00<?, ?it/s]"
      ]
     },
     "metadata": {},
     "output_type": "display_data"
    },
    {
     "name": "stdout",
     "output_type": "stream",
     "text": [
      "새로 가져온 높이는  16082\n",
      "새로 가져온 높이는  18441\n",
      "새로 가져온 높이는  18441\n",
      "더보기 버튼을 눌러야 하는 갯수: 0\n"
     ]
    },
    {
     "data": {
      "application/vnd.jupyter.widget-view+json": {
       "model_id": "b3456330479f4ec5843fcc8fc11a8f3a",
       "version_major": 2,
       "version_minor": 0
      },
      "text/plain": [
       "0it [00:00, ?it/s]"
      ]
     },
     "metadata": {},
     "output_type": "display_data"
    },
    {
     "name": "stdout",
     "output_type": "stream",
     "text": [
      "더보기 버튼 클릭 완료\n",
      "페이지 스크롤한 다음 페이지에서 보여지는 총 리뷰 리스트 개수는 24\n",
      "양이 많아서 일부 리뷰만 가지고 옴\n",
      "3583번째 사람의 16개의 리뷰를 가져왔음.\n",
      "\n",
      "\n",
      "출출해윤51가 적은 리뷰의 총 개수는 793\n",
      "첫번째 높이는 9626\n"
     ]
    },
    {
     "data": {
      "application/vnd.jupyter.widget-view+json": {
       "model_id": "6e80bc3832fc41f6be24adf892a85660",
       "version_major": 2,
       "version_minor": 0
      },
      "text/plain": [
       "  0%|          | 0/50 [00:00<?, ?it/s]"
      ]
     },
     "metadata": {},
     "output_type": "display_data"
    },
    {
     "name": "stdout",
     "output_type": "stream",
     "text": [
      "새로 가져온 높이는  18285\n",
      "새로 가져온 높이는  26833\n",
      "새로 가져온 높이는  35361\n",
      "새로 가져온 높이는  43900\n",
      "새로 가져온 높이는  52771\n",
      "새로 가져온 높이는  61463\n",
      "새로 가져온 높이는  70161\n",
      "새로 가져온 높이는  78618\n",
      "새로 가져온 높이는  86997\n",
      "새로 가져온 높이는  95353\n",
      "새로 가져온 높이는  103978\n",
      "새로 가져온 높이는  112352\n",
      "새로 가져온 높이는  120818\n",
      "새로 가져온 높이는  120818\n",
      "더보기 버튼을 눌러야 하는 갯수: 11\n"
     ]
    },
    {
     "data": {
      "application/vnd.jupyter.widget-view+json": {
       "model_id": "a841579035f24f67a911b7dfe57cd6fc",
       "version_major": 2,
       "version_minor": 0
      },
      "text/plain": [
       "  0%|          | 0/11 [00:00<?, ?it/s]"
      ]
     },
     "metadata": {},
     "output_type": "display_data"
    },
    {
     "name": "stdout",
     "output_type": "stream",
     "text": [
      "더보기 버튼 클릭 완료\n",
      "페이지 스크롤한 다음 페이지에서 보여지는 총 리뷰 리스트 개수는 151\n",
      "양이 많아서 일부 리뷰만 가지고 옴\n",
      "3584번째 사람의 151개의 리뷰를 가져왔음.\n",
      "\n",
      "\n",
      "빅버스가 적은 리뷰의 총 개수는 1407\n",
      "첫번째 높이는 8413\n"
     ]
    },
    {
     "data": {
      "application/vnd.jupyter.widget-view+json": {
       "model_id": "e23216a5a5324370b162d223b34c3af9",
       "version_major": 2,
       "version_minor": 0
      },
      "text/plain": [
       "  0%|          | 0/50 [00:00<?, ?it/s]"
      ]
     },
     "metadata": {},
     "output_type": "display_data"
    },
    {
     "name": "stdout",
     "output_type": "stream",
     "text": [
      "새로 가져온 높이는  8413\n",
      "더보기 버튼을 눌러야 하는 갯수: 2\n"
     ]
    },
    {
     "data": {
      "application/vnd.jupyter.widget-view+json": {
       "model_id": "4746ff8785194c8cadf76ce45ff2b619",
       "version_major": 2,
       "version_minor": 0
      },
      "text/plain": [
       "  0%|          | 0/2 [00:00<?, ?it/s]"
      ]
     },
     "metadata": {},
     "output_type": "display_data"
    },
    {
     "name": "stdout",
     "output_type": "stream",
     "text": [
      "더보기 버튼 클릭 완료\n",
      "페이지 스크롤한 다음 페이지에서 보여지는 총 리뷰 리스트 개수는 21\n",
      "양이 많아서 일부 리뷰만 가지고 옴\n",
      "3585번째 사람의 20개의 리뷰를 가져왔음.\n",
      "\n",
      "\n",
      "귀여운 투덜이가 적은 리뷰의 총 개수는 225\n",
      "첫번째 높이는 8805\n"
     ]
    },
    {
     "data": {
      "application/vnd.jupyter.widget-view+json": {
       "model_id": "7d4e1aa83c5e4b21b6622ad592266959",
       "version_major": 2,
       "version_minor": 0
      },
      "text/plain": [
       "  0%|          | 0/50 [00:00<?, ?it/s]"
      ]
     },
     "metadata": {},
     "output_type": "display_data"
    },
    {
     "name": "stdout",
     "output_type": "stream",
     "text": [
      "새로 가져온 높이는  16560\n",
      "새로 가져온 높이는  23101\n",
      "새로 가져온 높이는  23101\n",
      "더보기 버튼을 눌러야 하는 갯수: 1\n"
     ]
    },
    {
     "data": {
      "application/vnd.jupyter.widget-view+json": {
       "model_id": "c5ffc57316ca4649959c62e383fb99d1",
       "version_major": 2,
       "version_minor": 0
      },
      "text/plain": [
       "  0%|          | 0/1 [00:00<?, ?it/s]"
      ]
     },
     "metadata": {},
     "output_type": "display_data"
    },
    {
     "name": "stdout",
     "output_type": "stream",
     "text": [
      "더보기 버튼 클릭 완료\n",
      "페이지 스크롤한 다음 페이지에서 보여지는 총 리뷰 리스트 개수는 33\n",
      "양이 많아서 일부 리뷰만 가지고 옴\n",
      "3586번째 사람의 33개의 리뷰를 가져왔음.\n",
      "\n",
      "\n",
      "탱탱707가 적은 리뷰의 총 개수는 206\n",
      "첫번째 높이는 8528\n"
     ]
    },
    {
     "data": {
      "application/vnd.jupyter.widget-view+json": {
       "model_id": "cfb0d765b5894bd09ab24692dc5bbf3e",
       "version_major": 2,
       "version_minor": 0
      },
      "text/plain": [
       "  0%|          | 0/50 [00:00<?, ?it/s]"
      ]
     },
     "metadata": {},
     "output_type": "display_data"
    },
    {
     "name": "stdout",
     "output_type": "stream",
     "text": [
      "새로 가져온 높이는  9837\n",
      "새로 가져온 높이는  9837\n",
      "더보기 버튼을 눌러야 하는 갯수: 0\n"
     ]
    },
    {
     "data": {
      "application/vnd.jupyter.widget-view+json": {
       "model_id": "9bcca8d13a5a43b9915f923eb18fddf0",
       "version_major": 2,
       "version_minor": 0
      },
      "text/plain": [
       "0it [00:00, ?it/s]"
      ]
     },
     "metadata": {},
     "output_type": "display_data"
    },
    {
     "name": "stdout",
     "output_type": "stream",
     "text": [
      "더보기 버튼 클릭 완료\n",
      "페이지 스크롤한 다음 페이지에서 보여지는 총 리뷰 리스트 개수는 13\n",
      "양이 많아서 일부 리뷰만 가지고 옴\n",
      "3587번째 사람의 13개의 리뷰를 가져왔음.\n",
      "\n",
      "\n",
      "혜원이서우아빠가 적은 리뷰의 총 개수는 1339\n",
      "첫번째 높이는 9210\n"
     ]
    },
    {
     "data": {
      "application/vnd.jupyter.widget-view+json": {
       "model_id": "da06c478e1a94b41ba9077a7b002c81e",
       "version_major": 2,
       "version_minor": 0
      },
      "text/plain": [
       "  0%|          | 0/50 [00:00<?, ?it/s]"
      ]
     },
     "metadata": {},
     "output_type": "display_data"
    },
    {
     "name": "stdout",
     "output_type": "stream",
     "text": [
      "새로 가져온 높이는  17454\n",
      "새로 가져온 높이는  25810\n",
      "새로 가져온 높이는  25810\n",
      "더보기 버튼을 눌러야 하는 갯수: 1\n"
     ]
    },
    {
     "data": {
      "application/vnd.jupyter.widget-view+json": {
       "model_id": "52b57a3ff9e345e3b7b4355881533ab4",
       "version_major": 2,
       "version_minor": 0
      },
      "text/plain": [
       "  0%|          | 0/1 [00:00<?, ?it/s]"
      ]
     },
     "metadata": {},
     "output_type": "display_data"
    },
    {
     "name": "stdout",
     "output_type": "stream",
     "text": [
      "더보기 버튼 클릭 완료\n",
      "페이지 스크롤한 다음 페이지에서 보여지는 총 리뷰 리스트 개수는 37\n",
      "양이 많아서 일부 리뷰만 가지고 옴\n",
      "3588번째 사람의 32개의 리뷰를 가져왔음.\n",
      "\n",
      "\n",
      "컹62가 적은 리뷰의 총 개수는 19\n",
      "첫번째 높이는 9088\n"
     ]
    },
    {
     "data": {
      "application/vnd.jupyter.widget-view+json": {
       "model_id": "e9e539ce180e40ddbc5183d4a7d6bf84",
       "version_major": 2,
       "version_minor": 0
      },
      "text/plain": [
       "  0%|          | 0/50 [00:00<?, ?it/s]"
      ]
     },
     "metadata": {},
     "output_type": "display_data"
    },
    {
     "name": "stdout",
     "output_type": "stream",
     "text": [
      "새로 가져온 높이는  11668\n",
      "새로 가져온 높이는  11668\n",
      "더보기 버튼을 눌러야 하는 갯수: 0\n"
     ]
    },
    {
     "data": {
      "application/vnd.jupyter.widget-view+json": {
       "model_id": "1db1cc1e9d574f94b1a25897d8d711ba",
       "version_major": 2,
       "version_minor": 0
      },
      "text/plain": [
       "0it [00:00, ?it/s]"
      ]
     },
     "metadata": {},
     "output_type": "display_data"
    },
    {
     "name": "stdout",
     "output_type": "stream",
     "text": [
      "더보기 버튼 클릭 완료\n",
      "페이지 스크롤한 다음 페이지에서 보여지는 총 리뷰 리스트 개수는 14\n",
      "양이 많아서 일부 리뷰만 가지고 옴\n",
      "3589번째 사람의 14개의 리뷰를 가져왔음.\n",
      "\n",
      "\n",
      "나야나895가 적은 리뷰의 총 개수는 388\n",
      "첫번째 높이는 6073\n"
     ]
    },
    {
     "data": {
      "application/vnd.jupyter.widget-view+json": {
       "model_id": "2a170c311a564643a85a01ed589c1bd7",
       "version_major": 2,
       "version_minor": 0
      },
      "text/plain": [
       "  0%|          | 0/50 [00:00<?, ?it/s]"
      ]
     },
     "metadata": {},
     "output_type": "display_data"
    },
    {
     "name": "stdout",
     "output_type": "stream",
     "text": [
      "새로 가져온 높이는  8671\n",
      "새로 가져온 높이는  13025\n",
      "새로 가져온 높이는  15873\n",
      "새로 가져온 높이는  18637\n",
      "새로 가져온 높이는  22540\n",
      "새로 가져온 높이는  26221\n",
      "새로 가져온 높이는  29745\n",
      "새로 가져온 높이는  32890\n",
      "새로 가져온 높이는  35993\n",
      "새로 가져온 높이는  39021\n",
      "새로 가져온 높이는  42133\n",
      "새로 가져온 높이는  42133\n",
      "더보기 버튼을 눌러야 하는 갯수: 0\n"
     ]
    },
    {
     "data": {
      "application/vnd.jupyter.widget-view+json": {
       "model_id": "5c660f5450a84ab984eb4d18eb086a12",
       "version_major": 2,
       "version_minor": 0
      },
      "text/plain": [
       "0it [00:00, ?it/s]"
      ]
     },
     "metadata": {},
     "output_type": "display_data"
    },
    {
     "name": "stdout",
     "output_type": "stream",
     "text": [
      "더보기 버튼 클릭 완료\n",
      "페이지 스크롤한 다음 페이지에서 보여지는 총 리뷰 리스트 개수는 131\n",
      "양이 많아서 일부 리뷰만 가지고 옴\n",
      "3590번째 사람의 128개의 리뷰를 가져왔음.\n",
      "\n",
      "\n",
      "jyny100477가 적은 리뷰의 총 개수는 448\n",
      "첫번째 높이는 9124\n"
     ]
    },
    {
     "data": {
      "application/vnd.jupyter.widget-view+json": {
       "model_id": "0eb1918f1d0144709b79a1162fd001b6",
       "version_major": 2,
       "version_minor": 0
      },
      "text/plain": [
       "  0%|          | 0/50 [00:00<?, ?it/s]"
      ]
     },
     "metadata": {},
     "output_type": "display_data"
    },
    {
     "name": "stdout",
     "output_type": "stream",
     "text": [
      "새로 가져온 높이는  16341\n",
      "새로 가져온 높이는  24160\n",
      "새로 가져온 높이는  24160\n",
      "더보기 버튼을 눌러야 하는 갯수: 12\n"
     ]
    },
    {
     "data": {
      "application/vnd.jupyter.widget-view+json": {
       "model_id": "8fe486482201406eb4ca3e66476d76ce",
       "version_major": 2,
       "version_minor": 0
      },
      "text/plain": [
       "  0%|          | 0/12 [00:00<?, ?it/s]"
      ]
     },
     "metadata": {},
     "output_type": "display_data"
    },
    {
     "name": "stdout",
     "output_type": "stream",
     "text": [
      "더보기 버튼 클릭 완료\n",
      "페이지 스크롤한 다음 페이지에서 보여지는 총 리뷰 리스트 개수는 41\n",
      "양이 많아서 일부 리뷰만 가지고 옴\n",
      "3591번째 사람의 41개의 리뷰를 가져왔음.\n",
      "\n",
      "\n",
      "설레임2가 적은 리뷰의 총 개수는 128\n",
      "첫번째 높이는 7099\n"
     ]
    },
    {
     "data": {
      "application/vnd.jupyter.widget-view+json": {
       "model_id": "ea74154b90084fa5923524575f551448",
       "version_major": 2,
       "version_minor": 0
      },
      "text/plain": [
       "  0%|          | 0/50 [00:00<?, ?it/s]"
      ]
     },
     "metadata": {},
     "output_type": "display_data"
    },
    {
     "name": "stdout",
     "output_type": "stream",
     "text": [
      "새로 가져온 높이는  7099\n",
      "더보기 버튼을 눌러야 하는 갯수: 0\n"
     ]
    },
    {
     "data": {
      "application/vnd.jupyter.widget-view+json": {
       "model_id": "cb41fccc1278484daa49cb5319f699d9",
       "version_major": 2,
       "version_minor": 0
      },
      "text/plain": [
       "0it [00:00, ?it/s]"
      ]
     },
     "metadata": {},
     "output_type": "display_data"
    },
    {
     "name": "stdout",
     "output_type": "stream",
     "text": [
      "더보기 버튼 클릭 완료\n",
      "페이지 스크롤한 다음 페이지에서 보여지는 총 리뷰 리스트 개수는 9\n",
      "양이 많아서 일부 리뷰만 가지고 옴\n",
      "3592번째 사람의 9개의 리뷰를 가져왔음.\n",
      "\n",
      "\n",
      "qor****가 적은 리뷰의 총 개수는 800\n",
      "첫번째 높이는 9614\n"
     ]
    },
    {
     "data": {
      "application/vnd.jupyter.widget-view+json": {
       "model_id": "fafa3f8dd6aa42d08b1fd8f2cda26f7f",
       "version_major": 2,
       "version_minor": 0
      },
      "text/plain": [
       "  0%|          | 0/50 [00:00<?, ?it/s]"
      ]
     },
     "metadata": {},
     "output_type": "display_data"
    },
    {
     "name": "stdout",
     "output_type": "stream",
     "text": [
      "새로 가져온 높이는  18129\n",
      "새로 가져온 높이는  26702\n",
      "새로 가져온 높이는  35226\n",
      "새로 가져온 높이는  43644\n",
      "새로 가져온 높이는  52197\n",
      "새로 가져온 높이는  60248\n",
      "새로 가져온 높이는  68541\n",
      "새로 가져온 높이는  77122\n",
      "새로 가져온 높이는  77122\n",
      "더보기 버튼을 눌러야 하는 갯수: 6\n"
     ]
    },
    {
     "data": {
      "application/vnd.jupyter.widget-view+json": {
       "model_id": "83faa3a2e2764d1291bc9b2ff9a4180e",
       "version_major": 2,
       "version_minor": 0
      },
      "text/plain": [
       "  0%|          | 0/6 [00:00<?, ?it/s]"
      ]
     },
     "metadata": {},
     "output_type": "display_data"
    },
    {
     "name": "stdout",
     "output_type": "stream",
     "text": [
      "더보기 버튼 클릭 완료\n",
      "페이지 스크롤한 다음 페이지에서 보여지는 총 리뷰 리스트 개수는 101\n",
      "양이 많아서 일부 리뷰만 가지고 옴\n",
      "3593번째 사람의 99개의 리뷰를 가져왔음.\n",
      "\n",
      "\n",
      "국밥패치가 적은 리뷰의 총 개수는 195\n",
      "첫번째 높이는 8830\n"
     ]
    },
    {
     "data": {
      "application/vnd.jupyter.widget-view+json": {
       "model_id": "cb00ecde0cc84b68b0a84ef175135e9b",
       "version_major": 2,
       "version_minor": 0
      },
      "text/plain": [
       "  0%|          | 0/50 [00:00<?, ?it/s]"
      ]
     },
     "metadata": {},
     "output_type": "display_data"
    },
    {
     "name": "stdout",
     "output_type": "stream",
     "text": [
      "새로 가져온 높이는  8830\n",
      "더보기 버튼을 눌러야 하는 갯수: 11\n"
     ]
    },
    {
     "data": {
      "application/vnd.jupyter.widget-view+json": {
       "model_id": "aea4758950134f01b194a060d6d0c553",
       "version_major": 2,
       "version_minor": 0
      },
      "text/plain": [
       "  0%|          | 0/11 [00:00<?, ?it/s]"
      ]
     },
     "metadata": {},
     "output_type": "display_data"
    },
    {
     "name": "stdout",
     "output_type": "stream",
     "text": [
      "더보기 버튼 클릭 완료\n",
      "페이지 스크롤한 다음 페이지에서 보여지는 총 리뷰 리스트 개수는 21\n",
      "양이 많아서 일부 리뷰만 가지고 옴\n",
      "3594번째 사람의 21개의 리뷰를 가져왔음.\n",
      "\n",
      "\n",
      "아뇨전뚱인데요가 적은 리뷰의 총 개수는 496\n",
      "첫번째 높이는 9777\n"
     ]
    },
    {
     "data": {
      "application/vnd.jupyter.widget-view+json": {
       "model_id": "c0e68847dc9c4b1e82b30f14937cfd93",
       "version_major": 2,
       "version_minor": 0
      },
      "text/plain": [
       "  0%|          | 0/50 [00:00<?, ?it/s]"
      ]
     },
     "metadata": {},
     "output_type": "display_data"
    },
    {
     "name": "stdout",
     "output_type": "stream",
     "text": [
      "새로 가져온 높이는  9777\n",
      "더보기 버튼을 눌러야 하는 갯수: 0\n"
     ]
    },
    {
     "data": {
      "application/vnd.jupyter.widget-view+json": {
       "model_id": "4811780c22b54fbeae0b8edcf664d8cf",
       "version_major": 2,
       "version_minor": 0
      },
      "text/plain": [
       "0it [00:00, ?it/s]"
      ]
     },
     "metadata": {},
     "output_type": "display_data"
    },
    {
     "name": "stdout",
     "output_type": "stream",
     "text": [
      "더보기 버튼 클릭 완료\n",
      "페이지 스크롤한 다음 페이지에서 보여지는 총 리뷰 리스트 개수는 21\n",
      "양이 많아서 일부 리뷰만 가지고 옴\n",
      "3595번째 사람의 19개의 리뷰를 가져왔음.\n",
      "\n",
      "\n",
      "문PD의 단골집가 적은 리뷰의 총 개수는 228\n",
      "첫번째 높이는 10120\n"
     ]
    },
    {
     "data": {
      "application/vnd.jupyter.widget-view+json": {
       "model_id": "9ff17e0c69ee4483a5ed94cbb9cfe5f6",
       "version_major": 2,
       "version_minor": 0
      },
      "text/plain": [
       "  0%|          | 0/50 [00:00<?, ?it/s]"
      ]
     },
     "metadata": {},
     "output_type": "display_data"
    },
    {
     "name": "stdout",
     "output_type": "stream",
     "text": [
      "새로 가져온 높이는  18605\n",
      "새로 가져온 높이는  27219\n",
      "새로 가져온 높이는  35739\n",
      "새로 가져온 높이는  35739\n",
      "더보기 버튼을 눌러야 하는 갯수: 13\n"
     ]
    },
    {
     "data": {
      "application/vnd.jupyter.widget-view+json": {
       "model_id": "45ff898b76fe435986dc1f5fef26eece",
       "version_major": 2,
       "version_minor": 0
      },
      "text/plain": [
       "  0%|          | 0/13 [00:00<?, ?it/s]"
      ]
     },
     "metadata": {},
     "output_type": "display_data"
    },
    {
     "name": "stdout",
     "output_type": "stream",
     "text": [
      "더보기 버튼 클릭 완료\n",
      "페이지 스크롤한 다음 페이지에서 보여지는 총 리뷰 리스트 개수는 51\n",
      "양이 많아서 일부 리뷰만 가지고 옴\n",
      "3596번째 사람의 51개의 리뷰를 가져왔음.\n",
      "\n",
      "\n",
      "슬잇가 적은 리뷰의 총 개수는 21\n",
      "첫번째 높이는 8453\n"
     ]
    },
    {
     "data": {
      "application/vnd.jupyter.widget-view+json": {
       "model_id": "9d01cad7481940dcbb08b0680d0c279e",
       "version_major": 2,
       "version_minor": 0
      },
      "text/plain": [
       "  0%|          | 0/50 [00:00<?, ?it/s]"
      ]
     },
     "metadata": {},
     "output_type": "display_data"
    },
    {
     "name": "stdout",
     "output_type": "stream",
     "text": [
      "새로 가져온 높이는  9347\n",
      "새로 가져온 높이는  9347\n",
      "더보기 버튼을 눌러야 하는 갯수: 6\n"
     ]
    },
    {
     "data": {
      "application/vnd.jupyter.widget-view+json": {
       "model_id": "3e8b6ea60a8d4f0bbba0fb335a488559",
       "version_major": 2,
       "version_minor": 0
      },
      "text/plain": [
       "  0%|          | 0/6 [00:00<?, ?it/s]"
      ]
     },
     "metadata": {},
     "output_type": "display_data"
    },
    {
     "name": "stdout",
     "output_type": "stream",
     "text": [
      "더보기 버튼 클릭 완료\n",
      "페이지 스크롤한 다음 페이지에서 보여지는 총 리뷰 리스트 개수는 12\n",
      "양이 많아서 일부 리뷰만 가지고 옴\n",
      "3597번째 사람의 12개의 리뷰를 가져왔음.\n",
      "\n",
      "\n",
      "alw****가 적은 리뷰의 총 개수는 845\n",
      "첫번째 높이는 1516\n"
     ]
    },
    {
     "data": {
      "application/vnd.jupyter.widget-view+json": {
       "model_id": "1bde41e22d41455abea59b7cafb0a654",
       "version_major": 2,
       "version_minor": 0
      },
      "text/plain": [
       "  0%|          | 0/50 [00:00<?, ?it/s]"
      ]
     },
     "metadata": {},
     "output_type": "display_data"
    },
    {
     "name": "stdout",
     "output_type": "stream",
     "text": [
      "새로 가져온 높이는  1516\n",
      "더보기 버튼을 눌러야 하는 갯수: 0\n"
     ]
    },
    {
     "data": {
      "application/vnd.jupyter.widget-view+json": {
       "model_id": "119c587b1f384580bc2a05c8dc06d01a",
       "version_major": 2,
       "version_minor": 0
      },
      "text/plain": [
       "0it [00:00, ?it/s]"
      ]
     },
     "metadata": {},
     "output_type": "display_data"
    },
    {
     "name": "stdout",
     "output_type": "stream",
     "text": [
      "더보기 버튼 클릭 완료\n",
      "페이지 스크롤한 다음 페이지에서 보여지는 총 리뷰 리스트 개수는 2\n",
      "양이 많아서 일부 리뷰만 가지고 옴\n",
      "3598번째 사람의 1개의 리뷰를 가져왔음.\n",
      "\n",
      "\n",
      "코스모스0가 적은 리뷰의 총 개수는 198\n",
      "첫번째 높이는 7677\n"
     ]
    },
    {
     "data": {
      "application/vnd.jupyter.widget-view+json": {
       "model_id": "aa698eabb4404dab80da682c19747272",
       "version_major": 2,
       "version_minor": 0
      },
      "text/plain": [
       "  0%|          | 0/50 [00:00<?, ?it/s]"
      ]
     },
     "metadata": {},
     "output_type": "display_data"
    },
    {
     "name": "stdout",
     "output_type": "stream",
     "text": [
      "새로 가져온 높이는  7677\n",
      "더보기 버튼을 눌러야 하는 갯수: 1\n"
     ]
    },
    {
     "data": {
      "application/vnd.jupyter.widget-view+json": {
       "model_id": "769b1d507e15469ba5305af2d484f8da",
       "version_major": 2,
       "version_minor": 0
      },
      "text/plain": [
       "  0%|          | 0/1 [00:00<?, ?it/s]"
      ]
     },
     "metadata": {},
     "output_type": "display_data"
    },
    {
     "name": "stdout",
     "output_type": "stream",
     "text": [
      "더보기 버튼 클릭 완료\n",
      "페이지 스크롤한 다음 페이지에서 보여지는 총 리뷰 리스트 개수는 10\n",
      "양이 많아서 일부 리뷰만 가지고 옴\n",
      "3599번째 사람의 8개의 리뷰를 가져왔음.\n",
      "\n",
      "\n",
      "mf51가 적은 리뷰의 총 개수는 274\n",
      "첫번째 높이는 6849\n"
     ]
    },
    {
     "data": {
      "application/vnd.jupyter.widget-view+json": {
       "model_id": "6518710101a54c7b9bc4153d0f124bd1",
       "version_major": 2,
       "version_minor": 0
      },
      "text/plain": [
       "  0%|          | 0/50 [00:00<?, ?it/s]"
      ]
     },
     "metadata": {},
     "output_type": "display_data"
    },
    {
     "name": "stdout",
     "output_type": "stream",
     "text": [
      "새로 가져온 높이는  6849\n",
      "더보기 버튼을 눌러야 하는 갯수: 1\n"
     ]
    },
    {
     "data": {
      "application/vnd.jupyter.widget-view+json": {
       "model_id": "84d3349c1bd7465a82f247a2942ce10a",
       "version_major": 2,
       "version_minor": 0
      },
      "text/plain": [
       "  0%|          | 0/1 [00:00<?, ?it/s]"
      ]
     },
     "metadata": {},
     "output_type": "display_data"
    },
    {
     "name": "stdout",
     "output_type": "stream",
     "text": [
      "더보기 버튼 클릭 완료\n",
      "페이지 스크롤한 다음 페이지에서 보여지는 총 리뷰 리스트 개수는 9\n",
      "양이 많아서 일부 리뷰만 가지고 옴\n",
      "3600번째 사람의 9개의 리뷰를 가져왔음.\n",
      "\n",
      "\n",
      "이쁜딸55가 적은 리뷰의 총 개수는 285\n",
      "첫번째 높이는 6735\n"
     ]
    },
    {
     "data": {
      "application/vnd.jupyter.widget-view+json": {
       "model_id": "6bb4b0f214e64307bafa812e763dd025",
       "version_major": 2,
       "version_minor": 0
      },
      "text/plain": [
       "  0%|          | 0/50 [00:00<?, ?it/s]"
      ]
     },
     "metadata": {},
     "output_type": "display_data"
    },
    {
     "name": "stdout",
     "output_type": "stream",
     "text": [
      "새로 가져온 높이는  6735\n",
      "더보기 버튼을 눌러야 하는 갯수: 0\n"
     ]
    },
    {
     "data": {
      "application/vnd.jupyter.widget-view+json": {
       "model_id": "07c56de24ac94f3093cb6c1ac9420e17",
       "version_major": 2,
       "version_minor": 0
      },
      "text/plain": [
       "0it [00:00, ?it/s]"
      ]
     },
     "metadata": {},
     "output_type": "display_data"
    },
    {
     "name": "stdout",
     "output_type": "stream",
     "text": [
      "더보기 버튼 클릭 완료\n",
      "페이지 스크롤한 다음 페이지에서 보여지는 총 리뷰 리스트 개수는 8\n",
      "양이 많아서 일부 리뷰만 가지고 옴\n",
      "3601번째 사람의 8개의 리뷰를 가져왔음.\n",
      "\n",
      "\n",
      "동그리 동동가 적은 리뷰의 총 개수는 12\n",
      "첫번째 높이는 2523\n"
     ]
    },
    {
     "data": {
      "application/vnd.jupyter.widget-view+json": {
       "model_id": "274f9cab7d1d45249d42ce566ecaf09a",
       "version_major": 2,
       "version_minor": 0
      },
      "text/plain": [
       "  0%|          | 0/50 [00:00<?, ?it/s]"
      ]
     },
     "metadata": {},
     "output_type": "display_data"
    },
    {
     "name": "stdout",
     "output_type": "stream",
     "text": [
      "새로 가져온 높이는  2523\n",
      "더보기 버튼을 눌러야 하는 갯수: 1\n"
     ]
    },
    {
     "data": {
      "application/vnd.jupyter.widget-view+json": {
       "model_id": "a6f9e4c2e8ff49b8a79bb246dc011b3b",
       "version_major": 2,
       "version_minor": 0
      },
      "text/plain": [
       "  0%|          | 0/1 [00:00<?, ?it/s]"
      ]
     },
     "metadata": {},
     "output_type": "display_data"
    },
    {
     "name": "stdout",
     "output_type": "stream",
     "text": [
      "더보기 버튼 클릭 완료\n",
      "페이지 스크롤한 다음 페이지에서 보여지는 총 리뷰 리스트 개수는 3\n",
      "양이 많아서 일부 리뷰만 가지고 옴\n",
      "3602번째 사람의 3개의 리뷰를 가져왔음.\n",
      "\n",
      "\n",
      "Ausung가 적은 리뷰의 총 개수는 378\n",
      "첫번째 높이는 9234\n"
     ]
    },
    {
     "data": {
      "application/vnd.jupyter.widget-view+json": {
       "model_id": "678ada0646124bfe8e084d6376a575f4",
       "version_major": 2,
       "version_minor": 0
      },
      "text/plain": [
       "  0%|          | 0/50 [00:00<?, ?it/s]"
      ]
     },
     "metadata": {},
     "output_type": "display_data"
    },
    {
     "name": "stdout",
     "output_type": "stream",
     "text": [
      "새로 가져온 높이는  16738\n",
      "새로 가져온 높이는  24665\n",
      "새로 가져온 높이는  31628\n",
      "새로 가져온 높이는  38064\n",
      "새로 가져온 높이는  44894\n",
      "새로 가져온 높이는  51622\n",
      "새로 가져온 높이는  54325\n",
      "새로 가져온 높이는  54325\n",
      "더보기 버튼을 눌러야 하는 갯수: 1\n"
     ]
    },
    {
     "data": {
      "application/vnd.jupyter.widget-view+json": {
       "model_id": "5ee6b1c702574a3881ae45c17eed52c6",
       "version_major": 2,
       "version_minor": 0
      },
      "text/plain": [
       "  0%|          | 0/1 [00:00<?, ?it/s]"
      ]
     },
     "metadata": {},
     "output_type": "display_data"
    },
    {
     "name": "stdout",
     "output_type": "stream",
     "text": [
      "더보기 버튼 클릭 완료\n",
      "페이지 스크롤한 다음 페이지에서 보여지는 총 리뷰 리스트 개수는 75\n",
      "양이 많아서 일부 리뷰만 가지고 옴\n",
      "3603번째 사람의 74개의 리뷰를 가져왔음.\n",
      "\n",
      "\n",
      "리야6599가 적은 리뷰의 총 개수는 913\n",
      "첫번째 높이는 2790\n"
     ]
    },
    {
     "data": {
      "application/vnd.jupyter.widget-view+json": {
       "model_id": "aa09a68247224cb3ac3f8a336d0a67b4",
       "version_major": 2,
       "version_minor": 0
      },
      "text/plain": [
       "  0%|          | 0/50 [00:00<?, ?it/s]"
      ]
     },
     "metadata": {},
     "output_type": "display_data"
    },
    {
     "name": "stdout",
     "output_type": "stream",
     "text": [
      "새로 가져온 높이는  5188\n",
      "새로 가져온 높이는  7568\n",
      "새로 가져온 높이는  7568\n",
      "더보기 버튼을 눌러야 하는 갯수: 0\n"
     ]
    },
    {
     "data": {
      "application/vnd.jupyter.widget-view+json": {
       "model_id": "d0c21e2d2ae540dfb44c6805a3044330",
       "version_major": 2,
       "version_minor": 0
      },
      "text/plain": [
       "0it [00:00, ?it/s]"
      ]
     },
     "metadata": {},
     "output_type": "display_data"
    },
    {
     "name": "stdout",
     "output_type": "stream",
     "text": [
      "더보기 버튼 클릭 완료\n",
      "페이지 스크롤한 다음 페이지에서 보여지는 총 리뷰 리스트 개수는 41\n",
      "양이 많아서 일부 리뷰만 가지고 옴\n",
      "3604번째 사람의 9개의 리뷰를 가져왔음.\n",
      "\n",
      "\n",
      "iniki가 적은 리뷰의 총 개수는 897\n",
      "첫번째 높이는 7591\n"
     ]
    },
    {
     "data": {
      "application/vnd.jupyter.widget-view+json": {
       "model_id": "05b8b38314304920b3157abdf2f7da67",
       "version_major": 2,
       "version_minor": 0
      },
      "text/plain": [
       "  0%|          | 0/50 [00:00<?, ?it/s]"
      ]
     },
     "metadata": {},
     "output_type": "display_data"
    },
    {
     "name": "stdout",
     "output_type": "stream",
     "text": [
      "새로 가져온 높이는  13409\n",
      "새로 가져온 높이는  15606\n",
      "새로 가져온 높이는  15606\n",
      "더보기 버튼을 눌러야 하는 갯수: 0\n"
     ]
    },
    {
     "data": {
      "application/vnd.jupyter.widget-view+json": {
       "model_id": "e13fae255c1544ce86080efdeb4b235f",
       "version_major": 2,
       "version_minor": 0
      },
      "text/plain": [
       "0it [00:00, ?it/s]"
      ]
     },
     "metadata": {},
     "output_type": "display_data"
    },
    {
     "name": "stdout",
     "output_type": "stream",
     "text": [
      "더보기 버튼 클릭 완료\n",
      "페이지 스크롤한 다음 페이지에서 보여지는 총 리뷰 리스트 개수는 25\n",
      "양이 많아서 일부 리뷰만 가지고 옴\n",
      "3605번째 사람의 25개의 리뷰를 가져왔음.\n",
      "\n",
      "\n",
      "미서니1212가 적은 리뷰의 총 개수는 277\n",
      "첫번째 높이는 8415\n"
     ]
    },
    {
     "data": {
      "application/vnd.jupyter.widget-view+json": {
       "model_id": "a80c0b18e7ad4f2a8c83a69e8008c12f",
       "version_major": 2,
       "version_minor": 0
      },
      "text/plain": [
       "  0%|          | 0/50 [00:00<?, ?it/s]"
      ]
     },
     "metadata": {},
     "output_type": "display_data"
    },
    {
     "name": "stdout",
     "output_type": "stream",
     "text": [
      "새로 가져온 높이는  8415\n",
      "더보기 버튼을 눌러야 하는 갯수: 0\n"
     ]
    },
    {
     "data": {
      "application/vnd.jupyter.widget-view+json": {
       "model_id": "a0103825d985429b9c660be59ebabe61",
       "version_major": 2,
       "version_minor": 0
      },
      "text/plain": [
       "0it [00:00, ?it/s]"
      ]
     },
     "metadata": {},
     "output_type": "display_data"
    },
    {
     "name": "stdout",
     "output_type": "stream",
     "text": [
      "더보기 버튼 클릭 완료\n",
      "페이지 스크롤한 다음 페이지에서 보여지는 총 리뷰 리스트 개수는 19\n",
      "양이 많아서 일부 리뷰만 가지고 옴\n",
      "3606번째 사람의 19개의 리뷰를 가져왔음.\n",
      "\n",
      "\n",
      "즈크가 적은 리뷰의 총 개수는 1462\n",
      "첫번째 높이는 8479\n"
     ]
    },
    {
     "data": {
      "application/vnd.jupyter.widget-view+json": {
       "model_id": "5eb2e75a0e314359bd111c02bad8311c",
       "version_major": 2,
       "version_minor": 0
      },
      "text/plain": [
       "  0%|          | 0/50 [00:00<?, ?it/s]"
      ]
     },
     "metadata": {},
     "output_type": "display_data"
    },
    {
     "name": "stdout",
     "output_type": "stream",
     "text": [
      "새로 가져온 높이는  16721\n",
      "새로 가져온 높이는  16721\n",
      "더보기 버튼을 눌러야 하는 갯수: 1\n"
     ]
    },
    {
     "data": {
      "application/vnd.jupyter.widget-view+json": {
       "model_id": "4da2a2d4b5c54cb989cf73ffce5e6ba0",
       "version_major": 2,
       "version_minor": 0
      },
      "text/plain": [
       "  0%|          | 0/1 [00:00<?, ?it/s]"
      ]
     },
     "metadata": {},
     "output_type": "display_data"
    },
    {
     "name": "stdout",
     "output_type": "stream",
     "text": [
      "더보기 버튼 클릭 완료\n",
      "페이지 스크롤한 다음 페이지에서 보여지는 총 리뷰 리스트 개수는 31\n",
      "양이 많아서 일부 리뷰만 가지고 옴\n",
      "3607번째 사람의 31개의 리뷰를 가져왔음.\n",
      "\n",
      "\n",
      "석팀장0가 적은 리뷰의 총 개수는 439\n",
      "첫번째 높이는 1447\n"
     ]
    },
    {
     "data": {
      "application/vnd.jupyter.widget-view+json": {
       "model_id": "4acb1af01685478b8e65788b2c4c661c",
       "version_major": 2,
       "version_minor": 0
      },
      "text/plain": [
       "  0%|          | 0/50 [00:00<?, ?it/s]"
      ]
     },
     "metadata": {},
     "output_type": "display_data"
    },
    {
     "name": "stdout",
     "output_type": "stream",
     "text": [
      "새로 가져온 높이는  1447\n",
      "더보기 버튼을 눌러야 하는 갯수: 0\n"
     ]
    },
    {
     "data": {
      "application/vnd.jupyter.widget-view+json": {
       "model_id": "9b51cc6ea3344b5eb261a2b24c13ffa5",
       "version_major": 2,
       "version_minor": 0
      },
      "text/plain": [
       "0it [00:00, ?it/s]"
      ]
     },
     "metadata": {},
     "output_type": "display_data"
    },
    {
     "name": "stdout",
     "output_type": "stream",
     "text": [
      "더보기 버튼 클릭 완료\n",
      "페이지 스크롤한 다음 페이지에서 보여지는 총 리뷰 리스트 개수는 2\n",
      "양이 많아서 일부 리뷰만 가지고 옴\n",
      "3608번째 사람의 2개의 리뷰를 가져왔음.\n",
      "\n",
      "\n",
      "ysm7142가 적은 리뷰의 총 개수는 2441\n",
      "첫번째 높이는 4316\n"
     ]
    },
    {
     "data": {
      "application/vnd.jupyter.widget-view+json": {
       "model_id": "028bc6a733d741a7b2717682da56eb62",
       "version_major": 2,
       "version_minor": 0
      },
      "text/plain": [
       "  0%|          | 0/50 [00:00<?, ?it/s]"
      ]
     },
     "metadata": {},
     "output_type": "display_data"
    },
    {
     "name": "stdout",
     "output_type": "stream",
     "text": [
      "새로 가져온 높이는  4316\n",
      "더보기 버튼을 눌러야 하는 갯수: 2\n"
     ]
    },
    {
     "data": {
      "application/vnd.jupyter.widget-view+json": {
       "model_id": "7d33ba8402e542299b85aed47bec65aa",
       "version_major": 2,
       "version_minor": 0
      },
      "text/plain": [
       "  0%|          | 0/2 [00:00<?, ?it/s]"
      ]
     },
     "metadata": {},
     "output_type": "display_data"
    },
    {
     "name": "stdout",
     "output_type": "stream",
     "text": [
      "더보기 버튼 클릭 완료\n",
      "페이지 스크롤한 다음 페이지에서 보여지는 총 리뷰 리스트 개수는 5\n",
      "양이 많아서 일부 리뷰만 가지고 옴\n",
      "3609번째 사람의 5개의 리뷰를 가져왔음.\n",
      "\n",
      "\n",
      "kwangma427가 적은 리뷰의 총 개수는 770\n",
      "첫번째 높이는 1746\n"
     ]
    },
    {
     "data": {
      "application/vnd.jupyter.widget-view+json": {
       "model_id": "1cd7bff6d5a4417c89a07b45556d4877",
       "version_major": 2,
       "version_minor": 0
      },
      "text/plain": [
       "  0%|          | 0/50 [00:00<?, ?it/s]"
      ]
     },
     "metadata": {},
     "output_type": "display_data"
    },
    {
     "name": "stdout",
     "output_type": "stream",
     "text": [
      "새로 가져온 높이는  1746\n",
      "더보기 버튼을 눌러야 하는 갯수: 0\n"
     ]
    },
    {
     "data": {
      "application/vnd.jupyter.widget-view+json": {
       "model_id": "c1b23d6f922f4f0086438ecad7d9404c",
       "version_major": 2,
       "version_minor": 0
      },
      "text/plain": [
       "0it [00:00, ?it/s]"
      ]
     },
     "metadata": {},
     "output_type": "display_data"
    },
    {
     "name": "stdout",
     "output_type": "stream",
     "text": [
      "더보기 버튼 클릭 완료\n",
      "페이지 스크롤한 다음 페이지에서 보여지는 총 리뷰 리스트 개수는 2\n",
      "양이 많아서 일부 리뷰만 가지고 옴\n",
      "3610번째 사람의 2개의 리뷰를 가져왔음.\n",
      "\n",
      "\n",
      "몽이423가 적은 리뷰의 총 개수는 2846\n",
      "첫번째 높이는 7959\n"
     ]
    },
    {
     "data": {
      "application/vnd.jupyter.widget-view+json": {
       "model_id": "ea44120b19a6436d81dc71674bb1fd3f",
       "version_major": 2,
       "version_minor": 0
      },
      "text/plain": [
       "  0%|          | 0/50 [00:00<?, ?it/s]"
      ]
     },
     "metadata": {},
     "output_type": "display_data"
    },
    {
     "name": "stdout",
     "output_type": "stream",
     "text": [
      "새로 가져온 높이는  15515\n",
      "새로 가져온 높이는  22805\n",
      "새로 가져온 높이는  22805\n",
      "더보기 버튼을 눌러야 하는 갯수: 0\n"
     ]
    },
    {
     "data": {
      "application/vnd.jupyter.widget-view+json": {
       "model_id": "2eff79e5bd404539849dfda5610855f2",
       "version_major": 2,
       "version_minor": 0
      },
      "text/plain": [
       "0it [00:00, ?it/s]"
      ]
     },
     "metadata": {},
     "output_type": "display_data"
    },
    {
     "name": "stdout",
     "output_type": "stream",
     "text": [
      "더보기 버튼 클릭 완료\n",
      "페이지 스크롤한 다음 페이지에서 보여지는 총 리뷰 리스트 개수는 41\n",
      "양이 많아서 일부 리뷰만 가지고 옴\n",
      "3611번째 사람의 41개의 리뷰를 가져왔음.\n",
      "\n",
      "\n",
      "gte****가 적은 리뷰의 총 개수는 2\n",
      "첫번째 높이는 628\n"
     ]
    },
    {
     "data": {
      "application/vnd.jupyter.widget-view+json": {
       "model_id": "781400d99ace424bb91193d7633ccfa4",
       "version_major": 2,
       "version_minor": 0
      },
      "text/plain": [
       "  0%|          | 0/50 [00:00<?, ?it/s]"
      ]
     },
     "metadata": {},
     "output_type": "display_data"
    },
    {
     "name": "stdout",
     "output_type": "stream",
     "text": [
      "새로 가져온 높이는  628\n",
      "더보기 버튼을 눌러야 하는 갯수: 0\n"
     ]
    },
    {
     "data": {
      "application/vnd.jupyter.widget-view+json": {
       "model_id": "347128ecdeea4f9d9c3fa98bbed2cce7",
       "version_major": 2,
       "version_minor": 0
      },
      "text/plain": [
       "0it [00:00, ?it/s]"
      ]
     },
     "metadata": {},
     "output_type": "display_data"
    },
    {
     "name": "stdout",
     "output_type": "stream",
     "text": [
      "더보기 버튼 클릭 완료\n",
      "페이지 스크롤한 다음 페이지에서 보여지는 총 리뷰 리스트 개수는 2\n",
      "모든 리뷰를 가지고 왔음\n",
      "3612번째 사람의 2개의 리뷰를 가져왔음.\n",
      "\n",
      "\n",
      "헤라7711가 적은 리뷰의 총 개수는 705\n",
      "첫번째 높이는 9513\n"
     ]
    },
    {
     "data": {
      "application/vnd.jupyter.widget-view+json": {
       "model_id": "774e21344c2b4e03bac562585f8d1d46",
       "version_major": 2,
       "version_minor": 0
      },
      "text/plain": [
       "  0%|          | 0/50 [00:00<?, ?it/s]"
      ]
     },
     "metadata": {},
     "output_type": "display_data"
    },
    {
     "name": "stdout",
     "output_type": "stream",
     "text": [
      "새로 가져온 높이는  17930\n",
      "새로 가져온 높이는  26210\n",
      "새로 가져온 높이는  26210\n",
      "더보기 버튼을 눌러야 하는 갯수: 0\n"
     ]
    },
    {
     "data": {
      "application/vnd.jupyter.widget-view+json": {
       "model_id": "a19373fb43144057bb083b03cfa03e11",
       "version_major": 2,
       "version_minor": 0
      },
      "text/plain": [
       "0it [00:00, ?it/s]"
      ]
     },
     "metadata": {},
     "output_type": "display_data"
    },
    {
     "name": "stdout",
     "output_type": "stream",
     "text": [
      "더보기 버튼 클릭 완료\n",
      "페이지 스크롤한 다음 페이지에서 보여지는 총 리뷰 리스트 개수는 41\n",
      "양이 많아서 일부 리뷰만 가지고 옴\n",
      "3613번째 사람의 40개의 리뷰를 가져왔음.\n",
      "\n",
      "\n",
      "rladyddus1가 적은 리뷰의 총 개수는 200\n",
      "첫번째 높이는 1471\n"
     ]
    },
    {
     "data": {
      "application/vnd.jupyter.widget-view+json": {
       "model_id": "d98845135af44fd2860e42ec42027655",
       "version_major": 2,
       "version_minor": 0
      },
      "text/plain": [
       "  0%|          | 0/50 [00:00<?, ?it/s]"
      ]
     },
     "metadata": {},
     "output_type": "display_data"
    },
    {
     "name": "stdout",
     "output_type": "stream",
     "text": [
      "새로 가져온 높이는  1471\n",
      "더보기 버튼을 눌러야 하는 갯수: 0\n"
     ]
    },
    {
     "data": {
      "application/vnd.jupyter.widget-view+json": {
       "model_id": "ebcae64376b24a19b0c68757c35a641f",
       "version_major": 2,
       "version_minor": 0
      },
      "text/plain": [
       "0it [00:00, ?it/s]"
      ]
     },
     "metadata": {},
     "output_type": "display_data"
    },
    {
     "name": "stdout",
     "output_type": "stream",
     "text": [
      "더보기 버튼 클릭 완료\n",
      "페이지 스크롤한 다음 페이지에서 보여지는 총 리뷰 리스트 개수는 2\n",
      "양이 많아서 일부 리뷰만 가지고 옴\n",
      "3614번째 사람의 2개의 리뷰를 가져왔음.\n",
      "\n",
      "\n",
      "jyhlily가 적은 리뷰의 총 개수는 1336\n",
      "첫번째 높이는 11481\n"
     ]
    },
    {
     "data": {
      "application/vnd.jupyter.widget-view+json": {
       "model_id": "ab1ae760e5e04eb69f0099e4fdb5e9fe",
       "version_major": 2,
       "version_minor": 0
      },
      "text/plain": [
       "  0%|          | 0/50 [00:00<?, ?it/s]"
      ]
     },
     "metadata": {},
     "output_type": "display_data"
    },
    {
     "name": "stdout",
     "output_type": "stream",
     "text": [
      "새로 가져온 높이는  11615\n",
      "새로 가져온 높이는  11615\n",
      "더보기 버튼을 눌러야 하는 갯수: 0\n"
     ]
    },
    {
     "data": {
      "application/vnd.jupyter.widget-view+json": {
       "model_id": "de6ea5122e4b474f89f2e5a067e44cd1",
       "version_major": 2,
       "version_minor": 0
      },
      "text/plain": [
       "0it [00:00, ?it/s]"
      ]
     },
     "metadata": {},
     "output_type": "display_data"
    },
    {
     "name": "stdout",
     "output_type": "stream",
     "text": [
      "더보기 버튼 클릭 완료\n",
      "페이지 스크롤한 다음 페이지에서 보여지는 총 리뷰 리스트 개수는 15\n",
      "양이 많아서 일부 리뷰만 가지고 옴\n",
      "3615번째 사람의 15개의 리뷰를 가져왔음.\n",
      "\n",
      "\n",
      "떡이리모가 적은 리뷰의 총 개수는 432\n",
      "첫번째 높이는 8344\n"
     ]
    },
    {
     "data": {
      "application/vnd.jupyter.widget-view+json": {
       "model_id": "41ef1939ceb2411cbada626e44919c2d",
       "version_major": 2,
       "version_minor": 0
      },
      "text/plain": [
       "  0%|          | 0/50 [00:00<?, ?it/s]"
      ]
     },
     "metadata": {},
     "output_type": "display_data"
    },
    {
     "name": "stdout",
     "output_type": "stream",
     "text": [
      "새로 가져온 높이는  8344\n",
      "더보기 버튼을 눌러야 하는 갯수: 1\n"
     ]
    },
    {
     "data": {
      "application/vnd.jupyter.widget-view+json": {
       "model_id": "adbbe4ced2594d90ad7fd643d47454d4",
       "version_major": 2,
       "version_minor": 0
      },
      "text/plain": [
       "  0%|          | 0/1 [00:00<?, ?it/s]"
      ]
     },
     "metadata": {},
     "output_type": "display_data"
    },
    {
     "name": "stdout",
     "output_type": "stream",
     "text": [
      "더보기 버튼 클릭 완료\n",
      "페이지 스크롤한 다음 페이지에서 보여지는 총 리뷰 리스트 개수는 21\n",
      "양이 많아서 일부 리뷰만 가지고 옴\n",
      "3616번째 사람의 21개의 리뷰를 가져왔음.\n",
      "\n",
      "\n",
      "권상우89가 적은 리뷰의 총 개수는 723\n",
      "첫번째 높이는 801\n"
     ]
    },
    {
     "data": {
      "application/vnd.jupyter.widget-view+json": {
       "model_id": "7e453b46712a4bfb9bf3a85bb4d491d5",
       "version_major": 2,
       "version_minor": 0
      },
      "text/plain": [
       "  0%|          | 0/50 [00:00<?, ?it/s]"
      ]
     },
     "metadata": {},
     "output_type": "display_data"
    },
    {
     "name": "stdout",
     "output_type": "stream",
     "text": [
      "새로 가져온 높이는  801\n",
      "더보기 버튼을 눌러야 하는 갯수: 0\n"
     ]
    },
    {
     "data": {
      "application/vnd.jupyter.widget-view+json": {
       "model_id": "6bdf9c5e341643629208ef6fd7bb147a",
       "version_major": 2,
       "version_minor": 0
      },
      "text/plain": [
       "0it [00:00, ?it/s]"
      ]
     },
     "metadata": {},
     "output_type": "display_data"
    },
    {
     "name": "stdout",
     "output_type": "stream",
     "text": [
      "더보기 버튼 클릭 완료\n",
      "페이지 스크롤한 다음 페이지에서 보여지는 총 리뷰 리스트 개수는 1\n",
      "양이 많아서 일부 리뷰만 가지고 옴\n",
      "3617번째 사람의 1개의 리뷰를 가져왔음.\n",
      "\n",
      "\n",
      "밈스스가 적은 리뷰의 총 개수는 346\n",
      "첫번째 높이는 8802\n"
     ]
    },
    {
     "data": {
      "application/vnd.jupyter.widget-view+json": {
       "model_id": "95af9a8994d54ff8aea694edf4d907fa",
       "version_major": 2,
       "version_minor": 0
      },
      "text/plain": [
       "  0%|          | 0/50 [00:00<?, ?it/s]"
      ]
     },
     "metadata": {},
     "output_type": "display_data"
    },
    {
     "name": "stdout",
     "output_type": "stream",
     "text": [
      "새로 가져온 높이는  12812\n",
      "새로 가져온 높이는  12812\n",
      "더보기 버튼을 눌러야 하는 갯수: 1\n"
     ]
    },
    {
     "data": {
      "application/vnd.jupyter.widget-view+json": {
       "model_id": "0715d3a782b84814b811ac2a19cdb79b",
       "version_major": 2,
       "version_minor": 0
      },
      "text/plain": [
       "  0%|          | 0/1 [00:00<?, ?it/s]"
      ]
     },
     "metadata": {},
     "output_type": "display_data"
    },
    {
     "name": "stdout",
     "output_type": "stream",
     "text": [
      "더보기 버튼 클릭 완료\n",
      "페이지 스크롤한 다음 페이지에서 보여지는 총 리뷰 리스트 개수는 16\n",
      "양이 많아서 일부 리뷰만 가지고 옴\n",
      "3618번째 사람의 16개의 리뷰를 가져왔음.\n",
      "\n",
      "\n",
      "티렉스가 적은 리뷰의 총 개수는 706\n",
      "첫번째 높이는 7609\n"
     ]
    },
    {
     "data": {
      "application/vnd.jupyter.widget-view+json": {
       "model_id": "a9a9f6b555734cc98489fed9b078b65f",
       "version_major": 2,
       "version_minor": 0
      },
      "text/plain": [
       "  0%|          | 0/50 [00:00<?, ?it/s]"
      ]
     },
     "metadata": {},
     "output_type": "display_data"
    },
    {
     "name": "stdout",
     "output_type": "stream",
     "text": [
      "새로 가져온 높이는  7609\n",
      "더보기 버튼을 눌러야 하는 갯수: 5\n"
     ]
    },
    {
     "data": {
      "application/vnd.jupyter.widget-view+json": {
       "model_id": "748dd84bb37641eaa46161752079075a",
       "version_major": 2,
       "version_minor": 0
      },
      "text/plain": [
       "  0%|          | 0/5 [00:00<?, ?it/s]"
      ]
     },
     "metadata": {},
     "output_type": "display_data"
    },
    {
     "name": "stdout",
     "output_type": "stream",
     "text": [
      "더보기 버튼 클릭 완료\n",
      "페이지 스크롤한 다음 페이지에서 보여지는 총 리뷰 리스트 개수는 21\n",
      "양이 많아서 일부 리뷰만 가지고 옴\n",
      "3619번째 사람의 17개의 리뷰를 가져왔음.\n",
      "\n",
      "\n",
      "해정이가 적은 리뷰의 총 개수는 691\n",
      "첫번째 높이는 2617\n"
     ]
    },
    {
     "data": {
      "application/vnd.jupyter.widget-view+json": {
       "model_id": "2c4d9ade8425434186503157671e6726",
       "version_major": 2,
       "version_minor": 0
      },
      "text/plain": [
       "  0%|          | 0/50 [00:00<?, ?it/s]"
      ]
     },
     "metadata": {},
     "output_type": "display_data"
    },
    {
     "name": "stdout",
     "output_type": "stream",
     "text": [
      "새로 가져온 높이는  2617\n",
      "더보기 버튼을 눌러야 하는 갯수: 0\n"
     ]
    },
    {
     "data": {
      "application/vnd.jupyter.widget-view+json": {
       "model_id": "d3899393aa464105adba187ec2fd5452",
       "version_major": 2,
       "version_minor": 0
      },
      "text/plain": [
       "0it [00:00, ?it/s]"
      ]
     },
     "metadata": {},
     "output_type": "display_data"
    },
    {
     "name": "stdout",
     "output_type": "stream",
     "text": [
      "더보기 버튼 클릭 완료\n",
      "페이지 스크롤한 다음 페이지에서 보여지는 총 리뷰 리스트 개수는 3\n",
      "양이 많아서 일부 리뷰만 가지고 옴\n",
      "3620번째 사람의 3개의 리뷰를 가져왔음.\n",
      "\n",
      "\n",
      "라랄랴가 적은 리뷰의 총 개수는 484\n",
      "첫번째 높이는 9094\n"
     ]
    },
    {
     "data": {
      "application/vnd.jupyter.widget-view+json": {
       "model_id": "4c5fbece9c4f401a9c9023a701bb7182",
       "version_major": 2,
       "version_minor": 0
      },
      "text/plain": [
       "  0%|          | 0/50 [00:00<?, ?it/s]"
      ]
     },
     "metadata": {},
     "output_type": "display_data"
    },
    {
     "name": "stdout",
     "output_type": "stream",
     "text": [
      "새로 가져온 높이는  16549\n",
      "새로 가져온 높이는  23722\n",
      "새로 가져온 높이는  23722\n",
      "더보기 버튼을 눌러야 하는 갯수: 11\n"
     ]
    },
    {
     "data": {
      "application/vnd.jupyter.widget-view+json": {
       "model_id": "d94a8d05ca834544b77d684d8d00400a",
       "version_major": 2,
       "version_minor": 0
      },
      "text/plain": [
       "  0%|          | 0/11 [00:00<?, ?it/s]"
      ]
     },
     "metadata": {},
     "output_type": "display_data"
    },
    {
     "name": "stdout",
     "output_type": "stream",
     "text": [
      "더보기 버튼 클릭 완료\n",
      "페이지 스크롤한 다음 페이지에서 보여지는 총 리뷰 리스트 개수는 41\n",
      "양이 많아서 일부 리뷰만 가지고 옴\n",
      "3621번째 사람의 41개의 리뷰를 가져왔음.\n",
      "\n",
      "\n",
      "statsweet가 적은 리뷰의 총 개수는 34\n",
      "첫번째 높이는 7066\n"
     ]
    },
    {
     "data": {
      "application/vnd.jupyter.widget-view+json": {
       "model_id": "0feff540a1184efdadc5b9c51f49d4cf",
       "version_major": 2,
       "version_minor": 0
      },
      "text/plain": [
       "  0%|          | 0/50 [00:00<?, ?it/s]"
      ]
     },
     "metadata": {},
     "output_type": "display_data"
    },
    {
     "name": "stdout",
     "output_type": "stream",
     "text": [
      "새로 가져온 높이는  7066\n",
      "더보기 버튼을 눌러야 하는 갯수: 2\n"
     ]
    },
    {
     "data": {
      "application/vnd.jupyter.widget-view+json": {
       "model_id": "afc919814a4d40a6ac3d2bd91ee3b025",
       "version_major": 2,
       "version_minor": 0
      },
      "text/plain": [
       "  0%|          | 0/2 [00:00<?, ?it/s]"
      ]
     },
     "metadata": {},
     "output_type": "display_data"
    },
    {
     "name": "stdout",
     "output_type": "stream",
     "text": [
      "더보기 버튼 클릭 완료\n",
      "페이지 스크롤한 다음 페이지에서 보여지는 총 리뷰 리스트 개수는 8\n",
      "양이 많아서 일부 리뷰만 가지고 옴\n",
      "3622번째 사람의 8개의 리뷰를 가져왔음.\n",
      "\n",
      "\n",
      "봉봉6275가 적은 리뷰의 총 개수는 1790\n",
      "첫번째 높이는 9267\n"
     ]
    },
    {
     "data": {
      "application/vnd.jupyter.widget-view+json": {
       "model_id": "c9a48354441e48ee8532e3d858f7e235",
       "version_major": 2,
       "version_minor": 0
      },
      "text/plain": [
       "  0%|          | 0/50 [00:00<?, ?it/s]"
      ]
     },
     "metadata": {},
     "output_type": "display_data"
    },
    {
     "name": "stdout",
     "output_type": "stream",
     "text": [
      "새로 가져온 높이는  17612\n",
      "새로 가져온 높이는  25769\n",
      "새로 가져온 높이는  25769\n",
      "더보기 버튼을 눌러야 하는 갯수: 2\n"
     ]
    },
    {
     "data": {
      "application/vnd.jupyter.widget-view+json": {
       "model_id": "600d5c2e29f14fc384f83a474fe48905",
       "version_major": 2,
       "version_minor": 0
      },
      "text/plain": [
       "  0%|          | 0/2 [00:00<?, ?it/s]"
      ]
     },
     "metadata": {},
     "output_type": "display_data"
    },
    {
     "name": "stdout",
     "output_type": "stream",
     "text": [
      "더보기 버튼 클릭 완료\n",
      "페이지 스크롤한 다음 페이지에서 보여지는 총 리뷰 리스트 개수는 41\n",
      "양이 많아서 일부 리뷰만 가지고 옴\n",
      "3623번째 사람의 41개의 리뷰를 가져왔음.\n",
      "\n",
      "\n",
      "kye****가 적은 리뷰의 총 개수는 839\n",
      "첫번째 높이는 2745\n"
     ]
    },
    {
     "data": {
      "application/vnd.jupyter.widget-view+json": {
       "model_id": "2ef4cf25df8346bab80e476ec451f222",
       "version_major": 2,
       "version_minor": 0
      },
      "text/plain": [
       "  0%|          | 0/50 [00:00<?, ?it/s]"
      ]
     },
     "metadata": {},
     "output_type": "display_data"
    },
    {
     "name": "stdout",
     "output_type": "stream",
     "text": [
      "새로 가져온 높이는  5143\n",
      "새로 가져온 높이는  7523\n",
      "새로 가져온 높이는  9921\n",
      "새로 가져온 높이는  12310\n",
      "새로 가져온 높이는  14708\n",
      "새로 가져온 높이는  17097\n",
      "새로 가져온 높이는  19459\n",
      "새로 가져온 높이는  21857\n",
      "새로 가져온 높이는  24255\n",
      "새로 가져온 높이는  26644\n",
      "새로 가져온 높이는  26644\n",
      "더보기 버튼을 눌러야 하는 갯수: 0\n"
     ]
    },
    {
     "data": {
      "application/vnd.jupyter.widget-view+json": {
       "model_id": "9339e918a3cb408d88b567836975b399",
       "version_major": 2,
       "version_minor": 0
      },
      "text/plain": [
       "0it [00:00, ?it/s]"
      ]
     },
     "metadata": {},
     "output_type": "display_data"
    },
    {
     "name": "stdout",
     "output_type": "stream",
     "text": [
      "더보기 버튼 클릭 완료\n",
      "페이지 스크롤한 다음 페이지에서 보여지는 총 리뷰 리스트 개수는 121\n",
      "양이 많아서 일부 리뷰만 가지고 옴\n",
      "3624번째 사람의 10개의 리뷰를 가져왔음.\n",
      "\n",
      "\n",
      "유바르미가 적은 리뷰의 총 개수는 784\n",
      "첫번째 높이는 9210\n"
     ]
    },
    {
     "data": {
      "application/vnd.jupyter.widget-view+json": {
       "model_id": "184a2b1ea6234eacbc8185ae748e12a9",
       "version_major": 2,
       "version_minor": 0
      },
      "text/plain": [
       "  0%|          | 0/50 [00:00<?, ?it/s]"
      ]
     },
     "metadata": {},
     "output_type": "display_data"
    },
    {
     "name": "stdout",
     "output_type": "stream",
     "text": [
      "새로 가져온 높이는  17228\n",
      "새로 가져온 높이는  17228\n",
      "더보기 버튼을 눌러야 하는 갯수: 1\n"
     ]
    },
    {
     "data": {
      "application/vnd.jupyter.widget-view+json": {
       "model_id": "901cbf36611340dc894eda7eeb09bb63",
       "version_major": 2,
       "version_minor": 0
      },
      "text/plain": [
       "  0%|          | 0/1 [00:00<?, ?it/s]"
      ]
     },
     "metadata": {},
     "output_type": "display_data"
    },
    {
     "name": "stdout",
     "output_type": "stream",
     "text": [
      "더보기 버튼 클릭 완료\n",
      "페이지 스크롤한 다음 페이지에서 보여지는 총 리뷰 리스트 개수는 31\n",
      "양이 많아서 일부 리뷰만 가지고 옴\n",
      "3625번째 사람의 2개의 리뷰를 가져왔음.\n",
      "\n",
      "\n",
      "kms****가 적은 리뷰의 총 개수는 1128\n",
      "첫번째 높이는 769\n"
     ]
    },
    {
     "data": {
      "application/vnd.jupyter.widget-view+json": {
       "model_id": "e2d0558f6ed942d59f30c9a5be5079b4",
       "version_major": 2,
       "version_minor": 0
      },
      "text/plain": [
       "  0%|          | 0/50 [00:00<?, ?it/s]"
      ]
     },
     "metadata": {},
     "output_type": "display_data"
    },
    {
     "name": "stdout",
     "output_type": "stream",
     "text": [
      "새로 가져온 높이는  769\n",
      "더보기 버튼을 눌러야 하는 갯수: 0\n"
     ]
    },
    {
     "data": {
      "application/vnd.jupyter.widget-view+json": {
       "model_id": "37d08dd0e7364a8084aa698d9612f02e",
       "version_major": 2,
       "version_minor": 0
      },
      "text/plain": [
       "0it [00:00, ?it/s]"
      ]
     },
     "metadata": {},
     "output_type": "display_data"
    },
    {
     "name": "stdout",
     "output_type": "stream",
     "text": [
      "더보기 버튼 클릭 완료\n",
      "페이지 스크롤한 다음 페이지에서 보여지는 총 리뷰 리스트 개수는 1\n",
      "양이 많아서 일부 리뷰만 가지고 옴\n",
      "3626번째 사람의 1개의 리뷰를 가져왔음.\n",
      "\n",
      "\n",
      "pjh****가 적은 리뷰의 총 개수는 14\n",
      "첫번째 높이는 2793\n"
     ]
    },
    {
     "data": {
      "application/vnd.jupyter.widget-view+json": {
       "model_id": "00fa8dff3b1441438a5ab72a6b2dab61",
       "version_major": 2,
       "version_minor": 0
      },
      "text/plain": [
       "  0%|          | 0/50 [00:00<?, ?it/s]"
      ]
     },
     "metadata": {},
     "output_type": "display_data"
    },
    {
     "name": "stdout",
     "output_type": "stream",
     "text": [
      "새로 가져온 높이는  3486\n",
      "새로 가져온 높이는  3486\n",
      "더보기 버튼을 눌러야 하는 갯수: 0\n"
     ]
    },
    {
     "data": {
      "application/vnd.jupyter.widget-view+json": {
       "model_id": "3d8bb9e039fc4baf8c8500e773ff0af0",
       "version_major": 2,
       "version_minor": 0
      },
      "text/plain": [
       "0it [00:00, ?it/s]"
      ]
     },
     "metadata": {},
     "output_type": "display_data"
    },
    {
     "name": "stdout",
     "output_type": "stream",
     "text": [
      "더보기 버튼 클릭 완료\n",
      "페이지 스크롤한 다음 페이지에서 보여지는 총 리뷰 리스트 개수는 14\n",
      "모든 리뷰를 가지고 왔음\n",
      "3627번째 사람의 3개의 리뷰를 가져왔음.\n",
      "\n",
      "\n",
      "noy****가 적은 리뷰의 총 개수는 167\n",
      "첫번째 높이는 1423\n"
     ]
    },
    {
     "data": {
      "application/vnd.jupyter.widget-view+json": {
       "model_id": "8b0c90a7ae574a329663ccddab89bd0a",
       "version_major": 2,
       "version_minor": 0
      },
      "text/plain": [
       "  0%|          | 0/50 [00:00<?, ?it/s]"
      ]
     },
     "metadata": {},
     "output_type": "display_data"
    },
    {
     "name": "stdout",
     "output_type": "stream",
     "text": [
      "새로 가져온 높이는  1423\n",
      "더보기 버튼을 눌러야 하는 갯수: 0\n"
     ]
    },
    {
     "data": {
      "application/vnd.jupyter.widget-view+json": {
       "model_id": "f9d3755d15fd47a88d7377bac84837dd",
       "version_major": 2,
       "version_minor": 0
      },
      "text/plain": [
       "0it [00:00, ?it/s]"
      ]
     },
     "metadata": {},
     "output_type": "display_data"
    },
    {
     "name": "stdout",
     "output_type": "stream",
     "text": [
      "더보기 버튼 클릭 완료\n",
      "페이지 스크롤한 다음 페이지에서 보여지는 총 리뷰 리스트 개수는 2\n",
      "양이 많아서 일부 리뷰만 가지고 옴\n",
      "3628번째 사람의 1개의 리뷰를 가져왔음.\n",
      "\n",
      "\n",
      "pet****가 적은 리뷰의 총 개수는 263\n",
      "첫번째 높이는 9077\n"
     ]
    },
    {
     "data": {
      "application/vnd.jupyter.widget-view+json": {
       "model_id": "ab0e675986454c2484b98356e80d0021",
       "version_major": 2,
       "version_minor": 0
      },
      "text/plain": [
       "  0%|          | 0/50 [00:00<?, ?it/s]"
      ]
     },
     "metadata": {},
     "output_type": "display_data"
    },
    {
     "name": "stdout",
     "output_type": "stream",
     "text": [
      "새로 가져온 높이는  17599\n",
      "새로 가져온 높이는  25650\n",
      "새로 가져온 높이는  33653\n",
      "새로 가져온 높이는  41139\n",
      "새로 가져온 높이는  48745\n",
      "새로 가져온 높이는  56733\n",
      "새로 가져온 높이는  62917\n",
      "새로 가져온 높이는  62917\n",
      "더보기 버튼을 눌러야 하는 갯수: 8\n"
     ]
    },
    {
     "data": {
      "application/vnd.jupyter.widget-view+json": {
       "model_id": "9f16f35baa3845628f854f152fb7937d",
       "version_major": 2,
       "version_minor": 0
      },
      "text/plain": [
       "  0%|          | 0/8 [00:00<?, ?it/s]"
      ]
     },
     "metadata": {},
     "output_type": "display_data"
    },
    {
     "name": "stdout",
     "output_type": "stream",
     "text": [
      "더보기 버튼 클릭 완료\n",
      "페이지 스크롤한 다음 페이지에서 보여지는 총 리뷰 리스트 개수는 79\n",
      "양이 많아서 일부 리뷰만 가지고 옴\n",
      "3629번째 사람의 78개의 리뷰를 가져왔음.\n",
      "\n",
      "\n",
      "ysu****가 적은 리뷰의 총 개수는 448\n",
      "첫번째 높이는 885\n"
     ]
    },
    {
     "data": {
      "application/vnd.jupyter.widget-view+json": {
       "model_id": "12670d9502ea41389c024a26f4ed7862",
       "version_major": 2,
       "version_minor": 0
      },
      "text/plain": [
       "  0%|          | 0/50 [00:00<?, ?it/s]"
      ]
     },
     "metadata": {},
     "output_type": "display_data"
    },
    {
     "name": "stdout",
     "output_type": "stream",
     "text": [
      "새로 가져온 높이는  885\n",
      "더보기 버튼을 눌러야 하는 갯수: 0\n"
     ]
    },
    {
     "data": {
      "application/vnd.jupyter.widget-view+json": {
       "model_id": "ca092199027d4d78ad0dad3d0b8e8a8f",
       "version_major": 2,
       "version_minor": 0
      },
      "text/plain": [
       "0it [00:00, ?it/s]"
      ]
     },
     "metadata": {},
     "output_type": "display_data"
    },
    {
     "name": "stdout",
     "output_type": "stream",
     "text": [
      "더보기 버튼 클릭 완료\n",
      "페이지 스크롤한 다음 페이지에서 보여지는 총 리뷰 리스트 개수는 1\n",
      "양이 많아서 일부 리뷰만 가지고 옴\n",
      "3630번째 사람의 1개의 리뷰를 가져왔음.\n",
      "\n",
      "\n",
      "봉쭈맘가 적은 리뷰의 총 개수는 1443\n",
      "첫번째 높이는 0\n"
     ]
    },
    {
     "data": {
      "application/vnd.jupyter.widget-view+json": {
       "model_id": "adf34d2ec0004e25ac3c5edef65eddba",
       "version_major": 2,
       "version_minor": 0
      },
      "text/plain": [
       "  0%|          | 0/50 [00:00<?, ?it/s]"
      ]
     },
     "metadata": {},
     "output_type": "display_data"
    },
    {
     "name": "stdout",
     "output_type": "stream",
     "text": [
      "새로 가져온 높이는  771\n",
      "새로 가져온 높이는  771\n",
      "더보기 버튼을 눌러야 하는 갯수: 0\n"
     ]
    },
    {
     "data": {
      "application/vnd.jupyter.widget-view+json": {
       "model_id": "8047d196f77d4782949370c3f4bcb07d",
       "version_major": 2,
       "version_minor": 0
      },
      "text/plain": [
       "0it [00:00, ?it/s]"
      ]
     },
     "metadata": {},
     "output_type": "display_data"
    },
    {
     "name": "stdout",
     "output_type": "stream",
     "text": [
      "더보기 버튼 클릭 완료\n",
      "페이지 스크롤한 다음 페이지에서 보여지는 총 리뷰 리스트 개수는 1\n",
      "양이 많아서 일부 리뷰만 가지고 옴\n",
      "3631번째 사람의 1개의 리뷰를 가져왔음.\n",
      "\n",
      "\n",
      "암소음메가 적은 리뷰의 총 개수는 301\n",
      "첫번째 높이는 8438\n"
     ]
    },
    {
     "data": {
      "application/vnd.jupyter.widget-view+json": {
       "model_id": "7c1c696ca75f4ab2b00dbb00735e444a",
       "version_major": 2,
       "version_minor": 0
      },
      "text/plain": [
       "  0%|          | 0/50 [00:00<?, ?it/s]"
      ]
     },
     "metadata": {},
     "output_type": "display_data"
    },
    {
     "name": "stdout",
     "output_type": "stream",
     "text": [
      "새로 가져온 높이는  14735\n",
      "새로 가져온 높이는  22046\n",
      "새로 가져온 높이는  28956\n",
      "새로 가져온 높이는  35444\n",
      "새로 가져온 높이는  41528\n",
      "새로 가져온 높이는  49806\n",
      "새로 가져온 높이는  57429\n",
      "새로 가져온 높이는  65071\n",
      "새로 가져온 높이는  70927\n",
      "새로 가져온 높이는  70927\n",
      "더보기 버튼을 눌러야 하는 갯수: 1\n"
     ]
    },
    {
     "data": {
      "application/vnd.jupyter.widget-view+json": {
       "model_id": "6c496221e0834b60a3d6114d0d6b8b83",
       "version_major": 2,
       "version_minor": 0
      },
      "text/plain": [
       "  0%|          | 0/1 [00:00<?, ?it/s]"
      ]
     },
     "metadata": {},
     "output_type": "display_data"
    },
    {
     "name": "stdout",
     "output_type": "stream",
     "text": [
      "더보기 버튼 클릭 완료\n",
      "페이지 스크롤한 다음 페이지에서 보여지는 총 리뷰 리스트 개수는 111\n",
      "양이 많아서 일부 리뷰만 가지고 옴\n",
      "3632번째 사람의 111개의 리뷰를 가져왔음.\n",
      "\n",
      "\n",
      "주061가 적은 리뷰의 총 개수는 87\n",
      "첫번째 높이는 8874\n"
     ]
    },
    {
     "data": {
      "application/vnd.jupyter.widget-view+json": {
       "model_id": "7e45eb60d84e4aec957c14f8aef51c5e",
       "version_major": 2,
       "version_minor": 0
      },
      "text/plain": [
       "  0%|          | 0/50 [00:00<?, ?it/s]"
      ]
     },
     "metadata": {},
     "output_type": "display_data"
    },
    {
     "name": "stdout",
     "output_type": "stream",
     "text": [
      "새로 가져온 높이는  8824\n",
      "새로 가져온 높이는  8824\n",
      "더보기 버튼을 눌러야 하는 갯수: 0\n"
     ]
    },
    {
     "data": {
      "application/vnd.jupyter.widget-view+json": {
       "model_id": "24d0728731514d4e91e1f4abb4f7d428",
       "version_major": 2,
       "version_minor": 0
      },
      "text/plain": [
       "0it [00:00, ?it/s]"
      ]
     },
     "metadata": {},
     "output_type": "display_data"
    },
    {
     "name": "stdout",
     "output_type": "stream",
     "text": [
      "더보기 버튼 클릭 완료\n",
      "페이지 스크롤한 다음 페이지에서 보여지는 총 리뷰 리스트 개수는 11\n",
      "양이 많아서 일부 리뷰만 가지고 옴\n",
      "3633번째 사람의 11개의 리뷰를 가져왔음.\n",
      "\n",
      "\n",
      "heaeun79가 적은 리뷰의 총 개수는 84\n",
      "첫번째 높이는 7981\n"
     ]
    },
    {
     "data": {
      "application/vnd.jupyter.widget-view+json": {
       "model_id": "1c3f534418c54bd79642de7b93b74257",
       "version_major": 2,
       "version_minor": 0
      },
      "text/plain": [
       "  0%|          | 0/50 [00:00<?, ?it/s]"
      ]
     },
     "metadata": {},
     "output_type": "display_data"
    },
    {
     "name": "stdout",
     "output_type": "stream",
     "text": [
      "새로 가져온 높이는  14759\n",
      "새로 가져온 높이는  21384\n",
      "새로 가져온 높이는  22482\n",
      "새로 가져온 높이는  22482\n",
      "더보기 버튼을 눌러야 하는 갯수: 1\n"
     ]
    },
    {
     "data": {
      "application/vnd.jupyter.widget-view+json": {
       "model_id": "33ee602b099644edbbccac2ee0c84b76",
       "version_major": 2,
       "version_minor": 0
      },
      "text/plain": [
       "  0%|          | 0/1 [00:00<?, ?it/s]"
      ]
     },
     "metadata": {},
     "output_type": "display_data"
    },
    {
     "name": "stdout",
     "output_type": "stream",
     "text": [
      "더보기 버튼 클릭 완료\n",
      "페이지 스크롤한 다음 페이지에서 보여지는 총 리뷰 리스트 개수는 33\n",
      "양이 많아서 일부 리뷰만 가지고 옴\n",
      "3634번째 사람의 29개의 리뷰를 가져왔음.\n",
      "\n",
      "\n",
      "이나니3447가 적은 리뷰의 총 개수는 481\n",
      "첫번째 높이는 0\n"
     ]
    },
    {
     "data": {
      "application/vnd.jupyter.widget-view+json": {
       "model_id": "397897b7a9444912badce880411654ed",
       "version_major": 2,
       "version_minor": 0
      },
      "text/plain": [
       "  0%|          | 0/50 [00:00<?, ?it/s]"
      ]
     },
     "metadata": {},
     "output_type": "display_data"
    },
    {
     "name": "stdout",
     "output_type": "stream",
     "text": [
      "새로 가져온 높이는  9785\n",
      "새로 가져온 높이는  26669\n",
      "새로 가져온 높이는  35378\n",
      "새로 가져온 높이는  43300\n",
      "새로 가져온 높이는  51690\n",
      "새로 가져온 높이는  60325\n",
      "새로 가져온 높이는  68822\n",
      "새로 가져온 높이는  77223\n",
      "새로 가져온 높이는  85756\n",
      "새로 가져온 높이는  94136\n",
      "새로 가져온 높이는  102567\n",
      "새로 가져온 높이는  110926\n",
      "새로 가져온 높이는  110926\n",
      "더보기 버튼을 눌러야 하는 갯수: 0\n"
     ]
    },
    {
     "data": {
      "application/vnd.jupyter.widget-view+json": {
       "model_id": "f49d03ab669d49cdb9145f81e1ac5b28",
       "version_major": 2,
       "version_minor": 0
      },
      "text/plain": [
       "0it [00:00, ?it/s]"
      ]
     },
     "metadata": {},
     "output_type": "display_data"
    },
    {
     "name": "stdout",
     "output_type": "stream",
     "text": [
      "더보기 버튼 클릭 완료\n",
      "페이지 스크롤한 다음 페이지에서 보여지는 총 리뷰 리스트 개수는 140\n",
      "양이 많아서 일부 리뷰만 가지고 옴\n",
      "3635번째 사람의 135개의 리뷰를 가져왔음.\n",
      "\n",
      "\n",
      "달프로젝트가 적은 리뷰의 총 개수는 1069\n",
      "첫번째 높이는 6033\n"
     ]
    },
    {
     "data": {
      "application/vnd.jupyter.widget-view+json": {
       "model_id": "36075566ca71462dbc787f63ca56ed20",
       "version_major": 2,
       "version_minor": 0
      },
      "text/plain": [
       "  0%|          | 0/50 [00:00<?, ?it/s]"
      ]
     },
     "metadata": {},
     "output_type": "display_data"
    },
    {
     "name": "stdout",
     "output_type": "stream",
     "text": [
      "새로 가져온 높이는  6033\n",
      "더보기 버튼을 눌러야 하는 갯수: 2\n"
     ]
    },
    {
     "data": {
      "application/vnd.jupyter.widget-view+json": {
       "model_id": "69633abe58eb419d9399f86ac88958e8",
       "version_major": 2,
       "version_minor": 0
      },
      "text/plain": [
       "  0%|          | 0/2 [00:00<?, ?it/s]"
      ]
     },
     "metadata": {},
     "output_type": "display_data"
    },
    {
     "name": "stdout",
     "output_type": "stream",
     "text": [
      "더보기 버튼 클릭 완료\n",
      "페이지 스크롤한 다음 페이지에서 보여지는 총 리뷰 리스트 개수는 9\n",
      "양이 많아서 일부 리뷰만 가지고 옴\n",
      "3636번째 사람의 9개의 리뷰를 가져왔음.\n",
      "\n",
      "\n",
      "실업자가 적은 리뷰의 총 개수는 142\n",
      "첫번째 높이는 1277\n"
     ]
    },
    {
     "data": {
      "application/vnd.jupyter.widget-view+json": {
       "model_id": "d2535ba1301a4fdf8e051e13d64cb0fe",
       "version_major": 2,
       "version_minor": 0
      },
      "text/plain": [
       "  0%|          | 0/50 [00:00<?, ?it/s]"
      ]
     },
     "metadata": {},
     "output_type": "display_data"
    },
    {
     "name": "stdout",
     "output_type": "stream",
     "text": [
      "새로 가져온 높이는  1277\n",
      "더보기 버튼을 눌러야 하는 갯수: 0\n"
     ]
    },
    {
     "data": {
      "application/vnd.jupyter.widget-view+json": {
       "model_id": "913fb7e8481949fe8791cc1211a4079f",
       "version_major": 2,
       "version_minor": 0
      },
      "text/plain": [
       "0it [00:00, ?it/s]"
      ]
     },
     "metadata": {},
     "output_type": "display_data"
    },
    {
     "name": "stdout",
     "output_type": "stream",
     "text": [
      "더보기 버튼 클릭 완료\n",
      "페이지 스크롤한 다음 페이지에서 보여지는 총 리뷰 리스트 개수는 2\n",
      "양이 많아서 일부 리뷰만 가지고 옴\n",
      "3637번째 사람의 2개의 리뷰를 가져왔음.\n",
      "\n",
      "\n",
      "밍구쓰리뷰가 적은 리뷰의 총 개수는 59\n",
      "첫번째 높이는 9282\n"
     ]
    },
    {
     "data": {
      "application/vnd.jupyter.widget-view+json": {
       "model_id": "4c7a94200181405a8f49c3538f5f5e01",
       "version_major": 2,
       "version_minor": 0
      },
      "text/plain": [
       "  0%|          | 0/50 [00:00<?, ?it/s]"
      ]
     },
     "metadata": {},
     "output_type": "display_data"
    },
    {
     "name": "stdout",
     "output_type": "stream",
     "text": [
      "새로 가져온 높이는  15471\n",
      "새로 가져온 높이는  15471\n",
      "더보기 버튼을 눌러야 하는 갯수: 4\n"
     ]
    },
    {
     "data": {
      "application/vnd.jupyter.widget-view+json": {
       "model_id": "67a151bcb4214aa095c7947780e0b1cb",
       "version_major": 2,
       "version_minor": 0
      },
      "text/plain": [
       "  0%|          | 0/4 [00:00<?, ?it/s]"
      ]
     },
     "metadata": {},
     "output_type": "display_data"
    },
    {
     "name": "stdout",
     "output_type": "stream",
     "text": [
      "더보기 버튼 클릭 완료\n",
      "페이지 스크롤한 다음 페이지에서 보여지는 총 리뷰 리스트 개수는 19\n",
      "양이 많아서 일부 리뷰만 가지고 옴\n",
      "3638번째 사람의 19개의 리뷰를 가져왔음.\n",
      "\n",
      "\n",
      "율쓰54가 적은 리뷰의 총 개수는 533\n",
      "첫번째 높이는 6155\n"
     ]
    },
    {
     "data": {
      "application/vnd.jupyter.widget-view+json": {
       "model_id": "2a5db190f85443b3b3ae9e9409f58b01",
       "version_major": 2,
       "version_minor": 0
      },
      "text/plain": [
       "  0%|          | 0/50 [00:00<?, ?it/s]"
      ]
     },
     "metadata": {},
     "output_type": "display_data"
    },
    {
     "name": "stdout",
     "output_type": "stream",
     "text": [
      "새로 가져온 높이는  6155\n",
      "더보기 버튼을 눌러야 하는 갯수: 0\n"
     ]
    },
    {
     "data": {
      "application/vnd.jupyter.widget-view+json": {
       "model_id": "ab7332f626504d1e86e3e83bfeef744c",
       "version_major": 2,
       "version_minor": 0
      },
      "text/plain": [
       "0it [00:00, ?it/s]"
      ]
     },
     "metadata": {},
     "output_type": "display_data"
    },
    {
     "name": "stdout",
     "output_type": "stream",
     "text": [
      "더보기 버튼 클릭 완료\n",
      "페이지 스크롤한 다음 페이지에서 보여지는 총 리뷰 리스트 개수는 8\n",
      "양이 많아서 일부 리뷰만 가지고 옴\n",
      "3639번째 사람의 8개의 리뷰를 가져왔음.\n",
      "\n",
      "\n",
      "동이0926가 적은 리뷰의 총 개수는 1077\n",
      "첫번째 높이는 8904\n"
     ]
    },
    {
     "data": {
      "application/vnd.jupyter.widget-view+json": {
       "model_id": "2d93d7801fe4476c97ec76ebad45377f",
       "version_major": 2,
       "version_minor": 0
      },
      "text/plain": [
       "  0%|          | 0/50 [00:00<?, ?it/s]"
      ]
     },
     "metadata": {},
     "output_type": "display_data"
    },
    {
     "name": "stdout",
     "output_type": "stream",
     "text": [
      "새로 가져온 높이는  8904\n",
      "더보기 버튼을 눌러야 하는 갯수: 13\n"
     ]
    },
    {
     "data": {
      "application/vnd.jupyter.widget-view+json": {
       "model_id": "a482f270764240f8ba91fe829bbc5a34",
       "version_major": 2,
       "version_minor": 0
      },
      "text/plain": [
       "  0%|          | 0/13 [00:00<?, ?it/s]"
      ]
     },
     "metadata": {},
     "output_type": "display_data"
    },
    {
     "name": "stdout",
     "output_type": "stream",
     "text": [
      "더보기 버튼 클릭 완료\n",
      "페이지 스크롤한 다음 페이지에서 보여지는 총 리뷰 리스트 개수는 21\n",
      "양이 많아서 일부 리뷰만 가지고 옴\n",
      "3640번째 사람의 19개의 리뷰를 가져왔음.\n",
      "\n",
      "\n",
      "탄이베리가 적은 리뷰의 총 개수는 145\n",
      "첫번째 높이는 3002\n"
     ]
    },
    {
     "data": {
      "application/vnd.jupyter.widget-view+json": {
       "model_id": "bb21401a591547df9720ba61c19db51f",
       "version_major": 2,
       "version_minor": 0
      },
      "text/plain": [
       "  0%|          | 0/50 [00:00<?, ?it/s]"
      ]
     },
     "metadata": {},
     "output_type": "display_data"
    },
    {
     "name": "stdout",
     "output_type": "stream",
     "text": [
      "새로 가져온 높이는  5589\n",
      "새로 가져온 높이는  5589\n",
      "더보기 버튼을 눌러야 하는 갯수: 0\n"
     ]
    },
    {
     "data": {
      "application/vnd.jupyter.widget-view+json": {
       "model_id": "49cad47ae3ce4c83bcf8ed1df7cba8a7",
       "version_major": 2,
       "version_minor": 0
      },
      "text/plain": [
       "0it [00:00, ?it/s]"
      ]
     },
     "metadata": {},
     "output_type": "display_data"
    },
    {
     "name": "stdout",
     "output_type": "stream",
     "text": [
      "더보기 버튼 클릭 완료\n",
      "페이지 스크롤한 다음 페이지에서 보여지는 총 리뷰 리스트 개수는 31\n",
      "양이 많아서 일부 리뷰만 가지고 옴\n",
      "3641번째 사람의 31개의 리뷰를 가져왔음.\n",
      "\n",
      "\n",
      "늘푸른새싹가 적은 리뷰의 총 개수는 420\n",
      "첫번째 높이는 7921\n"
     ]
    },
    {
     "data": {
      "application/vnd.jupyter.widget-view+json": {
       "model_id": "5eeb5e84d5354f549d64724c80b148b2",
       "version_major": 2,
       "version_minor": 0
      },
      "text/plain": [
       "  0%|          | 0/50 [00:00<?, ?it/s]"
      ]
     },
     "metadata": {},
     "output_type": "display_data"
    },
    {
     "name": "stdout",
     "output_type": "stream",
     "text": [
      "새로 가져온 높이는  7921\n",
      "더보기 버튼을 눌러야 하는 갯수: 4\n"
     ]
    },
    {
     "data": {
      "application/vnd.jupyter.widget-view+json": {
       "model_id": "bbd7610a036146cbb2189446bac61df8",
       "version_major": 2,
       "version_minor": 0
      },
      "text/plain": [
       "  0%|          | 0/4 [00:00<?, ?it/s]"
      ]
     },
     "metadata": {},
     "output_type": "display_data"
    },
    {
     "name": "stdout",
     "output_type": "stream",
     "text": [
      "더보기 버튼 클릭 완료\n",
      "페이지 스크롤한 다음 페이지에서 보여지는 총 리뷰 리스트 개수는 10\n",
      "양이 많아서 일부 리뷰만 가지고 옴\n",
      "3642번째 사람의 9개의 리뷰를 가져왔음.\n",
      "\n",
      "\n",
      "박근임가 적은 리뷰의 총 개수는 794\n",
      "첫번째 높이는 2976\n"
     ]
    },
    {
     "data": {
      "application/vnd.jupyter.widget-view+json": {
       "model_id": "0bccb32abc4f49a79132eec41f95ce01",
       "version_major": 2,
       "version_minor": 0
      },
      "text/plain": [
       "  0%|          | 0/50 [00:00<?, ?it/s]"
      ]
     },
     "metadata": {},
     "output_type": "display_data"
    },
    {
     "name": "stdout",
     "output_type": "stream",
     "text": [
      "새로 가져온 높이는  2976\n",
      "더보기 버튼을 눌러야 하는 갯수: 0\n"
     ]
    },
    {
     "data": {
      "application/vnd.jupyter.widget-view+json": {
       "model_id": "7832f0f43cb44523b27ac8318aecef10",
       "version_major": 2,
       "version_minor": 0
      },
      "text/plain": [
       "0it [00:00, ?it/s]"
      ]
     },
     "metadata": {},
     "output_type": "display_data"
    },
    {
     "name": "stdout",
     "output_type": "stream",
     "text": [
      "더보기 버튼 클릭 완료\n",
      "페이지 스크롤한 다음 페이지에서 보여지는 총 리뷰 리스트 개수는 21\n",
      "양이 많아서 일부 리뷰만 가지고 옴\n",
      "3643번째 사람의 21개의 리뷰를 가져왔음.\n",
      "\n",
      "\n",
      "히메나7가 적은 리뷰의 총 개수는 1003\n",
      "첫번째 높이는 9411\n"
     ]
    },
    {
     "data": {
      "application/vnd.jupyter.widget-view+json": {
       "model_id": "88008e9c260e4b4cb7f3af21f11310ac",
       "version_major": 2,
       "version_minor": 0
      },
      "text/plain": [
       "  0%|          | 0/50 [00:00<?, ?it/s]"
      ]
     },
     "metadata": {},
     "output_type": "display_data"
    },
    {
     "name": "stdout",
     "output_type": "stream",
     "text": [
      "새로 가져온 높이는  17543\n",
      "새로 가져온 높이는  25219\n",
      "새로 가져온 높이는  25219\n",
      "더보기 버튼을 눌러야 하는 갯수: 4\n"
     ]
    },
    {
     "data": {
      "application/vnd.jupyter.widget-view+json": {
       "model_id": "d7b38b381f554a5db69b9fe3b98fae57",
       "version_major": 2,
       "version_minor": 0
      },
      "text/plain": [
       "  0%|          | 0/4 [00:00<?, ?it/s]"
      ]
     },
     "metadata": {},
     "output_type": "display_data"
    },
    {
     "name": "stdout",
     "output_type": "stream",
     "text": [
      "더보기 버튼 클릭 완료\n",
      "페이지 스크롤한 다음 페이지에서 보여지는 총 리뷰 리스트 개수는 41\n",
      "양이 많아서 일부 리뷰만 가지고 옴\n",
      "3644번째 사람의 36개의 리뷰를 가져왔음.\n",
      "\n",
      "\n",
      "고기서 고기가 적은 리뷰의 총 개수는 949\n",
      "첫번째 높이는 7638\n"
     ]
    },
    {
     "data": {
      "application/vnd.jupyter.widget-view+json": {
       "model_id": "ab5dcb04c8394ba596a743398fbd975a",
       "version_major": 2,
       "version_minor": 0
      },
      "text/plain": [
       "  0%|          | 0/50 [00:00<?, ?it/s]"
      ]
     },
     "metadata": {},
     "output_type": "display_data"
    },
    {
     "name": "stdout",
     "output_type": "stream",
     "text": [
      "새로 가져온 높이는  14485\n",
      "새로 가져온 높이는  14485\n",
      "더보기 버튼을 눌러야 하는 갯수: 0\n"
     ]
    },
    {
     "data": {
      "application/vnd.jupyter.widget-view+json": {
       "model_id": "bdf40c7b45e9421fb72db136115e9946",
       "version_major": 2,
       "version_minor": 0
      },
      "text/plain": [
       "0it [00:00, ?it/s]"
      ]
     },
     "metadata": {},
     "output_type": "display_data"
    },
    {
     "name": "stdout",
     "output_type": "stream",
     "text": [
      "더보기 버튼 클릭 완료\n",
      "페이지 스크롤한 다음 페이지에서 보여지는 총 리뷰 리스트 개수는 31\n",
      "양이 많아서 일부 리뷰만 가지고 옴\n",
      "3645번째 사람의 29개의 리뷰를 가져왔음.\n",
      "\n",
      "\n",
      "유글32가 적은 리뷰의 총 개수는 488\n",
      "첫번째 높이는 0\n"
     ]
    },
    {
     "data": {
      "application/vnd.jupyter.widget-view+json": {
       "model_id": "6e4ba804dcf24f9a8483dbf82831cfdb",
       "version_major": 2,
       "version_minor": 0
      },
      "text/plain": [
       "  0%|          | 0/50 [00:00<?, ?it/s]"
      ]
     },
     "metadata": {},
     "output_type": "display_data"
    },
    {
     "name": "stdout",
     "output_type": "stream",
     "text": [
      "새로 가져온 높이는  6209\n",
      "새로 가져온 높이는  6209\n",
      "더보기 버튼을 눌러야 하는 갯수: 0\n"
     ]
    },
    {
     "data": {
      "application/vnd.jupyter.widget-view+json": {
       "model_id": "d76cdc25b351482daaa79915d327bd59",
       "version_major": 2,
       "version_minor": 0
      },
      "text/plain": [
       "0it [00:00, ?it/s]"
      ]
     },
     "metadata": {},
     "output_type": "display_data"
    },
    {
     "name": "stdout",
     "output_type": "stream",
     "text": [
      "더보기 버튼 클릭 완료\n",
      "페이지 스크롤한 다음 페이지에서 보여지는 총 리뷰 리스트 개수는 7\n",
      "양이 많아서 일부 리뷰만 가지고 옴\n",
      "3646번째 사람의 7개의 리뷰를 가져왔음.\n",
      "\n",
      "\n",
      "jes love가 적은 리뷰의 총 개수는 603\n",
      "첫번째 높이는 7796\n"
     ]
    },
    {
     "data": {
      "application/vnd.jupyter.widget-view+json": {
       "model_id": "0870444e41094f698f32b7d5406358a5",
       "version_major": 2,
       "version_minor": 0
      },
      "text/plain": [
       "  0%|          | 0/50 [00:00<?, ?it/s]"
      ]
     },
     "metadata": {},
     "output_type": "display_data"
    },
    {
     "name": "stdout",
     "output_type": "stream",
     "text": [
      "새로 가져온 높이는  14298\n",
      "새로 가져온 높이는  14298\n",
      "더보기 버튼을 눌러야 하는 갯수: 2\n"
     ]
    },
    {
     "data": {
      "application/vnd.jupyter.widget-view+json": {
       "model_id": "cb58a404ff62453f8168a53e3d16391b",
       "version_major": 2,
       "version_minor": 0
      },
      "text/plain": [
       "  0%|          | 0/2 [00:00<?, ?it/s]"
      ]
     },
     "metadata": {},
     "output_type": "display_data"
    },
    {
     "name": "stdout",
     "output_type": "stream",
     "text": [
      "더보기 버튼 클릭 완료\n",
      "페이지 스크롤한 다음 페이지에서 보여지는 총 리뷰 리스트 개수는 31\n",
      "양이 많아서 일부 리뷰만 가지고 옴\n",
      "3647번째 사람의 30개의 리뷰를 가져왔음.\n",
      "\n",
      "\n",
      "sjw****가 적은 리뷰의 총 개수는 1309\n",
      "첫번째 높이는 3176\n"
     ]
    },
    {
     "data": {
      "application/vnd.jupyter.widget-view+json": {
       "model_id": "226d164ed227474b9dc209d500229708",
       "version_major": 2,
       "version_minor": 0
      },
      "text/plain": [
       "  0%|          | 0/50 [00:00<?, ?it/s]"
      ]
     },
     "metadata": {},
     "output_type": "display_data"
    },
    {
     "name": "stdout",
     "output_type": "stream",
     "text": [
      "새로 가져온 높이는  5959\n",
      "새로 가져온 높이는  8742\n",
      "새로 가져온 높이는  11579\n",
      "새로 가져온 높이는  14478\n",
      "새로 가져온 높이는  17228\n",
      "새로 가져온 높이는  19992\n",
      "새로 가져온 높이는  22702\n",
      "새로 가져온 높이는  25340\n",
      "새로 가져온 높이는  28152\n",
      "새로 가져온 높이는  31115\n",
      "새로 가져온 높이는  33927\n",
      "새로 가져온 높이는  36623\n",
      "새로 가져온 높이는  36623\n",
      "더보기 버튼을 눌러야 하는 갯수: 0\n"
     ]
    },
    {
     "data": {
      "application/vnd.jupyter.widget-view+json": {
       "model_id": "049f22cd648e419ea166303f2c889c61",
       "version_major": 2,
       "version_minor": 0
      },
      "text/plain": [
       "0it [00:00, ?it/s]"
      ]
     },
     "metadata": {},
     "output_type": "display_data"
    },
    {
     "name": "stdout",
     "output_type": "stream",
     "text": [
      "더보기 버튼 클릭 완료\n",
      "페이지 스크롤한 다음 페이지에서 보여지는 총 리뷰 리스트 개수는 141\n",
      "양이 많아서 일부 리뷰만 가지고 옴\n",
      "3648번째 사람의 140개의 리뷰를 가져왔음.\n",
      "\n",
      "\n",
      "jr333265가 적은 리뷰의 총 개수는 498\n",
      "첫번째 높이는 0\n"
     ]
    },
    {
     "data": {
      "application/vnd.jupyter.widget-view+json": {
       "model_id": "64c36fd4b53a4141b5c4fc0e9ae0a45e",
       "version_major": 2,
       "version_minor": 0
      },
      "text/plain": [
       "  0%|          | 0/50 [00:00<?, ?it/s]"
      ]
     },
     "metadata": {},
     "output_type": "display_data"
    },
    {
     "name": "stdout",
     "output_type": "stream",
     "text": [
      "새로 가져온 높이는  2877\n",
      "새로 가져온 높이는  5326\n",
      "새로 가져온 높이는  5326\n",
      "더보기 버튼을 눌러야 하는 갯수: 0\n"
     ]
    },
    {
     "data": {
      "application/vnd.jupyter.widget-view+json": {
       "model_id": "3517d22ec3574848bc62ea4e88b1ba4f",
       "version_major": 2,
       "version_minor": 0
      },
      "text/plain": [
       "0it [00:00, ?it/s]"
      ]
     },
     "metadata": {},
     "output_type": "display_data"
    },
    {
     "name": "stdout",
     "output_type": "stream",
     "text": [
      "더보기 버튼 클릭 완료\n",
      "페이지 스크롤한 다음 페이지에서 보여지는 총 리뷰 리스트 개수는 31\n",
      "양이 많아서 일부 리뷰만 가지고 옴\n",
      "3649번째 사람의 29개의 리뷰를 가져왔음.\n",
      "\n",
      "\n",
      "나뇽27가 적은 리뷰의 총 개수는 423\n",
      "첫번째 높이는 8720\n"
     ]
    },
    {
     "data": {
      "application/vnd.jupyter.widget-view+json": {
       "model_id": "326a71ca89bf48d6b274e76c11900f89",
       "version_major": 2,
       "version_minor": 0
      },
      "text/plain": [
       "  0%|          | 0/50 [00:00<?, ?it/s]"
      ]
     },
     "metadata": {},
     "output_type": "display_data"
    },
    {
     "name": "stdout",
     "output_type": "stream",
     "text": [
      "새로 가져온 높이는  15902\n",
      "새로 가져온 높이는  22897\n",
      "새로 가져온 높이는  30859\n",
      "새로 가져온 높이는  37971\n",
      "새로 가져온 높이는  45117\n",
      "새로 가져온 높이는  52010\n",
      "새로 가져온 높이는  60142\n",
      "새로 가져온 높이는  68540\n",
      "새로 가져온 높이는  75793\n",
      "새로 가져온 높이는  83352\n",
      "새로 가져온 높이는  91745\n",
      "새로 가져온 높이는  91745\n",
      "더보기 버튼을 눌러야 하는 갯수: 3\n"
     ]
    },
    {
     "data": {
      "application/vnd.jupyter.widget-view+json": {
       "model_id": "61d4aff4367247fcb8d593e79ccdcb6b",
       "version_major": 2,
       "version_minor": 0
      },
      "text/plain": [
       "  0%|          | 0/3 [00:00<?, ?it/s]"
      ]
     },
     "metadata": {},
     "output_type": "display_data"
    },
    {
     "name": "stdout",
     "output_type": "stream",
     "text": [
      "더보기 버튼 클릭 완료\n",
      "페이지 스크롤한 다음 페이지에서 보여지는 총 리뷰 리스트 개수는 131\n",
      "양이 많아서 일부 리뷰만 가지고 옴\n",
      "3650번째 사람의 131개의 리뷰를 가져왔음.\n",
      "\n",
      "\n",
      "dodone88가 적은 리뷰의 총 개수는 1129\n",
      "첫번째 높이는 8758\n"
     ]
    },
    {
     "data": {
      "application/vnd.jupyter.widget-view+json": {
       "model_id": "40a2db4eb21c4f79a2a4ba2951777fd7",
       "version_major": 2,
       "version_minor": 0
      },
      "text/plain": [
       "  0%|          | 0/50 [00:00<?, ?it/s]"
      ]
     },
     "metadata": {},
     "output_type": "display_data"
    },
    {
     "name": "stdout",
     "output_type": "stream",
     "text": [
      "새로 가져온 높이는  16770\n",
      "새로 가져온 높이는  16770\n",
      "더보기 버튼을 눌러야 하는 갯수: 0\n"
     ]
    },
    {
     "data": {
      "application/vnd.jupyter.widget-view+json": {
       "model_id": "842c6845181142d88857df74fa752c7b",
       "version_major": 2,
       "version_minor": 0
      },
      "text/plain": [
       "0it [00:00, ?it/s]"
      ]
     },
     "metadata": {},
     "output_type": "display_data"
    },
    {
     "name": "stdout",
     "output_type": "stream",
     "text": [
      "더보기 버튼 클릭 완료\n",
      "페이지 스크롤한 다음 페이지에서 보여지는 총 리뷰 리스트 개수는 31\n",
      "양이 많아서 일부 리뷰만 가지고 옴\n",
      "3651번째 사람의 30개의 리뷰를 가져왔음.\n",
      "\n",
      "\n",
      "yljung1가 적은 리뷰의 총 개수는 1519\n",
      "첫번째 높이는 8379\n"
     ]
    },
    {
     "data": {
      "application/vnd.jupyter.widget-view+json": {
       "model_id": "13d66b9455a44ff88094083c1757e9a2",
       "version_major": 2,
       "version_minor": 0
      },
      "text/plain": [
       "  0%|          | 0/50 [00:00<?, ?it/s]"
      ]
     },
     "metadata": {},
     "output_type": "display_data"
    },
    {
     "name": "stdout",
     "output_type": "stream",
     "text": [
      "새로 가져온 높이는  15061\n",
      "새로 가져온 높이는  22508\n",
      "새로 가져온 높이는  30074\n",
      "새로 가져온 높이는  30074\n",
      "더보기 버튼을 눌러야 하는 갯수: 0\n"
     ]
    },
    {
     "data": {
      "application/vnd.jupyter.widget-view+json": {
       "model_id": "960ad88a58c446159cece3ca3df28e6d",
       "version_major": 2,
       "version_minor": 0
      },
      "text/plain": [
       "0it [00:00, ?it/s]"
      ]
     },
     "metadata": {},
     "output_type": "display_data"
    },
    {
     "name": "stdout",
     "output_type": "stream",
     "text": [
      "더보기 버튼 클릭 완료\n",
      "페이지 스크롤한 다음 페이지에서 보여지는 총 리뷰 리스트 개수는 51\n",
      "양이 많아서 일부 리뷰만 가지고 옴\n",
      "3652번째 사람의 50개의 리뷰를 가져왔음.\n",
      "\n",
      "\n",
      "hk****가 적은 리뷰의 총 개수는 2065\n",
      "첫번째 높이는 3081\n"
     ]
    },
    {
     "data": {
      "application/vnd.jupyter.widget-view+json": {
       "model_id": "822b113a1c0343b697904f5a8ce55d8d",
       "version_major": 2,
       "version_minor": 0
      },
      "text/plain": [
       "  0%|          | 0/50 [00:00<?, ?it/s]"
      ]
     },
     "metadata": {},
     "output_type": "display_data"
    },
    {
     "name": "stdout",
     "output_type": "stream",
     "text": [
      "새로 가져온 높이는  5509\n",
      "새로 가져온 높이는  8117\n",
      "새로 가져온 높이는  10683\n",
      "새로 가져온 높이는  10683\n",
      "더보기 버튼을 눌러야 하는 갯수: 1\n"
     ]
    },
    {
     "data": {
      "application/vnd.jupyter.widget-view+json": {
       "model_id": "acaa139bfc6a4bcab2ddf6fe164b6fc9",
       "version_major": 2,
       "version_minor": 0
      },
      "text/plain": [
       "  0%|          | 0/1 [00:00<?, ?it/s]"
      ]
     },
     "metadata": {},
     "output_type": "display_data"
    },
    {
     "name": "stdout",
     "output_type": "stream",
     "text": [
      "더보기 버튼 클릭 완료\n",
      "페이지 스크롤한 다음 페이지에서 보여지는 총 리뷰 리스트 개수는 51\n",
      "양이 많아서 일부 리뷰만 가지고 옴\n",
      "3653번째 사람의 37개의 리뷰를 가져왔음.\n",
      "\n",
      "\n",
      "Al911가 적은 리뷰의 총 개수는 216\n",
      "첫번째 높이는 8690\n"
     ]
    },
    {
     "data": {
      "application/vnd.jupyter.widget-view+json": {
       "model_id": "8100252e57024cf5b053be5b40213e07",
       "version_major": 2,
       "version_minor": 0
      },
      "text/plain": [
       "  0%|          | 0/50 [00:00<?, ?it/s]"
      ]
     },
     "metadata": {},
     "output_type": "display_data"
    },
    {
     "name": "stdout",
     "output_type": "stream",
     "text": [
      "새로 가져온 높이는  17031\n",
      "새로 가져온 높이는  17031\n",
      "더보기 버튼을 눌러야 하는 갯수: 25\n"
     ]
    },
    {
     "data": {
      "application/vnd.jupyter.widget-view+json": {
       "model_id": "397c31453ce845d19aab767087664ea0",
       "version_major": 2,
       "version_minor": 0
      },
      "text/plain": [
       "  0%|          | 0/25 [00:00<?, ?it/s]"
      ]
     },
     "metadata": {},
     "output_type": "display_data"
    },
    {
     "name": "stdout",
     "output_type": "stream",
     "text": [
      "더보기 버튼 클릭 완료\n",
      "페이지 스크롤한 다음 페이지에서 보여지는 총 리뷰 리스트 개수는 27\n",
      "양이 많아서 일부 리뷰만 가지고 옴\n",
      "3654번째 사람의 27개의 리뷰를 가져왔음.\n",
      "\n",
      "\n",
      "장동은84가 적은 리뷰의 총 개수는 17\n",
      "첫번째 높이는 1079\n"
     ]
    },
    {
     "data": {
      "application/vnd.jupyter.widget-view+json": {
       "model_id": "075daecc30ce4892adeb3519b80ea9ef",
       "version_major": 2,
       "version_minor": 0
      },
      "text/plain": [
       "  0%|          | 0/50 [00:00<?, ?it/s]"
      ]
     },
     "metadata": {},
     "output_type": "display_data"
    },
    {
     "name": "stdout",
     "output_type": "stream",
     "text": [
      "새로 가져온 높이는  1079\n",
      "더보기 버튼을 눌러야 하는 갯수: 0\n"
     ]
    },
    {
     "data": {
      "application/vnd.jupyter.widget-view+json": {
       "model_id": "5204543867e4493da9b0336b817ddb6b",
       "version_major": 2,
       "version_minor": 0
      },
      "text/plain": [
       "0it [00:00, ?it/s]"
      ]
     },
     "metadata": {},
     "output_type": "display_data"
    },
    {
     "name": "stdout",
     "output_type": "stream",
     "text": [
      "더보기 버튼 클릭 완료\n",
      "페이지 스크롤한 다음 페이지에서 보여지는 총 리뷰 리스트 개수는 1\n",
      "양이 많아서 일부 리뷰만 가지고 옴\n",
      "3655번째 사람의 1개의 리뷰를 가져왔음.\n",
      "\n",
      "\n",
      "지채정가 적은 리뷰의 총 개수는 1046\n",
      "첫번째 높이는 7887\n"
     ]
    },
    {
     "data": {
      "application/vnd.jupyter.widget-view+json": {
       "model_id": "237284f1526e4664875ba7a24c00bcf6",
       "version_major": 2,
       "version_minor": 0
      },
      "text/plain": [
       "  0%|          | 0/50 [00:00<?, ?it/s]"
      ]
     },
     "metadata": {},
     "output_type": "display_data"
    },
    {
     "name": "stdout",
     "output_type": "stream",
     "text": [
      "새로 가져온 높이는  13156\n",
      "새로 가져온 높이는  13156\n",
      "더보기 버튼을 눌러야 하는 갯수: 0\n"
     ]
    },
    {
     "data": {
      "application/vnd.jupyter.widget-view+json": {
       "model_id": "de96ee3e19ce4ad594846bef05d9345e",
       "version_major": 2,
       "version_minor": 0
      },
      "text/plain": [
       "0it [00:00, ?it/s]"
      ]
     },
     "metadata": {},
     "output_type": "display_data"
    },
    {
     "name": "stdout",
     "output_type": "stream",
     "text": [
      "더보기 버튼 클릭 완료\n",
      "페이지 스크롤한 다음 페이지에서 보여지는 총 리뷰 리스트 개수는 20\n",
      "양이 많아서 일부 리뷰만 가지고 옴\n",
      "3656번째 사람의 20개의 리뷰를 가져왔음.\n",
      "\n",
      "\n",
      "soj****가 적은 리뷰의 총 개수는 274\n",
      "첫번째 높이는 8247\n"
     ]
    },
    {
     "data": {
      "application/vnd.jupyter.widget-view+json": {
       "model_id": "2619f40ee6c2408387c376fc3f3732ec",
       "version_major": 2,
       "version_minor": 0
      },
      "text/plain": [
       "  0%|          | 0/50 [00:00<?, ?it/s]"
      ]
     },
     "metadata": {},
     "output_type": "display_data"
    },
    {
     "name": "stdout",
     "output_type": "stream",
     "text": [
      "새로 가져온 높이는  10139\n",
      "새로 가져온 높이는  10139\n",
      "더보기 버튼을 눌러야 하는 갯수: 2\n"
     ]
    },
    {
     "data": {
      "application/vnd.jupyter.widget-view+json": {
       "model_id": "8d697b4682854cf48e22f39335512a47",
       "version_major": 2,
       "version_minor": 0
      },
      "text/plain": [
       "  0%|          | 0/2 [00:00<?, ?it/s]"
      ]
     },
     "metadata": {},
     "output_type": "display_data"
    },
    {
     "name": "stdout",
     "output_type": "stream",
     "text": [
      "더보기 버튼 클릭 완료\n",
      "페이지 스크롤한 다음 페이지에서 보여지는 총 리뷰 리스트 개수는 14\n",
      "양이 많아서 일부 리뷰만 가지고 옴\n",
      "3657번째 사람의 14개의 리뷰를 가져왔음.\n",
      "\n",
      "\n",
      "ym****가 적은 리뷰의 총 개수는 1460\n",
      "첫번째 높이는 10989\n"
     ]
    },
    {
     "data": {
      "application/vnd.jupyter.widget-view+json": {
       "model_id": "a711e242a575469a8e9da61db31e717d",
       "version_major": 2,
       "version_minor": 0
      },
      "text/plain": [
       "  0%|          | 0/50 [00:00<?, ?it/s]"
      ]
     },
     "metadata": {},
     "output_type": "display_data"
    },
    {
     "name": "stdout",
     "output_type": "stream",
     "text": [
      "새로 가져온 높이는  8085\n",
      "새로 가져온 높이는  12621\n",
      "새로 가져온 높이는  12621\n",
      "더보기 버튼을 눌러야 하는 갯수: 0\n"
     ]
    },
    {
     "data": {
      "application/vnd.jupyter.widget-view+json": {
       "model_id": "88f7b1eefc534391bb7a4f49313d0f7c",
       "version_major": 2,
       "version_minor": 0
      },
      "text/plain": [
       "0it [00:00, ?it/s]"
      ]
     },
     "metadata": {},
     "output_type": "display_data"
    },
    {
     "name": "stdout",
     "output_type": "stream",
     "text": [
      "더보기 버튼 클릭 완료\n",
      "페이지 스크롤한 다음 페이지에서 보여지는 총 리뷰 리스트 개수는 17\n",
      "양이 많아서 일부 리뷰만 가지고 옴\n",
      "3658번째 사람의 16개의 리뷰를 가져왔음.\n",
      "\n",
      "\n",
      "정상희104가 적은 리뷰의 총 개수는 1190\n",
      "첫번째 높이는 12601\n"
     ]
    },
    {
     "data": {
      "application/vnd.jupyter.widget-view+json": {
       "model_id": "1b21e1d541b74ff4b5a855a36c3a68be",
       "version_major": 2,
       "version_minor": 0
      },
      "text/plain": [
       "  0%|          | 0/50 [00:00<?, ?it/s]"
      ]
     },
     "metadata": {},
     "output_type": "display_data"
    },
    {
     "name": "stdout",
     "output_type": "stream",
     "text": [
      "새로 가져온 높이는  9279\n",
      "새로 가져온 높이는  16005\n",
      "새로 가져온 높이는  23481\n",
      "새로 가져온 높이는  23481\n",
      "더보기 버튼을 눌러야 하는 갯수: 2\n"
     ]
    },
    {
     "data": {
      "application/vnd.jupyter.widget-view+json": {
       "model_id": "846df51846e54ffa9d03a94b4c3734ac",
       "version_major": 2,
       "version_minor": 0
      },
      "text/plain": [
       "  0%|          | 0/2 [00:00<?, ?it/s]"
      ]
     },
     "metadata": {},
     "output_type": "display_data"
    },
    {
     "name": "stdout",
     "output_type": "stream",
     "text": [
      "더보기 버튼 클릭 완료\n",
      "페이지 스크롤한 다음 페이지에서 보여지는 총 리뷰 리스트 개수는 32\n",
      "양이 많아서 일부 리뷰만 가지고 옴\n",
      "3659번째 사람의 25개의 리뷰를 가져왔음.\n",
      "\n",
      "\n",
      "먹만이가 적은 리뷰의 총 개수는 392\n",
      "첫번째 높이는 8852\n"
     ]
    },
    {
     "data": {
      "application/vnd.jupyter.widget-view+json": {
       "model_id": "a7b5c50fef5d44d2ad5733004654c288",
       "version_major": 2,
       "version_minor": 0
      },
      "text/plain": [
       "  0%|          | 0/50 [00:00<?, ?it/s]"
      ]
     },
     "metadata": {},
     "output_type": "display_data"
    },
    {
     "name": "stdout",
     "output_type": "stream",
     "text": [
      "새로 가져온 높이는  16009\n",
      "새로 가져온 높이는  16009\n",
      "더보기 버튼을 눌러야 하는 갯수: 0\n"
     ]
    },
    {
     "data": {
      "application/vnd.jupyter.widget-view+json": {
       "model_id": "aa0253b83e93405faf504b796ae63e93",
       "version_major": 2,
       "version_minor": 0
      },
      "text/plain": [
       "0it [00:00, ?it/s]"
      ]
     },
     "metadata": {},
     "output_type": "display_data"
    },
    {
     "name": "stdout",
     "output_type": "stream",
     "text": [
      "더보기 버튼 클릭 완료\n",
      "페이지 스크롤한 다음 페이지에서 보여지는 총 리뷰 리스트 개수는 31\n",
      "양이 많아서 일부 리뷰만 가지고 옴\n",
      "3660번째 사람의 29개의 리뷰를 가져왔음.\n",
      "\n",
      "\n",
      "마이플레이스가 적은 리뷰의 총 개수는 191\n",
      "첫번째 높이는 6415\n"
     ]
    },
    {
     "data": {
      "application/vnd.jupyter.widget-view+json": {
       "model_id": "acc2524891914cfb934b90ca1799ed75",
       "version_major": 2,
       "version_minor": 0
      },
      "text/plain": [
       "  0%|          | 0/50 [00:00<?, ?it/s]"
      ]
     },
     "metadata": {},
     "output_type": "display_data"
    },
    {
     "name": "stdout",
     "output_type": "stream",
     "text": [
      "새로 가져온 높이는  6415\n",
      "더보기 버튼을 눌러야 하는 갯수: 2\n"
     ]
    },
    {
     "data": {
      "application/vnd.jupyter.widget-view+json": {
       "model_id": "1ec9d197666b42e59b8712bbbd2ceff9",
       "version_major": 2,
       "version_minor": 0
      },
      "text/plain": [
       "  0%|          | 0/2 [00:00<?, ?it/s]"
      ]
     },
     "metadata": {},
     "output_type": "display_data"
    },
    {
     "name": "stdout",
     "output_type": "stream",
     "text": [
      "더보기 버튼 클릭 완료\n",
      "페이지 스크롤한 다음 페이지에서 보여지는 총 리뷰 리스트 개수는 8\n",
      "양이 많아서 일부 리뷰만 가지고 옴\n",
      "3661번째 사람의 8개의 리뷰를 가져왔음.\n",
      "\n",
      "\n",
      "rud****가 적은 리뷰의 총 개수는 342\n",
      "첫번째 높이는 1533\n"
     ]
    },
    {
     "data": {
      "application/vnd.jupyter.widget-view+json": {
       "model_id": "48656ede56c04e16aa15f1ed702c078a",
       "version_major": 2,
       "version_minor": 0
      },
      "text/plain": [
       "  0%|          | 0/50 [00:00<?, ?it/s]"
      ]
     },
     "metadata": {},
     "output_type": "display_data"
    },
    {
     "name": "stdout",
     "output_type": "stream",
     "text": [
      "새로 가져온 높이는  1533\n",
      "더보기 버튼을 눌러야 하는 갯수: 0\n"
     ]
    },
    {
     "data": {
      "application/vnd.jupyter.widget-view+json": {
       "model_id": "18caccc1f3724b00893bf6b1d8ae82a4",
       "version_major": 2,
       "version_minor": 0
      },
      "text/plain": [
       "0it [00:00, ?it/s]"
      ]
     },
     "metadata": {},
     "output_type": "display_data"
    },
    {
     "name": "stdout",
     "output_type": "stream",
     "text": [
      "더보기 버튼 클릭 완료\n",
      "페이지 스크롤한 다음 페이지에서 보여지는 총 리뷰 리스트 개수는 2\n",
      "양이 많아서 일부 리뷰만 가지고 옴\n",
      "3662번째 사람의 2개의 리뷰를 가져왔음.\n",
      "\n",
      "\n",
      "에이구79가 적은 리뷰의 총 개수는 558\n",
      "첫번째 높이는 10368\n"
     ]
    },
    {
     "data": {
      "application/vnd.jupyter.widget-view+json": {
       "model_id": "67cd34745ec14003a5d496dd7a4b712e",
       "version_major": 2,
       "version_minor": 0
      },
      "text/plain": [
       "  0%|          | 0/50 [00:00<?, ?it/s]"
      ]
     },
     "metadata": {},
     "output_type": "display_data"
    },
    {
     "name": "stdout",
     "output_type": "stream",
     "text": [
      "새로 가져온 높이는  19011\n",
      "새로 가져온 높이는  21797\n",
      "새로 가져온 높이는  21797\n",
      "더보기 버튼을 눌러야 하는 갯수: 2\n"
     ]
    },
    {
     "data": {
      "application/vnd.jupyter.widget-view+json": {
       "model_id": "da817d9adf8a4016a9839333c29f4b5b",
       "version_major": 2,
       "version_minor": 0
      },
      "text/plain": [
       "  0%|          | 0/2 [00:00<?, ?it/s]"
      ]
     },
     "metadata": {},
     "output_type": "display_data"
    },
    {
     "name": "stdout",
     "output_type": "stream",
     "text": [
      "더보기 버튼 클릭 완료\n",
      "페이지 스크롤한 다음 페이지에서 보여지는 총 리뷰 리스트 개수는 25\n",
      "양이 많아서 일부 리뷰만 가지고 옴\n",
      "3663번째 사람의 25개의 리뷰를 가져왔음.\n",
      "\n",
      "\n",
      "시네라리아492가 적은 리뷰의 총 개수는 5\n",
      "첫번째 높이는 2391\n"
     ]
    },
    {
     "data": {
      "application/vnd.jupyter.widget-view+json": {
       "model_id": "5b091ccd901949e9af76e5d711f5ffa3",
       "version_major": 2,
       "version_minor": 0
      },
      "text/plain": [
       "  0%|          | 0/50 [00:00<?, ?it/s]"
      ]
     },
     "metadata": {},
     "output_type": "display_data"
    },
    {
     "name": "stdout",
     "output_type": "stream",
     "text": [
      "새로 가져온 높이는  2391\n",
      "더보기 버튼을 눌러야 하는 갯수: 1\n"
     ]
    },
    {
     "data": {
      "application/vnd.jupyter.widget-view+json": {
       "model_id": "be141b86df214abe901719d589ed84e3",
       "version_major": 2,
       "version_minor": 0
      },
      "text/plain": [
       "  0%|          | 0/1 [00:00<?, ?it/s]"
      ]
     },
     "metadata": {},
     "output_type": "display_data"
    },
    {
     "name": "stdout",
     "output_type": "stream",
     "text": [
      "더보기 버튼 클릭 완료\n",
      "페이지 스크롤한 다음 페이지에서 보여지는 총 리뷰 리스트 개수는 3\n",
      "양이 많아서 일부 리뷰만 가지고 옴\n",
      "3664번째 사람의 3개의 리뷰를 가져왔음.\n",
      "\n",
      "\n",
      "서권기문자향가 적은 리뷰의 총 개수는 126\n",
      "첫번째 높이는 8753\n"
     ]
    },
    {
     "data": {
      "application/vnd.jupyter.widget-view+json": {
       "model_id": "04028b1c16b344fb8c73c72af682aa26",
       "version_major": 2,
       "version_minor": 0
      },
      "text/plain": [
       "  0%|          | 0/50 [00:00<?, ?it/s]"
      ]
     },
     "metadata": {},
     "output_type": "display_data"
    },
    {
     "name": "stdout",
     "output_type": "stream",
     "text": [
      "새로 가져온 높이는  8703\n",
      "새로 가져온 높이는  8703\n",
      "더보기 버튼을 눌러야 하는 갯수: 1\n"
     ]
    },
    {
     "data": {
      "application/vnd.jupyter.widget-view+json": {
       "model_id": "15ac202fe9f340238af84640965e0992",
       "version_major": 2,
       "version_minor": 0
      },
      "text/plain": [
       "  0%|          | 0/1 [00:00<?, ?it/s]"
      ]
     },
     "metadata": {},
     "output_type": "display_data"
    },
    {
     "name": "stdout",
     "output_type": "stream",
     "text": [
      "더보기 버튼 클릭 완료\n",
      "페이지 스크롤한 다음 페이지에서 보여지는 총 리뷰 리스트 개수는 11\n",
      "양이 많아서 일부 리뷰만 가지고 옴\n",
      "3665번째 사람의 11개의 리뷰를 가져왔음.\n",
      "\n",
      "\n",
      "92 kim56가 적은 리뷰의 총 개수는 475\n",
      "첫번째 높이는 8013\n"
     ]
    },
    {
     "data": {
      "application/vnd.jupyter.widget-view+json": {
       "model_id": "4084860ee1f7429e98b3708fee9aa0b2",
       "version_major": 2,
       "version_minor": 0
      },
      "text/plain": [
       "  0%|          | 0/50 [00:00<?, ?it/s]"
      ]
     },
     "metadata": {},
     "output_type": "display_data"
    },
    {
     "name": "stdout",
     "output_type": "stream",
     "text": [
      "새로 가져온 높이는  15002\n",
      "새로 가져온 높이는  21903\n",
      "새로 가져온 높이는  21903\n",
      "더보기 버튼을 눌러야 하는 갯수: 0\n"
     ]
    },
    {
     "data": {
      "application/vnd.jupyter.widget-view+json": {
       "model_id": "b7ffc741f04b41739ba798e08c78cbbb",
       "version_major": 2,
       "version_minor": 0
      },
      "text/plain": [
       "0it [00:00, ?it/s]"
      ]
     },
     "metadata": {},
     "output_type": "display_data"
    },
    {
     "name": "stdout",
     "output_type": "stream",
     "text": [
      "더보기 버튼 클릭 완료\n",
      "페이지 스크롤한 다음 페이지에서 보여지는 총 리뷰 리스트 개수는 41\n",
      "양이 많아서 일부 리뷰만 가지고 옴\n",
      "3666번째 사람의 41개의 리뷰를 가져왔음.\n",
      "\n",
      "\n",
      "아기천사순둥이가 적은 리뷰의 총 개수는 302\n",
      "첫번째 높이는 8556\n"
     ]
    },
    {
     "data": {
      "application/vnd.jupyter.widget-view+json": {
       "model_id": "0b97fefd285b4e87a4df816863d8d526",
       "version_major": 2,
       "version_minor": 0
      },
      "text/plain": [
       "  0%|          | 0/50 [00:00<?, ?it/s]"
      ]
     },
     "metadata": {},
     "output_type": "display_data"
    },
    {
     "name": "stdout",
     "output_type": "stream",
     "text": [
      "새로 가져온 높이는  16584\n",
      "새로 가져온 높이는  24662\n",
      "새로 가져온 높이는  32085\n",
      "새로 가져온 높이는  34078\n",
      "새로 가져온 높이는  34078\n",
      "더보기 버튼을 눌러야 하는 갯수: 3\n"
     ]
    },
    {
     "data": {
      "application/vnd.jupyter.widget-view+json": {
       "model_id": "718ba75cca3a4f9f91684288e6449521",
       "version_major": 2,
       "version_minor": 0
      },
      "text/plain": [
       "  0%|          | 0/3 [00:00<?, ?it/s]"
      ]
     },
     "metadata": {},
     "output_type": "display_data"
    },
    {
     "name": "stdout",
     "output_type": "stream",
     "text": [
      "더보기 버튼 클릭 완료\n",
      "페이지 스크롤한 다음 페이지에서 보여지는 총 리뷰 리스트 개수는 44\n",
      "양이 많아서 일부 리뷰만 가지고 옴\n",
      "3667번째 사람의 41개의 리뷰를 가져왔음.\n",
      "\n",
      "\n",
      "쌤쌤74가 적은 리뷰의 총 개수는 72\n",
      "첫번째 높이는 3934\n"
     ]
    },
    {
     "data": {
      "application/vnd.jupyter.widget-view+json": {
       "model_id": "3476b3fa9be14be4844ec85a9fdbb2f2",
       "version_major": 2,
       "version_minor": 0
      },
      "text/plain": [
       "  0%|          | 0/50 [00:00<?, ?it/s]"
      ]
     },
     "metadata": {},
     "output_type": "display_data"
    },
    {
     "name": "stdout",
     "output_type": "stream",
     "text": [
      "새로 가져온 높이는  3934\n",
      "더보기 버튼을 눌러야 하는 갯수: 1\n"
     ]
    },
    {
     "data": {
      "application/vnd.jupyter.widget-view+json": {
       "model_id": "3f0d5cfbf0574a1c96e4f7119e8d19a4",
       "version_major": 2,
       "version_minor": 0
      },
      "text/plain": [
       "  0%|          | 0/1 [00:00<?, ?it/s]"
      ]
     },
     "metadata": {},
     "output_type": "display_data"
    },
    {
     "name": "stdout",
     "output_type": "stream",
     "text": [
      "더보기 버튼 클릭 완료\n",
      "페이지 스크롤한 다음 페이지에서 보여지는 총 리뷰 리스트 개수는 5\n",
      "양이 많아서 일부 리뷰만 가지고 옴\n",
      "3668번째 사람의 5개의 리뷰를 가져왔음.\n",
      "\n",
      "\n",
      "귀신1041가 적은 리뷰의 총 개수는 223\n",
      "첫번째 높이는 5599\n"
     ]
    },
    {
     "data": {
      "application/vnd.jupyter.widget-view+json": {
       "model_id": "b8b732298cbd40d79dc74322387352f5",
       "version_major": 2,
       "version_minor": 0
      },
      "text/plain": [
       "  0%|          | 0/50 [00:00<?, ?it/s]"
      ]
     },
     "metadata": {},
     "output_type": "display_data"
    },
    {
     "name": "stdout",
     "output_type": "stream",
     "text": [
      "새로 가져온 높이는  5599\n",
      "더보기 버튼을 눌러야 하는 갯수: 2\n"
     ]
    },
    {
     "data": {
      "application/vnd.jupyter.widget-view+json": {
       "model_id": "e4443d97d1bc47ccb7b46cbb8b78b764",
       "version_major": 2,
       "version_minor": 0
      },
      "text/plain": [
       "  0%|          | 0/2 [00:00<?, ?it/s]"
      ]
     },
     "metadata": {},
     "output_type": "display_data"
    },
    {
     "name": "stdout",
     "output_type": "stream",
     "text": [
      "더보기 버튼 클릭 완료\n",
      "페이지 스크롤한 다음 페이지에서 보여지는 총 리뷰 리스트 개수는 7\n",
      "양이 많아서 일부 리뷰만 가지고 옴\n",
      "3669번째 사람의 7개의 리뷰를 가져왔음.\n",
      "\n",
      "\n",
      "telllie66가 적은 리뷰의 총 개수는 118\n",
      "첫번째 높이는 918\n"
     ]
    },
    {
     "data": {
      "application/vnd.jupyter.widget-view+json": {
       "model_id": "165fda1b23f04431830f23404b2a0eaf",
       "version_major": 2,
       "version_minor": 0
      },
      "text/plain": [
       "  0%|          | 0/50 [00:00<?, ?it/s]"
      ]
     },
     "metadata": {},
     "output_type": "display_data"
    },
    {
     "name": "stdout",
     "output_type": "stream",
     "text": [
      "새로 가져온 높이는  918\n",
      "더보기 버튼을 눌러야 하는 갯수: 0\n"
     ]
    },
    {
     "data": {
      "application/vnd.jupyter.widget-view+json": {
       "model_id": "78d25f8b43ce49c29e38c2ca81bfdcdd",
       "version_major": 2,
       "version_minor": 0
      },
      "text/plain": [
       "0it [00:00, ?it/s]"
      ]
     },
     "metadata": {},
     "output_type": "display_data"
    },
    {
     "name": "stdout",
     "output_type": "stream",
     "text": [
      "더보기 버튼 클릭 완료\n",
      "페이지 스크롤한 다음 페이지에서 보여지는 총 리뷰 리스트 개수는 1\n",
      "양이 많아서 일부 리뷰만 가지고 옴\n",
      "3670번째 사람의 1개의 리뷰를 가져왔음.\n",
      "\n",
      "\n",
      "조과장12가 적은 리뷰의 총 개수는 344\n",
      "첫번째 높이는 8039\n"
     ]
    },
    {
     "data": {
      "application/vnd.jupyter.widget-view+json": {
       "model_id": "efa04d9f921a498b8872678ccd597701",
       "version_major": 2,
       "version_minor": 0
      },
      "text/plain": [
       "  0%|          | 0/50 [00:00<?, ?it/s]"
      ]
     },
     "metadata": {},
     "output_type": "display_data"
    },
    {
     "name": "stdout",
     "output_type": "stream",
     "text": [
      "새로 가져온 높이는  14271\n",
      "새로 가져온 높이는  14750\n",
      "새로 가져온 높이는  14750\n",
      "더보기 버튼을 눌러야 하는 갯수: 3\n"
     ]
    },
    {
     "data": {
      "application/vnd.jupyter.widget-view+json": {
       "model_id": "23aa6fe2d6ea4b7d978659f733c6f3dd",
       "version_major": 2,
       "version_minor": 0
      },
      "text/plain": [
       "  0%|          | 0/3 [00:00<?, ?it/s]"
      ]
     },
     "metadata": {},
     "output_type": "display_data"
    },
    {
     "name": "stdout",
     "output_type": "stream",
     "text": [
      "더보기 버튼 클릭 완료\n",
      "페이지 스크롤한 다음 페이지에서 보여지는 총 리뷰 리스트 개수는 22\n",
      "양이 많아서 일부 리뷰만 가지고 옴\n",
      "3671번째 사람의 20개의 리뷰를 가져왔음.\n",
      "\n",
      "\n",
      "후아유마이네임가 적은 리뷰의 총 개수는 1310\n",
      "첫번째 높이는 9041\n"
     ]
    },
    {
     "data": {
      "application/vnd.jupyter.widget-view+json": {
       "model_id": "b9c70206ab624dbea24f984cd5ee8c31",
       "version_major": 2,
       "version_minor": 0
      },
      "text/plain": [
       "  0%|          | 0/50 [00:00<?, ?it/s]"
      ]
     },
     "metadata": {},
     "output_type": "display_data"
    },
    {
     "name": "stdout",
     "output_type": "stream",
     "text": [
      "새로 가져온 높이는  17053\n",
      "새로 가져온 높이는  25243\n",
      "새로 가져온 높이는  32951\n",
      "새로 가져온 높이는  40051\n",
      "새로 가져온 높이는  47459\n",
      "새로 가져온 높이는  54573\n",
      "새로 가져온 높이는  61431\n",
      "새로 가져온 높이는  68379\n",
      "새로 가져온 높이는  75014\n",
      "새로 가져온 높이는  82267\n",
      "새로 가져온 높이는  82267\n",
      "더보기 버튼을 눌러야 하는 갯수: 0\n"
     ]
    },
    {
     "data": {
      "application/vnd.jupyter.widget-view+json": {
       "model_id": "6508d86e84c24c23a2c35f665edd58e7",
       "version_major": 2,
       "version_minor": 0
      },
      "text/plain": [
       "0it [00:00, ?it/s]"
      ]
     },
     "metadata": {},
     "output_type": "display_data"
    },
    {
     "name": "stdout",
     "output_type": "stream",
     "text": [
      "더보기 버튼 클릭 완료\n",
      "페이지 스크롤한 다음 페이지에서 보여지는 총 리뷰 리스트 개수는 115\n",
      "양이 많아서 일부 리뷰만 가지고 옴\n",
      "3672번째 사람의 113개의 리뷰를 가져왔음.\n",
      "\n",
      "\n",
      "눈썰매7가 적은 리뷰의 총 개수는 132\n",
      "첫번째 높이는 3236\n"
     ]
    },
    {
     "data": {
      "application/vnd.jupyter.widget-view+json": {
       "model_id": "6977d7033406415a84034d33d5b016b3",
       "version_major": 2,
       "version_minor": 0
      },
      "text/plain": [
       "  0%|          | 0/50 [00:00<?, ?it/s]"
      ]
     },
     "metadata": {},
     "output_type": "display_data"
    },
    {
     "name": "stdout",
     "output_type": "stream",
     "text": [
      "새로 가져온 높이는  3236\n",
      "더보기 버튼을 눌러야 하는 갯수: 0\n"
     ]
    },
    {
     "data": {
      "application/vnd.jupyter.widget-view+json": {
       "model_id": "c14390d2b1054909bcc99b08e0108800",
       "version_major": 2,
       "version_minor": 0
      },
      "text/plain": [
       "0it [00:00, ?it/s]"
      ]
     },
     "metadata": {},
     "output_type": "display_data"
    },
    {
     "name": "stdout",
     "output_type": "stream",
     "text": [
      "더보기 버튼 클릭 완료\n",
      "페이지 스크롤한 다음 페이지에서 보여지는 총 리뷰 리스트 개수는 5\n",
      "양이 많아서 일부 리뷰만 가지고 옴\n",
      "3673번째 사람의 5개의 리뷰를 가져왔음.\n",
      "\n",
      "\n",
      "zr02가 적은 리뷰의 총 개수는 1134\n",
      "첫번째 높이는 9600\n"
     ]
    },
    {
     "data": {
      "application/vnd.jupyter.widget-view+json": {
       "model_id": "aef2e30dc1ed4cc291f883d113b53115",
       "version_major": 2,
       "version_minor": 0
      },
      "text/plain": [
       "  0%|          | 0/50 [00:00<?, ?it/s]"
      ]
     },
     "metadata": {},
     "output_type": "display_data"
    },
    {
     "name": "stdout",
     "output_type": "stream",
     "text": [
      "새로 가져온 높이는  16540\n",
      "새로 가져온 높이는  23951\n",
      "새로 가져온 높이는  31394\n",
      "새로 가져온 높이는  38952\n",
      "새로 가져온 높이는  45673\n",
      "새로 가져온 높이는  45673\n",
      "더보기 버튼을 눌러야 하는 갯수: 15\n"
     ]
    },
    {
     "data": {
      "application/vnd.jupyter.widget-view+json": {
       "model_id": "3d1802d0e85c491d93b1378b55f5b9cc",
       "version_major": 2,
       "version_minor": 0
      },
      "text/plain": [
       "  0%|          | 0/15 [00:00<?, ?it/s]"
      ]
     },
     "metadata": {},
     "output_type": "display_data"
    },
    {
     "name": "stdout",
     "output_type": "stream",
     "text": [
      "더보기 버튼 클릭 완료\n",
      "페이지 스크롤한 다음 페이지에서 보여지는 총 리뷰 리스트 개수는 71\n",
      "양이 많아서 일부 리뷰만 가지고 옴\n",
      "3674번째 사람의 70개의 리뷰를 가져왔음.\n",
      "\n",
      "\n",
      "chi****가 적은 리뷰의 총 개수는 540\n",
      "첫번째 높이는 745\n"
     ]
    },
    {
     "data": {
      "application/vnd.jupyter.widget-view+json": {
       "model_id": "eee4924ca7064704a37ec86f1780ad1d",
       "version_major": 2,
       "version_minor": 0
      },
      "text/plain": [
       "  0%|          | 0/50 [00:00<?, ?it/s]"
      ]
     },
     "metadata": {},
     "output_type": "display_data"
    },
    {
     "name": "stdout",
     "output_type": "stream",
     "text": [
      "새로 가져온 높이는  745\n",
      "더보기 버튼을 눌러야 하는 갯수: 0\n"
     ]
    },
    {
     "data": {
      "application/vnd.jupyter.widget-view+json": {
       "model_id": "96ec49660a38487b8688b8560f820ebb",
       "version_major": 2,
       "version_minor": 0
      },
      "text/plain": [
       "0it [00:00, ?it/s]"
      ]
     },
     "metadata": {},
     "output_type": "display_data"
    },
    {
     "name": "stdout",
     "output_type": "stream",
     "text": [
      "더보기 버튼 클릭 완료\n",
      "페이지 스크롤한 다음 페이지에서 보여지는 총 리뷰 리스트 개수는 1\n",
      "양이 많아서 일부 리뷰만 가지고 옴\n",
      "3675번째 사람의 1개의 리뷰를 가져왔음.\n",
      "\n",
      "\n",
      "tjs****가 적은 리뷰의 총 개수는 653\n",
      "첫번째 높이는 7622\n"
     ]
    },
    {
     "data": {
      "application/vnd.jupyter.widget-view+json": {
       "model_id": "46aaa1a177b347628b36cbbc179fe7e4",
       "version_major": 2,
       "version_minor": 0
      },
      "text/plain": [
       "  0%|          | 0/50 [00:00<?, ?it/s]"
      ]
     },
     "metadata": {},
     "output_type": "display_data"
    },
    {
     "name": "stdout",
     "output_type": "stream",
     "text": [
      "새로 가져온 높이는  7622\n",
      "더보기 버튼을 눌러야 하는 갯수: 0\n"
     ]
    },
    {
     "data": {
      "application/vnd.jupyter.widget-view+json": {
       "model_id": "9a30b94f1b3a47cbba0fe4fc908aab90",
       "version_major": 2,
       "version_minor": 0
      },
      "text/plain": [
       "0it [00:00, ?it/s]"
      ]
     },
     "metadata": {},
     "output_type": "display_data"
    },
    {
     "name": "stdout",
     "output_type": "stream",
     "text": [
      "더보기 버튼 클릭 완료\n",
      "페이지 스크롤한 다음 페이지에서 보여지는 총 리뷰 리스트 개수는 14\n",
      "양이 많아서 일부 리뷰만 가지고 옴\n",
      "3676번째 사람의 14개의 리뷰를 가져왔음.\n",
      "\n",
      "\n",
      "묜지7가 적은 리뷰의 총 개수는 953\n",
      "첫번째 높이는 5472\n"
     ]
    },
    {
     "data": {
      "application/vnd.jupyter.widget-view+json": {
       "model_id": "ce302a4007ef48e082ca19a85f1be34c",
       "version_major": 2,
       "version_minor": 0
      },
      "text/plain": [
       "  0%|          | 0/50 [00:00<?, ?it/s]"
      ]
     },
     "metadata": {},
     "output_type": "display_data"
    },
    {
     "name": "stdout",
     "output_type": "stream",
     "text": [
      "새로 가져온 높이는  5472\n",
      "더보기 버튼을 눌러야 하는 갯수: 0\n"
     ]
    },
    {
     "data": {
      "application/vnd.jupyter.widget-view+json": {
       "model_id": "2338a1fe74e44f6c93b5a429d419e0e2",
       "version_major": 2,
       "version_minor": 0
      },
      "text/plain": [
       "0it [00:00, ?it/s]"
      ]
     },
     "metadata": {},
     "output_type": "display_data"
    },
    {
     "name": "stdout",
     "output_type": "stream",
     "text": [
      "더보기 버튼 클릭 완료\n",
      "페이지 스크롤한 다음 페이지에서 보여지는 총 리뷰 리스트 개수는 7\n",
      "양이 많아서 일부 리뷰만 가지고 옴\n",
      "3677번째 사람의 7개의 리뷰를 가져왔음.\n",
      "\n",
      "\n",
      "DA02가 적은 리뷰의 총 개수는 84\n",
      "첫번째 높이는 8802\n"
     ]
    },
    {
     "data": {
      "application/vnd.jupyter.widget-view+json": {
       "model_id": "62096ad119d6467db1e4ad25cb9da6fd",
       "version_major": 2,
       "version_minor": 0
      },
      "text/plain": [
       "  0%|          | 0/50 [00:00<?, ?it/s]"
      ]
     },
     "metadata": {},
     "output_type": "display_data"
    },
    {
     "name": "stdout",
     "output_type": "stream",
     "text": [
      "새로 가져온 높이는  8752\n",
      "새로 가져온 높이는  8752\n",
      "더보기 버튼을 눌러야 하는 갯수: 1\n"
     ]
    },
    {
     "data": {
      "application/vnd.jupyter.widget-view+json": {
       "model_id": "5bff0a4e9640455681072ab80c901848",
       "version_major": 2,
       "version_minor": 0
      },
      "text/plain": [
       "  0%|          | 0/1 [00:00<?, ?it/s]"
      ]
     },
     "metadata": {},
     "output_type": "display_data"
    },
    {
     "name": "stdout",
     "output_type": "stream",
     "text": [
      "더보기 버튼 클릭 완료\n",
      "페이지 스크롤한 다음 페이지에서 보여지는 총 리뷰 리스트 개수는 11\n",
      "양이 많아서 일부 리뷰만 가지고 옴\n",
      "3678번째 사람의 11개의 리뷰를 가져왔음.\n",
      "\n",
      "\n",
      "행복하기893가 적은 리뷰의 총 개수는 2130\n",
      "첫번째 높이는 7179\n"
     ]
    },
    {
     "data": {
      "application/vnd.jupyter.widget-view+json": {
       "model_id": "ef080748f0494e53a4a2e8d7770a07e5",
       "version_major": 2,
       "version_minor": 0
      },
      "text/plain": [
       "  0%|          | 0/50 [00:00<?, ?it/s]"
      ]
     },
     "metadata": {},
     "output_type": "display_data"
    },
    {
     "name": "stdout",
     "output_type": "stream",
     "text": [
      "새로 가져온 높이는  7179\n",
      "더보기 버튼을 눌러야 하는 갯수: 1\n"
     ]
    },
    {
     "data": {
      "application/vnd.jupyter.widget-view+json": {
       "model_id": "1b958cbbe81e4a089d31cb993adad5b7",
       "version_major": 2,
       "version_minor": 0
      },
      "text/plain": [
       "  0%|          | 0/1 [00:00<?, ?it/s]"
      ]
     },
     "metadata": {},
     "output_type": "display_data"
    },
    {
     "name": "stdout",
     "output_type": "stream",
     "text": [
      "더보기 버튼 클릭 완료\n",
      "페이지 스크롤한 다음 페이지에서 보여지는 총 리뷰 리스트 개수는 9\n",
      "양이 많아서 일부 리뷰만 가지고 옴\n",
      "3679번째 사람의 9개의 리뷰를 가져왔음.\n",
      "\n",
      "\n",
      "zio****가 적은 리뷰의 총 개수는 124\n",
      "첫번째 높이는 3009\n"
     ]
    },
    {
     "data": {
      "application/vnd.jupyter.widget-view+json": {
       "model_id": "df5f9de57d1d442b861499427f7c1e88",
       "version_major": 2,
       "version_minor": 0
      },
      "text/plain": [
       "  0%|          | 0/50 [00:00<?, ?it/s]"
      ]
     },
     "metadata": {},
     "output_type": "display_data"
    },
    {
     "name": "stdout",
     "output_type": "stream",
     "text": [
      "새로 가져온 높이는  5566\n",
      "새로 가져온 높이는  8072\n",
      "새로 가져온 높이는  10578\n",
      "새로 가져온 높이는  12952\n",
      "새로 가져온 높이는  15392\n",
      "새로 가져온 높이는  15392\n",
      "더보기 버튼을 눌러야 하는 갯수: 0\n"
     ]
    },
    {
     "data": {
      "application/vnd.jupyter.widget-view+json": {
       "model_id": "2225ac48b2ef4d08bef6d3ac55517f75",
       "version_major": 2,
       "version_minor": 0
      },
      "text/plain": [
       "0it [00:00, ?it/s]"
      ]
     },
     "metadata": {},
     "output_type": "display_data"
    },
    {
     "name": "stdout",
     "output_type": "stream",
     "text": [
      "더보기 버튼 클릭 완료\n",
      "페이지 스크롤한 다음 페이지에서 보여지는 총 리뷰 리스트 개수는 71\n",
      "양이 많아서 일부 리뷰만 가지고 옴\n",
      "3680번째 사람의 68개의 리뷰를 가져왔음.\n",
      "\n",
      "\n",
      "rnflTV가 적은 리뷰의 총 개수는 493\n",
      "첫번째 높이는 1827\n"
     ]
    },
    {
     "data": {
      "application/vnd.jupyter.widget-view+json": {
       "model_id": "a043cb897e0442ad8d9a00b003d67ec1",
       "version_major": 2,
       "version_minor": 0
      },
      "text/plain": [
       "  0%|          | 0/50 [00:00<?, ?it/s]"
      ]
     },
     "metadata": {},
     "output_type": "display_data"
    },
    {
     "name": "stdout",
     "output_type": "stream",
     "text": [
      "새로 가져온 높이는  1827\n",
      "더보기 버튼을 눌러야 하는 갯수: 0\n"
     ]
    },
    {
     "data": {
      "application/vnd.jupyter.widget-view+json": {
       "model_id": "4b684d825c024a47a0d2bcfd9716be8e",
       "version_major": 2,
       "version_minor": 0
      },
      "text/plain": [
       "0it [00:00, ?it/s]"
      ]
     },
     "metadata": {},
     "output_type": "display_data"
    },
    {
     "name": "stdout",
     "output_type": "stream",
     "text": [
      "더보기 버튼 클릭 완료\n",
      "페이지 스크롤한 다음 페이지에서 보여지는 총 리뷰 리스트 개수는 2\n",
      "양이 많아서 일부 리뷰만 가지고 옴\n",
      "3681번째 사람의 2개의 리뷰를 가져왔음.\n",
      "\n",
      "\n",
      "Bokk가 적은 리뷰의 총 개수는 709\n",
      "첫번째 높이는 9479\n"
     ]
    },
    {
     "data": {
      "application/vnd.jupyter.widget-view+json": {
       "model_id": "db52ce6f3e1e44318be78e9756db666c",
       "version_major": 2,
       "version_minor": 0
      },
      "text/plain": [
       "  0%|          | 0/50 [00:00<?, ?it/s]"
      ]
     },
     "metadata": {},
     "output_type": "display_data"
    },
    {
     "name": "stdout",
     "output_type": "stream",
     "text": [
      "새로 가져온 높이는  16803\n",
      "새로 가져온 높이는  16803\n",
      "더보기 버튼을 눌러야 하는 갯수: 3\n"
     ]
    },
    {
     "data": {
      "application/vnd.jupyter.widget-view+json": {
       "model_id": "50e4b02b49d547be95df913f7214e549",
       "version_major": 2,
       "version_minor": 0
      },
      "text/plain": [
       "  0%|          | 0/3 [00:00<?, ?it/s]"
      ]
     },
     "metadata": {},
     "output_type": "display_data"
    },
    {
     "name": "stdout",
     "output_type": "stream",
     "text": [
      "더보기 버튼 클릭 완료\n",
      "페이지 스크롤한 다음 페이지에서 보여지는 총 리뷰 리스트 개수는 29\n",
      "양이 많아서 일부 리뷰만 가지고 옴\n",
      "3682번째 사람의 29개의 리뷰를 가져왔음.\n",
      "\n",
      "\n",
      "rkd****가 적은 리뷰의 총 개수는 28\n",
      "첫번째 높이는 8101\n"
     ]
    },
    {
     "data": {
      "application/vnd.jupyter.widget-view+json": {
       "model_id": "66e0613391ab4b3d8e846723d728b0e8",
       "version_major": 2,
       "version_minor": 0
      },
      "text/plain": [
       "  0%|          | 0/50 [00:00<?, ?it/s]"
      ]
     },
     "metadata": {},
     "output_type": "display_data"
    },
    {
     "name": "stdout",
     "output_type": "stream",
     "text": [
      "새로 가져온 높이는  8101\n",
      "더보기 버튼을 눌러야 하는 갯수: 0\n"
     ]
    },
    {
     "data": {
      "application/vnd.jupyter.widget-view+json": {
       "model_id": "cb41da7f55a64bd6b80d89bb754d7535",
       "version_major": 2,
       "version_minor": 0
      },
      "text/plain": [
       "0it [00:00, ?it/s]"
      ]
     },
     "metadata": {},
     "output_type": "display_data"
    },
    {
     "name": "stdout",
     "output_type": "stream",
     "text": [
      "더보기 버튼 클릭 완료\n",
      "페이지 스크롤한 다음 페이지에서 보여지는 총 리뷰 리스트 개수는 10\n",
      "양이 많아서 일부 리뷰만 가지고 옴\n",
      "3683번째 사람의 10개의 리뷰를 가져왔음.\n",
      "\n",
      "\n",
      "마이팡가 적은 리뷰의 총 개수는 64\n",
      "첫번째 높이는 8392\n"
     ]
    },
    {
     "data": {
      "application/vnd.jupyter.widget-view+json": {
       "model_id": "3c890e99f6e342a696db93499fa956b1",
       "version_major": 2,
       "version_minor": 0
      },
      "text/plain": [
       "  0%|          | 0/50 [00:00<?, ?it/s]"
      ]
     },
     "metadata": {},
     "output_type": "display_data"
    },
    {
     "name": "stdout",
     "output_type": "stream",
     "text": [
      "새로 가져온 높이는  14347\n",
      "새로 가져온 높이는  17783\n",
      "새로 가져온 높이는  17783\n",
      "더보기 버튼을 눌러야 하는 갯수: 1\n"
     ]
    },
    {
     "data": {
      "application/vnd.jupyter.widget-view+json": {
       "model_id": "3d1c6f0078954c96956637896532801b",
       "version_major": 2,
       "version_minor": 0
      },
      "text/plain": [
       "  0%|          | 0/1 [00:00<?, ?it/s]"
      ]
     },
     "metadata": {},
     "output_type": "display_data"
    },
    {
     "name": "stdout",
     "output_type": "stream",
     "text": [
      "더보기 버튼 클릭 완료\n",
      "페이지 스크롤한 다음 페이지에서 보여지는 총 리뷰 리스트 개수는 27\n",
      "양이 많아서 일부 리뷰만 가지고 옴\n",
      "3684번째 사람의 27개의 리뷰를 가져왔음.\n",
      "\n",
      "\n",
      "beb****가 적은 리뷰의 총 개수는 943\n",
      "첫번째 높이는 9217\n"
     ]
    },
    {
     "data": {
      "application/vnd.jupyter.widget-view+json": {
       "model_id": "0dbee83dded347728f0cb68e70f66ab5",
       "version_major": 2,
       "version_minor": 0
      },
      "text/plain": [
       "  0%|          | 0/50 [00:00<?, ?it/s]"
      ]
     },
     "metadata": {},
     "output_type": "display_data"
    },
    {
     "name": "stdout",
     "output_type": "stream",
     "text": [
      "새로 가져온 높이는  16602\n",
      "새로 가져온 높이는  17875\n",
      "새로 가져온 높이는  17875\n",
      "더보기 버튼을 눌러야 하는 갯수: 1\n"
     ]
    },
    {
     "data": {
      "application/vnd.jupyter.widget-view+json": {
       "model_id": "673a092a10db4e0faeb4bc852b58a647",
       "version_major": 2,
       "version_minor": 0
      },
      "text/plain": [
       "  0%|          | 0/1 [00:00<?, ?it/s]"
      ]
     },
     "metadata": {},
     "output_type": "display_data"
    },
    {
     "name": "stdout",
     "output_type": "stream",
     "text": [
      "더보기 버튼 클릭 완료\n",
      "페이지 스크롤한 다음 페이지에서 보여지는 총 리뷰 리스트 개수는 23\n",
      "양이 많아서 일부 리뷰만 가지고 옴\n",
      "3685번째 사람의 20개의 리뷰를 가져왔음.\n",
      "\n",
      "\n",
      "joo****가 적은 리뷰의 총 개수는 2195\n",
      "첫번째 높이는 1599\n"
     ]
    },
    {
     "data": {
      "application/vnd.jupyter.widget-view+json": {
       "model_id": "ee6ef6b67e5e4fa7b7edeb5a09deaec2",
       "version_major": 2,
       "version_minor": 0
      },
      "text/plain": [
       "  0%|          | 0/50 [00:00<?, ?it/s]"
      ]
     },
     "metadata": {},
     "output_type": "display_data"
    },
    {
     "name": "stdout",
     "output_type": "stream",
     "text": [
      "새로 가져온 높이는  1599\n",
      "더보기 버튼을 눌러야 하는 갯수: 0\n"
     ]
    },
    {
     "data": {
      "application/vnd.jupyter.widget-view+json": {
       "model_id": "cec209f7fbff47aea3fff62d2bc1b27e",
       "version_major": 2,
       "version_minor": 0
      },
      "text/plain": [
       "0it [00:00, ?it/s]"
      ]
     },
     "metadata": {},
     "output_type": "display_data"
    },
    {
     "name": "stdout",
     "output_type": "stream",
     "text": [
      "더보기 버튼 클릭 완료\n",
      "페이지 스크롤한 다음 페이지에서 보여지는 총 리뷰 리스트 개수는 2\n",
      "양이 많아서 일부 리뷰만 가지고 옴\n",
      "3686번째 사람의 0개의 리뷰를 가져왔음.\n",
      "\n",
      "\n",
      "3686번째 사람의 리뷰를 가져오지 못했습니다.\n",
      "유연16가 적은 리뷰의 총 개수는 611\n",
      "첫번째 높이는 3033\n"
     ]
    },
    {
     "data": {
      "application/vnd.jupyter.widget-view+json": {
       "model_id": "d22c18d0ddba41459e625010d984955a",
       "version_major": 2,
       "version_minor": 0
      },
      "text/plain": [
       "  0%|          | 0/50 [00:00<?, ?it/s]"
      ]
     },
     "metadata": {},
     "output_type": "display_data"
    },
    {
     "name": "stdout",
     "output_type": "stream",
     "text": [
      "새로 가져온 높이는  5677\n",
      "새로 가져온 높이는  8282\n",
      "새로 가져온 높이는  10854\n",
      "새로 가져온 높이는  13426\n",
      "새로 가져온 높이는  16064\n",
      "새로 가져온 높이는  18660\n",
      "새로 가져온 높이는  21298\n",
      "새로 가져온 높이는  23804\n",
      "새로 가져온 높이는  26409\n",
      "새로 가져온 높이는  28948\n",
      "새로 가져온 높이는  31691\n",
      "새로 가져온 높이는  34263\n",
      "새로 가져온 높이는  36835\n",
      "새로 가져온 높이는  39566\n",
      "새로 가져온 높이는  42006\n",
      "새로 가져온 높이는  44812\n",
      "새로 가져온 높이는  47576\n",
      "새로 가져온 높이는  50208\n",
      "새로 가져온 높이는  52747\n",
      "새로 가져온 높이는  55352\n",
      "새로 가져온 높이는  55352\n",
      "더보기 버튼을 눌러야 하는 갯수: 0\n"
     ]
    },
    {
     "data": {
      "application/vnd.jupyter.widget-view+json": {
       "model_id": "be66d5504ca145609c96d61258a3b6c2",
       "version_major": 2,
       "version_minor": 0
      },
      "text/plain": [
       "0it [00:00, ?it/s]"
      ]
     },
     "metadata": {},
     "output_type": "display_data"
    },
    {
     "name": "stdout",
     "output_type": "stream",
     "text": [
      "더보기 버튼 클릭 완료\n",
      "페이지 스크롤한 다음 페이지에서 보여지는 총 리뷰 리스트 개수는 221\n",
      "양이 많아서 일부 리뷰만 가지고 옴\n",
      "3687번째 사람의 221개의 리뷰를 가져왔음.\n",
      "\n",
      "\n",
      "doq****가 적은 리뷰의 총 개수는 36\n",
      "첫번째 높이는 9020\n"
     ]
    },
    {
     "data": {
      "application/vnd.jupyter.widget-view+json": {
       "model_id": "7b47532f122b4188a378b627f026a7c3",
       "version_major": 2,
       "version_minor": 0
      },
      "text/plain": [
       "  0%|          | 0/50 [00:00<?, ?it/s]"
      ]
     },
     "metadata": {},
     "output_type": "display_data"
    },
    {
     "name": "stdout",
     "output_type": "stream",
     "text": [
      "새로 가져온 높이는  14355\n",
      "새로 가져온 높이는  14355\n",
      "더보기 버튼을 눌러야 하는 갯수: 2\n"
     ]
    },
    {
     "data": {
      "application/vnd.jupyter.widget-view+json": {
       "model_id": "9698f82bd9d04a6fb3dd28e411cc8649",
       "version_major": 2,
       "version_minor": 0
      },
      "text/plain": [
       "  0%|          | 0/2 [00:00<?, ?it/s]"
      ]
     },
     "metadata": {},
     "output_type": "display_data"
    },
    {
     "name": "stdout",
     "output_type": "stream",
     "text": [
      "더보기 버튼 클릭 완료\n",
      "페이지 스크롤한 다음 페이지에서 보여지는 총 리뷰 리스트 개수는 19\n",
      "양이 많아서 일부 리뷰만 가지고 옴\n",
      "3688번째 사람의 17개의 리뷰를 가져왔음.\n",
      "\n",
      "\n",
      "솔직합니다가 적은 리뷰의 총 개수는 168\n",
      "첫번째 높이는 3085\n"
     ]
    },
    {
     "data": {
      "application/vnd.jupyter.widget-view+json": {
       "model_id": "3199220655694a93ba8e340780384887",
       "version_major": 2,
       "version_minor": 0
      },
      "text/plain": [
       "  0%|          | 0/50 [00:00<?, ?it/s]"
      ]
     },
     "metadata": {},
     "output_type": "display_data"
    },
    {
     "name": "stdout",
     "output_type": "stream",
     "text": [
      "새로 가져온 높이는  3085\n",
      "더보기 버튼을 눌러야 하는 갯수: 0\n"
     ]
    },
    {
     "data": {
      "application/vnd.jupyter.widget-view+json": {
       "model_id": "866df9e3c0964bfd8fa6ea8cc75d0da5",
       "version_major": 2,
       "version_minor": 0
      },
      "text/plain": [
       "0it [00:00, ?it/s]"
      ]
     },
     "metadata": {},
     "output_type": "display_data"
    },
    {
     "name": "stdout",
     "output_type": "stream",
     "text": [
      "더보기 버튼 클릭 완료\n",
      "페이지 스크롤한 다음 페이지에서 보여지는 총 리뷰 리스트 개수는 4\n",
      "양이 많아서 일부 리뷰만 가지고 옴\n",
      "3689번째 사람의 3개의 리뷰를 가져왔음.\n",
      "\n",
      "\n",
      "munhyeeee가 적은 리뷰의 총 개수는 755\n",
      "첫번째 높이는 2801\n"
     ]
    },
    {
     "data": {
      "application/vnd.jupyter.widget-view+json": {
       "model_id": "133f26af6033478ebafa02caf1d92aca",
       "version_major": 2,
       "version_minor": 0
      },
      "text/plain": [
       "  0%|          | 0/50 [00:00<?, ?it/s]"
      ]
     },
     "metadata": {},
     "output_type": "display_data"
    },
    {
     "name": "stdout",
     "output_type": "stream",
     "text": [
      "새로 가져온 높이는  2801\n",
      "더보기 버튼을 눌러야 하는 갯수: 0\n"
     ]
    },
    {
     "data": {
      "application/vnd.jupyter.widget-view+json": {
       "model_id": "a79ba9f09ef2445a99ff73150d36ce53",
       "version_major": 2,
       "version_minor": 0
      },
      "text/plain": [
       "0it [00:00, ?it/s]"
      ]
     },
     "metadata": {},
     "output_type": "display_data"
    },
    {
     "name": "stdout",
     "output_type": "stream",
     "text": [
      "더보기 버튼 클릭 완료\n",
      "페이지 스크롤한 다음 페이지에서 보여지는 총 리뷰 리스트 개수는 4\n",
      "양이 많아서 일부 리뷰만 가지고 옴\n",
      "3690번째 사람의 4개의 리뷰를 가져왔음.\n",
      "\n",
      "\n",
      "mnm****가 적은 리뷰의 총 개수는 1714\n",
      "첫번째 높이는 852\n"
     ]
    },
    {
     "data": {
      "application/vnd.jupyter.widget-view+json": {
       "model_id": "41142bfbb9f54970bcd1e26cb05941a4",
       "version_major": 2,
       "version_minor": 0
      },
      "text/plain": [
       "  0%|          | 0/50 [00:00<?, ?it/s]"
      ]
     },
     "metadata": {},
     "output_type": "display_data"
    },
    {
     "name": "stdout",
     "output_type": "stream",
     "text": [
      "새로 가져온 높이는  852\n",
      "더보기 버튼을 눌러야 하는 갯수: 0\n"
     ]
    },
    {
     "data": {
      "application/vnd.jupyter.widget-view+json": {
       "model_id": "404b5b2a6556429487be7983bcc2831c",
       "version_major": 2,
       "version_minor": 0
      },
      "text/plain": [
       "0it [00:00, ?it/s]"
      ]
     },
     "metadata": {},
     "output_type": "display_data"
    },
    {
     "name": "stdout",
     "output_type": "stream",
     "text": [
      "더보기 버튼 클릭 완료\n",
      "페이지 스크롤한 다음 페이지에서 보여지는 총 리뷰 리스트 개수는 1\n",
      "양이 많아서 일부 리뷰만 가지고 옴\n",
      "3691번째 사람의 1개의 리뷰를 가져왔음.\n",
      "\n",
      "\n",
      "이룰지니가 적은 리뷰의 총 개수는 87\n",
      "첫번째 높이는 4230\n"
     ]
    },
    {
     "data": {
      "application/vnd.jupyter.widget-view+json": {
       "model_id": "1b73aabd81fc4d3da4b09440c322d301",
       "version_major": 2,
       "version_minor": 0
      },
      "text/plain": [
       "  0%|          | 0/50 [00:00<?, ?it/s]"
      ]
     },
     "metadata": {},
     "output_type": "display_data"
    },
    {
     "name": "stdout",
     "output_type": "stream",
     "text": [
      "새로 가져온 높이는  4230\n",
      "더보기 버튼을 눌러야 하는 갯수: 0\n"
     ]
    },
    {
     "data": {
      "application/vnd.jupyter.widget-view+json": {
       "model_id": "6dadf01ab44c4bedbb1c4e24b7992ec2",
       "version_major": 2,
       "version_minor": 0
      },
      "text/plain": [
       "0it [00:00, ?it/s]"
      ]
     },
     "metadata": {},
     "output_type": "display_data"
    },
    {
     "name": "stdout",
     "output_type": "stream",
     "text": [
      "더보기 버튼 클릭 완료\n",
      "페이지 스크롤한 다음 페이지에서 보여지는 총 리뷰 리스트 개수는 6\n",
      "양이 많아서 일부 리뷰만 가지고 옴\n",
      "3692번째 사람의 6개의 리뷰를 가져왔음.\n",
      "\n",
      "\n",
      "꿈의대화8가 적은 리뷰의 총 개수는 1964\n",
      "첫번째 높이는 8098\n"
     ]
    },
    {
     "data": {
      "application/vnd.jupyter.widget-view+json": {
       "model_id": "ac5a457363774939ad94b2392bc316d9",
       "version_major": 2,
       "version_minor": 0
      },
      "text/plain": [
       "  0%|          | 0/50 [00:00<?, ?it/s]"
      ]
     },
     "metadata": {},
     "output_type": "display_data"
    },
    {
     "name": "stdout",
     "output_type": "stream",
     "text": [
      "새로 가져온 높이는  8098\n",
      "더보기 버튼을 눌러야 하는 갯수: 0\n"
     ]
    },
    {
     "data": {
      "application/vnd.jupyter.widget-view+json": {
       "model_id": "3fd12e9cbbeb4bd4b98671012afb5aa7",
       "version_major": 2,
       "version_minor": 0
      },
      "text/plain": [
       "0it [00:00, ?it/s]"
      ]
     },
     "metadata": {},
     "output_type": "display_data"
    },
    {
     "name": "stdout",
     "output_type": "stream",
     "text": [
      "더보기 버튼 클릭 완료\n",
      "페이지 스크롤한 다음 페이지에서 보여지는 총 리뷰 리스트 개수는 20\n",
      "양이 많아서 일부 리뷰만 가지고 옴\n",
      "3693번째 사람의 14개의 리뷰를 가져왔음.\n",
      "\n",
      "\n",
      "islet77가 적은 리뷰의 총 개수는 78\n",
      "첫번째 높이는 8675\n"
     ]
    },
    {
     "data": {
      "application/vnd.jupyter.widget-view+json": {
       "model_id": "2c1cbba564dc4ea996dc61b9ce2e1049",
       "version_major": 2,
       "version_minor": 0
      },
      "text/plain": [
       "  0%|          | 0/50 [00:00<?, ?it/s]"
      ]
     },
     "metadata": {},
     "output_type": "display_data"
    },
    {
     "name": "stdout",
     "output_type": "stream",
     "text": [
      "새로 가져온 높이는  9186\n",
      "새로 가져온 높이는  9186\n",
      "더보기 버튼을 눌러야 하는 갯수: 3\n"
     ]
    },
    {
     "data": {
      "application/vnd.jupyter.widget-view+json": {
       "model_id": "02f52cb01b674a139c23a18bcaba2721",
       "version_major": 2,
       "version_minor": 0
      },
      "text/plain": [
       "  0%|          | 0/3 [00:00<?, ?it/s]"
      ]
     },
     "metadata": {},
     "output_type": "display_data"
    },
    {
     "name": "stdout",
     "output_type": "stream",
     "text": [
      "더보기 버튼 클릭 완료\n",
      "페이지 스크롤한 다음 페이지에서 보여지는 총 리뷰 리스트 개수는 12\n",
      "양이 많아서 일부 리뷰만 가지고 옴\n",
      "3694번째 사람의 12개의 리뷰를 가져왔음.\n",
      "\n",
      "\n",
      "gayoung7012가 적은 리뷰의 총 개수는 45\n",
      "첫번째 높이는 3952\n"
     ]
    },
    {
     "data": {
      "application/vnd.jupyter.widget-view+json": {
       "model_id": "1ef84440bc8a4de2afc6c3f84b8679a7",
       "version_major": 2,
       "version_minor": 0
      },
      "text/plain": [
       "  0%|          | 0/50 [00:00<?, ?it/s]"
      ]
     },
     "metadata": {},
     "output_type": "display_data"
    },
    {
     "name": "stdout",
     "output_type": "stream",
     "text": [
      "새로 가져온 높이는  3952\n",
      "더보기 버튼을 눌러야 하는 갯수: 0\n"
     ]
    },
    {
     "data": {
      "application/vnd.jupyter.widget-view+json": {
       "model_id": "a805c89e2c1d494f963034cb2c527d41",
       "version_major": 2,
       "version_minor": 0
      },
      "text/plain": [
       "0it [00:00, ?it/s]"
      ]
     },
     "metadata": {},
     "output_type": "display_data"
    },
    {
     "name": "stdout",
     "output_type": "stream",
     "text": [
      "더보기 버튼 클릭 완료\n",
      "페이지 스크롤한 다음 페이지에서 보여지는 총 리뷰 리스트 개수는 5\n",
      "양이 많아서 일부 리뷰만 가지고 옴\n",
      "3695번째 사람의 5개의 리뷰를 가져왔음.\n",
      "\n",
      "\n",
      "산소가좋다가 적은 리뷰의 총 개수는 1651\n",
      "첫번째 높이는 9744\n"
     ]
    },
    {
     "data": {
      "application/vnd.jupyter.widget-view+json": {
       "model_id": "244a65a5ede546a18fecf31822d0bbda",
       "version_major": 2,
       "version_minor": 0
      },
      "text/plain": [
       "  0%|          | 0/50 [00:00<?, ?it/s]"
      ]
     },
     "metadata": {},
     "output_type": "display_data"
    },
    {
     "name": "stdout",
     "output_type": "stream",
     "text": [
      "새로 가져온 높이는  18010\n",
      "새로 가져온 높이는  26348\n",
      "새로 가져온 높이는  34980\n",
      "새로 가져온 높이는  41844\n",
      "새로 가져온 높이는  49526\n",
      "새로 가져온 높이는  57488\n",
      "새로 가져온 높이는  65500\n",
      "새로 가져온 높이는  73681\n",
      "새로 가져온 높이는  81575\n",
      "새로 가져온 높이는  89495\n",
      "새로 가져온 높이는  97882\n",
      "새로 가져온 높이는  105482\n",
      "새로 가져온 높이는  105482\n",
      "더보기 버튼을 눌러야 하는 갯수: 6\n"
     ]
    },
    {
     "data": {
      "application/vnd.jupyter.widget-view+json": {
       "model_id": "eeded10d44504d7a8d19ec0661439929",
       "version_major": 2,
       "version_minor": 0
      },
      "text/plain": [
       "  0%|          | 0/6 [00:00<?, ?it/s]"
      ]
     },
     "metadata": {},
     "output_type": "display_data"
    },
    {
     "name": "stdout",
     "output_type": "stream",
     "text": [
      "더보기 버튼 클릭 완료\n",
      "페이지 스크롤한 다음 페이지에서 보여지는 총 리뷰 리스트 개수는 141\n",
      "양이 많아서 일부 리뷰만 가지고 옴\n",
      "3696번째 사람의 138개의 리뷰를 가져왔음.\n",
      "\n",
      "\n",
      "나야 유경가 적은 리뷰의 총 개수는 1753\n",
      "첫번째 높이는 8467\n"
     ]
    },
    {
     "data": {
      "application/vnd.jupyter.widget-view+json": {
       "model_id": "8f51d6b85e824d549d75fc2801ec3ce1",
       "version_major": 2,
       "version_minor": 0
      },
      "text/plain": [
       "  0%|          | 0/50 [00:00<?, ?it/s]"
      ]
     },
     "metadata": {},
     "output_type": "display_data"
    },
    {
     "name": "stdout",
     "output_type": "stream",
     "text": [
      "새로 가져온 높이는  16178\n",
      "새로 가져온 높이는  24303\n",
      "새로 가져온 높이는  32059\n",
      "새로 가져온 높이는  38799\n",
      "새로 가져온 높이는  46409\n",
      "새로 가져온 높이는  47900\n",
      "새로 가져온 높이는  47900\n",
      "더보기 버튼을 눌러야 하는 갯수: 0\n"
     ]
    },
    {
     "data": {
      "application/vnd.jupyter.widget-view+json": {
       "model_id": "7db7cc782d574ea9b163783e85b663d5",
       "version_major": 2,
       "version_minor": 0
      },
      "text/plain": [
       "0it [00:00, ?it/s]"
      ]
     },
     "metadata": {},
     "output_type": "display_data"
    },
    {
     "name": "stdout",
     "output_type": "stream",
     "text": [
      "더보기 버튼 클릭 완료\n",
      "페이지 스크롤한 다음 페이지에서 보여지는 총 리뷰 리스트 개수는 63\n",
      "양이 많아서 일부 리뷰만 가지고 옴\n",
      "3697번째 사람의 22개의 리뷰를 가져왔음.\n",
      "\n",
      "\n"
     ]
    },
    {
     "ename": "IndexError",
     "evalue": "list index out of range",
     "output_type": "error",
     "traceback": [
      "\u001b[1;31m---------------------------------------------------------------------------\u001b[0m",
      "\u001b[1;31mIndexError\u001b[0m                                Traceback (most recent call last)",
      "Input \u001b[1;32mIn [12]\u001b[0m, in \u001b[0;36m<cell line: 1>\u001b[1;34m()\u001b[0m\n\u001b[0;32m      8\u001b[0m     soup \u001b[38;5;241m=\u001b[39m BeautifulSoup(browser\u001b[38;5;241m.\u001b[39mpage_source, \u001b[38;5;124m'\u001b[39m\u001b[38;5;124mhtml.parser\u001b[39m\u001b[38;5;124m'\u001b[39m)\n\u001b[0;32m     10\u001b[0m     time\u001b[38;5;241m.\u001b[39msleep(\u001b[38;5;241m3\u001b[39m)\n\u001b[1;32m---> 12\u001b[0m     cnt_compare1 \u001b[38;5;241m=\u001b[39m \u001b[43msoup\u001b[49m\u001b[38;5;241;43m.\u001b[39;49m\u001b[43mselect\u001b[49m\u001b[43m(\u001b[49m\u001b[38;5;124;43m'\u001b[39;49m\u001b[38;5;124;43m._5RYLm7._6IqZAz > em\u001b[39;49m\u001b[38;5;124;43m'\u001b[39;49m\u001b[43m)\u001b[49m\u001b[43m[\u001b[49m\u001b[38;5;241;43m0\u001b[39;49m\u001b[43m]\u001b[49m\u001b[38;5;241m.\u001b[39mtext\u001b[38;5;241m.\u001b[39mreplace(\u001b[38;5;124m\"\u001b[39m\u001b[38;5;124m,\u001b[39m\u001b[38;5;124m\"\u001b[39m,\u001b[38;5;124m\"\u001b[39m\u001b[38;5;124m\"\u001b[39m)\n\u001b[0;32m     13\u001b[0m     \u001b[38;5;28mprint\u001b[39m(\u001b[38;5;124mf\u001b[39m\u001b[38;5;124m'\u001b[39m\u001b[38;5;132;01m{\u001b[39;00muser\u001b[38;5;132;01m}\u001b[39;00m\u001b[38;5;124m가 적은 리뷰의 총 개수는 \u001b[39m\u001b[38;5;132;01m{\u001b[39;00mcnt_compare1\u001b[38;5;132;01m}\u001b[39;00m\u001b[38;5;124m'\u001b[39m)\n\u001b[0;32m     15\u001b[0m \u001b[38;5;66;03m#     if soup.select('._6r5HI8'):\u001b[39;00m\n\u001b[0;32m     16\u001b[0m \u001b[38;5;66;03m#         browser.find_element(By.CSS_SELECTOR, '._3P1WRE').click()\u001b[39;00m\n\u001b[0;32m     17\u001b[0m \u001b[38;5;66;03m#     else:\u001b[39;00m\n\u001b[1;32m   (...)\u001b[0m\n\u001b[0;32m     23\u001b[0m \u001b[38;5;66;03m#         if int(cnt_compare1) != int(cnt_compare2):\u001b[39;00m\n\u001b[0;32m     24\u001b[0m \u001b[38;5;66;03m#             browser.find_element(By.CSS_SELECTOR, '._3P1WRE').click()\u001b[39;00m\n",
      "\u001b[1;31mIndexError\u001b[0m: list index out of range"
     ]
    }
   ],
   "source": [
    "for num in range(3582, len(df_read)):\n",
    "    browser.get(df_read['링크'].iloc[num])\n",
    "    user = df_read['닉네임'][num]\n",
    "\n",
    "    time.sleep(2)\n",
    "    \n",
    "    # 사진/영상 리뷰만 클릭 해제\n",
    "    soup = BeautifulSoup(browser.page_source, 'html.parser')\n",
    "\n",
    "    time.sleep(3)\n",
    "\n",
    "    cnt_compare1 = soup.select('._5RYLm7._6IqZAz > em')[0].text.replace(\",\",\"\")\n",
    "    print(f'{user}가 적은 리뷰의 총 개수는 {cnt_compare1}')\n",
    "    \n",
    "#     if soup.select('._6r5HI8'):\n",
    "#         browser.find_element(By.CSS_SELECTOR, '._3P1WRE').click()\n",
    "#     else:\n",
    "#         try:\n",
    "#             cnt_compare2 = soup.select('.ciTfFP > ._5RYLm7._5FMBWE > .C7R4SD')[0].text.replace(\",\",\"\")\n",
    "#         except:\n",
    "#             cnt_compare2 = str(len(soup.select('._3HPEOr')))\n",
    "\n",
    "#         if int(cnt_compare1) != int(cnt_compare2):\n",
    "#             browser.find_element(By.CSS_SELECTOR, '._3P1WRE').click()\n",
    "            \n",
    "    if soup.select('._3HPEOr'):\n",
    "        pass\n",
    "    else:\n",
    "        browser.find_element(By.CSS_SELECTOR, '._3P1WRE').click()\n",
    "        \n",
    "    time.sleep(3)   \n",
    "    \n",
    "    # 첫번째 리뷰 클릭\n",
    "    # browser.find_elements(By.CSS_SELECTOR, '._3HPEOr > ._5RYLm7')[0].click()\n",
    "    browser.find_elements(By.CSS_SELECTOR, '._5RYLm7.bEchjN')[0].click()\n",
    "\n",
    "    time.sleep(3)\n",
    "\n",
    "#     스크롤\n",
    "    last_page_height = browser.execute_script(\"return document.body.scrollHeight\")\n",
    "    print(f'첫번째 높이는 {last_page_height}')\n",
    "    \n",
    "    for _ in tqdm(range(50)):\n",
    "        browser.execute_script(\"window.scrollTo(0, document.body.scrollHeight);\")\n",
    "        time.sleep(1)\n",
    "        new_page_height = browser.execute_script(\"return document.body.scrollHeight\")\n",
    "        time.sleep(1)\n",
    "        print(f'새로 가져온 높이는  {new_page_height}')\n",
    "        \n",
    "        if new_page_height == last_page_height:\n",
    "            break\n",
    "        else:\n",
    "            last_page_height = new_page_height\n",
    "#             print(f'업데이트한 높이는 {last_page_height}')\n",
    "\n",
    "#     # Find the element with class \"ptr__children\"\n",
    "#     scrollable_element = WebDriverWait(browser, 10).until(\n",
    "#         EC.presence_of_element_located((By.CLASS_NAME, \"ptr__children\"))\n",
    "#     )\n",
    "\n",
    "#     # Scroll the element\n",
    "#     scroll_element_to_bottom(browser, scrollable_element)\n",
    "\n",
    "#     body = browser.find_element(By.CSS_SELECTOR, 'body') # send_keys()메서드 사용을 위한 body가져오기\n",
    "#     for _ in tqdm(range(50)):\n",
    "#         body.send_keys(Keys.PAGE_DOWN) # 페이지 다운 키를  20회 반복한다.\n",
    "#         time.sleep(0.1)\n",
    "\n",
    "#         time.sleep(1)\n",
    "    \n",
    "    # 리뷰에서 더보기를 눌러야하는 것들 미리 누름\n",
    "    add_buttons = browser.find_elements(By.CSS_SELECTOR, '._5RYLm7._7WkVWf')\n",
    "    print(f'더보기 버튼을 눌러야 하는 갯수: {len(add_buttons)}')\n",
    "\n",
    "    time.sleep(1)\n",
    "\n",
    "    for add_button in tqdm(add_buttons):\n",
    "        try:\n",
    "            add_button.click()\n",
    "        except:\n",
    "            browser.execute_script(\"arguments[0].click();\", add_button)\n",
    "        time.sleep(0.2)\n",
    "\n",
    "    print('더보기 버튼 클릭 완료')\n",
    "    \n",
    "    newSoup = BeautifulSoup(browser.page_source, 'html.parser')\n",
    "\n",
    "    time.sleep(3)\n",
    "    \n",
    "    person_review_all_div_list = newSoup.select('._898uc8')\n",
    "\n",
    "    print(f'페이지 스크롤한 다음 페이지에서 보여지는 총 리뷰 리스트 개수는 {len(person_review_all_div_list)}')\n",
    "    \n",
    "    if int(cnt_compare1) == len(person_review_all_div_list):\n",
    "        print('모든 리뷰를 가지고 왔음')\n",
    "    else:\n",
    "        print('양이 많아서 일부 리뷰만 가지고 옴')\n",
    "        \n",
    "    person_review_cnt = 0\n",
    "    user_review = []\n",
    "\n",
    "    for person_review_all_div in person_review_all_div_list:\n",
    "\n",
    "        if person_review_all_div.select('._3n2arC'):\n",
    "            restaurant_name = person_review_all_div.select('._5RYLm7.dmNX1z')[0].text\n",
    "            real_review = person_review_all_div.select('._3n2arC')[0].text.strip()\n",
    "            person_review_cnt += 1\n",
    "\n",
    "            data = [user, restaurant_name, real_review]\n",
    "            user_review.append(data)\n",
    "            \n",
    "    print(f'{num+1}번째 사람의 {person_review_cnt}개의 리뷰를 가져왔음.')\n",
    "    print('\\n')\n",
    "    \n",
    "    if user_review:  # Only create and append DataFrame if there are reviews\n",
    "        user_review_df = pd.DataFrame(user_review, columns=[\"사용자\", \"가게명\", \"리뷰\"])\n",
    "        df = df.append(user_review_df, ignore_index=True)\n",
    "    else:\n",
    "        print(f'{num+1}번째 사람의 리뷰를 가져오지 못했습니다.')"
   ]
  },
  {
   "cell_type": "code",
   "execution_count": 10,
   "id": "d2f94359",
   "metadata": {},
   "outputs": [],
   "source": [
    "df.to_csv('/data/2979명의 리뷰 데이터.csv', index = False)"
   ]
  },
  {
   "cell_type": "code",
   "execution_count": null,
   "id": "4da3c481",
   "metadata": {},
   "outputs": [],
   "source": []
  }
 ],
 "metadata": {
  "kernelspec": {
   "display_name": "Python 3 (ipykernel)",
   "language": "python",
   "name": "python3"
  },
  "language_info": {
   "codemirror_mode": {
    "name": "ipython",
    "version": 3
   },
   "file_extension": ".py",
   "mimetype": "text/x-python",
   "name": "python",
   "nbconvert_exporter": "python",
   "pygments_lexer": "ipython3",
   "version": "3.9.12"
  }
 },
 "nbformat": 4,
 "nbformat_minor": 5
}
