{
 "cells": [
  {
   "cell_type": "code",
   "execution_count": 1,
   "id": "fa6fb2ee2fe4e23f",
   "metadata": {
    "ExecuteTime": {
     "end_time": "2024-05-26T14:56:51.297463Z",
     "start_time": "2024-05-26T14:56:50.505466Z"
    }
   },
   "outputs": [],
   "source": [
    "import pandas as pd\n",
    "import requests\n",
    "from bs4 import BeautifulSoup\n",
    "import selenium\n",
    "from selenium import webdriver\n",
    "from selenium.webdriver.common.by import By\n",
    "from selenium.webdriver.chrome.service import Service\n",
    "\n",
    "from selenium.webdriver.chrome.options import Options\n",
    "import time"
   ]
  },
  {
   "cell_type": "code",
   "execution_count": 3,
   "id": "2e1ccab3781615a8",
   "metadata": {
    "ExecuteTime": {
     "end_time": "2024-05-26T14:57:13.103537Z",
     "start_time": "2024-05-26T14:57:13.060538Z"
    }
   },
   "outputs": [],
   "source": [
    "df=pd.read_csv('all_df.csv',index_col=False)\n",
    "df=df.drop('Unnamed: 0',axis=1)\n",
    "user_review=df[['0','1','2']]\n",
    "user_list_df=df['1']\n",
    "user_list=user_list_df.unique()\n",
    "user_list=user_list.astype('str')"
   ]
  },
  {
   "cell_type": "code",
   "execution_count": 4,
   "id": "cdbd3e269d9d59aa",
   "metadata": {
    "ExecuteTime": {
     "end_time": "2024-05-26T14:57:14.603538Z",
     "start_time": "2024-05-26T14:57:14.594539Z"
    }
   },
   "outputs": [
    {
     "data": {
      "text/plain": "array(['479341629', '671606609', '448369429', ..., '302424845',\n       '1301853532', '261270361'], dtype='<U21')"
     },
     "execution_count": 4,
     "metadata": {},
     "output_type": "execute_result"
    }
   ],
   "source": [
    "user_list"
   ]
  },
  {
   "cell_type": "code",
   "outputs": [
    {
     "data": {
      "text/plain": "(array([28], dtype=int64),)"
     },
     "execution_count": 9,
     "metadata": {},
     "output_type": "execute_result"
    }
   ],
   "source": [
    "import numpy as np\n",
    "np.where('398807289'==user_list)"
   ],
   "metadata": {
    "collapsed": false,
    "ExecuteTime": {
     "end_time": "2024-05-26T16:12:07.221346Z",
     "start_time": "2024-05-26T16:12:07.205347Z"
    }
   },
   "id": "46c7e9ddffab560d",
   "execution_count": 9
  },
  {
   "cell_type": "code",
   "outputs": [],
   "source": [
    "user_list=user_list[70:]\n"
   ],
   "metadata": {
    "collapsed": false,
    "ExecuteTime": {
     "end_time": "2024-05-26T15:28:49.198913Z",
     "start_time": "2024-05-26T15:28:49.188913Z"
    }
   },
   "id": "eed90f628a67ab6a",
   "execution_count": 7
  },
  {
   "cell_type": "code",
   "execution_count": 7,
   "id": "5cef7657565d0d74",
   "metadata": {
    "ExecuteTime": {
     "end_time": "2024-05-26T16:11:33.402346Z",
     "start_time": "2024-05-26T15:28:50.376913Z"
    }
   },
   "outputs": [
    {
     "name": "stdout",
     "output_type": "stream",
     "text": [
      "1635846080\n",
      "698292520\n",
      "917955401\n",
      "265317144\n",
      "1855566477\n",
      "356930077\n",
      "1686394793\n",
      "1167322459\n",
      "772006402\n",
      "1617228752\n",
      "1208829372\n",
      "1205201588\n",
      "1034640821\n",
      "1449240583\n",
      "770086984\n",
      "261740906\n",
      "384597261\n",
      "732439524\n",
      "1270062864\n",
      "1016247124\n",
      "551714299\n",
      "513731620\n",
      "386208343\n",
      "302932491\n",
      "1235634737\n",
      "1265329153\n",
      "1452996841\n",
      "1229206429\n",
      "398807289\n"
     ]
    },
    {
     "name": "stderr",
     "output_type": "stream",
     "text": [
      "\n",
      "KeyboardInterrupt\n",
      "\n"
     ]
    }
   ],
   "source": [
    "all_other_review=pd.DataFrame()\n",
    "\n",
    "for i in user_list:\n",
    "    url='https://map.kakao.com/?target=other&tab=review&mapuserid='\n",
    "    url_new=url+i\n",
    "    \n",
    "    options = Options()\n",
    "    options.add_argument(\"--headless\")\n",
    "    options.add_argument('--no-sandbox')\n",
    "    options.add_argument('--incognito')\n",
    "    options.add_argument('--disable-setuid-sandbox')\n",
    "    options.add_argument('--disable-dev-shm-usage')\n",
    "    options.add_experimental_option('excludeSwitches',['enable-logging'])\n",
    "\n",
    "    driver = webdriver.Chrome(options=options)\n",
    "    driver.get(url_new)\n",
    "    \n",
    "    id=i\n",
    "    \n",
    "    \n",
    "    print(id)\n",
    "    time.sleep(2)\n",
    "    driver.find_element(By.CLASS_NAME,'DimmedLayer').click()\n",
    "\n",
    "    \n",
    "    time.sleep(2)\n",
    "    \n",
    "    \n",
    "    page=driver.find_element(By.CLASS_NAME,'pages')\n",
    "    but_list=page.find_elements(By.TAG_NAME,'a')\n",
    "    list_long=len(but_list)\n",
    "\n",
    "    time.sleep(2)\n",
    "    try:\n",
    "        driver.find_element(By.XPATH,\"/html/body/div[4]/div[2]/div[2]/div[3]/div/a[1]\").click()\n",
    "    except:\n",
    "        rev_list=driver.find_elements(By.CLASS_NAME,'FavoriteEvaluationItem')    \n",
    "        for j in rev_list:\n",
    "            tmp=[]\n",
    "            tmp.append(id)\n",
    "            tmp.append(j.find_element(By.CLASS_NAME,'group_tit').text)\n",
    "            tmp.append(j.find_element(By.CLASS_NAME,'desc_directory').text)\n",
    "            tmptmp=pd.DataFrame([tmp])\n",
    "            all_other_review=pd.concat([all_other_review,tmptmp])\n",
    "        driver.quit()\n",
    "        time.sleep(5)\n",
    "        continue\n",
    "\n",
    "    for k in range(list_long):\n",
    "        click_head=\"/html/body/div[4]/div[2]/div[2]/div[3]/div/a[\"\n",
    "        click_tail=\"]\"\n",
    "\n",
    "        try:\n",
    "            clicks=click_head+str(k+1)+click_tail\n",
    "            #print(clicks)\n",
    "            driver.find_element(By.XPATH,clicks).click()\n",
    "        except:\n",
    "            driver.quit()\n",
    "            time.sleep(5)\n",
    "            continue\n",
    "        time.sleep(2)\n",
    "\n",
    "        rev_list=driver.find_elements(By.CLASS_NAME,'FavoriteEvaluationItem')    \n",
    "        for j in rev_list:\n",
    "            \n",
    "            tmp=[]\n",
    "            tmp.append(id)\n",
    "            tmp.append(j.find_element(By.CLASS_NAME,'group_tit').text)\n",
    "            tmp.append(j.find_element(By.CLASS_NAME,'desc_directory').text)\n",
    "            tmptmp=pd.DataFrame([tmp])\n",
    "            all_other_review=pd.concat([all_other_review,tmptmp])\n",
    "\n",
    "    time.sleep(2)\n",
    "    \n",
    "    next_button='/html/body/div[4]/div[2]/div[2]/div[3]/div/button[2]'\n",
    "    try:\n",
    "        driver.find_element(By.XPATH,next_button).click()\n",
    "    except:\n",
    "        driver.quit()\n",
    "        time.sleep(5)\n",
    "        continue\n",
    "        \n",
    "    time.sleep(2)\n",
    "\n",
    "    page=driver.find_element(By.CLASS_NAME,'pages')\n",
    "    but_list=page.find_elements(By.TAG_NAME,'a')\n",
    "    list_long=len(but_list)\n",
    "\n",
    "    time.sleep(2)\n",
    "\n",
    "    for k in range(list_long):\n",
    "        click_head=\"/html/body/div[4]/div[2]/div[2]/div[3]/div/a[\"\n",
    "        click_tail=\"]\"\n",
    "        \n",
    "        \n",
    "        try:\n",
    "            clicks=click_head+str(k+1)+click_tail\n",
    "            #print(clicks)\n",
    "            driver.find_element(By.XPATH,clicks).click()\n",
    "        except:\n",
    "            driver.quit()\n",
    "            time.sleep(5)\n",
    "            continue\n",
    "\n",
    "        rev_list=driver.find_elements(By.CLASS_NAME,'FavoriteEvaluationItem')    \n",
    "        for j in rev_list:\n",
    "            tmp=[]\n",
    "            tmp.append(id)\n",
    "            tmp.append(j.find_element(By.CLASS_NAME,'group_tit').text)\n",
    "            tmp.append(j.find_element(By.CLASS_NAME,'desc_directory').text)\n",
    "            tmptmp=pd.DataFrame([tmp])\n",
    "            all_other_review=pd.concat([all_other_review,tmptmp])\n",
    "        \n",
    "    \n",
    "    driver.quit()\n",
    "    time.sleep(5)"
   ]
  },
  {
   "cell_type": "code",
   "execution_count": 8,
   "id": "874416ff",
   "metadata": {
    "ExecuteTime": {
     "end_time": "2024-05-26T16:11:36.314346Z",
     "start_time": "2024-05-26T16:11:36.288347Z"
    }
   },
   "outputs": [
    {
     "data": {
      "text/plain": "             0            1                                                  2\n0   1635846080          강릉집  제육은 조미료맛이 너무 강하고, 반찬은 같은 반찬을 주셔서 반찬하나가 빠진것 같다고...\n0   1635846080        군자돈까스  정말 맛도 좋고, 보기도 좋고, 서비스도 좋고 다 좋습니다!!!!! 돈가스는 여기서...\n0   1635846080     네네치킨 퇴계점               쿠폰쓰면 배달 안해주네요 제발 쿠폰쓴다고 거절 좀 하지마세요 ㅠㅠ\n0   1635846080  등촌샤브칼국수 석관점                                      14-17 브레이크 타임\n0   1635846080        무명칼국수  칼국수면 직접 만드시는거 같은데  진짜 쫄깃하고 국물도 시원함. 겉절이가 신의 한수...\n..         ...          ...                                                ...\n0    398807289     동순원 성환본점                                                   \n0    398807289        만수불고기                                                   \n0    398807289      경동오징어국수                                                   \n0    398807289          분짜킴                                                   \n0    398807289          황주집                                                   \n\n[1042 rows x 3 columns]",
      "text/html": "<div>\n<style scoped>\n    .dataframe tbody tr th:only-of-type {\n        vertical-align: middle;\n    }\n\n    .dataframe tbody tr th {\n        vertical-align: top;\n    }\n\n    .dataframe thead th {\n        text-align: right;\n    }\n</style>\n<table border=\"1\" class=\"dataframe\">\n  <thead>\n    <tr style=\"text-align: right;\">\n      <th></th>\n      <th>0</th>\n      <th>1</th>\n      <th>2</th>\n    </tr>\n  </thead>\n  <tbody>\n    <tr>\n      <th>0</th>\n      <td>1635846080</td>\n      <td>강릉집</td>\n      <td>제육은 조미료맛이 너무 강하고, 반찬은 같은 반찬을 주셔서 반찬하나가 빠진것 같다고...</td>\n    </tr>\n    <tr>\n      <th>0</th>\n      <td>1635846080</td>\n      <td>군자돈까스</td>\n      <td>정말 맛도 좋고, 보기도 좋고, 서비스도 좋고 다 좋습니다!!!!! 돈가스는 여기서...</td>\n    </tr>\n    <tr>\n      <th>0</th>\n      <td>1635846080</td>\n      <td>네네치킨 퇴계점</td>\n      <td>쿠폰쓰면 배달 안해주네요 제발 쿠폰쓴다고 거절 좀 하지마세요 ㅠㅠ</td>\n    </tr>\n    <tr>\n      <th>0</th>\n      <td>1635846080</td>\n      <td>등촌샤브칼국수 석관점</td>\n      <td>14-17 브레이크 타임</td>\n    </tr>\n    <tr>\n      <th>0</th>\n      <td>1635846080</td>\n      <td>무명칼국수</td>\n      <td>칼국수면 직접 만드시는거 같은데  진짜 쫄깃하고 국물도 시원함. 겉절이가 신의 한수...</td>\n    </tr>\n    <tr>\n      <th>...</th>\n      <td>...</td>\n      <td>...</td>\n      <td>...</td>\n    </tr>\n    <tr>\n      <th>0</th>\n      <td>398807289</td>\n      <td>동순원 성환본점</td>\n      <td></td>\n    </tr>\n    <tr>\n      <th>0</th>\n      <td>398807289</td>\n      <td>만수불고기</td>\n      <td></td>\n    </tr>\n    <tr>\n      <th>0</th>\n      <td>398807289</td>\n      <td>경동오징어국수</td>\n      <td></td>\n    </tr>\n    <tr>\n      <th>0</th>\n      <td>398807289</td>\n      <td>분짜킴</td>\n      <td></td>\n    </tr>\n    <tr>\n      <th>0</th>\n      <td>398807289</td>\n      <td>황주집</td>\n      <td></td>\n    </tr>\n  </tbody>\n</table>\n<p>1042 rows × 3 columns</p>\n</div>"
     },
     "execution_count": 8,
     "metadata": {},
     "output_type": "execute_result"
    },
    {
     "name": "stdout",
     "output_type": "stream",
     "text": [
      "ERROR! Session/line number was not unique in"
     ]
    }
   ],
   "source": [
    "all_other_review"
   ]
  }
 ],
 "metadata": {
  "kernelspec": {
   "display_name": "Python 3 (ipykernel)",
   "language": "python",
   "name": "python3"
  },
  "language_info": {
   "codemirror_mode": {
    "name": "ipython",
    "version": 3
   },
   "file_extension": ".py",
   "mimetype": "text/x-python",
   "name": "python",
   "nbconvert_exporter": "python",
   "pygments_lexer": "ipython3",
   "version": "3.9.7"
  }
 },
 "nbformat": 4,
 "nbformat_minor": 5
}
