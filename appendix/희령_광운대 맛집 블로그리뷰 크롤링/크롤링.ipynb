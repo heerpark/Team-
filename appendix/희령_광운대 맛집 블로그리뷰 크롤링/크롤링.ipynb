{
 "cells": [
  {
   "cell_type": "code",
   "execution_count": 14,
   "id": "d244ac11",
   "metadata": {},
   "outputs": [],
   "source": [
    "# 라이브러리 불러오기\n",
    "from selenium import webdriver\n",
    "from bs4 import BeautifulSoup\n",
    "import time\n",
    "\n",
    "from tqdm.notebook import tqdm # 상태진행바\n",
    "import pandas as pd\n",
    "\n",
    "from selenium.webdriver.common.keys import Keys\n",
    "\n",
    "from selenium.webdriver.common.by import By\n",
    "\n",
    "import json\n",
    "\n",
    "from selenium.webdriver.support import expected_conditions as EC\n",
    "from selenium.webdriver.support.ui import WebDriverWait\n",
    "\n",
    "import re\n",
    "from datetime import datetime\n"
   ]
  },
  {
   "cell_type": "markdown",
   "id": "23230c0e",
   "metadata": {},
   "source": [
    "# 1. 브라우저 열고 접속"
   ]
  },
  {
   "cell_type": "code",
   "execution_count": 7,
   "id": "f71e4c06",
   "metadata": {},
   "outputs": [],
   "source": [
    "# 브라우저 열고 접속\n",
    "browser = webdriver.Chrome()\n",
    "url = 'https://m.place.naver.com/restaurant/1083519696/home?entry=pll'\n",
    "browser.get(url)"
   ]
  },
  {
   "cell_type": "code",
   "execution_count": 8,
   "id": "2b24d16a",
   "metadata": {},
   "outputs": [],
   "source": [
    "menu_list = browser.find_elements(By.CSS_SELECTOR, 'a.tpj9w._tab-menu')"
   ]
  },
  {
   "cell_type": "code",
   "execution_count": 9,
   "id": "25173b5d",
   "metadata": {},
   "outputs": [],
   "source": [
    "menu_list[2].click()"
   ]
  },
  {
   "cell_type": "code",
   "execution_count": 10,
   "id": "d32ebd53",
   "metadata": {},
   "outputs": [
    {
     "name": "stdout",
     "output_type": "stream",
     "text": [
      "click 더보기 finish\n"
     ]
    }
   ],
   "source": [
    "try:\n",
    "    while True:\n",
    "        browser.find_element(By.CSS_SELECTOR, 'a.fvwqf').click()\n",
    "        time.sleep(0.4)\n",
    "except Exception as e:\n",
    "    print('click 더보기 finish')"
   ]
  },
  {
   "cell_type": "code",
   "execution_count": 11,
   "id": "e684b183",
   "metadata": {},
   "outputs": [],
   "source": [
    "html = browser.page_source\n",
    "bs = BeautifulSoup(html, 'lxml')\n",
    "reviews = bs.select('li.owAeM')"
   ]
  },
  {
   "cell_type": "code",
   "execution_count": 12,
   "id": "f28d150b",
   "metadata": {},
   "outputs": [],
   "source": [
    "def get_date(date):\n",
    "    date = date.text if date else ''\n",
    "    # 정규 표현식 패턴 정의\n",
    "    pattern = r'(\\d{4})년 (\\d+)월 (\\d+)일 \\S+'\n",
    "\n",
    "    # 검색 실행\n",
    "    match = re.search(pattern, date)\n",
    "\n",
    "    # 결과 처리 및 형식 변경\n",
    "    if match:\n",
    "        year, month, day = match.groups()  # 연, 월, 일을 추출합니다.\n",
    "\n",
    "        # 날짜 객체 생성\n",
    "        date_obj = datetime(int(year), int(month), int(day))\n",
    "\n",
    "        # 지정된 형식으로 날짜 문자열 포맷\n",
    "        formatted_date = date_obj.strftime('%Y-%m-%d')\n",
    "\n",
    "        return(formatted_date)\n",
    "    else:\n",
    "        return(\"None\")"
   ]
  },
  {
   "cell_type": "code",
   "execution_count": 13,
   "id": "b94deeab",
   "metadata": {},
   "outputs": [
    {
     "name": "stdout",
     "output_type": "stream",
     "text": [
      "kan**** / 일요일 게릴라 오픈때 방문했는데 맛있었어요 구성과 곁들임이 다양해서 여러 시도를 할 수 있고, 친절하고 섬세하신 사장님\n",
      "덕분에 편안하고 배부르게 기분좋은 식사 했습니다. 다음엔 백석으로! ◡̈  / 2024-03-03 / 1번째 방문\n",
      "이동네먹짱 / 먹어본 돈가스 중에 최고예요. 광운대 앞 한줄기 빛..✨ 부드럽고, 촉촉하고, 잡내 전혀 없어서 진짜 게 눈 감추듯 순삭 했어\n",
      "요. 고기에 찍어먹을 소스가 다양해서 하나씩 찍어먹어보는 재미도 있어요. 고기가 너무너무 맛있어서 그냥 말돈 소금 살짝 \n",
      "찍어서 고기 맛 그대로 느끼며 먹는 게 제일 맛있더라고요. 식당 내부는 일본에 온 것처럼 일본 상품이 진열되어 있고,... / 2024-01-22 / 1번째 방문\n",
      "붉은지렁이70 / 꼭 카레 추가해서 드세요!!\n",
      "정말 맛있어요!! / 2024-04-15 / 3번째 방문\n",
      "ksr**** / 근처 식물샵 놀러온 겸 들리게되었습니다 ㅎㅎ 근래 먹어본 돈까스 중 제일 맛있었습니다. 매장 곳곳 식물과 오브젝트 등 사장님께서 신경을 많이 쓰신 게 느껴졌고 고기 질을 비롯하여 튀김의 두께, 스끼다시 등 조화가 푸짐하고 맛있었습니다 다음 번에도 또 방문하겠습니다. 번창하세요 ㅎㅎ / 2024-02-13 / 1번째 방문\n",
      "붉은지렁이70 / 노원구 돈카츠 1티어는 여기가 맞아요!! / 2024-03-25 / 2번째 방문\n",
      "오늘은 돈카츠 / 카테고리를 5개 밖에 고르지 못하는 게 아쉽습니다…🥹 광운대학교 학생들이 너무 부러운 맛이구요… 크리스마스 최고의 선\n",
      "물임이 틀림 없습니다!!🫶 반찬 구성은 밥 부터 디저트까지 말할 것도 없고 사장님의 따뜻하고 친절하고 다정한 응대가 맛을\n",
      "더 극상까지 끌어올리는 맛이라고 생각합니다🤦겨자, 와사비, 소금, 소스 등 다양한 선택지를 주시는 점도 좋고, 추... / 2023-12-25 / 1번째 방문\n",
      "가라아게맛 푸딩 / 동네에 일식돈까스집이 생기다니 너무 반가운거 있죠... 게다가 온천계란을 밥에다가 비벼서 간.계.밥을 먹을 수 있다니... 간\n",
      "계밥과 돈까스가 주식인 저로써는 달려갈 수밖에 없었습니다.. 그치만 대학교도 있고 오픈한지는 얼마 안 됐지만 이미 엄청나\n",
      "게 소문나버려서 저는 2번의 실패를 겼고 드디어 먹게 되었습니다ㅠㅠ 세 번 찍어서 안 내주는 돈까스 없다...🥹 저는... / 2023-11-15 / 1번째 방문\n",
      "bim**** / 맛집 불모지인 광운대 근처에.. 홍대에나 있을 법한 돈까스집이..!!!!! 제가 합정 크레이지카츠 처돌이인데 이곳은 반찬 구성이 너무 마음에 듭니다. 무려 온천계란이!!!!! 돈까스를 온천계란에 찍어먹을 생각을 하시다니??? 하이레 사장님 넘나 귀엽게 생기심 하이레 캐릭터랑 비슷하게 생기심..ㅎㅎ  / 2023-10-12 / 1번째 방문\n",
      "kwj**** / 가성비 좋아요. / 2024-04-25 / 1번째 방문\n",
      "Oo마녀oO / 돈까스는 이제 일상,특별한 날 여기로 다 오는 것 같아요.\n",
      "넘 맛있는데 분위기도 받쳐줌. / 2024-02-12 / 4번째 방문\n",
      "연쇄 팩트범 / 깔끔하고 좋아요 \n",
      "돈가스가 부드러운데 오후 늦게 가면 품절 되어서 메뉴가 한정적일 수도 있어요 / 2024-01-04 / 2번째 방문\n",
      "Oo마녀oO / 돈까스 최애 맛집 등극 이후로 넘 자주 오는게\n",
      "아닌 가 싶을 정도로 자주 방문 하는 듯 함 ㅋㅋ / 2024-01-31 / 2번째 방문\n",
      "Oo마녀oO / 광운대 주변 일식 돈까스 맛집 타이틀 달아도 이상하지 않음 / 2024-02-06 / 3번째 방문\n",
      "난나니뇽86 / 너무 맛있어요~ 온천계란도 샐러드도 호박무스도 정말 맛있게 먹었어요! 특히 안심 정말 부드럽고 겨자와 와사비도 넉넉하게 주셔서 좋네요! 개인물도 청결하고 믿음직스러워요! 다만 매장이 추운건지 돈까스 자체가 처음부터 너무 차가워요ㅠ 사람붐빌때는 좁아서 먹기 힘들구요ㅠ 친구랑 어깨대고 먹었어요ㅜㅜ 다음엔 한가한 시간에 방문해야겠어요 ! / 2023-11-13 / 1번째 방문\n",
      "물쨍이 / 금요일 오후 2시쯤 방문했습니다. <장점> - 돈까스가 부드럽고, 기름지지 않고 진짜 맛있습니다. 온천계란, 카츠산도 등 특\n",
      "별한 메뉴가 많아요. <단점> - 자리가 너무 적고 좁습니다. 8자리밖에 없습니다. - 음식 나오기까지 시간이 10분 정도 걸립\n",
      "니다. - ❗️자리 배치가 문제였습니다❗️다른 자리는 괜찮은데 가장 구석진 2자리는 \"설거지 싱크대\" 바로 앞 자리였... / 2023-12-15 / 1번째 방문\n",
      "Oo마녀oO / 친절하고 맛있어요.\n",
      "리필 같은 것도 요청 하지 않아도 신경 써주고 먼저 챙겨 주시려고 해서 좋았어요. / 2024-01-18 / 1번째 방문\n",
      "지옥의단두대 / 맛읺ㅇㆍㅣㅇㆍ / 2024-04-02 / 2번째 방문\n",
      "반짝이는 보조개 / 돈까스집. / 2024-04-01 / 1번째 방문\n",
      "뮈엥 / 남자친구 자취방 바로 앞에 맛집이 생겨서 방문했어용. 소문대로 진짜 맛있었고 사장님도 너무 친절했습니다! 둘 다 먹자마자\n",
      "한국에서 먹은 돈카츠 중 단연 1위라고 👍👍 특등심카츠(한정판) , 안심카츠 이렇게 시켜서 나눠 먹는거 정말 강추드립니\n",
      "다!  / 2023-10-02 / 1번째 방문\n",
      "툴2 / 계속 가보고 싶던 가게인데 드디어 처음 방문했어요! 저희가 마감 직전에 갔음에도 불구하고, 너무나도 친절하게 응대해주셨습니다,,👼🫶 반찬 구성이 진짜 알차고 로스카츠도 담백하게 정말 맛있네요ㅎㅎ 다음엔 히레 먹으러 갈게요~~😋 / 2023-09-25 / 1번째 방문\n",
      "b03**** / 광운대에 드디어 맛집이 생겼어요  분위기도 좋고 음식은 먹은메뉴마다 맛있네요 특히 한정판 특로스카츠 추천합니다  온천\n",
      "계란에 찍먹하세요!.!. / 2023-10-16 / 1번째 방문\n",
      "songje325 / 돈카츠집이 새로 오픈해서 먹으러 왔어요! 모듬카츠와 기린맥주를 먹었는데 돈카츠가 겉바속촉이어서 너무 맛있고 다른 반찬\n",
      "들도 다 맛있었어요! 저는 그 중에서 트러플 핫소스에 찍어먹는게 취향저격이더라구요 ㅎㅎ 인테리어도 깔끔하고 로고 캐릭\n",
      "터도 너무 귀여워요 ㅎㅎㅎ 다음에 또 방문할게요! / 2023-09-07 / 1번째 방문\n",
      "무나나 / 새로 오픈한 곳 같아서 방문했는데요~ 메인인 돈카츠는 말할 것도 없고 다른부분들까지 섬세하게 신경쓰신 것 같더라구요! \n",
      "첫 돈카츠는 사장님 추천대로  소금+와사비랑 꼭 먹어보시길!  단호박 샐러드에 트러플 오일 뿌릴 생각은 어떻게 하신건지 완\n",
      "전 맛있어요🫶 신선한 재료, 친절한 사장님들, 깔끔한 인테리어 너무 행복한 점심이었습니다😆😆 다음에 또 오겠습니다! / 2023-09-07 / 1번째 방문\n",
      "지옥의단두대 / 광운대 돈가스 1티어 6시넘어서가면 재료소진 일지도? / 2024-01-01 / 1번째 방문\n",
      "이재혁13 / 맛있네요 / 2024-04-25 / 1번째 방문\n",
      "yty**** / 👍 / 2024-04-25 / 1번째 방문\n",
      "리비도 센 / 이동네 유일한 돈카츠맛집 맛있어요 잘 먹었습니다 / 2023-09-08 / 4번째 방문\n",
      "mi**** / 사장님 친절하시구 너무맛있어요!\n",
      "하루 한정된수량만 판매하시니 신선함도 의심할여지없음! / 2023-10-20 / 1번째 방문\n",
      "태태87 / 항상 갈 때마다 재료 소진으로 실패했었는데 마침내 먹어볼 수 있었는데 정말 맛있었어요!! 광운대 근처 돈가스 집 중에 제일\n",
      "입니다👍 자주 올 것 같아요~~😆😆 / 2023-09-13 / 1번째 방문\n",
      "리비도 센 / 맛있어요. 근처에서 일하는사람인데 맛있는 돈카츠 먹고싶어서 출근이 즐거워졌어요\n",
      "다음에 가게에 가서 먹고싶네요\n",
      " / 2023-09-04 / 2번째 방문\n",
      "qnddj1 / 돈카츠 너무 맛있고 매장도 너무 청결해요!\n",
      "인테리어도 깔끔하고 사장님도 너무 친철하셔서 기분 좋게 먹었어요~ 다음에 또 먹으러 올께요😄 / 2023-09-07 / 1번째 방문\n",
      "리비도 센 / 카츠산도 두툼하고 맛있네요\n",
      "다음에 돈까스먹으러갈게요 / 2023-09-01 / 1번째 방문\n",
      "리비도 센 / 스트레스잇빠이일때 먹으면 스트레스가 사라지는맛입니다 최고!! / 2023-09-06 / 3번째 방문\n",
      "붉은지렁이70 / 간만에 맛있고 즐거운 점심이였어요!! / 2023-09-06 / 1번째 방문\n",
      "joy**** / 굿굿 / 2024-02-01 / 1번째 방문\n",
      "반하나9 /  / 2024-02-23 / 1번째 방문\n",
      "jbg1925 / 합정 신당 유명한 돈까스집 스타일이에요. 가격대비 훌륭하고 한상 구성은 더 훌륭합니다. 유명해질것 같아요. / 2023-10-12 / 1번째 방문\n",
      "happyhappy56 / 맛있어요~ 히레카츠 먹었는데 다음에 다른 메뉴도 먹어보고 싶어요^^ / 2024-02-27 / 1번째 방문\n",
      "d3**** / 하이볼 맛집👍 / 2023-09-01 / 1번째 방문\n",
      "che**** /  / 2023-09-20 / 1번째 방문\n",
      "하얀사과78 / 맛있어요 / 2024-01-02 / 1번째 방문\n",
      "카푸치노가득 / 맛있어요 / 2023-10-24 / 1번째 방문\n"
     ]
    }
   ],
   "source": [
    "for r in reviews:\n",
    "    nickname = r.select_one('div.qgLL3')\n",
    "    content = r.select_one('span.zPfVt')\n",
    "    date = r.select('span.CKUdu')[0]\n",
    "#     date = r.select('span.place_blind')[0]\n",
    "    revisit = r.select('span.CKUdu')[1]\n",
    "\n",
    "    # exception handling\n",
    "    nickname = nickname.text if nickname else ''\n",
    "    content = content.text if content else ''\n",
    "    date = get_date(date)\n",
    "    revisit = revisit.text if revisit else ''\n",
    "    time.sleep(0.06)\n",
    "\n",
    "    print(nickname, '/', content, '/', date, '/', revisit)\n",
    "#     list_sheet.append([nickname, content, date, revisit])\n",
    "#     time.sleep(0.06)"
   ]
  },
  {
   "cell_type": "code",
   "execution_count": null,
   "id": "0e47ee2c",
   "metadata": {},
   "outputs": [],
   "source": [
    "browser.find_elements(By.CSS_SELECTOR, 'li.mylct_sch_rst')[0].click()"
   ]
  },
  {
   "cell_type": "code",
   "execution_count": null,
   "id": "f1c0f7ad",
   "metadata": {},
   "outputs": [],
   "source": [
    "browser.find_element(By.CSS_SELECTOR, 'input.input_search_keyword').click()"
   ]
  },
  {
   "cell_type": "code",
   "execution_count": null,
   "id": "1a5acc17",
   "metadata": {},
   "outputs": [],
   "source": [
    "browser.find_elements(By.CSS_SELECTOR, 'button.search_category')[0].click()"
   ]
  },
  {
   "cell_type": "markdown",
   "id": "aad2c042",
   "metadata": {},
   "source": [
    "# 2. 음식점 리스트 가져오기"
   ]
  },
  {
   "cell_type": "code",
   "execution_count": null,
   "id": "6c2eaa19",
   "metadata": {},
   "outputs": [],
   "source": [
    "soup = BeautifulSoup(browser.page_source, 'html.parser')"
   ]
  },
  {
   "cell_type": "code",
   "execution_count": null,
   "id": "16676ee8",
   "metadata": {},
   "outputs": [],
   "source": [
    "restaurant_list = soup.select('._item._lazyImgContainer')\n",
    "len(restaurant_list)"
   ]
  },
  {
   "cell_type": "code",
   "execution_count": null,
   "id": "ac595e14",
   "metadata": {},
   "outputs": [],
   "source": [
    "# 반복문으로 만들어야할 부분 -> 음식점 클릭 ㅠ \n",
    "a = browser.find_elements(By.CSS_SELECTOR, '._item._lazyImgContainer > div > a.a_item')\n",
    "len(a)"
   ]
  },
  {
   "cell_type": "code",
   "execution_count": null,
   "id": "9a589752",
   "metadata": {},
   "outputs": [],
   "source": [
    "a[0].click()"
   ]
  },
  {
   "cell_type": "code",
   "execution_count": null,
   "id": "7a7f0f85",
   "metadata": {},
   "outputs": [],
   "source": [
    "#\n",
    "b = browser.find_elements(By.CSS_SELECTOR, '.tpj9w._tab-menu')\n",
    "len(b)"
   ]
  },
  {
   "cell_type": "code",
   "execution_count": null,
   "id": "9a5108a4",
   "metadata": {},
   "outputs": [],
   "source": [
    "b[3].click()"
   ]
  },
  {
   "cell_type": "code",
   "execution_count": null,
   "id": "e5bf0664",
   "metadata": {},
   "outputs": [],
   "source": []
  },
  {
   "cell_type": "code",
   "execution_count": null,
   "id": "3d6470ca",
   "metadata": {},
   "outputs": [],
   "source": []
  },
  {
   "cell_type": "code",
   "execution_count": null,
   "id": "7bbdce25",
   "metadata": {},
   "outputs": [],
   "source": [
    "# key_word = '광운대'"
   ]
  },
  {
   "cell_type": "code",
   "execution_count": null,
   "id": "b6b91e0e",
   "metadata": {},
   "outputs": [],
   "source": [
    "# # css 찾을때 까지 num초 대기\n",
    "# def time_wait(num, code):\n",
    "#     try:\n",
    "#         wait = WebDriverWait(browser, num).until(EC.presence_of_element_located((By.CSS_SELECTOR, code)))\n",
    "#     except:\n",
    "#         print(code, '태그를 찾지 못하였습니다.')\n",
    "#         browser.quit()\n",
    "#     return wait"
   ]
  },
  {
   "cell_type": "code",
   "execution_count": null,
   "id": "a8a9f509",
   "metadata": {},
   "outputs": [],
   "source": [
    "# # input값\n",
    "# time_wait(10, 'div.input_box > input.input_search')"
   ]
  },
  {
   "cell_type": "code",
   "execution_count": null,
   "id": "12cb85d0",
   "metadata": {},
   "outputs": [],
   "source": [
    "# # input 태그\n",
    "# search = browser.find_element(By.CSS_SELECTOR, 'div.input_box > input.input_search')\n",
    "# search.send_keys(key_word)  # 검색어 입력\n",
    "# search.send_keys(Keys.ENTER)  # 엔터버튼 누르기"
   ]
  },
  {
   "cell_type": "code",
   "execution_count": null,
   "id": "3a8879d6",
   "metadata": {},
   "outputs": [],
   "source": [
    "# time.sleep(1)"
   ]
  },
  {
   "cell_type": "code",
   "execution_count": null,
   "id": "63696676",
   "metadata": {},
   "outputs": [],
   "source": [
    "# frame 변경 메소드\n",
    "def switch_frame(frame):\n",
    "    browser.switch_to.default_content()  # frame 초기화\n",
    "    browser.switch_to.frame(frame)  # frame 변경"
   ]
  },
  {
   "cell_type": "code",
   "execution_count": null,
   "id": "d5e66ee9",
   "metadata": {},
   "outputs": [],
   "source": [
    "# 페이지 다운\n",
    "def page_down(num):\n",
    "    body = browser.find_element(By.CSS_SELECTOR, 'body')\n",
    "#     body.click()\n",
    "    for i in range(num):\n",
    "        body.send_keys(Keys.PAGE_DOWN)"
   ]
  },
  {
   "cell_type": "code",
   "execution_count": null,
   "id": "98400ec4",
   "metadata": {},
   "outputs": [],
   "source": [
    "# 광운대 검색 기록 지우기\n",
    "close_btn = browser.find_elements('css selector', '.close_icon_area')[0]\n",
    "close_btn.click()"
   ]
  },
  {
   "cell_type": "code",
   "execution_count": null,
   "id": "728c0a31",
   "metadata": {},
   "outputs": [],
   "source": [
    "# 음식점 버튼 클릭\n",
    "food_bnt = browser.find_elements('css selector', '.sc-ws6wda.drGHVz')[0]\n",
    "food_bnt.click()"
   ]
  },
  {
   "cell_type": "code",
   "execution_count": null,
   "id": "a9d5cedf",
   "metadata": {},
   "outputs": [],
   "source": [
    "switch_frame('searchIframe')"
   ]
  },
  {
   "cell_type": "code",
   "execution_count": null,
   "id": "b0c0c4c1",
   "metadata": {},
   "outputs": [],
   "source": [
    "page_down(50)"
   ]
  },
  {
   "cell_type": "code",
   "execution_count": null,
   "id": "cf50c635",
   "metadata": {},
   "outputs": [],
   "source": [
    "# 주차장 리스트\n",
    "parking_list = browser.find_elements(By.CSS_SELECTOR, 'li.VLTHu')"
   ]
  },
  {
   "cell_type": "code",
   "execution_count": null,
   "id": "0fa8ce46",
   "metadata": {},
   "outputs": [],
   "source": [
    "# 페이지 리스트\n",
    "next_btn = browser.find_elements(By.CSS_SELECTOR, '.zRM9F> a')"
   ]
  },
  {
   "cell_type": "code",
   "execution_count": null,
   "id": "2c5f01f9",
   "metadata": {},
   "outputs": [],
   "source": []
  },
  {
   "cell_type": "code",
   "execution_count": null,
   "id": "b4b6f2b9",
   "metadata": {},
   "outputs": [],
   "source": []
  },
  {
   "cell_type": "code",
   "execution_count": null,
   "id": "f523580d",
   "metadata": {},
   "outputs": [],
   "source": []
  },
  {
   "cell_type": "code",
   "execution_count": null,
   "id": "f17cdcbc",
   "metadata": {},
   "outputs": [],
   "source": []
  },
  {
   "cell_type": "code",
   "execution_count": null,
   "id": "7acf8708",
   "metadata": {},
   "outputs": [],
   "source": [
    "soup = BeautifulSoup(browser.page_source, 'html.parser')"
   ]
  },
  {
   "cell_type": "code",
   "execution_count": null,
   "id": "a9b37ba6",
   "metadata": {},
   "outputs": [],
   "source": [
    "b = browser.find_elements('css selector', 'div.sc-1i7ql2m.kXacOC > div > div > div.sc-1wsjitl > div#section_content > div > div.sc-48msce > #searchIframe ')\n",
    "len(b)"
   ]
  },
  {
   "cell_type": "code",
   "execution_count": null,
   "id": "62a948b3",
   "metadata": {},
   "outputs": [],
   "source": []
  },
  {
   "cell_type": "code",
   "execution_count": null,
   "id": "3ec84a34",
   "metadata": {},
   "outputs": [],
   "source": []
  },
  {
   "cell_type": "code",
   "execution_count": null,
   "id": "dd9a6ff0",
   "metadata": {},
   "outputs": [],
   "source": []
  },
  {
   "cell_type": "markdown",
   "id": "685116a1",
   "metadata": {},
   "source": [
    "# 2. 음식점리스트 주소 가져오기"
   ]
  },
  {
   "cell_type": "code",
   "execution_count": null,
   "id": "5dec5298",
   "metadata": {},
   "outputs": [],
   "source": [
    "soup = BeautifulSoup(browser.page_source, 'html.parser')\n",
    "\n",
    "restaurant_list_url = soup.select('#searchIframe')[0]['src']\n",
    "restaurant_list_url"
   ]
  },
  {
   "cell_type": "markdown",
   "id": "1060121d",
   "metadata": {},
   "source": [
    "# 3. 새로운 브라우저 열기"
   ]
  },
  {
   "cell_type": "code",
   "execution_count": null,
   "id": "bbfa3cc4",
   "metadata": {},
   "outputs": [],
   "source": [
    "# 접속하기\n",
    "browser.get(restaurant_list_url)"
   ]
  },
  {
   "cell_type": "code",
   "execution_count": null,
   "id": "8aa346ba",
   "metadata": {},
   "outputs": [],
   "source": [
    "soup = BeautifulSoup(browser.page_source, 'html.parser')\n",
    "\n",
    "a = soup.select('li.UEzoS.rTjJo')[0]"
   ]
  },
  {
   "cell_type": "code",
   "execution_count": null,
   "id": "0aadc675",
   "metadata": {},
   "outputs": [],
   "source": [
    "b = browser.find_elements('css selector', 'li.UEzoS.rTjJo > div > a > div > div > span.place_bluelink')\n",
    "len(b)"
   ]
  },
  {
   "cell_type": "code",
   "execution_count": null,
   "id": "22f4dca9",
   "metadata": {},
   "outputs": [],
   "source": [
    "b[0]"
   ]
  },
  {
   "cell_type": "code",
   "execution_count": null,
   "id": "cf0d3c2c",
   "metadata": {},
   "outputs": [],
   "source": [
    "b[0].click()"
   ]
  },
  {
   "cell_type": "code",
   "execution_count": null,
   "id": "fd9c015d",
   "metadata": {},
   "outputs": [],
   "source": []
  },
  {
   "cell_type": "code",
   "execution_count": null,
   "id": "c502e2c4",
   "metadata": {},
   "outputs": [],
   "source": [
    "# body 위치에 PAGEDOWN 키 입력하기\n",
    "body = browser.find_elements('css selector', 'body')[0]\n",
    "print(body)\n",
    "\n",
    "body1 = browser.find_elements('css selector', 'div.XUrfU')[0]\n",
    "body1\n",
    "# # Page Down 버튼을 여러번 입력(스크롤 내려가도록)\n",
    "# for _ in range(10):\n",
    "#     body.send_keys(Keys.PAGE_DOWN)\n",
    "#     body.send_keys(Keys.PAGE_DOWN)\n",
    "#     body.send_keys(Keys.PAGE_DOWN)\n",
    "#     time.sleep(1)"
   ]
  },
  {
   "cell_type": "code",
   "execution_count": null,
   "id": "fa85491d",
   "metadata": {},
   "outputs": [],
   "source": [
    "last_page_height = browser.execute_script(\"return document.body.div.scrollHeight\")\n",
    "\n",
    "last_page_height"
   ]
  },
  {
   "cell_type": "code",
   "execution_count": null,
   "id": "495d63d6",
   "metadata": {},
   "outputs": [],
   "source": [
    "while True:\n",
    "    browser.execute_script(\"window.scrollTo(0, document.documentElement.scrollHeight);\")\n",
    "    time.sleep(1)\n",
    "    new_page_height = browser.execute_script(\"return document.documentElement.scrollHeight\")\n",
    "\n",
    "    if new_page_height == last_page_height:\n",
    "        break\n",
    "    last_page_height = new_page_height"
   ]
  },
  {
   "cell_type": "code",
   "execution_count": null,
   "id": "e6e3e5a3",
   "metadata": {},
   "outputs": [],
   "source": [
    "soup = BeautifulSoup(browser.page_source, 'html.parser')\n",
    "\n",
    "a = soup.select('li.UEzoS.rTjJo')\n",
    "len(a)"
   ]
  },
  {
   "cell_type": "code",
   "execution_count": null,
   "id": "00b0c999",
   "metadata": {},
   "outputs": [],
   "source": []
  },
  {
   "cell_type": "code",
   "execution_count": null,
   "id": "d7450eef",
   "metadata": {},
   "outputs": [],
   "source": [
    "# # 음식점 하나씩 클릭하기 - 일단 하나만!\n",
    "# a = browser.find_elements('css selector', 'li')\n",
    "# len(a)\n",
    "# a\n",
    "# # .UEzoS.rTjJo > div.CHC5F"
   ]
  },
  {
   "cell_type": "code",
   "execution_count": null,
   "id": "1600b247",
   "metadata": {},
   "outputs": [],
   "source": []
  }
 ],
 "metadata": {
  "kernelspec": {
   "display_name": "Python 3 (ipykernel)",
   "language": "python",
   "name": "python3"
  },
  "language_info": {
   "codemirror_mode": {
    "name": "ipython",
    "version": 3
   },
   "file_extension": ".py",
   "mimetype": "text/x-python",
   "name": "python",
   "nbconvert_exporter": "python",
   "pygments_lexer": "ipython3",
   "version": "3.9.12"
  }
 },
 "nbformat": 4,
 "nbformat_minor": 5
}
