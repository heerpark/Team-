{
 "cells": [
  {
   "cell_type": "code",
   "execution_count": 17,
   "id": "ef2a9943",
   "metadata": {},
   "outputs": [],
   "source": [
    "import pandas as pd\n",
    "import os\n",
    "import re"
   ]
  },
  {
   "cell_type": "code",
   "execution_count": 18,
   "id": "b4cb72c5",
   "metadata": {},
   "outputs": [],
   "source": [
    "directory = '../data/'\n",
    "all_files = [os.path.join(directory, f) for f in os.listdir(directory) if f.endswith('.csv')]"
   ]
  },
  {
   "cell_type": "code",
   "execution_count": 19,
   "id": "c8a99cfb",
   "metadata": {},
   "outputs": [
    {
     "name": "stdout",
     "output_type": "stream",
     "text": [
      "['../data/68.csv', '../data/6.csv', '../data/54.csv', '../data/40.csv', '../data/41.csv', '../data/7.csv', '../data/43.csv', '../data/57.csv', '../data/5.csv', '../data/56.csv', '../data/4.csv', '../data/42.csv', '../data/46.csv', '../data/0.csv', '../data/1.csv', '../data/53.csv', '../data/51.csv', '../data/3.csv', '../data/45.csv', '../data/44.csv', '../data/50.csv', '../data/2.csv', '../data/37.csv', '../data/23.csv', '../data/22.csv', '../data/36.csv', '../data/20.csv', '../data/34.csv', '../data/35.csv', '../data/21.csv', '../data/25.csv', '../data/31.csv', '../data/19.csv', '../data/18.csv', '../data/30.csv', '../data/24.csv', '../data/32.csv', '../data/26.csv', '../data/27.csv', '../data/33.csv', '../data/16.csv', '../data/17.csv', '../data/29.csv', '../data/15.csv', '../data/14.csv', '../data/28.csv', '../data/10.csv', '../data/38.csv', '../data/39.csv', '../data/11.csv', '../data/13.csv', '../data/12.csv', '../data/49.csv', '../data/61.csv', '../data/60.csv', '../data/74.csv', '../data/62.csv', '../data/63.csv', '../data/67.csv', '../data/73.csv', '../data/9.csv', '../data/72.csv', '../data/70.csv', '../data/64.csv', '../data/58.csv', '../data/65.csv']\n"
     ]
    }
   ],
   "source": [
    "print(all_files)"
   ]
  },
  {
   "cell_type": "code",
   "execution_count": 20,
   "id": "56ba7050",
   "metadata": {},
   "outputs": [],
   "source": [
    "def extract_number(file_path):\n",
    "    match = re.search(r'(\\d+)', file_path)\n",
    "    return int(match.group(1)) if match else -1\n",
    "sorted_file_list = sorted(all_files, key=extract_number)"
   ]
  },
  {
   "cell_type": "code",
   "execution_count": 22,
   "id": "dd99ed61",
   "metadata": {},
   "outputs": [],
   "source": [
    "store_df = pd.read_csv('../store.csv')"
   ]
  },
  {
   "cell_type": "code",
   "execution_count": 24,
   "id": "f904988d",
   "metadata": {},
   "outputs": [
    {
     "name": "stdout",
     "output_type": "stream",
     "text": [
      "             음식점                                            링크\n",
      "0            하이레  m.place.naver.com/restaurant/1083519696/home\n",
      "1            윤스쿡   m.place.naver.com/restaurant/166240712/home\n",
      "2     화로상회 광운대본점    m.place.naver.com/restaurant/37611559/home\n",
      "3           진미통닭  m.place.naver.com/restaurant/1401137405/home\n",
      "4     푸른스시 광운대본점  m.place.naver.com/restaurant/1769424895/home\n",
      "..           ...                                           ...\n",
      "70            온량  m.place.naver.com/restaurant/1796729449/home\n",
      "71            짜카  m.place.naver.com/restaurant/1044069286/home\n",
      "72    서민스시 장위 본점  m.place.naver.com/restaurant/1820940739/home\n",
      "73            더원  m.place.naver.com/restaurant/1092067499/home\n",
      "74  인생꼬치479 석계역점  m.place.naver.com/restaurant/1285917492/home\n",
      "\n",
      "[75 rows x 2 columns]\n"
     ]
    }
   ],
   "source": [
    "print(store_df)"
   ]
  },
  {
   "cell_type": "code",
   "execution_count": 26,
   "id": "e4a149b3",
   "metadata": {},
   "outputs": [
    {
     "name": "stdout",
     "output_type": "stream",
     "text": [
      "{0: '하이레', 1: '윤스쿡', 2: '화로상회 광운대본점', 3: '진미통닭', 4: '푸른스시 광운대본점', 5: '김밥천국 광운대점', 6: '신연마라탕', 7: '지지고 광운대점', 8: '프랭크버거 광운대점', 9: '카츠백 월계점', 10: '밥은화 광운대점', 11: '이층집', 12: '수해복마라탕 광운대점', 13: '디델리 서울 광운대점', 14: '장수국수', 15: '파파존스 광운대점', 16: '청년다방 광운대점', 17: '땡초불닭발동대문엽기떡볶이 월계점', 18: '더진국 수육국밥 광운대점', 19: '맛불', 20: 'BBQ치킨 월계광운대점', 21: '경대컵밥', 22: '김가네 광운대점', 23: '맘스터치 피자앤치킨 광운대점', 24: '고씨네 광운대점', 25: '쉐프밥버거 광운대점', 26: '진심카츠 광운대점', 27: '썬더치킨 광운대점', 28: '꽃제비칼국수', 29: '학교종이땡땡땡 광운대점', 30: 'ssam', 31: '민들레국시', 32: '부리또잇', 33: '진짜루', 34: '팔팔전어횟집', 35: '광운양꼬치', 36: '애슐리퀸즈 이마트 월계점', 37: '로스2000', 38: '한끼', 39: '뚝배기', 40: '마루', 41: '고센 기와집갈비', 42: '레드컵스 닭강정 광운대점', 43: '주공 장위직영', 44: '종로전집 광운대역', 45: '만남곱창', 46: '김바삭군의볼카츠마켙 광운대점', 47: '더재미', 48: '집으로 간장게장 광운대점', 49: '남해바다마차', 50: '스시다온', 51: '한상', 52: '정오아카데미 광운대점', 53: '석계창신동매운족발 1호점', 54: '일번지정육식당 돌곶이점', 55: '중국촬방양꼬치구이', 56: '무명칼국수', 57: '배불뚜기', 58: '소문난멸치국수', 59: '진바배달삼겹', 60: '김과장고깃집 석계점', 61: '라체나1907', 62: '쭈삼이', 63: '하남돼지집 돌곶이역점', 64: '연어시장 석계본점', 65: '퀸 스테이크', 66: '파스타세끼', 67: '엄마마늘보쌈', 68: '짚신매운갈비찜 석계점', 69: '명가', 70: '온량', 71: '짜카', 72: '서민스시 장위 본점', 73: '더원', 74: '인생꼬치479 석계역점'}\n"
     ]
    }
   ],
   "source": [
    "first_column_name = store_df.columns[0]\n",
    "\n",
    "# 첫 번째 컬럼을 인덱스와 값으로 딕셔너리 변환\n",
    "store_dict = {index: value for index, value in enumerate(store_df[first_column_name])}\n",
    "\n",
    "# 결과 출력\n",
    "print(store_dict)"
   ]
  },
  {
   "cell_type": "code",
   "execution_count": 27,
   "id": "dbbe8c97",
   "metadata": {},
   "outputs": [
    {
     "data": {
      "text/plain": [
       "'하이레'"
      ]
     },
     "execution_count": 27,
     "metadata": {},
     "output_type": "execute_result"
    }
   ],
   "source": [
    "store_dict[0]"
   ]
  },
  {
   "cell_type": "code",
   "execution_count": 32,
   "id": "3bd0dc55",
   "metadata": {},
   "outputs": [
    {
     "name": "stdout",
     "output_type": "stream",
     "text": [
      "0\n",
      "1\n",
      "2\n",
      "3\n",
      "4\n",
      "5\n",
      "6\n",
      "7\n",
      "9\n",
      "10\n",
      "11\n",
      "12\n",
      "13\n",
      "14\n",
      "15\n",
      "16\n",
      "17\n",
      "18\n",
      "19\n",
      "20\n",
      "21\n",
      "22\n",
      "23\n",
      "24\n",
      "25\n",
      "26\n",
      "27\n",
      "28\n",
      "29\n",
      "30\n",
      "31\n",
      "32\n",
      "33\n",
      "34\n",
      "35\n",
      "36\n",
      "37\n",
      "38\n",
      "39\n",
      "40\n",
      "41\n",
      "42\n",
      "43\n",
      "44\n",
      "45\n",
      "46\n",
      "49\n",
      "50\n",
      "51\n",
      "53\n",
      "54\n",
      "56\n",
      "57\n",
      "58\n",
      "60\n",
      "61\n",
      "62\n",
      "63\n",
      "64\n",
      "65\n",
      "67\n",
      "68\n",
      "70\n",
      "72\n",
      "73\n",
      "74\n"
     ]
    }
   ],
   "source": [
    "# 원하는 컬럼 이름\n",
    "target_column = 'text'\n",
    "\n",
    "# 빈 데이터프레임 리스트 생성\n",
    "dataframes = []\n",
    "\n",
    "# 파일들을 읽어서 새로운 데이터프레임 구성\n",
    "for file in sorted_file_list:\n",
    "    # 파일 인덱스를 추출 (예: 'data/0.csv'에서 0을 추출)\n",
    "    file_index = int(file.split('/')[-1].split('.')[0])\n",
    "    # 해당 파일 읽기\n",
    "    df = pd.read_csv(file, usecols=[target_column])\n",
    "    \n",
    "    # 새로운 데이터프레임 생성\n",
    "    new_df = pd.DataFrame({\n",
    "        'store_name': store_dict[file_index],\n",
    "        target_column: df[target_column]\n",
    "    })\n",
    "    \n",
    "    # 데이터프레임 리스트에 추가\n",
    "    dataframes.append(new_df)"
   ]
  },
  {
   "cell_type": "code",
   "execution_count": 33,
   "id": "a13dbbc0",
   "metadata": {},
   "outputs": [],
   "source": [
    "combined_df = pd.concat(dataframes, ignore_index=True)"
   ]
  },
  {
   "cell_type": "code",
   "execution_count": 34,
   "id": "b66f0364",
   "metadata": {},
   "outputs": [
    {
     "name": "stdout",
     "output_type": "stream",
     "text": [
      "        store_name                                               text\n",
      "0              하이레  [광운대] 하이레​비가 금방이라도 쏟아져 내릴 것 같은 흐린 날씨의 금요일이네요~~...\n",
      "1              하이레  ​광운대역 돈카츠집 하이레 !!​돈방구라는 돈카츠 인스타하시는분에서봤던 광운대 하이...\n",
      "2              하이레   안녕하세요 여러분 ☺️오늘은 광운대 일식 돈카츠 맛집!하이레에 대해 소개해드릴게요...\n",
      "3              하이레  ​​광운대에 생긴지 얼마 안 된 돈까스집처음에는 그냥 생긴 김에 가보자 하고 한 번...\n",
      "4              하이레  이틀만에 돈가스투어를 갓다왓는데요!!집에서2시간반 거리에잇는 광운대에 다녀왓어요많이...\n",
      "...            ...                                                ...\n",
      "2404  인생꼬치479 석계역점  ​📌 인생꼬치479 석계역점📍 서울시 노원구 석계로15, 2층🕓 월~일 / 17:3...\n",
      "2405  인생꼬치479 석계역점  최근 석계역에 갈 일이 많았는데 아주 맛도리 맛집을 찾아버려서!!! 포스팅하러 왔습...\n",
      "2406  인생꼬치479 석계역점  인생꼬치479 석계역점서울특별시 노원구 석계로 15 2층 석계역도보로 7분이내 위치...\n",
      "2407  인생꼬치479 석계역점  오늘 소개할 곳은 바로,,,​ 석계역에서 2분이면 금방!인생꼬치 479 석계역점광운...\n",
      "2408  인생꼬치479 석계역점  ​ 이날은 !! 옒이 취업턱을 낸다고한날 !!석계역에서 만나자마자 내가 가고싶다말했...\n",
      "\n",
      "[2409 rows x 2 columns]\n"
     ]
    }
   ],
   "source": [
    "print(combined_df)"
   ]
  },
  {
   "cell_type": "code",
   "execution_count": 29,
   "id": "95f07ab2",
   "metadata": {},
   "outputs": [],
   "source": [
    "combined_df.to_csv('combined_data.csv', index=False)"
   ]
  }
 ],
 "metadata": {
  "kernelspec": {
   "display_name": "Python 3 (ipykernel)",
   "language": "python",
   "name": "python3"
  },
  "language_info": {
   "codemirror_mode": {
    "name": "ipython",
    "version": 3
   },
   "file_extension": ".py",
   "mimetype": "text/x-python",
   "name": "python",
   "nbconvert_exporter": "python",
   "pygments_lexer": "ipython3",
   "version": "3.9.12"
  }
 },
 "nbformat": 4,
 "nbformat_minor": 5
}
